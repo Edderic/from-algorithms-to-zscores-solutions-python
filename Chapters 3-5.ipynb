{
 "cells": [
  {
   "cell_type": "markdown",
   "metadata": {
    "toc": "true"
   },
   "source": [
    "# Table of Contents\n",
    " <p><div class=\"lev2 toc-item\"><a href=\"#Geometric\" data-toc-modified-id=\"Geometric-01\"><span class=\"toc-item-num\">0.1&nbsp;&nbsp;</span>Geometric</a></div><div class=\"lev2 toc-item\"><a href=\"#Binomial\" data-toc-modified-id=\"Binomial-02\"><span class=\"toc-item-num\">0.2&nbsp;&nbsp;</span>Binomial</a></div><div class=\"lev2 toc-item\"><a href=\"#Negative-Binomial\" data-toc-modified-id=\"Negative-Binomial-03\"><span class=\"toc-item-num\">0.3&nbsp;&nbsp;</span>Negative Binomial</a></div><div class=\"lev1 toc-item\"><a href=\"#Exercises\" data-toc-modified-id=\"Exercises-1\"><span class=\"toc-item-num\">1&nbsp;&nbsp;</span>Exercises</a></div><div class=\"lev3 toc-item\"><a href=\"#2.-Recall-the-committee-example-in-Section-3.9.2.-Suppose-now,-though,-that-the-selection-protocol-is-that-there-must-be-at-least-one-man-and-at-least-one-woman-on-the-committee.-Find-E(D)-and-Var(D).\" data-toc-modified-id=\"2.-Recall-the-committee-example-in-Section-3.9.2.-Suppose-now,-though,-that-the-selection-protocol-is-that-there-must-be-at-least-one-man-and-at-least-one-woman-on-the-committee.-Find-E(D)-and-Var(D).-101\"><span class=\"toc-item-num\">1.0.1&nbsp;&nbsp;</span>2. Recall the committee example in Section 3.9.2. Suppose now, though, that the selection protocol is that there must be at least one man and at least one woman on the committee. Find $E(D)$ and $Var(D)$.</a></div><div class=\"lev3 toc-item\"><a href=\"#3.-Suppose-a-bit-stream-is-subject-to-errors,-with-each-bit-having-probability-p-of-error,-and-with-the-bits-being-independent.-Consider-a-set-of-four-particular-bits.-Let-X-denote-the-number-of-erroneous-bits-among-those-four.\" data-toc-modified-id=\"3.-Suppose-a-bit-stream-is-subject-to-errors,-with-each-bit-having-probability-p-of-error,-and-with-the-bits-being-independent.-Consider-a-set-of-four-particular-bits.-Let-X-denote-the-number-of-erroneous-bits-among-those-four.-102\"><span class=\"toc-item-num\">1.0.2&nbsp;&nbsp;</span>3. Suppose a bit stream is subject to errors, with each bit having probability p of error, and with the bits being independent. Consider a set of four particular bits. Let $X$ denote the number of erroneous bits among those four.</a></div><div class=\"lev4 toc-item\"><a href=\"#(a)-Find-P(X-=-2)-and-EX.\" data-toc-modified-id=\"(a)-Find-P(X-=-2)-and-EX.-1021\"><span class=\"toc-item-num\">1.0.2.1&nbsp;&nbsp;</span>(a) Find $P(X = 2)$ and $EX$.</a></div><div class=\"lev4 toc-item\"><a href=\"#(b)-What-famous-parametric-family-of-distributions-does-the-distribution-of-X-belong-to?\" data-toc-modified-id=\"(b)-What-famous-parametric-family-of-distributions-does-the-distribution-of-X-belong-to?-1022\"><span class=\"toc-item-num\">1.0.2.2&nbsp;&nbsp;</span>(b) What famous parametric family of distributions does the distribution of X belong to?</a></div><div class=\"lev4 toc-item\"><a href=\"#(c)-Let-Y-denote-the-maximum-number-of-consecutive-erroneous-bits.-Find-P(Y-=-2)-and-Var(Y).\" data-toc-modified-id=\"(c)-Let-Y-denote-the-maximum-number-of-consecutive-erroneous-bits.-Find-P(Y-=-2)-and-Var(Y).-1023\"><span class=\"toc-item-num\">1.0.2.3&nbsp;&nbsp;</span>(c) Let $Y$ denote the maximum number of consecutive erroneous bits. Find $P(Y = 2)$ and $Var(Y)$.</a></div><div class=\"lev3 toc-item\"><a href=\"#4.-Derive-Var(W)-=-frac{1-p}{p^2}.\" data-toc-modified-id=\"4.-Derive-Var(W)-=-frac{1-p}{p^2}.-103\"><span class=\"toc-item-num\">1.0.3&nbsp;&nbsp;</span>4. Derive $Var(W) = \\frac{1-p}{p^2}$.</a></div><div class=\"lev3 toc-item\"><a href=\"#5.-Finish-the-computation-in-4.18\" data-toc-modified-id=\"5.-Finish-the-computation-in-4.18-104\"><span class=\"toc-item-num\">1.0.4&nbsp;&nbsp;</span>5. Finish the computation in 4.18</a></div><div class=\"lev3 toc-item\"><a href=\"#6.-Derive-the-facts-that-for-a-Poisson-distributed-random-variable-X-with-parameter-λ,-EX-=-Var(X)-=-λ.-Use-the-hints-in-Section-4.5.\" data-toc-modified-id=\"6.-Derive-the-facts-that-for-a-Poisson-distributed-random-variable-X-with-parameter-λ,-EX-=-Var(X)-=-λ.-Use-the-hints-in-Section-4.5.-105\"><span class=\"toc-item-num\">1.0.5&nbsp;&nbsp;</span>6. Derive the facts that for a Poisson-distributed random variable $X$ with parameter $λ$, $EX = Var(X) = λ$. Use the hints in Section 4.5.</a></div><div class=\"lev2 toc-item\"><a href=\"#7.-A-civil-engineer-is-collecting-data-on-a-certain-road.-She-needs-to-have-data-on-25-trucks,-and-10-percent-of-the-vehicles-on-that-road-are-trucks.-State-the-famous-parametric-family-that-is-relevant-here,-and-find-the-probability-that-she-will-need-to-wait-for-more-than-200-vehicles-to-pass-before-she-gets-the-needed-data.\" data-toc-modified-id=\"7.-A-civil-engineer-is-collecting-data-on-a-certain-road.-She-needs-to-have-data-on-25-trucks,-and-10-percent-of-the-vehicles-on-that-road-are-trucks.-State-the-famous-parametric-family-that-is-relevant-here,-and-find-the-probability-that-she-will-need-to-wait-for-more-than-200-vehicles-to-pass-before-she-gets-the-needed-data.-11\"><span class=\"toc-item-num\">1.1&nbsp;&nbsp;</span>7. A civil engineer is collecting data on a certain road. She needs to have data on $25$ trucks, and $10$ percent of the vehicles on that road are trucks. State the famous parametric family that is relevant here, and find the probability that she will need to wait for more than $200$ vehicles to pass before she gets the needed data.</a></div><div class=\"lev2 toc-item\"><a href=\"#8.-In-the-ALOHA-example:\" data-toc-modified-id=\"8.-In-the-ALOHA-example:-12\"><span class=\"toc-item-num\">1.2&nbsp;&nbsp;</span>8. In the ALOHA example:</a></div><div class=\"lev3 toc-item\"><a href=\"#(a)-Find-E(X_1)-and-Var(X_1),-for-the-case-p-=-0.4,-q-=-0.8.-You-are-welcome-to-use-quantities-already-computed-in-the-text,-e.g.-P(X_1-=-1)-=-0.48,-but-be-sure-to-cite-equation-numbers\" data-toc-modified-id=\"(a)-Find-E(X_1)-and-Var(X_1),-for-the-case-p-=-0.4,-q-=-0.8.-You-are-welcome-to-use-quantities-already-computed-in-the-text,-e.g.-P(X_1-=-1)-=-0.48,-but-be-sure-to-cite-equation-numbers-121\"><span class=\"toc-item-num\">1.2.1&nbsp;&nbsp;</span>(a) Find $E(X_1)$ and $Var(X_1)$, for the case $p = 0.4$, $q = 0.8$. You are welcome to use quantities already computed in the text, e.g. $P(X_1 = 1) = 0.48$, but be sure to cite equation numbers</a></div><div class=\"lev2 toc-item\"><a href=\"#9.-Our-experiment-is-to-toss-a-nickel-until-we-get-a-head,-taking-X-rolls,-and-then-toss-a-dime-until-we-get-a-head,-taking-Y-tosses.-Find:\" data-toc-modified-id=\"9.-Our-experiment-is-to-toss-a-nickel-until-we-get-a-head,-taking-X-rolls,-and-then-toss-a-dime-until-we-get-a-head,-taking-Y-tosses.-Find:-13\"><span class=\"toc-item-num\">1.3&nbsp;&nbsp;</span>9. Our experiment is to toss a nickel until we get a head, taking $X$ rolls, and then toss a dime until we get a head, taking $Y$ tosses. Find:</a></div><div class=\"lev3 toc-item\"><a href=\"#(a)-Var(X+Y)\" data-toc-modified-id=\"(a)-Var(X+Y)-131\"><span class=\"toc-item-num\">1.3.1&nbsp;&nbsp;</span>(a) $Var(X+Y)$</a></div><div class=\"lev3 toc-item\"><a href=\"#(b)-Long-run-average-in-a-“notebook”-column-labeled-X^2.\" data-toc-modified-id=\"(b)-Long-run-average-in-a-“notebook”-column-labeled-X^2.-132\"><span class=\"toc-item-num\">1.3.2&nbsp;&nbsp;</span>(b) Long-run average in a “notebook” column labeled $X^2$.</a></div><div class=\"lev2 toc-item\"><a href=\"#10.-Consider-the-game-in-Section-4.8.-Find-E(Z)-and-Var(Z),-where-Z-=-Y_6-−-X_6.\" data-toc-modified-id=\"10.-Consider-the-game-in-Section-4.8.-Find-E(Z)-and-Var(Z),-where-Z-=-Y_6-−-X_6.-14\"><span class=\"toc-item-num\">1.4&nbsp;&nbsp;</span>10. Consider the game in Section 4.8. Find $E(Z)$ and $Var(Z)$, where $Z = Y_6 − X_6$.</a></div><div class=\"lev2 toc-item\"><a href=\"#11.-Say-we-choose-six-cards-from-a-standard-deck,-one-at-a-time-WITHOUT-replacement.-Let-N-be-the-number-of-kings-we-get.-Does-N-have-a-binomial-distribution?-Choose-one:-(i)-Yes.-(ii)-No,-since-trials-are-not-independent.-(iii)-No,-since-the-probability-of-success-is-not-constant-from-trial-to-trial.-(iv)-No,-since-the-number-of-trials-is-not-fixed.-(v)-(ii)-and-(iii).-(iv)-(ii)-and-(iv).-(vii)-(iii)-and-(iv).\" data-toc-modified-id=\"11.-Say-we-choose-six-cards-from-a-standard-deck,-one-at-a-time-WITHOUT-replacement.-Let-N-be-the-number-of-kings-we-get.-Does-N-have-a-binomial-distribution?-Choose-one:-(i)-Yes.-(ii)-No,-since-trials-are-not-independent.-(iii)-No,-since-the-probability-of-success-is-not-constant-from-trial-to-trial.-(iv)-No,-since-the-number-of-trials-is-not-fixed.-(v)-(ii)-and-(iii).-(iv)-(ii)-and-(iv).-(vii)-(iii)-and-(iv).-15\"><span class=\"toc-item-num\">1.5&nbsp;&nbsp;</span>11. Say we choose six cards from a standard deck, one at a time WITHOUT replacement. Let $N$ be the number of kings we get. Does $N$ have a binomial distribution? Choose one: (i) Yes. (ii) No, since trials are not independent. (iii) No, since the probability of success is not constant from trial to trial. (iv) No, since the number of trials is not fixed. (v) (ii) and (iii). (iv) (ii) and (iv). (vii) (iii) and (iv).</a></div><div class=\"lev2 toc-item\"><a href=\"#12.-Suppose-we-have-n-independent-trials,-with-the-probability-of-success-on-the-i^{th}-trial-being-p_i.-Let-X-=-text{the-number-of-successes}.-Use-the-fact-that-“the-variance-of-the-sum-is-the-sum-of-the-variance”-for-independent-random-variables-to-derive-Var(X).\" data-toc-modified-id=\"12.-Suppose-we-have-n-independent-trials,-with-the-probability-of-success-on-the-i^{th}-trial-being-p_i.-Let-X-=-text{the-number-of-successes}.-Use-the-fact-that-“the-variance-of-the-sum-is-the-sum-of-the-variance”-for-independent-random-variables-to-derive-Var(X).-16\"><span class=\"toc-item-num\">1.6&nbsp;&nbsp;</span>12. Suppose we have $n$ independent trials, with the probability of success on the $i^{th}$ trial being $p_i$. Let $X = \\text{the number of successes}$. Use the fact that “the variance of the sum is the sum of the variance” for independent random variables to derive $Var(X)$.</a></div><div class=\"lev2 toc-item\"><a href=\"#13.-Prove-Equation-3.41\" data-toc-modified-id=\"13.-Prove-Equation-3.41-17\"><span class=\"toc-item-num\">1.7&nbsp;&nbsp;</span>13. Prove Equation 3.41</a></div><div class=\"lev2 toc-item\"><a href=\"#14.-Show-that-if-X-is-a-nonnegative-integer-valued-random-variable,-then\" data-toc-modified-id=\"14.-Show-that-if-X-is-a-nonnegative-integer-valued-random-variable,-then-18\"><span class=\"toc-item-num\">1.8&nbsp;&nbsp;</span>14. Show that if X is a nonnegative-integer valued random variable, then</a></div><div class=\"lev2 toc-item\"><a href=\"#15.-Suppose-we-toss-a-fair-coin-n-times,-resulting-in-X-heads.-Show-that-the-term-expected-value-is-a-misnomer,-by-showing-that\" data-toc-modified-id=\"15.-Suppose-we-toss-a-fair-coin-n-times,-resulting-in-X-heads.-Show-that-the-term-expected-value-is-a-misnomer,-by-showing-that-19\"><span class=\"toc-item-num\">1.9&nbsp;&nbsp;</span>15. Suppose we toss a fair coin n times, resulting in X heads. Show that the term expected value is a misnomer, by showing that</a></div><div class=\"lev2 toc-item\"><a href=\"#Use-Stirling's-approximation,\" data-toc-modified-id=\"Use-Stirling's-approximation,-110\"><span class=\"toc-item-num\">1.10&nbsp;&nbsp;</span>Use Stirling's approximation,</a></div><div class=\"lev2 toc-item\"><a href=\"#16.-Suppose-X-and-Y-are-independent-random-variables-with-standard-deviations-3-and-4,-respectively.\" data-toc-modified-id=\"16.-Suppose-X-and-Y-are-independent-random-variables-with-standard-deviations-3-and-4,-respectively.-111\"><span class=\"toc-item-num\">1.11&nbsp;&nbsp;</span>16. Suppose $X$ and $Y$ are independent random variables with standard deviations $3$ and $4$, respectively.</a></div><div class=\"lev3 toc-item\"><a href=\"#(a)-Find-Var(X+Y).\" data-toc-modified-id=\"(a)-Find-Var(X+Y).-1111\"><span class=\"toc-item-num\">1.11.1&nbsp;&nbsp;</span>(a) Find $Var(X+Y)$.</a></div><div class=\"lev3 toc-item\"><a href=\"#(b)-Find-Var(2X---Y).\" data-toc-modified-id=\"(b)-Find-Var(2X---Y).-1112\"><span class=\"toc-item-num\">1.11.2&nbsp;&nbsp;</span>(b) Find $Var(2X - Y)$.</a></div><div class=\"lev2 toc-item\"><a href=\"#18.-Let-X-be-the-total-number-of-dots-we-get-if-we-roll-three-dice.-Find-an-upper-bound-for-P(X-geq-15),-using-our-course-materials.\" data-toc-modified-id=\"18.-Let-X-be-the-total-number-of-dots-we-get-if-we-roll-three-dice.-Find-an-upper-bound-for-P(X-geq-15),-using-our-course-materials.-112\"><span class=\"toc-item-num\">1.12&nbsp;&nbsp;</span>18. Let $X$ be the total number of dots we get if we roll three dice. Find an upper bound for $P(X \\geq 15)$, using our course materials.</a></div><div class=\"lev2 toc-item\"><a href=\"#19.-Suppose-X-and-Y-are-independent-random-variables,-and-let-Z-=-XY.-Show-that-Var(Z)-=-E(X^2)E(Y^2)-−-[E(X)]^2[E(Y-)]^2.\" data-toc-modified-id=\"19.-Suppose-X-and-Y-are-independent-random-variables,-and-let-Z-=-XY.-Show-that-Var(Z)-=-E(X^2)E(Y^2)-−-[E(X)]^2[E(Y-)]^2.-113\"><span class=\"toc-item-num\">1.13&nbsp;&nbsp;</span>19. Suppose $X$ and $Y$ are independent random variables, and let $Z = XY$. Show that $Var(Z) = E(X^2)E(Y^2) − [E(X)]^2[E(Y )]^2$.</a></div><div class=\"lev2 toc-item\"><a href=\"#20.-This-problem-involves-a-very-simple-model-of-the-Web.-(Far-more-complex-ones-exist.)\" data-toc-modified-id=\"20.-This-problem-involves-a-very-simple-model-of-the-Web.-(Far-more-complex-ones-exist.)-114\"><span class=\"toc-item-num\">1.14&nbsp;&nbsp;</span>20. This problem involves a very simple model of the Web. (Far more complex ones exist.)</a></div><div class=\"lev2 toc-item\"><a href=\"#Suppose-we-have-n-Websites.-For-each-pair-of-sites-i-and-j,-i-neq-j,-there-is-a-link-from-site-i-to-site-j-with-probability-p,-and-no-link-(in-that-direction)-with-probability-1-p.-Let-N_i-denote-the-number-of-sites-that-site-i-is-linked-to;-note-that-N_i-can-range-from-0-to-n-1.-Also,-let-M_{ij}-denote-the-number-of-outgoing-links-that-sites-i-and-j-have-in-common,-not-counting-the-one-between-them,-if-any.-Assume-that-each-site-forms-its-outgoing-links-independently-of-the-others.\" data-toc-modified-id=\"Suppose-we-have-n-Websites.-For-each-pair-of-sites-i-and-j,-i-neq-j,-there-is-a-link-from-site-i-to-site-j-with-probability-p,-and-no-link-(in-that-direction)-with-probability-1-p.-Let-N_i-denote-the-number-of-sites-that-site-i-is-linked-to;-note-that-N_i-can-range-from-0-to-n-1.-Also,-let-M_{ij}-denote-the-number-of-outgoing-links-that-sites-i-and-j-have-in-common,-not-counting-the-one-between-them,-if-any.-Assume-that-each-site-forms-its-outgoing-links-independently-of-the-others.-115\"><span class=\"toc-item-num\">1.15&nbsp;&nbsp;</span>Suppose we have $n$ Websites. For each pair of sites $i$ and $j$, $i \\neq j$, there is a link from site $i$ to site $j$ with probability $p$, and no link (in that direction) with probability $1-p$. Let $N_i$ denote the number of sites that site $i$ is linked to; note that $N_i$ can range from $0$ to $n-1$. Also, let $M_{ij}$ denote the number of outgoing links that sites $i$ and $j$ have in common, not counting the one between them, if any. Assume that each site forms its outgoing links independently of the others.</a></div><div class=\"lev3 toc-item\"><a href=\"#(a)-P(N_1-=3)\" data-toc-modified-id=\"(a)-P(N_1-=3)-1151\"><span class=\"toc-item-num\">1.15.1&nbsp;&nbsp;</span>(a) $P(N_1 =3)$</a></div><div class=\"lev3 toc-item\"><a href=\"#(b)-P(N_1-=-3-text{-and-}-N_2-=-2)\" data-toc-modified-id=\"(b)-P(N_1-=-3-text{-and-}-N_2-=-2)-1152\"><span class=\"toc-item-num\">1.15.2&nbsp;&nbsp;</span>(b) $P(N_1 = 3 \\text{ and } N_2 = 2)$</a></div><div class=\"lev3 toc-item\"><a href=\"#(c)-Var(N_1)\" data-toc-modified-id=\"(c)-Var(N_1)-1153\"><span class=\"toc-item-num\">1.15.3&nbsp;&nbsp;</span>(c) $Var(N_1)$</a></div><div class=\"lev3 toc-item\"><a href=\"#(d)-Var(N_1-+-N_2)\" data-toc-modified-id=\"(d)-Var(N_1-+-N_2)-1154\"><span class=\"toc-item-num\">1.15.4&nbsp;&nbsp;</span>(d) $Var(N_1 + N_2)$</a></div><div class=\"lev2 toc-item\"><a href=\"#Note:-There-are-some-good-shortcuts-in-some-of-these-problems,-making-the-work-much-easier.\" data-toc-modified-id=\"Note:-There-are-some-good-shortcuts-in-some-of-these-problems,-making-the-work-much-easier.-116\"><span class=\"toc-item-num\">1.16&nbsp;&nbsp;</span>Note: There are some good shortcuts in some of these problems, making the work much easier.</a></div><div class=\"lev2 toc-item\"><a href=\"#21.-Let-X-denote-the-number-of-heads-we-get-by-tossing-a-coin-50-times.-Consider-Chebychev’s-Inequality-for-the-case-of-2-standard-deviations.-Compare-the-upper-bound-given-by-the-inequality-to-the-exact-probability.\" data-toc-modified-id=\"21.-Let-X-denote-the-number-of-heads-we-get-by-tossing-a-coin-50-times.-Consider-Chebychev’s-Inequality-for-the-case-of-2-standard-deviations.-Compare-the-upper-bound-given-by-the-inequality-to-the-exact-probability.-117\"><span class=\"toc-item-num\">1.17&nbsp;&nbsp;</span>21. Let $X$ denote the number of heads we get by tossing a coin $50$ times. Consider Chebychev’s Inequality for the case of $2$ standard deviations. Compare the upper bound given by the inequality to the exact probability.</a></div><div class=\"lev2 toc-item\"><a href=\"#22.-Suppose-the-number-N-of-cars-arriving-during-a-given-time-period-at-a-toll-booth-has-a-Poisson-distribution-with-parameter-lambda.-Each-car-has-a-probability-p-of-being-in-a-car-pool.-Let-M-be-the-number-of-car-pool-cars-that-arrive-in-the-given-period.-Show-that-M-also-has-a-Poisson-distribution,-with-parameter-p\\lambda.-(Hint:-Use-the-Maclaurin-series-for-e^x.)\" data-toc-modified-id=\"22.-Suppose-the-number-N-of-cars-arriving-during-a-given-time-period-at-a-toll-booth-has-a-Poisson-distribution-with-parameter-lambda.-Each-car-has-a-probability-p-of-being-in-a-car-pool.-Let-M-be-the-number-of-car-pool-cars-that-arrive-in-the-given-period.-Show-that-M-also-has-a-Poisson-distribution,-with-parameter-p\\lambda.-(Hint:-Use-the-Maclaurin-series-for-e^x.)-118\"><span class=\"toc-item-num\">1.18&nbsp;&nbsp;</span>22. Suppose the number $N$ of cars arriving during a given time period at a toll booth has a Poisson distribution with parameter $\\lambda$. Each car has a probability $p$ of being in a car pool. Let $M$ be the number of car-pool cars that arrive in the given period. Show that $M$ also has a Poisson distribution, with parameter $p\\lambda$. (Hint: Use the Maclaurin series for $e^x$.)</a></div><div class=\"lev2 toc-item\"><a href=\"#23.-Consider-a-three-sided-die,-as-on-page-36.-Let-X-denote-the-number-of-dots-obtained-in-one-roll.\" data-toc-modified-id=\"23.-Consider-a-three-sided-die,-as-on-page-36.-Let-X-denote-the-number-of-dots-obtained-in-one-roll.-119\"><span class=\"toc-item-num\">1.19&nbsp;&nbsp;</span>23. Consider a three-sided die, as on page 36. Let X denote the number of dots obtained in one roll.</a></div><div class=\"lev2 toc-item\"><a href=\"#(a)-State-the-value-of-p_x(2):\" data-toc-modified-id=\"(a)-State-the-value-of-p_x(2):-120\"><span class=\"toc-item-num\">1.20&nbsp;&nbsp;</span>(a) State the value of $p_x(2):$</a></div><div class=\"lev2 toc-item\"><a href=\"#(b)-Find-EX-and-Var(X):\" data-toc-modified-id=\"(b)-Find-EX-and-Var(X):-121\"><span class=\"toc-item-num\">1.21&nbsp;&nbsp;</span>(b) Find $EX$ and $Var(X)$:</a></div><div class=\"lev2 toc-item\"><a href=\"#(c)-Suppose-you-win-2-for-each-dot.-Find-EW,-where-W-is-the-amount-you-win:\" data-toc-modified-id=\"(c)-Suppose-you-win-2-for-each-dot.-Find-EW,-where-W-is-the-amount-you-win:-122\"><span class=\"toc-item-num\">1.22&nbsp;&nbsp;</span>(c) Suppose you win $\\$2$ for each dot. Find $EW$, where $W$ is the amount you win:</a></div><div class=\"lev2 toc-item\"><a href=\"#24.-Consider-the-parking-space-problem-in-Section-4.2.2.-Find-Var(M),-where-M-is-the-number-of-empty-spaces-in-the-first-block,-and-Var(D).\" data-toc-modified-id=\"24.-Consider-the-parking-space-problem-in-Section-4.2.2.-Find-Var(M),-where-M-is-the-number-of-empty-spaces-in-the-first-block,-and-Var(D).-123\"><span class=\"toc-item-num\">1.23&nbsp;&nbsp;</span>24. Consider the parking space problem in Section 4.2.2. Find $Var(M)$, where $M$ is the number of empty spaces in the first block, and $Var(D)$.</a></div><div class=\"lev2 toc-item\"><a href=\"#25.-Suppose-X-and-Y-are-independent,-with-variances-1-and-2,-respectively.-Find-the-value-of-c-that-minimizes-Var[cX-+-(1-c)Y].\" data-toc-modified-id=\"25.-Suppose-X-and-Y-are-independent,-with-variances-1-and-2,-respectively.-Find-the-value-of-c-that-minimizes-Var[cX-+-(1-c)Y].-124\"><span class=\"toc-item-num\">1.24&nbsp;&nbsp;</span>25. Suppose $X$ and $Y$ are independent, with variances $1$ and $2$, respectively. Find the value of $c$ that minimizes $Var[cX + (1-c)Y]$.</a></div><div class=\"lev2 toc-item\"><a href=\"#26.-In-the-cards-example-in-Section-2.15.1,-let-H-denote-the-number-of-hearts.-Find-EH-and-Var(H).\" data-toc-modified-id=\"26.-In-the-cards-example-in-Section-2.15.1,-let-H-denote-the-number-of-hearts.-Find-EH-and-Var(H).-125\"><span class=\"toc-item-num\">1.25&nbsp;&nbsp;</span>26. In the cards example in Section 2.15.1, let $H$ denote the number of hearts. Find $EH$ and $Var(H)$.</a></div><div class=\"lev2 toc-item\"><a href=\"#27.-In-the-bank-example-in-Section-4.5,-suppose-you-observe-the-bank-for-n-days.-Let-X-denote-the-number-of-days-in-which-at-least-2-customers-entered-during-the-11:00-11:15-observation-period.-Find-P(X-=-k).\" data-toc-modified-id=\"27.-In-the-bank-example-in-Section-4.5,-suppose-you-observe-the-bank-for-n-days.-Let-X-denote-the-number-of-days-in-which-at-least-2-customers-entered-during-the-11:00-11:15-observation-period.-Find-P(X-=-k).-126\"><span class=\"toc-item-num\">1.26&nbsp;&nbsp;</span>27. In the bank example in Section 4.5, suppose you observe the bank for $n$ days. Let $X$ denote the number of days in which at least $2$ customers entered during the 11:00-11:15 observation period. Find $P(X = k)$.</a></div><div class=\"lev2 toc-item\"><a href=\"#28.-Find-E(X^3),-where-X-has-a-geometric-distribution-with-parameter-p.\" data-toc-modified-id=\"28.-Find-E(X^3),-where-X-has-a-geometric-distribution-with-parameter-p.-127\"><span class=\"toc-item-num\">1.27&nbsp;&nbsp;</span>28. Find $E(X^3)$, where $X$ has a geometric distribution with parameter $p$.</a></div><div class=\"lev2 toc-item\"><a href=\"#29.-Supppose-we-have-a-nonnegative-random-variable-X,-and-define-a-new-random-variable-Y,-which-is-equal-to-X-if-X-&gt;-8-and-equal-to-0-otherwise.-Assume-X-takes-on-only-a-finite-number-of-values-(just-a-mathematical-nicety,-not-really-an-issue).-Which-one-of-the-following-is-true:\" data-toc-modified-id=\"29.-Supppose-we-have-a-nonnegative-random-variable-X,-and-define-a-new-random-variable-Y,-which-is-equal-to-X-if-X->-8-and-equal-to-0-otherwise.-Assume-X-takes-on-only-a-finite-number-of-values-(just-a-mathematical-nicety,-not-really-an-issue).-Which-one-of-the-following-is-true:-128\"><span class=\"toc-item-num\">1.28&nbsp;&nbsp;</span>29. Supppose we have a nonnegative random variable $X$, and define a new random variable $Y$, which is equal to $X$ if $X &gt; 8$ and equal to $0$ otherwise. Assume $X$ takes on only a finite number of values (just a mathematical nicety, not really an issue). Which one of the following is true:</a></div><div class=\"lev3 toc-item\"><a href=\"#(i)-EY-leq-EX.\" data-toc-modified-id=\"(i)-EY-leq-EX.-1281\"><span class=\"toc-item-num\">1.28.1&nbsp;&nbsp;</span>(i) $EY \\leq EX$.</a></div><div class=\"lev3 toc-item\"><a href=\"#(ii)-EY-≥-EX.\" data-toc-modified-id=\"(ii)-EY-≥-EX.-1282\"><span class=\"toc-item-num\">1.28.2&nbsp;&nbsp;</span>(ii) $EY ≥ EX$.</a></div><div class=\"lev3 toc-item\"><a href=\"#(iii)-Either-of-EY-and-EX-could-be-larger-than-the-other,-depending-on-the-situation.\" data-toc-modified-id=\"(iii)-Either-of-EY-and-EX-could-be-larger-than-the-other,-depending-on-the-situation.-1283\"><span class=\"toc-item-num\">1.28.3&nbsp;&nbsp;</span>(iii) Either of $EY$ and $EX$ could be larger than the other, depending on the situation.</a></div><div class=\"lev3 toc-item\"><a href=\"#(iv)-EY-is-undefined.\" data-toc-modified-id=\"(iv)-EY-is-undefined.-1284\"><span class=\"toc-item-num\">1.28.4&nbsp;&nbsp;</span>(iv) $EY$ is undefined.</a></div><div class=\"lev2 toc-item\"><a href=\"#30.-Say-we-roll-two-dice,-a-blue-one-and-a-yellow-one.-Let-B-and-Y-denote-the-number-of-dots-we-get,-respectively,-and-write-S-=-B-+-Y.-Now-let-G-denote-the-indicator-random-variable-for-the-event-S-=-2.-Find-E(G).\" data-toc-modified-id=\"30.-Say-we-roll-two-dice,-a-blue-one-and-a-yellow-one.-Let-B-and-Y-denote-the-number-of-dots-we-get,-respectively,-and-write-S-=-B-+-Y.-Now-let-G-denote-the-indicator-random-variable-for-the-event-S-=-2.-Find-E(G).-129\"><span class=\"toc-item-num\">1.29&nbsp;&nbsp;</span>30. Say we roll two dice, a blue one and a yellow one. Let $B$ and $Y$ denote the number of dots we get, respectively, and write $S = B + Y$. Now let $G$ denote the indicator random variable for the event $S = 2$. Find $E(G)$.</a></div><div class=\"lev2 toc-item\"><a href=\"#32.-Consider-the-bus-ridership-example,-Section-2.12.-Suppose-upon-arrival-to-a-certain-stop,-there-are-2-passengers.-Let-A-denote-the-number-of-them-who-choose-to-alight-at-that-stop.\" data-toc-modified-id=\"32.-Consider-the-bus-ridership-example,-Section-2.12.-Suppose-upon-arrival-to-a-certain-stop,-there-are-2-passengers.-Let-A-denote-the-number-of-them-who-choose-to-alight-at-that-stop.-130\"><span class=\"toc-item-num\">1.30&nbsp;&nbsp;</span>32. Consider the bus ridership example, Section 2.12. Suppose upon arrival to a certain stop, there are $2$ passengers. Let $A$ denote the number of them who choose to alight at that stop.</a></div><div class=\"lev3 toc-item\"><a href=\"#33.-Suppose-you-have-a-large-disk-farm,-so-heavily-used-that-the-lifetimes-L-are-measured-in-months.-They-come-from-two-different-factories,-in-proportions-q-and-1-q.-The-disks-from-factory-i-have-geometrically-distributed-lifetime-with-parameter-p_i,-i-=-1,2.-Find-Var(L)-in-terms-of-q-and-the-p_i.\" data-toc-modified-id=\"33.-Suppose-you-have-a-large-disk-farm,-so-heavily-used-that-the-lifetimes-L-are-measured-in-months.-They-come-from-two-different-factories,-in-proportions-q-and-1-q.-The-disks-from-factory-i-have-geometrically-distributed-lifetime-with-parameter-p_i,-i-=-1,2.-Find-Var(L)-in-terms-of-q-and-the-p_i.-1301\"><span class=\"toc-item-num\">1.30.1&nbsp;&nbsp;</span>33. Suppose you have a large disk farm, so heavily used that the lifetimes $L$ are measured in months. They come from two different factories, in proportions $q$ and $1-q$. The disks from factory $i$ have geometrically distributed lifetime with parameter $p_i$, $i = 1,2$. Find $Var(L)$ in terms of $q$ and the $p_i$.</a></div>"
   ]
  },
  {
   "cell_type": "code",
   "execution_count": 1,
   "metadata": {
    "collapsed": false
   },
   "outputs": [],
   "source": [
    "import numpy as np\n",
    "import scipy.stats as ss\n",
    "import scipy.misc as ms\n",
    "import pandas as pd"
   ]
  },
  {
   "cell_type": "code",
   "execution_count": 2,
   "metadata": {
    "collapsed": false
   },
   "outputs": [],
   "source": [
    "g = np.random.geometric(p=0.4, size=1000000)"
   ]
  },
  {
   "cell_type": "code",
   "execution_count": 3,
   "metadata": {
    "collapsed": false,
    "scrolled": true
   },
   "outputs": [
    {
     "data": {
      "text/plain": [
       "0.14416100000000001"
      ]
     },
     "execution_count": 3,
     "metadata": {},
     "output_type": "execute_result"
    }
   ],
   "source": [
    "(g==3).sum() / 1000000.0"
   ]
  },
  {
   "cell_type": "markdown",
   "metadata": {},
   "source": [
    "## Geometric"
   ]
  },
  {
   "cell_type": "markdown",
   "metadata": {},
   "source": [
    "## Binomial"
   ]
  },
  {
   "cell_type": "code",
   "execution_count": 4,
   "metadata": {
    "collapsed": false
   },
   "outputs": [
    {
     "data": {
      "text/plain": [
       "0.3125"
      ]
     },
     "execution_count": 4,
     "metadata": {},
     "output_type": "execute_result"
    }
   ],
   "source": [
    "# Toss coins 5 times. Calculate probability that two of them will be heads.\n",
    "\n",
    "def coin_coss_5_times_get_2_heads():\n",
    "    binom = ss.binom(n=5, p=0.5)\n",
    "    num_heads = 2\n",
    "    return binom.pmf(num_heads)\n",
    "\n",
    "coin_coss_5_times_get_2_heads()"
   ]
  },
  {
   "cell_type": "code",
   "execution_count": 5,
   "metadata": {
    "collapsed": false
   },
   "outputs": [
    {
     "data": {
      "text/plain": [
       "0.3125"
      ]
     },
     "execution_count": 5,
     "metadata": {},
     "output_type": "execute_result"
    }
   ],
   "source": [
    "ms.comb(5,2) * 0.5**2 * 0.5**3"
   ]
  },
  {
   "cell_type": "markdown",
   "metadata": {},
   "source": [
    "## Negative Binomial"
   ]
  },
  {
   "cell_type": "code",
   "execution_count": 6,
   "metadata": {
    "collapsed": false
   },
   "outputs": [
    {
     "data": {
      "text/plain": [
       "0.021308126895000033"
      ]
     },
     "execution_count": 6,
     "metadata": {},
     "output_type": "execute_result"
    }
   ],
   "source": [
    "# You have a device that uses up battery over several months. \n",
    "# You have 3 batteries -- 1 main and 2 spare. \n",
    "# Probability that a battery will die in any given month is 0.1.\n",
    "# Let L be the length of time in months that all 3 would be dead. Find P(L=12)\n",
    "\n",
    "# nbinom.pmf(k) = choose(k+n-1, n-1) * p**n * (1-p)**k\n",
    "\n",
    "def three_batt_life():\n",
    "    num_batteries = 3\n",
    "    prob_death = 0.1\n",
    "    nbinom = ss.nbinom(n=num_batteries, p=prob_death)\n",
    "    num_survives = 9\n",
    "    return nbinom.pmf(num_survives)\n",
    "\n",
    "three_batt_life()"
   ]
  },
  {
   "cell_type": "code",
   "execution_count": 7,
   "metadata": {
    "collapsed": false
   },
   "outputs": [
    {
     "data": {
      "text/plain": [
       "0.021308126895000008"
      ]
     },
     "execution_count": 7,
     "metadata": {},
     "output_type": "execute_result"
    }
   ],
   "source": [
    "ms.comb(11,2) * (0.9**9) * (0.1**3)"
   ]
  },
  {
   "cell_type": "markdown",
   "metadata": {
    "collapsed": true
   },
   "source": [
    "# Exercises"
   ]
  },
  {
   "cell_type": "markdown",
   "metadata": {},
   "source": [
    "1. Consider a game in which one rolls a single die until one accumulates a total of at least four dots. Let X denote the number of rolls needed. Find $P(X \\leq 2)$ and $E(X)$.\n",
    "\n",
    "\\begin{equation}\n",
    "  P(X \\leq 2) = P(X = 1) + P(X = 2) \\\\\n",
    "\\end{equation}\n",
    "\n",
    "\\begin{equation}\n",
    "  \\begin{aligned}\n",
    "  P(X = 1) &= P(R_1 \\geq 4) \\\\\n",
    "  &= 1/2 \\\\\n",
    "  \\end{aligned}\n",
    "\\end{equation}\n",
    "\n",
    "\\begin{equation}\n",
    "  \\begin{aligned}\n",
    "  P(X = 2) &= P(R_1 = 1)P(R_2 \\geq 3) \\\\\n",
    "  &\\quad + P(R_1 = 2)P(R_2 \\geq 2) \\\\\n",
    "  &\\quad + P(R_1 = 3)P(R_2 \\geq 1) \\\\\n",
    "  &= 1/6 \\times 4/6 \\\\\n",
    "  &\\quad + 1/6 \\times 5/6 \\\\\n",
    "  &\\quad + 1/6 \\times 6/6 \\\\ \n",
    "  &= 15/36 \\\\\n",
    "  &= 5/12\n",
    "  \\end{aligned}\n",
    "\\end{equation}\n",
    "\n",
    "\\begin{equation}\n",
    "  \\begin{aligned}\n",
    "    P(X \\leq 2) &= P(X = 1) + P(X = 2) \\\\\n",
    "    &= 1/2 + 5/12 \\\\\n",
    "    &= 11/12 \\\\\n",
    "  \\end{aligned}\n",
    "\\end{equation}\n",
    "\n",
    "\\begin{equation}\n",
    "  \\begin{aligned}\n",
    "    P(X=3) &= P(R_1 = 1, R_2 = 1, R_3 \\geq 2) \\\\\n",
    "    &\\quad + P(R_1 = 1, R_2 = 2, R_3 \\geq 1) \\\\\n",
    "    &\\quad + P(R_1 = 2, R_2 = 1, R_3 \\geq 1) \\\\\n",
    "    &= P(R_1 = 1)P(R_2 = 1)P(R_3 \\geq 2) \\\\\n",
    "    &\\quad + P(R_1 = 2)P(R_2 = 1)P(R_3 \\geq 1) \\\\\n",
    "    &\\quad + P(R_1 = 1)P(R_2 = 2)P(R_3 \\geq 1) \\\\\n",
    "    &= 1/6 \\times 1/6 \\times 5/6 \\\\\n",
    "    &\\quad + 1/6 \\times 1/6 \\times 6/6 \\\\\n",
    "    &\\quad + 1/6 \\times 1/6 \\times 6/6 \\\\\n",
    "    &= \\frac{5+6+6}{216} \\\\\n",
    "    &= 17/216\n",
    "  \\end{aligned}\n",
    "\\end{equation}\n",
    "\n",
    "\\begin{equation}\n",
    "  \\begin{aligned}\n",
    "    P(X=4) &= P(R_1 = 1, R_2 = 1, R_3 = 1, R_4 = 1) \\\\\n",
    "    &= (\\frac{1}{6})^4 \\\\\n",
    "    &= 1/1296\n",
    "  \\end{aligned}\n",
    "\\end{equation}\n",
    "\n",
    "\\begin{equation}\n",
    "  \\begin{aligned}\n",
    "    E(X) &= 1P(X=1) + 2P(X=2) + 3P(X=3) + 4P(X=4) \\\\\n",
    "    &= 1(\\frac{1}{2}) + 2(\\frac{5}{12}) + 3(\\frac{17}{216}) + 4(\\frac{1}{1296}) \\\\\n",
    "    &= 648/1296 + 1080/1296 + 306/1296 + 4/1296 \\\\\n",
    "    &= 2038/1296 \\\\\n",
    "    &\\approx 1.57\n",
    "  \\end{aligned}\n",
    "\\end{equation}"
   ]
  },
  {
   "cell_type": "code",
   "execution_count": 8,
   "metadata": {
    "collapsed": false,
    "scrolled": true
   },
   "outputs": [
    {
     "data": {
      "text/plain": [
       "0.41666666666666663"
      ]
     },
     "execution_count": 8,
     "metadata": {},
     "output_type": "execute_result"
    }
   ],
   "source": [
    "# P(X=2)\n",
    "1.0/6 * 2.0/3 + 1.0/6 * 5.0/6 + 1.0/6 * 1.0"
   ]
  },
  {
   "cell_type": "code",
   "execution_count": 9,
   "metadata": {
    "collapsed": false,
    "scrolled": true
   },
   "outputs": [
    {
     "data": {
      "text/plain": [
       "1.572530864197531"
      ]
     },
     "execution_count": 9,
     "metadata": {},
     "output_type": "execute_result"
    }
   ],
   "source": [
    "# E(X)\n",
    "0.5 + 2*5.0/12 + 3*17.0/216 + 4/1296.0"
   ]
  },
  {
   "cell_type": "code",
   "execution_count": 10,
   "metadata": {
    "collapsed": false
   },
   "outputs": [],
   "source": [
    "def accumulate_dots(num_dots=4, num_experiments=100000):\n",
    "    def roll_dice():\n",
    "        return np.random.permutation([1,2,3,4,5,6])[0]\n",
    "    num_rolls_to_get_num_dots = []\n",
    "    \n",
    "    for i in range(num_experiments):\n",
    "        _sum = 0\n",
    "        count = 0\n",
    "        while _sum < 4:\n",
    "            _sum += roll_dice()\n",
    "            count += 1\n",
    "        \n",
    "        num_rolls_to_get_num_dots.append(count)\n",
    "        \n",
    "    return pd.DataFrame({'num_rolls_to_get_num_dots': num_rolls_to_get_num_dots})\n",
    "\n",
    "def probability(criteria, result):\n",
    "    return float(criteria(result).shape[0]) / result.shape[0]\n",
    "        \n",
    "def expected_value(result):\n",
    "    return result.mean()"
   ]
  },
  {
   "cell_type": "code",
   "execution_count": 11,
   "metadata": {
    "collapsed": false
   },
   "outputs": [
    {
     "data": {
      "text/plain": [
       "0.91653"
      ]
     },
     "execution_count": 11,
     "metadata": {},
     "output_type": "execute_result"
    }
   ],
   "source": [
    "probability(lambda x: x[x['num_rolls_to_get_num_dots'] <= 2], accumulate_dots())"
   ]
  },
  {
   "cell_type": "code",
   "execution_count": 12,
   "metadata": {
    "collapsed": false
   },
   "outputs": [
    {
     "data": {
      "text/plain": [
       "num_rolls_to_get_num_dots    1.587869\n",
       "dtype: float64"
      ]
     },
     "execution_count": 12,
     "metadata": {},
     "output_type": "execute_result"
    }
   ],
   "source": [
    "expected_value(accumulate_dots(num_experiments=1000000))"
   ]
  },
  {
   "cell_type": "markdown",
   "metadata": {},
   "source": [
    "### 2. Recall the committee example in Section 3.9.2. Suppose now, though, that the selection protocol is that there must be at least one man and at least one woman on the committee. Find $E(D)$ and $Var(D)$.\n",
    "\n",
    "Reminder: There are 6 men and 3 women to choose from. The committee has a size of 4.\n",
    "\n",
    "Let $M = \\text{number of men in committee}$ and $W = \\text{number of women in committee.}$ Let $D = M-W$, given that there must be at least one man and at least one woman on the committee.\n",
    "\n",
    "$D$ could be $3-1=2$, $2-2=0$, or $1-3=-2$. \n",
    "\n",
    "Thus:\n",
    "\n",
    "\\begin{equation}\n",
    "  \\begin{aligned}\n",
    "     E(D) &= 2P(D=2) + 0P(D=0) + -2P(D=-2) \\\\\n",
    "          &= 2P(D=2) - 2P(D=-2) \\\\\n",
    "          &= 2(\\frac{60}{111}) - 2(\\frac{6}{111}) \\\\\n",
    "          &= 120/111 - 12/111 \\\\\n",
    "          &= 108/111 \\\\\n",
    "          &\\approx 0.97\n",
    "  \\end{aligned}\n",
    "\\end{equation}\n",
    "\n",
    "\\begin{equation}\n",
    "  \\begin{aligned}\n",
    "     Var(D) &= E(D^2) - E(D)^2\n",
    "  \\end{aligned}\n",
    "\\end{equation}\n",
    "\n",
    "\\begin{equation}\n",
    "  \\begin{aligned}\n",
    "     E(D^2) &= (2)^2P(D=2) + (0)^2P(D=0) + (-2)^2P(D=-2) \\\\\n",
    "     &= 4P(D=2) + 4P(D=-2) \\\\\n",
    "     &= 4(\\frac{60}{111}) + 4(\\frac{6}{111}) \\\\\n",
    "     &= 264/111 \\\\\n",
    "     &\\approx 2.378\n",
    "  \\end{aligned}\n",
    "\\end{equation}\n",
    "\n",
    "Thus:\n",
    "\n",
    "\\begin{equation}\n",
    "  \\begin{aligned}\n",
    "     Var(D) &= E(D^2) - E(D)^2 \\\\\n",
    "     &= 264/111 - (108/111)^2 \\\\\n",
    "     &= 156/111 \\\\\n",
    "     &\\approx 1.432\n",
    "  \\end{aligned}\n",
    "\\end{equation}"
   ]
  },
  {
   "cell_type": "code",
   "execution_count": 13,
   "metadata": {
    "collapsed": false
   },
   "outputs": [
    {
     "data": {
      "text/plain": [
       "0.54054054054054057"
      ]
     },
     "execution_count": 13,
     "metadata": {},
     "output_type": "execute_result"
    }
   ],
   "source": [
    "# P(D=2)\n",
    "ms.comb(6, 3)*ms.comb(3, 1) / \\\n",
    "(ms.comb(6, 3)*ms.comb(3, 1) + ms.comb(6, 2)*ms.comb(3, 2) + ms.comb(6, 1)*ms.comb(3, 3))"
   ]
  },
  {
   "cell_type": "code",
   "execution_count": 14,
   "metadata": {
    "collapsed": false
   },
   "outputs": [
    {
     "data": {
      "text/plain": [
       "0.054054054054054057"
      ]
     },
     "execution_count": 14,
     "metadata": {},
     "output_type": "execute_result"
    }
   ],
   "source": [
    "# P(D=-2)\n",
    "ms.comb(6, 1)*ms.comb(3, 3) / \\\n",
    "(ms.comb(6, 3)*ms.comb(3, 1) + ms.comb(6, 2)*ms.comb(3, 2) + ms.comb(6, 1)*ms.comb(3, 3))"
   ]
  },
  {
   "cell_type": "code",
   "execution_count": 15,
   "metadata": {
    "collapsed": false
   },
   "outputs": [
    {
     "data": {
      "text/plain": [
       "0.97297297297297303"
      ]
     },
     "execution_count": 15,
     "metadata": {},
     "output_type": "execute_result"
    }
   ],
   "source": [
    "# E(X)\n",
    "2*(ms.comb(6, 3)*ms.comb(3, 1) / \\\n",
    "(ms.comb(6, 3)*ms.comb(3, 1) + ms.comb(6, 2)*ms.comb(3, 2) + ms.comb(6, 1)*ms.comb(3, 3))) \\\n",
    "- 2*(ms.comb(6, 1)*ms.comb(3, 3) / \\\n",
    "(ms.comb(6, 3)*ms.comb(3, 1) + ms.comb(6, 2)*ms.comb(3, 2) + ms.comb(6, 1)*ms.comb(3, 3)))"
   ]
  },
  {
   "cell_type": "code",
   "execution_count": 16,
   "metadata": {
    "collapsed": false
   },
   "outputs": [],
   "source": [
    "def generate_committee(num_experiments=10000):\n",
    "    # Note: not the same as choosing 1 man, \n",
    "    # choosing 1 woman, then choosing 2 people from the remaining people.\n",
    "  \n",
    "    men_count_minus_women_count = []\n",
    "    people_to_choose_from = ['M','M','M','M','M','M', 'W','W','W']\n",
    "    \n",
    "    def count_men_minus_women(people_arr):\n",
    "        men_count = 0\n",
    "        women_count = 0\n",
    "        \n",
    "        for i in people_arr:\n",
    "            if i == 'M':\n",
    "                men_count += 1\n",
    "            else:\n",
    "                women_count += 1\n",
    "        \n",
    "        return men_count - women_count\n",
    "    \n",
    "    experiment_count = 0\n",
    "    while experiment_count < num_experiments:\n",
    "        permute = np.random.permutation(people_to_choose_from)[0:4]\n",
    "        men_minus_women = count_men_minus_women(permute)\n",
    "        \n",
    "        if men_minus_women == -2 or men_minus_women == 0 or men_minus_women == 2:\n",
    "            experiment_count +=1\n",
    "            men_count_minus_women_count.append(men_minus_women)\n",
    "            \n",
    "    return pd.DataFrame({'men_count_minus_women_count': men_count_minus_women_count})    "
   ]
  },
  {
   "cell_type": "code",
   "execution_count": 17,
   "metadata": {
    "collapsed": false
   },
   "outputs": [],
   "source": [
    "def variance(df, column_name):\n",
    "    return ((df[column_name] - df[column_name].mean())**2).sum() / df.shape[0]"
   ]
  },
  {
   "cell_type": "code",
   "execution_count": 18,
   "metadata": {
    "collapsed": false
   },
   "outputs": [
    {
     "data": {
      "text/plain": [
       "men_count_minus_women_count    0.964\n",
       "dtype: float64"
      ]
     },
     "execution_count": 18,
     "metadata": {},
     "output_type": "execute_result"
    }
   ],
   "source": [
    "expected_value(generate_committee())"
   ]
  },
  {
   "cell_type": "code",
   "execution_count": 19,
   "metadata": {
    "collapsed": false
   },
   "outputs": [
    {
     "data": {
      "text/plain": [
       "1.4317019722425128"
      ]
     },
     "execution_count": 19,
     "metadata": {},
     "output_type": "execute_result"
    }
   ],
   "source": [
    "# Var(X)\n",
    "264.0/111 - (108.0/111)**2"
   ]
  },
  {
   "cell_type": "code",
   "execution_count": 20,
   "metadata": {
    "collapsed": false
   },
   "outputs": [
    {
     "data": {
      "text/plain": [
       "1.4116158400000001"
      ]
     },
     "execution_count": 20,
     "metadata": {},
     "output_type": "execute_result"
    }
   ],
   "source": [
    "variance(generate_committee(), 'men_count_minus_women_count')"
   ]
  },
  {
   "cell_type": "code",
   "execution_count": 21,
   "metadata": {
    "collapsed": false
   },
   "outputs": [
    {
     "name": "stdout",
     "output_type": "stream",
     "text": [
      "P(X=2) = 0.5464, P(X=-2) = 0.0516\n"
     ]
    }
   ],
   "source": [
    "gen_committee = generate_committee(num_experiments=10000)\n",
    "prob_x_is_2 =     probability(lambda x: x[x['men_count_minus_women_count'] == 2], gen_committee)\n",
    "prob_x_is_neg_2 = probability(lambda x: x[x['men_count_minus_women_count'] == -2], gen_committee)\n",
    "print \"P(X=2) = {}, P(X=-2) = {}\".format(prob_x_is_2, prob_x_is_neg_2)"
   ]
  },
  {
   "cell_type": "code",
   "execution_count": 22,
   "metadata": {
    "collapsed": false,
    "scrolled": true
   },
   "outputs": [
    {
     "data": {
      "text/plain": [
       "2.3783783783783785"
      ]
     },
     "execution_count": 22,
     "metadata": {},
     "output_type": "execute_result"
    }
   ],
   "source": [
    "4*60/111.0 + 4*6/111.0"
   ]
  },
  {
   "cell_type": "code",
   "execution_count": 23,
   "metadata": {
    "collapsed": false,
    "scrolled": true
   },
   "outputs": [
    {
     "data": {
      "text/plain": [
       "6.0"
      ]
     },
     "execution_count": 23,
     "metadata": {},
     "output_type": "execute_result"
    }
   ],
   "source": [
    "ms.comb(4,2)"
   ]
  },
  {
   "cell_type": "markdown",
   "metadata": {},
   "source": [
    "### 3. Suppose a bit stream is subject to errors, with each bit having probability p of error, and with the bits being independent. Consider a set of four particular bits. Let $X$ denote the number of erroneous bits among those four.\n",
    "\n",
    "#### (a) Find $P(X = 2)$ and $EX$.\n",
    "\n",
    "\\begin{equation}\n",
    "  \\begin{aligned}\n",
    "     P(X=2) = {4 \\choose 2}p^2(1-p)^2\n",
    "  \\end{aligned}\n",
    "\\end{equation}\n",
    "\n",
    "We could represent X as a sum of indicator variables $G_i$: $X = G_1 + G_2 + G_3 + G_4$:\n",
    "\n",
    "\\begin{equation}\n",
    "  \\begin{aligned}\n",
    "          X  &= G_1 + G_2 + G_3 + G_4 \\\\\n",
    "        E(X) &= E(G_1 + G_2 + G_3 + G_4) \\\\\n",
    "             &= E(G_1) + E(G_2) + E(G_3) + E(G_4) \\\\\n",
    "             &= p + p + p + p \\\\\n",
    "             &= 4p \\\\\n",
    "  \\end{aligned}\n",
    "\\end{equation}\n",
    "\n",
    "\n",
    "#### (b) What famous parametric family of distributions does the distribution of X belong to? \n",
    "This distribution belongs to Binomial family of distributions.\n",
    "\n",
    "#### (c) Let $Y$ denote the maximum number of consecutive erroneous bits. Find $P(Y = 2)$ and $Var(Y)$.\n",
    "\n",
    "There are five possible configurations where $Y=2$. They are as follows: $1100, 0110, 0011, 1101, 1011$, where $1$ stood for an error and $0$ for none. Thus:\n",
    "\n",
    "\\begin{equation}\n",
    "  \\begin{aligned}\n",
    "     P(Y=2) &= 3p^2(1-p)^2 + 2p^3(1-p)\n",
    "  \\end{aligned}\n",
    "\\end{equation}\n",
    "\n",
    "$Var(Y) = E(Y^2)-E(Y)^2$, so we need to calculate $E(Y^2)$ and $E(Y)^2$. To do so, we need to calculate $P(Y=k)$.\n",
    "\n",
    "There are seven possible configurations where $Y=1$. They are as follows: $1000, 0100, 0010, 0001, 1010, 0101, 1001$, where $1$ stood for an error and $0$ for none. Thus:\n",
    "\n",
    "\\begin{equation}\n",
    "  \\begin{aligned}\n",
    "     P(Y=1) = 4p(1-p)^3 + 3p^2(1-p)^2\n",
    "  \\end{aligned}\n",
    "\\end{equation}\n",
    "\n",
    "There are two possible configurations where $Y=3$. They are as follows: $1110, 0111$, where $1$ stood for an error and $0$ for none. Thus:\n",
    "\n",
    "\\begin{equation}\n",
    "  \\begin{aligned}\n",
    "     P(Y=3) = 2p^3(1-p)\n",
    "  \\end{aligned}\n",
    "\\end{equation}\n",
    "\n",
    "There is only one possible configuration where $Y=4$. They are as follows: $1111$ where $1$ stood for an error and $0$ for none. Thus:\n",
    "\n",
    "\\begin{equation}\n",
    "  \\begin{aligned}\n",
    "     P(Y=4) = p^4\n",
    "  \\end{aligned}\n",
    "\\end{equation}\n",
    "\n",
    "\\begin{equation}\n",
    "  \\begin{aligned}\n",
    "     E(Y) &= \\sum_{k}kP(Y=k) \\\\\n",
    "     &= 1(4p(1-p)^3 + 3p^2(1-p)^2) + 2(3p^2(1-p)^2 + 2p^3(1-p)) + 3(2p^3(1-p)) + 4(p^4) \\\\\n",
    "     &= 4p(1-p)^3 + 3p^2(1-p)^2 + 6p^2(1-p)^2 + 4p^3(1-p) + 6p^3(1-p) + 4(p)^4 \\\\\n",
    "     &= 4p(1-p)^3 + 9p^2(1-p)^2 + 4p^3(1-p) + 6p^3(1-p) + 4(p)^4 \\\\\n",
    "  \\end{aligned}\n",
    "\\end{equation}\n",
    "\n",
    "\\begin{equation}\n",
    "  \\begin{aligned}\n",
    "     E(Y)^2 &= (4p(1-p)^3 + 9p^2(1-p)^2 + 4p^3(1-p) + 6p^3(1-p) + 4(p)^4)^2 \\\\\n",
    "  \\end{aligned}\n",
    "\\end{equation}\n",
    "\n",
    "\\begin{equation}\n",
    "  \\begin{aligned}\n",
    "     E(Y^2) &= \\sum_kk^2P(Y=k) \\\\\n",
    "     &= 1^2(4p(1-p)^3 + 3p^2(1-p)^2) + 2^2(3p^2(1-p)^2 + 2p^3(1-p)) + 3^2(2p^3(1-p)) + 4^2(p^4) \\\\\n",
    "     &= (4p(1-p)^3 + 3p^2(1-p)^2) + 4(3p^2(1-p)^2 + 2p^3(1-p)) + 9(2p^3(1-p)) + 16(p^4)  \\\\\n",
    "     &= 4p(1-p)^3 + 3p^2(1-p)^2 + 12p^2(1-p)^2 + 8p^3(1-p) + 18p^3(1-p) + 16(p^4)  \\\\\n",
    "     &= 4p(1-p)^3 + 15p^2(1-p)^2 + 26p^3(1-p) + 16(p^4)  \\\\\n",
    "  \\end{aligned}\n",
    "\\end{equation}\n",
    "\n",
    "\\begin{equation}\n",
    "  \\begin{aligned}\n",
    "     Var(Y) &= 4p(1-p)^3 + 15p^2(1-p)^2 + 26p^3(1-p) + 16(p^4) - (4p(1-p)^3 + 9p^2(1-p)^2 + 4p^3(1-p) + 6p^3(1-p) + 4(p)^4)^2 \\\\\n",
    "  \\end{aligned}\n",
    "\\end{equation}"
   ]
  },
  {
   "cell_type": "code",
   "execution_count": 24,
   "metadata": {
    "collapsed": false
   },
   "outputs": [],
   "source": [
    "def consecutive_bits(num_experiments=10000, prob_failure=0.7):\n",
    "    num_bits = 4\n",
    "    num_consecutive_bits = []\n",
    "    \n",
    "    def generate_bits():\n",
    "        return np.random.binomial(1, prob_failure, num_bits)\n",
    "    \n",
    "    def count_max_consecutive(bits):\n",
    "        \n",
    "        consecutive = False\n",
    "        max_count = 0\n",
    "        for bit in bits:\n",
    "            if bit == 1:\n",
    "                if consecutive==False:\n",
    "                    if max_count == 0:\n",
    "                        max_count += 1\n",
    "                    consecutive = True\n",
    "                else:\n",
    "                    max_count += 1\n",
    "                    max_count\n",
    "            else:\n",
    "                consecutive = False\n",
    "#         if max_count == 2:\n",
    "#             print \"bits: {}, max_count: {}\".format(bits, max_count)\n",
    "        return max_count\n",
    "    \n",
    "    for i in range(num_experiments):\n",
    "        num_consecutive_bits.append(count_max_consecutive(generate_bits()))\n",
    "        \n",
    "    return pd.DataFrame({'num_consecutive_bits': num_consecutive_bits})\n",
    "        \n",
    "        \n",
    "    "
   ]
  },
  {
   "cell_type": "code",
   "execution_count": 25,
   "metadata": {
    "collapsed": false
   },
   "outputs": [
    {
     "data": {
      "text/plain": [
       "0.1875"
      ]
     },
     "execution_count": 25,
     "metadata": {},
     "output_type": "execute_result"
    }
   ],
   "source": [
    "# P(Y=2)\n",
    "3*0.5**4"
   ]
  },
  {
   "cell_type": "code",
   "execution_count": 26,
   "metadata": {
    "collapsed": false,
    "scrolled": true
   },
   "outputs": [
    {
     "data": {
      "text/html": [
       "<div>\n",
       "<table border=\"1\" class=\"dataframe\">\n",
       "  <thead>\n",
       "    <tr style=\"text-align: right;\">\n",
       "      <th></th>\n",
       "      <th>num_consecutive_bits</th>\n",
       "    </tr>\n",
       "  </thead>\n",
       "  <tbody>\n",
       "    <tr>\n",
       "      <th>0</th>\n",
       "      <td>0</td>\n",
       "    </tr>\n",
       "    <tr>\n",
       "      <th>1</th>\n",
       "      <td>0</td>\n",
       "    </tr>\n",
       "    <tr>\n",
       "      <th>2</th>\n",
       "      <td>2</td>\n",
       "    </tr>\n",
       "    <tr>\n",
       "      <th>3</th>\n",
       "      <td>1</td>\n",
       "    </tr>\n",
       "    <tr>\n",
       "      <th>4</th>\n",
       "      <td>0</td>\n",
       "    </tr>\n",
       "    <tr>\n",
       "      <th>5</th>\n",
       "      <td>1</td>\n",
       "    </tr>\n",
       "    <tr>\n",
       "      <th>6</th>\n",
       "      <td>1</td>\n",
       "    </tr>\n",
       "    <tr>\n",
       "      <th>7</th>\n",
       "      <td>1</td>\n",
       "    </tr>\n",
       "    <tr>\n",
       "      <th>8</th>\n",
       "      <td>1</td>\n",
       "    </tr>\n",
       "    <tr>\n",
       "      <th>9</th>\n",
       "      <td>2</td>\n",
       "    </tr>\n",
       "    <tr>\n",
       "      <th>10</th>\n",
       "      <td>2</td>\n",
       "    </tr>\n",
       "    <tr>\n",
       "      <th>11</th>\n",
       "      <td>2</td>\n",
       "    </tr>\n",
       "    <tr>\n",
       "      <th>12</th>\n",
       "      <td>3</td>\n",
       "    </tr>\n",
       "    <tr>\n",
       "      <th>13</th>\n",
       "      <td>3</td>\n",
       "    </tr>\n",
       "    <tr>\n",
       "      <th>14</th>\n",
       "      <td>1</td>\n",
       "    </tr>\n",
       "    <tr>\n",
       "      <th>15</th>\n",
       "      <td>2</td>\n",
       "    </tr>\n",
       "    <tr>\n",
       "      <th>16</th>\n",
       "      <td>1</td>\n",
       "    </tr>\n",
       "    <tr>\n",
       "      <th>17</th>\n",
       "      <td>1</td>\n",
       "    </tr>\n",
       "    <tr>\n",
       "      <th>18</th>\n",
       "      <td>2</td>\n",
       "    </tr>\n",
       "    <tr>\n",
       "      <th>19</th>\n",
       "      <td>2</td>\n",
       "    </tr>\n",
       "    <tr>\n",
       "      <th>20</th>\n",
       "      <td>2</td>\n",
       "    </tr>\n",
       "    <tr>\n",
       "      <th>21</th>\n",
       "      <td>1</td>\n",
       "    </tr>\n",
       "    <tr>\n",
       "      <th>22</th>\n",
       "      <td>2</td>\n",
       "    </tr>\n",
       "    <tr>\n",
       "      <th>23</th>\n",
       "      <td>1</td>\n",
       "    </tr>\n",
       "    <tr>\n",
       "      <th>24</th>\n",
       "      <td>1</td>\n",
       "    </tr>\n",
       "    <tr>\n",
       "      <th>25</th>\n",
       "      <td>1</td>\n",
       "    </tr>\n",
       "    <tr>\n",
       "      <th>26</th>\n",
       "      <td>1</td>\n",
       "    </tr>\n",
       "    <tr>\n",
       "      <th>27</th>\n",
       "      <td>1</td>\n",
       "    </tr>\n",
       "    <tr>\n",
       "      <th>28</th>\n",
       "      <td>1</td>\n",
       "    </tr>\n",
       "    <tr>\n",
       "      <th>29</th>\n",
       "      <td>2</td>\n",
       "    </tr>\n",
       "    <tr>\n",
       "      <th>...</th>\n",
       "      <td>...</td>\n",
       "    </tr>\n",
       "    <tr>\n",
       "      <th>70</th>\n",
       "      <td>2</td>\n",
       "    </tr>\n",
       "    <tr>\n",
       "      <th>71</th>\n",
       "      <td>1</td>\n",
       "    </tr>\n",
       "    <tr>\n",
       "      <th>72</th>\n",
       "      <td>1</td>\n",
       "    </tr>\n",
       "    <tr>\n",
       "      <th>73</th>\n",
       "      <td>1</td>\n",
       "    </tr>\n",
       "    <tr>\n",
       "      <th>74</th>\n",
       "      <td>4</td>\n",
       "    </tr>\n",
       "    <tr>\n",
       "      <th>75</th>\n",
       "      <td>2</td>\n",
       "    </tr>\n",
       "    <tr>\n",
       "      <th>76</th>\n",
       "      <td>1</td>\n",
       "    </tr>\n",
       "    <tr>\n",
       "      <th>77</th>\n",
       "      <td>1</td>\n",
       "    </tr>\n",
       "    <tr>\n",
       "      <th>78</th>\n",
       "      <td>2</td>\n",
       "    </tr>\n",
       "    <tr>\n",
       "      <th>79</th>\n",
       "      <td>1</td>\n",
       "    </tr>\n",
       "    <tr>\n",
       "      <th>80</th>\n",
       "      <td>2</td>\n",
       "    </tr>\n",
       "    <tr>\n",
       "      <th>81</th>\n",
       "      <td>0</td>\n",
       "    </tr>\n",
       "    <tr>\n",
       "      <th>82</th>\n",
       "      <td>3</td>\n",
       "    </tr>\n",
       "    <tr>\n",
       "      <th>83</th>\n",
       "      <td>2</td>\n",
       "    </tr>\n",
       "    <tr>\n",
       "      <th>84</th>\n",
       "      <td>1</td>\n",
       "    </tr>\n",
       "    <tr>\n",
       "      <th>85</th>\n",
       "      <td>3</td>\n",
       "    </tr>\n",
       "    <tr>\n",
       "      <th>86</th>\n",
       "      <td>1</td>\n",
       "    </tr>\n",
       "    <tr>\n",
       "      <th>87</th>\n",
       "      <td>1</td>\n",
       "    </tr>\n",
       "    <tr>\n",
       "      <th>88</th>\n",
       "      <td>3</td>\n",
       "    </tr>\n",
       "    <tr>\n",
       "      <th>89</th>\n",
       "      <td>3</td>\n",
       "    </tr>\n",
       "    <tr>\n",
       "      <th>90</th>\n",
       "      <td>1</td>\n",
       "    </tr>\n",
       "    <tr>\n",
       "      <th>91</th>\n",
       "      <td>2</td>\n",
       "    </tr>\n",
       "    <tr>\n",
       "      <th>92</th>\n",
       "      <td>1</td>\n",
       "    </tr>\n",
       "    <tr>\n",
       "      <th>93</th>\n",
       "      <td>0</td>\n",
       "    </tr>\n",
       "    <tr>\n",
       "      <th>94</th>\n",
       "      <td>2</td>\n",
       "    </tr>\n",
       "    <tr>\n",
       "      <th>95</th>\n",
       "      <td>1</td>\n",
       "    </tr>\n",
       "    <tr>\n",
       "      <th>96</th>\n",
       "      <td>1</td>\n",
       "    </tr>\n",
       "    <tr>\n",
       "      <th>97</th>\n",
       "      <td>3</td>\n",
       "    </tr>\n",
       "    <tr>\n",
       "      <th>98</th>\n",
       "      <td>2</td>\n",
       "    </tr>\n",
       "    <tr>\n",
       "      <th>99</th>\n",
       "      <td>1</td>\n",
       "    </tr>\n",
       "  </tbody>\n",
       "</table>\n",
       "<p>100 rows × 1 columns</p>\n",
       "</div>"
      ],
      "text/plain": [
       "    num_consecutive_bits\n",
       "0                      0\n",
       "1                      0\n",
       "2                      2\n",
       "3                      1\n",
       "4                      0\n",
       "5                      1\n",
       "6                      1\n",
       "7                      1\n",
       "8                      1\n",
       "9                      2\n",
       "10                     2\n",
       "11                     2\n",
       "12                     3\n",
       "13                     3\n",
       "14                     1\n",
       "15                     2\n",
       "16                     1\n",
       "17                     1\n",
       "18                     2\n",
       "19                     2\n",
       "20                     2\n",
       "21                     1\n",
       "22                     2\n",
       "23                     1\n",
       "24                     1\n",
       "25                     1\n",
       "26                     1\n",
       "27                     1\n",
       "28                     1\n",
       "29                     2\n",
       "..                   ...\n",
       "70                     2\n",
       "71                     1\n",
       "72                     1\n",
       "73                     1\n",
       "74                     4\n",
       "75                     2\n",
       "76                     1\n",
       "77                     1\n",
       "78                     2\n",
       "79                     1\n",
       "80                     2\n",
       "81                     0\n",
       "82                     3\n",
       "83                     2\n",
       "84                     1\n",
       "85                     3\n",
       "86                     1\n",
       "87                     1\n",
       "88                     3\n",
       "89                     3\n",
       "90                     1\n",
       "91                     2\n",
       "92                     1\n",
       "93                     0\n",
       "94                     2\n",
       "95                     1\n",
       "96                     1\n",
       "97                     3\n",
       "98                     2\n",
       "99                     1\n",
       "\n",
       "[100 rows x 1 columns]"
      ]
     },
     "execution_count": 26,
     "metadata": {},
     "output_type": "execute_result"
    }
   ],
   "source": [
    "consecutive_bits(num_experiments=100, prob_failure=0.5)"
   ]
  },
  {
   "cell_type": "code",
   "execution_count": 27,
   "metadata": {
    "collapsed": false,
    "scrolled": true
   },
   "outputs": [
    {
     "data": {
      "text/plain": [
       "num_consecutive_bits    1.6\n",
       "dtype: float64"
      ]
     },
     "execution_count": 27,
     "metadata": {},
     "output_type": "execute_result"
    }
   ],
   "source": [
    "expected_value(consecutive_bits(num_experiments=100, prob_failure=0.5))"
   ]
  },
  {
   "cell_type": "code",
   "execution_count": 28,
   "metadata": {
    "collapsed": false,
    "scrolled": true
   },
   "outputs": [
    {
     "data": {
      "text/plain": [
       "0.4375"
      ]
     },
     "execution_count": 28,
     "metadata": {},
     "output_type": "execute_result"
    }
   ],
   "source": [
    "# P(Y=1)\n",
    "4*0.5*0.5**3 + 3*0.5**2*0.5**2"
   ]
  },
  {
   "cell_type": "code",
   "execution_count": 29,
   "metadata": {
    "collapsed": false,
    "scrolled": true
   },
   "outputs": [
    {
     "data": {
      "text/plain": [
       "0.43659"
      ]
     },
     "execution_count": 29,
     "metadata": {},
     "output_type": "execute_result"
    }
   ],
   "source": [
    "# P(Y=1)\n",
    "probability(lambda x: x[x.num_consecutive_bits == 1], consecutive_bits(num_experiments=100000, prob_failure=0.5))"
   ]
  },
  {
   "cell_type": "code",
   "execution_count": 30,
   "metadata": {
    "collapsed": false,
    "scrolled": true
   },
   "outputs": [
    {
     "data": {
      "text/plain": [
       "0.3125"
      ]
     },
     "execution_count": 30,
     "metadata": {},
     "output_type": "execute_result"
    }
   ],
   "source": [
    "# P(Y=2)\n",
    "5*0.5**2*0.5**2"
   ]
  },
  {
   "cell_type": "code",
   "execution_count": 31,
   "metadata": {
    "collapsed": false,
    "scrolled": true
   },
   "outputs": [
    {
     "data": {
      "text/plain": [
       "0.312388"
      ]
     },
     "execution_count": 31,
     "metadata": {},
     "output_type": "execute_result"
    }
   ],
   "source": [
    "# P(Y=2)\n",
    "probability(lambda x: x[x.num_consecutive_bits == 2], consecutive_bits(num_experiments=1000000, prob_failure=0.5))"
   ]
  },
  {
   "cell_type": "code",
   "execution_count": 32,
   "metadata": {
    "collapsed": false,
    "scrolled": true
   },
   "outputs": [
    {
     "data": {
      "text/plain": [
       "0.125"
      ]
     },
     "execution_count": 32,
     "metadata": {},
     "output_type": "execute_result"
    }
   ],
   "source": [
    "# P(Y=3) = 2*0.5^3*(1-0.5)\n",
    "2*0.5**3*0.5"
   ]
  },
  {
   "cell_type": "code",
   "execution_count": 33,
   "metadata": {
    "collapsed": false,
    "scrolled": true
   },
   "outputs": [
    {
     "data": {
      "text/plain": [
       "0.12378"
      ]
     },
     "execution_count": 33,
     "metadata": {},
     "output_type": "execute_result"
    }
   ],
   "source": [
    "# P(Y=3)\n",
    "probability(lambda x: x[x.num_consecutive_bits == 3], consecutive_bits(num_experiments=100000, prob_failure=0.5))"
   ]
  },
  {
   "cell_type": "code",
   "execution_count": 34,
   "metadata": {
    "collapsed": false,
    "scrolled": true
   },
   "outputs": [
    {
     "data": {
      "text/plain": [
       "0.0625"
      ]
     },
     "execution_count": 34,
     "metadata": {},
     "output_type": "execute_result"
    }
   ],
   "source": [
    "# P(Y=4) = 0.5**4\n",
    "0.5**4"
   ]
  },
  {
   "cell_type": "code",
   "execution_count": 35,
   "metadata": {
    "collapsed": false,
    "scrolled": true
   },
   "outputs": [
    {
     "data": {
      "text/plain": [
       "0.06229"
      ]
     },
     "execution_count": 35,
     "metadata": {},
     "output_type": "execute_result"
    }
   ],
   "source": [
    "# P(Y=4)\n",
    "probability(lambda x: x[x.num_consecutive_bits == 4], consecutive_bits(num_experiments=100000, prob_failure=0.5))"
   ]
  },
  {
   "cell_type": "code",
   "execution_count": 36,
   "metadata": {
    "collapsed": false,
    "scrolled": true
   },
   "outputs": [
    {
     "data": {
      "text/plain": [
       "0.96115318039999986"
      ]
     },
     "execution_count": 36,
     "metadata": {},
     "output_type": "execute_result"
    }
   ],
   "source": [
    "# Var(Y)\n",
    "variance(consecutive_bits(num_experiments=100000, prob_failure=0.5), 'num_consecutive_bits')"
   ]
  },
  {
   "cell_type": "code",
   "execution_count": 37,
   "metadata": {
    "collapsed": false
   },
   "outputs": [],
   "source": [
    "def variance_consecutive_bits(prob_failure=0.5):\n",
    "    p = prob_failure\n",
    "    return 4*p*(1-p)**3 + 15*p**2*(1-p)**2 + 26*p**3*(1-p) + 16*p**4 \\\n",
    "        - (4*p*(1-p)**3 + 9*p**2*(1-p)**2 + 4*p**3*(1-p) + 6*p**3*(1-p) + 4*p**4)**2\n",
    "    "
   ]
  },
  {
   "cell_type": "code",
   "execution_count": 38,
   "metadata": {
    "collapsed": false,
    "scrolled": true
   },
   "outputs": [
    {
     "data": {
      "text/plain": [
       "0.96484375"
      ]
     },
     "execution_count": 38,
     "metadata": {},
     "output_type": "execute_result"
    }
   ],
   "source": [
    "# Var(Y)\n",
    "variance_consecutive_bits(prob_failure=0.5)"
   ]
  },
  {
   "cell_type": "markdown",
   "metadata": {},
   "source": [
    "# "
   ]
  },
  {
   "cell_type": "code",
   "execution_count": null,
   "metadata": {
    "collapsed": true
   },
   "outputs": [],
   "source": []
  },
  {
   "cell_type": "markdown",
   "metadata": {},
   "source": [
    "### 4. Derive $Var(W) = \\frac{1-p}{p^2}$.\n",
    "\n",
    "\\begin{equation}\n",
    "  \\begin{aligned}\n",
    "     E(W) = 1/p\n",
    "  \\end{aligned}\n",
    "\\end{equation}\n",
    "\n",
    "\\begin{equation}\n",
    "  \\begin{aligned}\n",
    "     E(W^2) = \\sum_{i=1}^{\\infty}i^2(1-p)^{(i-1)}p\n",
    "  \\end{aligned}\n",
    "\\end{equation}\n",
    "\n",
    "Let $1-p=q$:\n",
    "\n",
    "\\begin{equation}\n",
    "  \\begin{aligned}\n",
    "     E(W^2) &= \\sum_{i=1}^{\\infty}i^2(q)^{(i-1)}p + \\sum_{i=1}^{\\infty}i(q)^{(i-1)}p - \\sum_{i=1}^{\\infty}i(q)^{(i-1)}p \\\\\n",
    "     &= \\sum_{i=1}^{\\infty}i(i+1)(q)^{(i-1)}p - \\sum_{i=1}^{\\infty}i(q)^{(i-1)}p \\\\\n",
    "     &= p\\sum_{i=1}^{\\infty}i(i+1)(q)^{(i-1)} - p\\sum_{i=1}^{\\infty}i(q)^{(i-1)} \\\\\n",
    "  \\end{aligned}\n",
    "\\end{equation}\n",
    "\n",
    "Let's solve for $p\\sum_{i=1}^{\\infty}i(q)^{(i-1)}$:\n",
    "\n",
    "\\begin{equation}\n",
    "  \\begin{aligned}\n",
    "     \\sum_{i=1}^{\\infty}q^ip &= p\\sum_{i=1}^{\\infty}q^i \\\\\n",
    "     p\\sum_{i=1}^{\\infty}q^i) &= \\frac{p}{1-q} \\\\\n",
    "     \\frac{d}{dq}(p\\sum_{i=1}^{\\infty}q^i) &= \\frac{d}{dq}(\\frac{p}{1-q}) \\\\\n",
    "     (p\\sum_{i=1}^{\\infty}iq^{i-1})   &= \\frac{p}{(1-q)^2} \\\\\n",
    "     &= \\frac{p}{(1-(1-p))^2} \\\\\n",
    "     &= p/p^2 \\\\\n",
    "     &= 1/p\n",
    "  \\end{aligned}\n",
    "\\end{equation}\n",
    "\n",
    "So far, we've simplified a piece of $E(W^2)$:\n",
    "\n",
    "\\begin{equation}\n",
    "  \\begin{aligned}\n",
    "     E(W^2) &= p\\sum_{i=1}^{\\infty}i(i+1)(q)^{(i-1)} - p\\sum_{i=1}^{\\infty}i(q)^{(i-1)} \\\\\n",
    "            &=p\\sum_{i=1}^{\\infty}i(i+1)(q)^{(i-1)} - 1/p \\\\\n",
    "  \\end{aligned}\n",
    "\\end{equation}\n",
    "\n",
    "Let's then solve for $p\\sum_{i=1}^{\\infty}i(i+1)(q)^{(i-1)}$:\n",
    "\n",
    "\\begin{equation}\n",
    "  \\begin{aligned}\n",
    "     p\\sum_{j=1}^{\\infty}q^j &= \\frac{1}{1-q} \\\\\n",
    "          \\frac{d}{dq}(p\\sum_{j=1}^{\\infty}q^j) &= \\frac{d}{dq}(\\frac{1}{1-q}) \\\\\n",
    "          p\\sum_{j=1}^{\\infty}jq^{j-1}&= \\frac{1}{(1-q)^2} \\\\\n",
    "          \\frac{d}{dq}(p\\sum_{j=1}^{\\infty}jq^{j-1}) &= \\frac{d}{dq}(\\frac{1}{(1-q)^2}) \\\\\n",
    "           p\\sum_{j=1}^{\\infty}j(j-1)q^{j-2} &= \\frac{2}{(1-q)^3}\n",
    "  \\end{aligned}\n",
    "\\end{equation}\n",
    "\n",
    "Let $j=i-1$:\n",
    "\n",
    "\\begin{equation}\n",
    "  \\begin{aligned}\n",
    "     p\\sum_{i=1}^{\\infty}i(i+1)(q)^{(i-1)} &= p\\sum_{j=2}^{\\infty}(j-1)(j)(q)^{(j-2)} \\\\\n",
    "            &= p\\frac{2}{(1-q)^3} \\\\\n",
    "            &= p\\frac{2}{(1-(1-p))^3} \\\\\n",
    "            &= \\frac{2p}{p^3}\\\\\n",
    "            &= \\frac{2}{p^2} \\\\\n",
    "  \\end{aligned}\n",
    "\\end{equation}\n",
    "\n",
    "Thus:\n",
    "\n",
    "\\begin{equation}\n",
    "  \\begin{aligned}\n",
    "     E(W^2) &= p\\sum_{i=1}^{\\infty}i(i+1)(q)^{(i-1)} - p\\sum_{i=1}^{\\infty}i(q)^{(i-1)} \\\\\n",
    "            &= \\frac{2}{p^2} - 1/p \\\\\n",
    "            &= \\frac{2-p}{p^2} \\\\\n",
    "  \\end{aligned}\n",
    "\\end{equation}\n",
    "\n",
    "Therefore, $Var(W)$ is as follows:\n",
    "\n",
    "\\begin{equation}\n",
    "  \\begin{aligned}\n",
    "     Var(W) &= E(W^2) - E(W)^2 \\\\\n",
    "            &= \\frac{2-p}{p^2} - (\\frac{1}{p})^2 \\\\\n",
    "            &= \\frac{1-p}{p^2} \\\\\n",
    "  \\end{aligned}\n",
    "\\end{equation}\n",
    "\n"
   ]
  },
  {
   "cell_type": "markdown",
   "metadata": {},
   "source": [
    "### 5. Finish the computation in 4.18\n",
    "\n",
    " \n",
    "\\begin{equation}\n",
    "  \\begin{aligned}\n",
    "    ED &= \\sum_{i=1}^{10}(11-i)(1-0.15)^{i-1}0.15 + \\sum_{i=11}^{\\infty}(i-11)(1-0.15)^{i-1}0.15 \\\\\n",
    "    &= \\sum_{i=1}^{10}(11-i)(1-0.15)^{i-1}0.15 + \\sum_{i=1}^{\\infty}(i-11)(1-0.15)^{i-1}0.15 \\\\\n",
    "    &\\quad - \\sum_{i=1}^{10}(i-11)(1-0.15)^{i-1}0.15 \\\\\n",
    "    &= \\sum_{i=1}^{10}(11-i)(1-0.15)^{i-1}0.15 + \\sum_{i=1}^{\\infty}(i-11)(1-0.15)^{i-1}0.15 \\\\\n",
    "    &\\quad + \\sum_{i=1}^{10}(11-i)(1-0.15)^{i-1}0.15 \\\\\n",
    "    &= 2\\sum_{i=1}^{10}(11-i)(1-0.15)^{i-1}0.15 + \\sum_{i=1}^{\\infty}(i-11)(1-0.15)^{i-1}0.15 \\\\\n",
    "    &= 0.3\\sum_{i=1}^{10}(11-i)(1-0.15)^{i-1} + 0.15\\sum_{i=1}^{\\infty}(i-11)(1-0.15)^{i-1} \\\\\n",
    "    &= 0.3\\sum_{i=1}^{10}(11-i)(1-0.15)^{i-1} + 0.15(\\sum_{i=1}^{\\infty}(i)(1-0.15)^{i-1} - 11\\sum_{i=1}^{\\infty}(1-0.15)^{i-1}) \\\\\n",
    "    &= 0.3\\sum_{i=1}^{10}(11-i)(1-0.15)^{i-1} + 0.15(\\frac{1}{(1-(1-0.15))^2} - 11\\sum_{j=0}^{\\infty}(1-0.15)^{j}) \\\\\n",
    "    &= 0.3\\sum_{i=1}^{10}(11-i)(1-0.15)^{i-1} + 0.15(\\frac{1}{0.15^2} - \\frac{11}{0.15}) \\\\\n",
    "    &= 0.3\\sum_{i=1}^{10}(11-i)(1-0.15)^{i-1} + \\frac{1}{0.15} - 11  \\\\\n",
    "    &= 0.3\\sum_{i=1}^{10}(11-i)(1-0.15)^{i-1} + -4.\\overline{3} \\\\\n",
    "    &\\approx 10.897909915861522 - 4.\\overline{3} \\\\\n",
    "    &\\approx 6.56\n",
    "  \\end{aligned}\n",
    "\\end{equation}\n",
    "\n",
    "\n"
   ]
  },
  {
   "cell_type": "code",
   "execution_count": 39,
   "metadata": {
    "collapsed": false
   },
   "outputs": [
    {
     "data": {
      "text/plain": [
       "10.897909915861522"
      ]
     },
     "execution_count": 39,
     "metadata": {},
     "output_type": "execute_result"
    }
   ],
   "source": [
    "def sum_from_1_to_10_of_11_minus_i_times_1_minus_p_raised_to_i_minus_1_times_p(p=0.15, end=10):\n",
    "    _sum = 0\n",
    "    for i in range(1,end+1):\n",
    "        _sum += (11 - i)*(1-p)**(i-1)*p\n",
    "    return _sum\n",
    "2 * sum_from_1_to_10_of_11_minus_i_times_1_minus_p_raised_to_i_minus_1_times_p(p=0.15, end=10)"
   ]
  },
  {
   "cell_type": "code",
   "execution_count": 71,
   "metadata": {
    "collapsed": false
   },
   "outputs": [
    {
     "data": {
      "text/plain": [
       "num_parking_spaces             6.654932\n",
       "num_open_spaces_first_block    1.501024\n",
       "dist_from_dest                 6.557950\n",
       "dtype: float64"
      ]
     },
     "execution_count": 71,
     "metadata": {},
     "output_type": "execute_result"
    }
   ],
   "source": [
    "def park_sim(num_experiments=100000, p=0.15):\n",
    "    df = pd.DataFrame({'num_parking_spaces'\\\n",
    "                       : np.random.geometric(p=p, \n",
    "                                             size=num_experiments)})\n",
    "    df['num_open_spaces_first_block'] = np.random.binomial(n=10,\n",
    "                                                           p=p,\n",
    "                                                           size=num_experiments)\n",
    "    df['dist_from_dest'] = df.num_parking_spaces.apply(lambda x: abs(11-x))\n",
    "    return df\n",
    "\n",
    "park_sim(num_experiments=1000000).mean()"
   ]
  },
  {
   "cell_type": "code",
   "execution_count": 41,
   "metadata": {
    "collapsed": false,
    "scrolled": true
   },
   "outputs": [
    {
     "data": {
      "text/plain": [
       "0.05984402849592259"
      ]
     },
     "execution_count": 41,
     "metadata": {},
     "output_type": "execute_result"
    }
   ],
   "source": [
    "# P(D=1)\n",
    "(1-0.15)**(10-1)*.15 + (1-0.15)**(12-1)*0.15"
   ]
  },
  {
   "cell_type": "code",
   "execution_count": 42,
   "metadata": {
    "collapsed": false,
    "scrolled": true
   },
   "outputs": [
    {
     "data": {
      "text/plain": [
       "0.05957"
      ]
     },
     "execution_count": 42,
     "metadata": {},
     "output_type": "execute_result"
    }
   ],
   "source": [
    "probability(lambda x: x[x['dist_from_dest'] == 1], park_sim())"
   ]
  },
  {
   "cell_type": "markdown",
   "metadata": {},
   "source": [
    "### 6. Derive the facts that for a Poisson-distributed random variable $X$ with parameter $λ$, $EX = Var(X) = λ$. Use the hints in Section 4.5.\n",
    "\n",
    "$P(X=k) = \\frac{e^{−λ}λ^k}{k!}, k = 0,1,2,...$\n",
    "\n",
    "First let's show that $EX = \\lambda$:\n",
    "\n",
    "\\begin{equation}\n",
    "  \\begin{aligned}\n",
    "    e^λ &= \\sum_{k=0}^{\\infty}\\frac{λ^k}{k!} \\\\\n",
    "    \\frac{d}{dλ}(e^λ) &= \\frac{d}{dλ}(\\sum_{k=0}^{\\infty}\\frac{λ^k}{k!}) \\\\\n",
    "    e^λ &= \\sum_{k=0}^{\\infty}k\\frac{λ^{k-1}}{k!} \\\\\n",
    "    λe^{-λ}(e^λ) &= λe^{-λ}(\\sum_{k=0}^{\\infty}k\\frac{λ^{k-1}}{k!}) \\\\\n",
    "    λ &= \\sum_{k=0}^{\\infty}k\\frac{λ^{k}}{k!}e^{-λ} \\\\\n",
    "    &= \\sum_{k=0}^{\\infty}kP(X=k)\\\\\n",
    "    &= EX\n",
    "  \\end{aligned}\n",
    "\\end{equation}\n",
    "\n",
    "Then let's show that $Var(X) = \\lambda$:\n",
    "\n",
    "\\begin{equation}\n",
    "  \\begin{aligned}\n",
    "    Var(X) &= E(X^2) - E(X)^2 \\\\ \n",
    "    &= E(X^2) - \\lambda^2 \\\\\n",
    "  \\end{aligned}\n",
    "\\end{equation}\n",
    "\n",
    "Let's evaluate $E(X^2)$:\n",
    "\n",
    "\\begin{equation}\n",
    "  \\begin{aligned}\n",
    "        E(X^2) &= \\sum_{k=0}^{\\infty}k^2P(X=k)  \\\\\n",
    "    &= \\sum_{k=0}^{\\infty}k^2\\frac{e^{−λ}λ^k}{k!} \\\\\n",
    "    &= \\sum_{k=0}^{\\infty}k\\frac{e^{−λ}λ^k}{(k-1)!} \\\\\n",
    "    &= \\sum_{k=1}^{\\infty}k\\frac{e^{−λ}λ^k}{(k-1)!} && \\text{When $k=0$, term is 0}\\\\\n",
    "    &= \\lambda e^{−λ}\\sum_{k=1}^{\\infty}k\\frac{λ^{k-1}}{(k-1)!} && \\text{Factor out} \\\\\n",
    "    &= \\lambda e^{−λ}\\sum_{k=1}^{\\infty}(k-1)\\frac{λ^{k-1}}{(k-1)!} + \\lambda e^{-\\lambda}\\sum_{k=1}^{\\infty}\\frac{λ^{k-1}}{(k-1)!} \\\\\n",
    "    &= \\lambda e^{−λ}\\sum_{k=2}^{\\infty}(k-1)\\frac{λ^{k-1}}{(k-1)!} + \\lambda e^{-\\lambda}\\sum_{k=1}^{\\infty}\\frac{λ^{k-1}}{(k-1)!} && \\text{When $k=1$ for the first summation, it becomes $0$}\\\\\n",
    "    &= \\lambda e^{−λ}\\sum_{k=2}^{\\infty}\\frac{λ^{k-1}}{(k-2)!} + \\lambda e^{-\\lambda}\\sum_{k=1}^{\\infty}\\frac{λ^{k-1}}{(k-1)!} && \\text{Simplify the first term summation}\\\\\n",
    "    &= \\lambda^2 e^{−λ}\\sum_{k=2}^{\\infty}\\frac{λ^{k-2}}{(k-2)!} + \\lambda e^{-\\lambda}\\sum_{k=1}^{\\infty}\\frac{λ^{k-1}}{(k-1)!} && \\text{Extract $\\lambda$}\\\\    \n",
    "    &= \\lambda^2 e^{−λ}\\sum_{m=0}^{\\infty}\\frac{λ^{m}}{m!} + \\lambda e^{-\\lambda}\\sum_{n=0}^{\\infty}\\frac{λ^{n}}{n!} && \\text{Let $m=k-2$ and $n=k-1$}\\\\\n",
    "    &= \\lambda^2 e^{−λ}e^\\lambda + \\lambda e^{-\\lambda}e^\\lambda && \\text{Substitute}\\\\\n",
    "    &= \\lambda^2 + \\lambda\n",
    "  \\end{aligned}\n",
    "\\end{equation}\n",
    "\n",
    "Going back to $Var(X)$:\n",
    "\n",
    "\\begin{equation}\n",
    "  \\begin{aligned}\n",
    "    Var(X) &= E(X^2) - E(X)^2 \\\\ \n",
    "    &= E(X^2) - \\lambda^2 \\\\\n",
    "    &= \\lambda^2 + \\lambda - \\lambda^2 \\\\\n",
    "    &= \\lambda\n",
    "  \\end{aligned}\n",
    "\\end{equation}\n",
    "\n"
   ]
  },
  {
   "cell_type": "markdown",
   "metadata": {},
   "source": [
    "## 7. A civil engineer is collecting data on a certain road. She needs to have data on $25$ trucks, and $10$ percent of the vehicles on that road are trucks. State the famous parametric family that is relevant here, and find the probability that she will need to wait for more than $200$ vehicles to pass before she gets the needed data.\n",
    "\n",
    "Essentially, we want to get 24 trucks from the first 199 cars passing by. The 200th vehicle should be the 25th truck.\n",
    "\n",
    "We could use the negative binomial distribution here. Let $X$ be the amount of vehicles needed to get the 25th truck:\n",
    "\n",
    "\\begin{equation}\n",
    "\\begin{aligned}\n",
    "    P(X=200) &= {n - 1 \\choose k - 1}p^{k-1}(1-p)^{(n-1)-(k-1)}p \\\\\n",
    "    &= {200 - 1 \\choose 25 - 1}p^{25 - 1}(1-p)^{199-24}p \\\\\n",
    "        &= {200 - 1 \\choose 25 - 1}p^{25 - 1}(1-p)^{199-24}p \\\\\n",
    "        &\\approx 0.0056\n",
    "\\end{aligned}\n",
    "\\end{equation}"
   ]
  },
  {
   "cell_type": "code",
   "execution_count": 43,
   "metadata": {
    "collapsed": false
   },
   "outputs": [
    {
     "data": {
      "text/plain": [
       "0.0055545921220223208"
      ]
     },
     "execution_count": 43,
     "metadata": {},
     "output_type": "execute_result"
    }
   ],
   "source": [
    "# P(X=200)\n",
    "ms.comb(199,24)*0.1**24*(1-0.1)**(199-24)*0.1"
   ]
  },
  {
   "cell_type": "code",
   "execution_count": 44,
   "metadata": {
    "collapsed": false
   },
   "outputs": [
    {
     "data": {
      "text/plain": [
       "0.0055545921220225654"
      ]
     },
     "execution_count": 44,
     "metadata": {},
     "output_type": "execute_result"
    }
   ],
   "source": [
    "# P(X=200)\n",
    "prob_truck = 0.1\n",
    "num_trucks = 25\n",
    "nbinom = ss.nbinom(n=num_trucks, p=prob_truck)\n",
    "num_failures = 175\n",
    "nbinom.pmf(num_failures)"
   ]
  },
  {
   "cell_type": "markdown",
   "metadata": {},
   "source": [
    "## 8. In the ALOHA example:"
   ]
  },
  {
   "cell_type": "markdown",
   "metadata": {},
   "source": [
    "### (a) Find $E(X_1)$ and $Var(X_1)$, for the case $p = 0.4$, $q = 0.8$. You are welcome to use quantities already computed in the text, e.g. $P(X_1 = 1) = 0.48$, but be sure to cite equation numbers\n",
    "\n",
    "\\begin{equation}\n",
    "\\begin{aligned}\n",
    "E(X_1) &= 0P(X=0) + 1P(X=1) + 2P(X=2) \\\\\n",
    "&= 1 \\times 0.48 + 2 \\times 0.52 && \\text{See 2.1 for $P(X=2)$}\\\\ \n",
    "&= 1.52\n",
    "\\end{aligned}\n",
    "\\end{equation}\n",
    "\n",
    "\\begin{equation}\n",
    "\\begin{aligned}\n",
    "Var(X_1) &= E(X_1^2) - E(X_1)^2 \\\\\n",
    "&= 0^2P(X=0) + 1^2P(X=1) + 2^2P(X=2) - 1.52^2\\\\\n",
    "&= 1 \\times 0.48 + 4 \\times 0.52 - 2.3104\\\\ \n",
    "&= 0.2496\n",
    "\\end{aligned}\n",
    "\\end{equation}\n",
    "\n"
   ]
  },
  {
   "cell_type": "code",
   "execution_count": 45,
   "metadata": {
    "collapsed": false
   },
   "outputs": [
    {
     "data": {
      "text/plain": [
       "1.52"
      ]
     },
     "execution_count": 45,
     "metadata": {},
     "output_type": "execute_result"
    }
   ],
   "source": [
    "# E(X)\n",
    "1*0.48 + 2*0.52"
   ]
  },
  {
   "cell_type": "code",
   "execution_count": 46,
   "metadata": {
    "collapsed": false
   },
   "outputs": [
    {
     "data": {
      "text/plain": [
       "2.3104"
      ]
     },
     "execution_count": 46,
     "metadata": {},
     "output_type": "execute_result"
    }
   ],
   "source": [
    "# E(X)^2\n",
    "1.52**2"
   ]
  },
  {
   "cell_type": "code",
   "execution_count": 47,
   "metadata": {
    "collapsed": false
   },
   "outputs": [
    {
     "data": {
      "text/plain": [
       "0.24960000000000004"
      ]
     },
     "execution_count": 47,
     "metadata": {},
     "output_type": "execute_result"
    }
   ],
   "source": [
    "# Var(X)\n",
    "0.48 + 4*0.52 - 2.3104"
   ]
  },
  {
   "cell_type": "markdown",
   "metadata": {},
   "source": [
    "###(b) Find $P(\\text{collision during epoch 1})$ for general $p$, $q$.\n",
    "\n",
    "Given that in the beginning both nodes were active, collision during epoch 1 could only happen when both active nodes were to send at the same time, e.g. $p^2$."
   ]
  },
  {
   "cell_type": "markdown",
   "metadata": {},
   "source": [
    "## 9. Our experiment is to toss a nickel until we get a head, taking $X$ rolls, and then toss a dime until we get a head, taking $Y$ tosses. Find:"
   ]
  },
  {
   "cell_type": "markdown",
   "metadata": {},
   "source": [
    "### (a) $Var(X+Y)$\n",
    "\n",
    "\\begin{equation}\n",
    "\\begin{aligned}\n",
    "Var(X + Y) &= Var(X) + Var(Y) + 2Cov(X,Y) && \\text{Definition} \\\\\n",
    "&= Var(X) + Var(Y) && \\text{$2Cov(X,Y) = 0$ because X and Y are independent}\\\\\n",
    "&= \\frac{1-p}{p^2} + \\frac{1-q}{q^2} && \\text{Both are geometric distributions}\\\\ \n",
    "&= \\frac{0.5}{0.25} + \\frac{0.5}{0.25} && \\text{Both coins are assumed to be fair coins}\\\\\n",
    "&= 2 + 2 \\\\\n",
    "&= 4\n",
    "\\end{aligned}\n",
    "\\end{equation}\n"
   ]
  },
  {
   "cell_type": "code",
   "execution_count": 48,
   "metadata": {
    "collapsed": false,
    "scrolled": false
   },
   "outputs": [
    {
     "data": {
      "text/plain": [
       "3.9994258066309989"
      ]
     },
     "execution_count": 48,
     "metadata": {},
     "output_type": "execute_result"
    }
   ],
   "source": [
    "def toss_nickel_and_dime(num_experiments=10000):\n",
    "    X = np.random.geometric(p=0.5, size=num_experiments)\n",
    "    Y = np.random.geometric(p=0.5, size=num_experiments)\n",
    "    \n",
    "    return pd.DataFrame({'X+Y': X+Y, 'X': X, 'X**2': X**2})  \n",
    "\n",
    "variance(toss_nickel_and_dime(num_experiments=1000000), 'X+Y')"
   ]
  },
  {
   "cell_type": "markdown",
   "metadata": {},
   "source": [
    "### (b) Long-run average in a “notebook” column labeled $X^2$.\n",
    "\n",
    "$E(X^2) \\approx 5.99$"
   ]
  },
  {
   "cell_type": "code",
   "execution_count": 49,
   "metadata": {
    "collapsed": false
   },
   "outputs": [
    {
     "data": {
      "text/plain": [
       "X       1.998646\n",
       "X**2    5.980706\n",
       "X+Y     3.999462\n",
       "dtype: float64"
      ]
     },
     "execution_count": 49,
     "metadata": {},
     "output_type": "execute_result"
    }
   ],
   "source": [
    "expected_value(toss_nickel_and_dime(num_experiments=1000000))"
   ]
  },
  {
   "cell_type": "markdown",
   "metadata": {},
   "source": [
    "## 10. Consider the game in Section 4.8. Find $E(Z)$ and $Var(Z)$, where $Z = Y_6 − X_6$.\n",
    "\n",
    "\\begin{equation}\n",
    "\\begin{aligned}\n",
    "Z &= Y_6 - X_6 \\\\\n",
    "E(Z) &= E(Y_6 - X_6) \\\\\n",
    "&= E(Y_6) - E(X_6) \\\\\n",
    "&= (4p) - (6p) \\\\\n",
    "&= -2p \\\\\n",
    "&= -2(0.5) \\\\\n",
    "&= -1\n",
    "\\end{aligned}\n",
    "\\end{equation}"
   ]
  },
  {
   "cell_type": "markdown",
   "metadata": {},
   "source": [
    "Note that $Y_6$ stands for the number of heads Jill gets in 6 rounds (4 tosses). $X_6$ is the number of heads Jack gets in 6 rounds (6 tosses)."
   ]
  },
  {
   "cell_type": "code",
   "execution_count": 50,
   "metadata": {
    "collapsed": false
   },
   "outputs": [
    {
     "data": {
      "text/plain": [
       "Z   -1.000332\n",
       "dtype: float64"
      ]
     },
     "execution_count": 50,
     "metadata": {},
     "output_type": "execute_result"
    }
   ],
   "source": [
    "def jack_and_jill_toss(num_experiments=10000):\n",
    "    X = np.random.binomial(n=6, p=0.5, size=num_experiments)\n",
    "    Y = np.random.binomial(n=4, p=0.5, size=num_experiments)\n",
    "    \n",
    "    return pd.DataFrame({'Z': Y-X})  \n",
    "\n",
    "expected_value(jack_and_jill_toss(num_experiments=1000000))"
   ]
  },
  {
   "cell_type": "markdown",
   "metadata": {},
   "source": [
    "\\begin{equation}\n",
    "\\begin{aligned}\n",
    "Z &= Y_6 - X_6 \\\\\n",
    "Var(Z) &= Var(Y_6 - X_6) \\\\\n",
    "&= Var(Y_6) + Var(-X_6) + 2Cov(Y_6, -X_6) \\\\\n",
    "&= Var(Y_6) + Var(-X_6) && \\text{Jack's tosses are independent from Jill's} \\\\\n",
    "&= 4p(1-p) + (-1)^2 6p(1-p) && \\text{See Equation 3.49} \\\\\n",
    "&= 10p(1-p) \\\\\n",
    "&= 10(0.5)(1-(0.5)) && \\text{Assuming fair coins} \\\\\n",
    "&= 2.5\n",
    "\\end{aligned}\n",
    "\\end{equation}"
   ]
  },
  {
   "cell_type": "code",
   "execution_count": 51,
   "metadata": {
    "collapsed": false
   },
   "outputs": [
    {
     "data": {
      "text/plain": [
       "array([ 0.,  0.,  0.,  0.,  0.,  1.,  2.,  0.])"
      ]
     },
     "execution_count": 51,
     "metadata": {},
     "output_type": "execute_result"
    }
   ],
   "source": [
    "np.insert(arr=np.zeros(6),obj=5,values=[1,2])"
   ]
  },
  {
   "cell_type": "code",
   "execution_count": 52,
   "metadata": {
    "collapsed": false
   },
   "outputs": [
    {
     "data": {
      "text/plain": [
       "2.50684079"
      ]
     },
     "execution_count": 52,
     "metadata": {},
     "output_type": "execute_result"
    }
   ],
   "source": [
    "variance(jack_and_jill_toss(), 'Z')"
   ]
  },
  {
   "cell_type": "markdown",
   "metadata": {},
   "source": [
    "## 11. Say we choose six cards from a standard deck, one at a time WITHOUT replacement. Let $N$ be the number of kings we get. Does $N$ have a binomial distribution? Choose one: (i) Yes. (ii) No, since trials are not independent. (iii) No, since the probability of success is not constant from trial to trial. (iv) No, since the number of trials is not fixed. (v) (ii) and (iii). (iv) (ii) and (iv). (vii) (iii) and (iv).\n",
    "\n",
    "We know that trials are not independent. For example, if we happen to pick a king for the first card, then we know that there is one less king in the deck, and thus the probability of getting a king in the second pick is totally dependent on the first, so that eliminates the first option.\n",
    "\n",
    "The probability of success is not constant from trial to trial. This is just another way of rephasing the previous statement. Again, if you pick a king on the first trial, we know that the probability of getting a king later on is smaller.\n",
    "\n",
    "Number of trials is fixed. It is always 6, so the fourth option is not true.\n",
    "\n",
    "Thus the answer should be the fifth option: (ii) and (iii)."
   ]
  },
  {
   "cell_type": "markdown",
   "metadata": {},
   "source": [
    "## 12. Suppose we have $n$ independent trials, with the probability of success on the $i^{th}$ trial being $p_i$. Let $X = \\text{the number of successes}$. Use the fact that “the variance of the sum is the sum of the variance” for independent random variables to derive $Var(X)$."
   ]
  },
  {
   "cell_type": "markdown",
   "metadata": {},
   "source": [
    "\\begin{equation}\n",
    "\\begin{aligned}\n",
    "p_0 &= p_1 = ... = p_n && \\text{because each trial is independent of the others}\\\\\n",
    "X &= B_1 + B_2 + ... + B_n && \\text{$B_i$ is the i$^{th}$ indicator variable, with probability $p$} \\\\\n",
    "Var(X) &= Var(B_1 + B_2 + ... + B_n) \\\\\n",
    "&= Var(B_1) + Var(B_2) + ... + Var(B_n) \\\\ \n",
    "&= nVar(B) && \\text{Since each indicator variable has the same probability $p$ of being true.}\\\\ \n",
    "&= np(1-p) && \\text{See right below for details} \\\\\n",
    "\\end{aligned}\n",
    "\\end{equation}"
   ]
  },
  {
   "cell_type": "markdown",
   "metadata": {},
   "source": [
    "\\begin{equation}\n",
    "\\begin{aligned}\n",
    "Var(B) &= E(B^2) - E(B)^2 \\\\\n",
    "&= (0^2P(B=0) + 1^2P(B=1)) - E(B)^2 \\\\\n",
    "&= P(B=1) - E(B)^2 \\\\\n",
    "&= p - E(B)^2 \\\\\n",
    "&= p - (0P(B=0) + 1P(B=1))^2 \\\\\n",
    "&= p - p^2 \\\\\n",
    "&= p(1-p) \\\\\n",
    "\\end{aligned}\n",
    "\\end{equation}"
   ]
  },
  {
   "cell_type": "markdown",
   "metadata": {},
   "source": [
    "## 13. Prove Equation 3.41\n",
    "\n",
    "\\begin{equation}\n",
    "\\begin{aligned}\n",
    "Var(U) &= E((U-EU)^2) \\\\\n",
    "&= E(U^2 - UEU - UEU + (EU)^2) \\\\\n",
    "&= E(U^2 - 2UEU + (EU)^2) \\\\\n",
    "&= E(U^2 - 2UEU + EUEU) \\\\\n",
    "&= E(U^2) - E(2UEU) + E(EUEU) \\\\\n",
    "&= E(U^2) - 2EU(E(U)) + E(EUEU) && \\text{factor out constants}\\\\\n",
    "&= E(U^2) - 2EUEU + EUEU && \\text{expected value of a constant is itself}\\\\\n",
    "&= E(U^2) - 2E(U)^2 + E(U)^2 \\\\ \n",
    "&= E(U^2) - E(U)^2 \\\\\n",
    "\\end{aligned}\n",
    "\\end{equation}"
   ]
  },
  {
   "cell_type": "markdown",
   "metadata": {},
   "source": [
    "## 14. Show that if X is a nonnegative-integer valued random variable, then\n",
    "\n",
    "\\begin{equation}\n",
    "\\begin{aligned}\n",
    "    EX = \\sum_{i=1}^{\\infty}P(X \\geq i)\n",
    "\\end{aligned}\n",
    "\\end{equation}\n",
    "\n",
    "Hint: Write $i = \\sum_{j=1}^i1$, and when you see an iterated sum, reverse the order of summation."
   ]
  },
  {
   "cell_type": "markdown",
   "metadata": {},
   "source": [
    "\\begin{equation}\n",
    "\\begin{aligned}\n",
    "    \\sum_{i=1}^{\\infty}P(X \\geq i) &= P(X\\geq1) + P(X\\geq2) + P(X\\geq3) + ... \\\\\n",
    "    &= P(X=1)+P(X=2)+P(X=3)+ ... && P(X\\geq1) \\\\\n",
    "    &\\quad\\quad\\quad\\quad + P(X=2)+P(X=3)+ ... && P(X\\geq2)  \\\\\n",
    "    &\\quad\\quad\\quad\\quad\\quad\\quad\\quad\\quad + P(X=3)+ ... && P(X\\geq3) \\\\\n",
    "    &= 1P(X=1) + 2P(X=2) + 3P(X=3) + ... \\\\\n",
    "    &= \\sum_{i=1}^{\\infty}iP(X=i)\\\\\n",
    "    &= EX \\\\\n",
    "\\end{aligned}\n",
    "\\end{equation}"
   ]
  },
  {
   "cell_type": "code",
   "execution_count": 53,
   "metadata": {
    "collapsed": false
   },
   "outputs": [
    {
     "data": {
      "text/plain": [
       "0.02522501817837652"
      ]
     },
     "execution_count": 53,
     "metadata": {},
     "output_type": "execute_result"
    }
   ],
   "source": [
    "ms.comb(1000,500)*0.5**1000"
   ]
  },
  {
   "cell_type": "markdown",
   "metadata": {},
   "source": [
    "## 15. Suppose we toss a fair coin n times, resulting in X heads. Show that the term expected value is a misnomer, by showing that\n",
    "\n",
    "\\begin{equation}\n",
    "\\begin{aligned}\n",
    "    \\lim_{n \\to \\infty}P(X=n/2)=0\n",
    "\\end{aligned}\n",
    "\\end{equation}\n",
    "\n",
    "## Use Stirling's approximation,\n",
    "\n",
    "\\begin{equation}\n",
    "\\begin{aligned}\n",
    "    k! = \\sqrt{2\\pi k}\\left(\\frac{k}{e}\\right)^k\n",
    "\\end{aligned}\n",
    "\\end{equation}"
   ]
  },
  {
   "cell_type": "markdown",
   "metadata": {},
   "source": [
    "Expected Value:\n",
    "\n",
    "\\begin{equation}\n",
    "\\begin{aligned}\n",
    "    E(X) &= \\sum_{i=1}^{\\infty}iP(X=i) \\\\\n",
    "    &= np && \\text{Expected value of binomial distribution}\\\\\n",
    "    &= n/2\n",
    "\\end{aligned}\n",
    "\\end{equation}"
   ]
  },
  {
   "cell_type": "markdown",
   "metadata": {},
   "source": [
    "Probability Mass Function of Binomial Distribution:\n",
    "\n",
    "\\begin{equation}\n",
    "\\begin{aligned}\n",
    "    P(X=k) &= {n \\choose k}p^k(1-p)^{n-k} \\\\\n",
    "    P(X=n/2) &= {n \\choose n/2}p^{n/2}(1-p)^{n-n/2} && \\text{Substitute $n/2$ for $k$}\\\\\n",
    "    &= {n \\choose n/2}0.5^{n/2}0.5^{n/2} && \\text{Fair coin assumption}\\\\\n",
    "    &= {n \\choose n/2}0.5^{n} \\\\\n",
    "    &= \\frac{n!}{(n-n/2)!(n/2)!}0.5^n \\\\\n",
    "        &= \\frac{n!}{((n/2)!)^2}0.5^n \\\\\n",
    "    &= \\frac{\\sqrt{2\\pi n}\\left(\\frac{n}{e}\\right)^n}{(\\sqrt{2\\pi n/2}\\left(\\frac{n/2}{e}\\right)^{n/2})^2}0.5^{n} && \\text{Use Stirling's approximation} \\\\\n",
    "    &= \\frac{\\sqrt{2\\pi n}\\left(\\frac{n}{e}\\right)^n}{\\pi n\\left(\\frac{n/2}{e}\\right)^{n}}0.5^{n} \\\\\n",
    "    &= \\frac{\\sqrt{2\\pi n}\\left(\\frac{n}{e}\\right)^n}{\\pi n\\left(\\frac{n/2}{e}\\right)^{n}}0.5^{n} \\\\\n",
    "    &= \\frac{\\sqrt{2\\pi n}\\left(\\frac{n/2}{e}\\right)^n}{\\pi n\\left(\\frac{n/2}{e}\\right)^{n}} \\\\\n",
    "    &= \\frac{\\sqrt{2\\pi n}}{\\pi n} \\\\\n",
    "    \\lim_{n \\to \\infty}P(X=n/2) &= \\lim_{n \\to \\infty} \\frac{\\sqrt{2\\pi n}}{\\pi n} \\\\\n",
    "    &= 0\n",
    "\\end{aligned}\n",
    "\\end{equation}"
   ]
  },
  {
   "cell_type": "markdown",
   "metadata": {},
   "source": [
    "## 16. Suppose $X$ and $Y$ are independent random variables with standard deviations $3$ and $4$, respectively.\n",
    "\n",
    "### (a) Find $Var(X+Y)$.\n",
    "\n",
    "\\begin{equation}\n",
    "\\begin{aligned}\n",
    "    Var(X+Y) &= Var(X) + Var(Y) + 2Cov(X,Y) \\\\\n",
    "    &= Var(X) + Var(Y) && \\text{X and Y are independent} \\\\\n",
    "    &= 3 + 4 \\\\\n",
    "    &= 7\n",
    "\\end{aligned}\n",
    "\\end{equation}"
   ]
  },
  {
   "cell_type": "markdown",
   "metadata": {},
   "source": [
    "### (b) Find $Var(2X - Y)$.\n",
    "\n",
    "\\begin{equation}\n",
    "\\begin{aligned}\n",
    "    Var(2X-Y) &= (2)^2Var(X) + (-1)^2Var(Y) + 2(2)(-1)Cov(X,Y) \\\\\n",
    "    &= 4Var(X) + Var(Y) && \\text{X and Y are independent} \\\\\n",
    "    &= 4(3)+ 4 \\\\\n",
    "    &= 16\n",
    "\\end{aligned}\n",
    "\\end{equation}"
   ]
  },
  {
   "cell_type": "markdown",
   "metadata": {},
   "source": [
    "## 18. Let $X$ be the total number of dots we get if we roll three dice. Find an upper bound for $P(X \\geq 15)$, using our course materials.\n",
    "\n",
    "\\begin{equation}\n",
    "\\begin{aligned}\n",
    "    P(X \\geq d) &\\leq \\frac{EX}{d} && \\text{Markov's Inequality} \\\\\n",
    "    P(X \\geq 15) &\\leq \\frac{EX}{15} && \\text{d=15} \\\\\n",
    "    & \\leq \\frac{E(A+B+C)}{15} && \\text{$A$, $B$, $C$ are the number of dots on each specific die} \\\\\n",
    "    & \\leq \\frac{E(A) + E(B) + E(C)}{15} \\\\\n",
    "    & \\leq \\frac{3.5 + 3.5 + 3.5}{15} && \\text{Each roll has an expected value of 3.5}\\\\\n",
    "    & \\leq \\frac{10.5}{15} && \\text{Each roll has an expected value of 3.5}\\\\\n",
    "    & \\leq 0.7 \\\\\n",
    "\\end{aligned}\n",
    "\\end{equation}\n"
   ]
  },
  {
   "cell_type": "code",
   "execution_count": 57,
   "metadata": {
    "collapsed": true
   },
   "outputs": [],
   "source": [
    "def sum_three_dice_rolls(num_experiments=10000):\n",
    "    def roll_die():\n",
    "        vals = [1,2,3,4,5,6]\n",
    "        return np.random.permutation(vals)[0]\n",
    "    \n",
    "    results = []\n",
    "    for i in range(num_experiments):\n",
    "        results.append(roll_die() + roll_die() + roll_die())\n",
    "        \n",
    "    return pd.DataFrame({'sum_three_dice_rolls': results})\n",
    "        "
   ]
  },
  {
   "cell_type": "code",
   "execution_count": 59,
   "metadata": {
    "collapsed": false
   },
   "outputs": [
    {
     "data": {
      "text/plain": [
       "0.0891"
      ]
     },
     "execution_count": 59,
     "metadata": {},
     "output_type": "execute_result"
    }
   ],
   "source": [
    "# should be less than or equal to 0.7\n",
    "probability(lambda x: x[x['sum_three_dice_rolls'] >= 15], sum_three_dice_rolls())"
   ]
  },
  {
   "cell_type": "markdown",
   "metadata": {},
   "source": [
    "## 19. Suppose $X$ and $Y$ are independent random variables, and let $Z = XY$. Show that $Var(Z) = E(X^2)E(Y^2) − [E(X)]^2[E(Y )]^2$."
   ]
  },
  {
   "cell_type": "markdown",
   "metadata": {},
   "source": [
    "\\begin{equation}\n",
    "\\begin{aligned}\n",
    "    E(AB) &= \\sum_j \\sum_k jkP(A=j, B=k) \\\\\n",
    "    &= \\sum_j \\sum_k jkP(A=j)P(B=k) && \\text{by independence assumption} \\\\\n",
    "    &= \\sum_j jP(A=j) \\sum_k kP(B=k) \\\\\n",
    "    &= E(A)E(B) && \\text{Expected value of two independent random variables}\n",
    "\\end{aligned}\n",
    "\\end{equation}\n",
    "\n",
    "\\begin{equation}\n",
    "\\begin{aligned}\n",
    "    Var(Z) &= E(Z^2)-E(Z)^2 \\\\\n",
    "    Var(XY) &= E((XY)^2) - E(XY)^2 \\\\\n",
    "    &= E(X^2Y^2) - E(XY)E(XY) \\\\\n",
    "    &= E(X^2)E(Y^2) - E(XY)E(XY) && \\text{Use expected value of two independent random variables}\\\\\n",
    "    &= E(X^2)E(Y^2) - E(X)E(Y)E(X)E(Y) && \\text{Again, use expected value of two independent random variables}\\\\\n",
    "    &= E(X^2)E(Y^2) - E(X)^2E(Y)^2\n",
    "\\end{aligned}\n",
    "\\end{equation}"
   ]
  },
  {
   "cell_type": "markdown",
   "metadata": {},
   "source": [
    "## 20. This problem involves a very simple model of the Web. (Far more complex ones exist.) \n",
    "## Suppose we have $n$ Websites. For each pair of sites $i$ and $j$, $i \\neq j$, there is a link from site $i$ to site $j$ with probability $p$, and no link (in that direction) with probability $1-p$. Let $N_i$ denote the number of sites that site $i$ is linked to; note that $N_i$ can range from $0$ to $n-1$. Also, let $M_{ij}$ denote the number of outgoing links that sites $i$ and $j$ have in common, not counting the one between them, if any. Assume that each site forms its outgoing links independently of the others.\n",
    "\n",
    "Say n = 10, p = 0.2. Find the following:"
   ]
  },
  {
   "cell_type": "markdown",
   "metadata": {},
   "source": [
    "### (a) $P(N_1 =3)$\n",
    "\n",
    "\\begin{equation}\n",
    "\\begin{aligned}\n",
    "    P(N_1 = k) &= {n \\choose k}p^k(1-p)^{n-k} \\\\\n",
    "    P(N_1 = 3) &= {10 \\choose 3}0.2^3(1-0.2)^{10-3} \\\\\n",
    "    &\\approx 0.2013\n",
    "\\end{aligned}\n",
    "\\end{equation}"
   ]
  },
  {
   "cell_type": "code",
   "execution_count": 63,
   "metadata": {
    "collapsed": false
   },
   "outputs": [
    {
     "data": {
      "text/plain": [
       "0.20132659200000017"
      ]
     },
     "execution_count": 63,
     "metadata": {},
     "output_type": "execute_result"
    }
   ],
   "source": [
    "def prob_sites_links_to(num_sites=3):\n",
    "    binom = ss.binom(n=10, p=0.2)\n",
    "    return binom.pmf(num_sites)\n",
    "\n",
    "prob_sites_links_to(num_sites=3)"
   ]
  },
  {
   "cell_type": "code",
   "execution_count": 61,
   "metadata": {
    "collapsed": false,
    "scrolled": false
   },
   "outputs": [
    {
     "data": {
      "text/plain": [
       "0.20132659200000011"
      ]
     },
     "execution_count": 61,
     "metadata": {},
     "output_type": "execute_result"
    }
   ],
   "source": [
    "ms.comb(10,3)*0.2**3*0.8**7"
   ]
  },
  {
   "cell_type": "markdown",
   "metadata": {},
   "source": [
    "### (b) $P(N_1 = 3 \\text{ and } N_2 = 2)$\n",
    "\n",
    "\\begin{equation}\n",
    "\\begin{aligned}\n",
    "    P(N_1 = 3 \\text{ and } N_2 = 2) &= P(N_1 = 3)P(N_2 = 2) && \\text{Independence assumption} \\\\\n",
    "    &= 0.2013... \\times {10 \\choose 2}0.2^2(1-0.2)^{10-2} \\\\\n",
    "    &\\approx 0.061\n",
    "\\end{aligned}\n",
    "\\end{equation}"
   ]
  },
  {
   "cell_type": "code",
   "execution_count": 64,
   "metadata": {
    "collapsed": false
   },
   "outputs": [
    {
     "data": {
      "text/plain": [
       "0.060798594969501733"
      ]
     },
     "execution_count": 64,
     "metadata": {},
     "output_type": "execute_result"
    }
   ],
   "source": [
    "prob_sites_links_to(num_sites=3) * prob_sites_links_to(num_sites=2) "
   ]
  },
  {
   "cell_type": "markdown",
   "metadata": {},
   "source": [
    "### (c) $Var(N_1)$\n",
    "\n",
    "\\begin{equation}\n",
    "\\begin{aligned}\n",
    "    Var(N_1) &= np(1-p) && \\text{Variance of Binomial Distribution} \\\\\n",
    "    &= 10(0.2)(0.8) \\\\\n",
    "    &= 1.6\n",
    "\\end{aligned}\n",
    "\\end{equation}"
   ]
  },
  {
   "cell_type": "markdown",
   "metadata": {},
   "source": [
    "### (d) $Var(N_1 + N_2)$\n",
    "\n",
    "\\begin{equation}\n",
    "\\begin{aligned}\n",
    "    Var(N_1 + N_2) &= Var(N_1) + Var(N_2) && \\text{$N_1$ and $N_2$ are independent} \\\\\n",
    "    &= 1.6+1.6 \\\\\n",
    "    &= 3.2\n",
    "\\end{aligned}\n",
    "\\end{equation}\n",
    "\n",
    "## Note: There are some good shortcuts in some of these problems, making the work much easier.\n",
    "But you must JUSTIFY your work."
   ]
  },
  {
   "cell_type": "markdown",
   "metadata": {},
   "source": [
    "## 21. Let $X$ denote the number of heads we get by tossing a coin $50$ times. Consider Chebychev’s Inequality for the case of $2$ standard deviations. Compare the upper bound given by the inequality to the exact probability."
   ]
  },
  {
   "cell_type": "markdown",
   "metadata": {},
   "source": [
    "\\begin{equation}\n",
    "\\begin{aligned}\n",
    "    P(\\left| X-\\mu \\right| \\geq c \\sigma) &\\leq \\frac{1}{c^2} && \\text{Chebyshev's Inequality} \\\\\n",
    "    P(\\left| X-\\mu \\right| \\geq 2 \\sigma) &\\leq \\frac{1}{2^2} \\\\\n",
    "    P(\\left| X-\\mu \\right| \\geq 2 \\sqrt{\\sigma^2}) &\\leq \\frac{1}{4} \\\\\n",
    "    P(\\left| X-\\mu \\right| \\geq 2 \\sqrt{np(1-p)}) &\\leq && \\text{Variance of binomial distribution} \\\\\n",
    "    P(\\left| X-\\mu \\right| \\geq 2 \\sqrt{50(0.5)(0.5)}) &\\leq && \\text{n=50, p=0.5} \\\\\n",
    "    P(\\left| X-\\mu \\right| \\geq 5\\sqrt{2}) &\\leq \\\\\n",
    "    P(\\left| X-(np)\\right| \\geq 5\\sqrt{2}) &\\leq && \\text{Expected Value of binomial distribution} \\\\\n",
    "    P(X \\geq 25 + 5\\sqrt{2}) &\\leq \\\\\n",
    "    P(X \\geq 25 + 7.07...) &\\leq \\\\\n",
    "    P(X \\geq 32.07...) &\\leq \\\\\n",
    "    P(X \\geq 33) &\\leq \\\\\n",
    "    0.016... &\\leq\n",
    "\\end{aligned}\n",
    "\\end{equation}\n",
    "\n"
   ]
  },
  {
   "cell_type": "code",
   "execution_count": 68,
   "metadata": {
    "collapsed": true
   },
   "outputs": [],
   "source": [
    "def prob_geq_33_heads(num_tosses=50):\n",
    "    def prob_coin_tosses(num_heads=33, num_tosses=50):\n",
    "        binom = ss.binom(n=50, p=0.5)\n",
    "        return binom.pmf(num_heads)\n",
    "    \n",
    "    total_prob = 0.0\n",
    "    for i in range(33, num_tosses+1):\n",
    "        total_prob += prob_coin_tosses(num_heads=i, num_tosses=num_tosses)\n",
    "        \n",
    "    return total_prob"
   ]
  },
  {
   "cell_type": "code",
   "execution_count": 69,
   "metadata": {
    "collapsed": false
   },
   "outputs": [
    {
     "data": {
      "text/plain": [
       "0.016419568782134037"
      ]
     },
     "execution_count": 69,
     "metadata": {},
     "output_type": "execute_result"
    }
   ],
   "source": [
    "prob_geq_33_heads(num_tosses=50)"
   ]
  },
  {
   "cell_type": "markdown",
   "metadata": {},
   "source": [
    "## 22. Suppose the number $N$ of cars arriving during a given time period at a toll booth has a Poisson distribution with parameter $\\lambda$. Each car has a probability $p$ of being in a car pool. Let $M$ be the number of car-pool cars that arrive in the given period. Show that $M$ also has a Poisson distribution, with parameter $p\\lambda$. (Hint: Use the Maclaurin series for $e^x$.)"
   ]
  },
  {
   "cell_type": "markdown",
   "metadata": {},
   "source": [
    "\\begin{equation}\n",
    "\\begin{aligned}\n",
    "    P(X=k) &= \\frac{e^{-\\lambda}\\lambda^k}{k!}, k=0,1,2,...\n",
    "\\end{aligned}\n",
    "\\end{equation}"
   ]
  },
  {
   "cell_type": "markdown",
   "metadata": {},
   "source": [
    "\\begin{equation}\n",
    "\\begin{aligned}\n",
    "    e^\\lambda = \\sum_{k=0}^{\\infty} \\frac{\\lambda^k}{k!}\n",
    "\\end{aligned}\n",
    "\\end{equation}"
   ]
  },
  {
   "cell_type": "markdown",
   "metadata": {},
   "source": [
    "\\begin{equation}\n",
    "\\begin{aligned}\n",
    "    P(M=k) &= \\sum_{n=0}^{\\infty}P(M=k|N=n)P(N=n) \\\\\n",
    "    &= \\sum_{n=0}^{\\infty}{n \\choose k}p^k(1-p)^{n-k}\\frac{e^{-\\lambda}\\lambda^n}{n!} \\\\\n",
    "    &= \\sum_{n=k}^{\\infty}{n \\choose k}p^k(1-p)^{n-k}\\frac{e^{-\\lambda}\\lambda^n}{n!} && \\text{n has to be at least k}\\\\\n",
    "    &= \\sum_{n=k}^{\\infty}\\frac{n!}{(n-k)!k!}p^k(1-p)^{n-k}\\frac{e^{-\\lambda}\\lambda^n}{n!} \\\\\n",
    "    &= \\sum_{n=k}^{\\infty}\\frac{p^k(1-p)^{n-k}e^{-\\lambda}\\lambda^n}{(n-k)!k!} \\\\\n",
    "    &= \\sum_{n=k}^{\\infty}\\frac{p^k(1-p)^{n-k}e^{-\\lambda}\\lambda^k\\lambda^{n-k}}{(n-k)!k!} \\\\\n",
    "    &= \\sum_{n=k}^{\\infty}\\frac{e^{-\\lambda}p^k\\lambda^k}{k!}\\frac{(1-p)^{n-k}\\lambda^{n-k}}{(n-k)!} \\\\\n",
    "    &= \\frac{e^{-\\lambda}(p\\lambda)^k}{k!}\\sum_{n=k}^{\\infty}\\frac{((1-p)\\lambda)^{n-k}}{(n-k)!}  && \\text{Use Maclaurin Series for $e^x$}\\\\\n",
    "    &= \\frac{e^{-\\lambda}(p\\lambda)^k}{k!}e^{(1-p)\\lambda} \\\\\n",
    "    &= \\frac{e^{-\\lambda}(p\\lambda)^k}{k!}e^\\lambda e^{-\\lambda p} \\\\\n",
    "    &= \\frac{e^{-(p\\lambda)}(p\\lambda)^k}{k!} \\\\\n",
    "\\end{aligned}\n",
    "\\end{equation}    "
   ]
  },
  {
   "cell_type": "markdown",
   "metadata": {},
   "source": [
    "## 23. Consider a three-sided die, as on page 36. Let X denote the number of dots obtained in one roll.\n",
    "\n",
    "## (a) State the value of $p_x(2):$\n",
    "\\begin{equation}\n",
    "    \\begin{aligned}\n",
    "        p_x(2) &= P(X=2) \\\\\n",
    "        &= \\frac{1}{3}\n",
    "    \\end{aligned}\n",
    "\\end{equation}\n",
    "    \n",
    "## (b) Find $EX$ and $Var(X)$:\n",
    "\n",
    "\\begin{equation}\n",
    "    \\begin{aligned}\n",
    "        EX &= 1(1/3) + 2(1/3) + 3(1/3) \\\\\n",
    "        &= 1/3 + 2/3 + 3/3 \\\\\n",
    "        &= 2\n",
    "    \\end{aligned}\n",
    "\\end{equation}\n",
    "\n",
    "\\begin{equation}\n",
    "    \\begin{aligned}\n",
    "        Var(X) &= E(X^2) - E(X)^2 \\\\\n",
    "        &= 1^2(1/3) + 2^2(1/3) + 3^2(1/3) - 4 \\\\\n",
    "        &= 1/3 + 4(1/3) + 9(1/3) - 4 \\\\\n",
    "        &= 1/3 + 4/3 + 9/3 - 4 \\\\\n",
    "        &= 14/3 - 4 \\\\\n",
    "        &= 2/3\n",
    "    \\end{aligned}\n",
    "\\end{equation}\n",
    "\n",
    "## (c) Suppose you win $\\$2$ for each dot. Find $EW$, where $W$ is the amount you win:\n",
    "\n",
    "\\begin{equation}\n",
    "    \\begin{aligned}\n",
    "        W &= 2X \\\\\n",
    "        EW &= E(2X) \\\\\n",
    "        &= E(2)E(X) \\\\\n",
    "        &= 2EX \\\\\n",
    "        &= 2(2) \\\\\n",
    "        &= 4\n",
    "    \\end{aligned}\n",
    "\\end{equation}\n",
    "\n"
   ]
  },
  {
   "cell_type": "markdown",
   "metadata": {},
   "source": [
    "## 24. Consider the parking space problem in Section 4.2.2. Find $Var(M)$, where $M$ is the number of empty spaces in the first block, and $Var(D)$."
   ]
  },
  {
   "cell_type": "markdown",
   "metadata": {},
   "source": [
    "\\begin{equation}\n",
    "    \\begin{aligned}\n",
    "        Var(M) &= np(1-p) && \\text{Variance of binomial distribution} \\\\\n",
    "        &= 10(0.15)(1-0.15) \\\\\n",
    "        &= 1.275\n",
    "    \\end{aligned}\n",
    "\\end{equation}"
   ]
  },
  {
   "cell_type": "markdown",
   "metadata": {},
   "source": [
    "\\begin{equation}\n",
    "    \\begin{aligned}\n",
    "        Var(D) &= E(D^2) - E(D)^2 \\\\\n",
    "        &= \\left(\\sum_{i=1}^{10}(11-i)^2(1-0.15)^{i-1}0.15 + \\sum_{i=11}^{\\infty}(i-11)^2(1-0.15)^{i-1}0.15\\right) \\\\\n",
    "        &\\quad - 43.09366570787748 \\\\\n",
    "        &= \\sum_{i=1}^{10}(i-11)^2(1-0.15)^{i-1}0.15 + \\sum_{i=11}^{\\infty}(i-11)^2(1-0.15)^{i-1}0.15 \\\\\n",
    "        &\\quad - 43.09366570787748 && \\text{$(i-11)^2$ and $(11-i)^2$ are the same}\\\\\n",
    "        &= 0.15\\sum_{i=1}^{\\infty}(i-11)^2(1-0.15)^{i-1} - 43.09366570787748 \\\\\n",
    "        &= 0.15\\sum_{i=1}^{\\infty}(i^2 - 22i + 121)(1-0.15)^{i-1} - 43.09366570787748 \\\\\n",
    "        &= 0.15\\sum_{i=1}^{\\infty}(i^2)(1-0.15)^{i-1} - 0.15\\sum_{i=1}^{\\infty}(22i)(1-0.15)^{i-1} \\\\\n",
    "        &\\quad + 0.15\\sum_{i=1}^{\\infty}(121)(1-0.15)^{i-1} - 43.09366570787748 \\\\\n",
    "        &= 0.15\\sum_{i=1}^{\\infty}(i)(i+1)(1-0.15)^{i-1} - 0.15\\sum_{i=1}^{\\infty}(i)(1-0.15)^{i-1} \\\\\n",
    "        &\\quad - 3.3\\sum_{i=1}^{\\infty}i(1-0.15)^{i-1} + 18.15\\sum_{i=1}^{\\infty}(1-0.15)^{i-1} - 43.09366570787748 \\\\\n",
    "        &= 0.15\\sum_{i=1}^{\\infty}(i)(i+1)(1-0.15)^{i-1} - 3.45\\sum_{i=1}^{\\infty}i(1-0.15)^{i-1} \\\\\n",
    "        &\\quad + 18.15\\sum_{i=1}^{\\infty}(1-0.15)^{i-1} - 43.09366570787748 \\\\\n",
    "        &= 0.15\\sum_{i=1}^{\\infty}(i)(i+1)(1-0.15)^{i-1} - 3.45\\sum_{i=1}^{\\infty}i(1-0.15)^{i-1} \\\\\n",
    "        &\\quad + 18.15\\sum_{j=0}^{\\infty}(1-0.15)^{j} - 43.09366570787748 && \\text{Substitute $j=i-1$} \\\\\n",
    "        &= 0.15\\sum_{n=2}^{\\infty}(n-1)(n)(1-0.15)^{n-2} - 3.45\\sum_{i=1}^{\\infty}i(1-0.15)^{i-1} \\\\\n",
    "        &\\quad + 18.15\\sum_{j=0}^{\\infty}(1-0.15)^{j} - 43.09366570787748 && \\text{Substitute $n=i+1$} \\\\\n",
    "        &= 0.15\\left(\\frac{2}{(1-0.85)^3}\\right) - 3.45\\left(\\frac{1}{(1-0.85)^2}\\right) \\\\\n",
    "        &\\quad + 18.15\\left(\\frac{1}{1-0.85}\\right) - 43.09366570787748 \\\\\n",
    "        &\\approx 13.46\n",
    "    \\end{aligned} \n",
    "\\end{equation}"
   ]
  },
  {
   "cell_type": "code",
   "execution_count": 102,
   "metadata": {
    "collapsed": false
   },
   "outputs": [
    {
     "data": {
      "text/plain": [
       "43.09366570787748"
      ]
     },
     "execution_count": 102,
     "metadata": {},
     "output_type": "execute_result"
    }
   ],
   "source": [
    "# E(D)^2\n",
    "(10.897909915861522 - 4.333333333333333)**2"
   ]
  },
  {
   "cell_type": "code",
   "execution_count": 133,
   "metadata": {
    "collapsed": false
   },
   "outputs": [
    {
     "data": {
      "text/plain": [
       "13.461889847678066"
      ]
     },
     "execution_count": 133,
     "metadata": {},
     "output_type": "execute_result"
    }
   ],
   "source": [
    "# Var(H)\n",
    "2/(0.15**2) -3.45/(0.15)**2 + 18.15/0.15 - (10.897909915861522 - 4.333333333333333)**2"
   ]
  },
  {
   "cell_type": "code",
   "execution_count": 105,
   "metadata": {
    "collapsed": false
   },
   "outputs": [
    {
     "data": {
      "text/plain": [
       "1.2754199974999998"
      ]
     },
     "execution_count": 105,
     "metadata": {},
     "output_type": "execute_result"
    }
   ],
   "source": [
    "    variance(park_sim(), 'num_open_spaces_first_block')"
   ]
  },
  {
   "cell_type": "code",
   "execution_count": 135,
   "metadata": {
    "collapsed": false
   },
   "outputs": [
    {
     "data": {
      "text/plain": [
       "13.460245502952382"
      ]
     },
     "execution_count": 135,
     "metadata": {},
     "output_type": "execute_result"
    }
   ],
   "source": [
    "variance(park_sim(num_experiments=10000000), 'dist_from_dest')"
   ]
  },
  {
   "cell_type": "markdown",
   "metadata": {},
   "source": [
    "## 25. Suppose $X$ and $Y$ are independent, with variances $1$ and $2$, respectively. Find the value of $c$ that minimizes $Var[cX + (1-c)Y]$."
   ]
  },
  {
   "cell_type": "markdown",
   "metadata": {},
   "source": [
    "\\begin{equation}\n",
    "    \\begin{aligned}\n",
    "        Var[cX + (1-c)Y] &= c^2Var(X) + (1-c)^2Var(Y) \\\\\n",
    "        &= c^2(1) + (1-c)^2(2) && \\text{$c=1$ minimizes the above}\\\\\n",
    "        &= (1)^2(1) + (1-1)^2(2) \\\\\n",
    "        &= 1\n",
    "    \\end{aligned}\n",
    "\\end{equation}"
   ]
  },
  {
   "cell_type": "markdown",
   "metadata": {},
   "source": [
    "## 26. In the cards example in Section 2.15.1, let $H$ denote the number of hearts. Find $EH$ and $Var(H)$."
   ]
  },
  {
   "cell_type": "markdown",
   "metadata": {},
   "source": [
    "\\begin{equation}\n",
    "    \\begin{aligned}\n",
    "        EH &= \\sum_{i=0}^{4}P(H=i) \\\\\n",
    "        &= 0P(H=0) + 1P(H=1) + 2P(H=2) + 3P(H=3) + 4P(H=4) \\\\\n",
    "        &= 1\\frac{{13 \\choose 1}{39 \\choose 4}}{{52 \\choose 5}} + 2\\frac{{13 \\choose 2}{39 \\choose 3}}{{52 \\choose 5}} + 3\\frac{{13 \\choose 3}{39 \\choose 2}}{{52 \\choose 5}} + 4\\frac{{13 \\choose 4}{39 \\choose 1}}{{52 \\choose 5}} \\\\\n",
    "        &\\approx 1.25\n",
    "    \\end{aligned}\n",
    "\\end{equation}"
   ]
  },
  {
   "cell_type": "code",
   "execution_count": 95,
   "metadata": {
    "collapsed": false,
    "scrolled": true
   },
   "outputs": [
    {
     "data": {
      "text/plain": [
       "1.2475240096038416"
      ]
     },
     "execution_count": 95,
     "metadata": {},
     "output_type": "execute_result"
    }
   ],
   "source": [
    "# Expected Value\n",
    "(1*ms.comb(13,1)*ms.comb(39,4) \\\n",
    "+ 2*ms.comb(13,2)*ms.comb(39,3) \\\n",
    "+ 3*ms.comb(13,3)*ms.comb(39,2) \\\n",
    "+ 4*ms.comb(13,4)*ms.comb(39,1)) / ms.comb(52,5)"
   ]
  },
  {
   "cell_type": "code",
   "execution_count": 98,
   "metadata": {
    "collapsed": false,
    "scrolled": true
   },
   "outputs": [
    {
     "data": {
      "text/plain": [
       "1.5563161545380457"
      ]
     },
     "execution_count": 98,
     "metadata": {},
     "output_type": "execute_result"
    }
   ],
   "source": [
    "# E(H)^2\n",
    "((1*ms.comb(13,1)*ms.comb(39,4) \\\n",
    "+ 2*ms.comb(13,2)*ms.comb(39,3) \\\n",
    "+ 3*ms.comb(13,3)*ms.comb(39,2) \\\n",
    "+ 4*ms.comb(13,4)*ms.comb(39,1)) / ms.comb(52,5))**2"
   ]
  },
  {
   "cell_type": "markdown",
   "metadata": {},
   "source": [
    "\\begin{equation}\n",
    "    \\begin{aligned}\n",
    "        Var(H) &= E(H^2) - E(H)^2 \\\\\n",
    "        &= 0^2P(H=0) + 1^2P(H=1) + 2^2P(H=2) + 3^2P(H=3) + 4^2P(H=4) - E(H)^2\\\\\n",
    "        &= 1\\frac{{13 \\choose 1}{39 \\choose 4}}{{52 \\choose 5}} + 4\\frac{{13 \\choose 2}{39 \\choose 3}}{{52 \\choose 5}} + 9\\frac{{13 \\choose 3}{39 \\choose 2}}{{52 \\choose 5}} + 16 \\frac{{13 \\choose 4}{39 \\choose 1}}{{52 \\choose 5}} - E(H)^2 \\\\\n",
    "        &\\approx 2.41409 - (1.2475)^2 \\\\\n",
    "        &\\approx 0.86\n",
    "    \\end{aligned}\n",
    "\\end{equation}"
   ]
  },
  {
   "cell_type": "code",
   "execution_count": 97,
   "metadata": {
    "collapsed": false,
    "scrolled": true
   },
   "outputs": [
    {
     "data": {
      "text/plain": [
       "2.4140906362545018"
      ]
     },
     "execution_count": 97,
     "metadata": {},
     "output_type": "execute_result"
    }
   ],
   "source": [
    "# E(H^2)\n",
    "(1**2*ms.comb(13,1)*ms.comb(39,4) \\\n",
    "+ 2**2*ms.comb(13,2)*ms.comb(39,3) \\\n",
    "+ 3**2*ms.comb(13,3)*ms.comb(39,2) \\\n",
    "+ 4**2*ms.comb(13,4)*ms.comb(39,1)) / ms.comb(52,5)"
   ]
  },
  {
   "cell_type": "code",
   "execution_count": 99,
   "metadata": {
    "collapsed": false,
    "scrolled": true
   },
   "outputs": [
    {
     "data": {
      "text/plain": [
       "0.8577744817164561"
      ]
     },
     "execution_count": 99,
     "metadata": {},
     "output_type": "execute_result"
    }
   ],
   "source": [
    "# Var(H)\n",
    "2.4140906362545018 - 1.5563161545380457"
   ]
  },
  {
   "cell_type": "code",
   "execution_count": 92,
   "metadata": {
    "collapsed": true
   },
   "outputs": [],
   "source": [
    "def draw_5_cards(num_experiments=10000):\n",
    "    num_cards = 52\n",
    "    num_hearts = 13\n",
    "    num_others = num_cards-num_hearts\n",
    "    heart_cards = np.ones(num_hearts)\n",
    "    other_cards = np.zeros(num_others)\n",
    "    all_cards = np.append(heart_cards, other_cards)\n",
    "    \n",
    "    num_hearts_results = []\n",
    "    for i in range(num_experiments):\n",
    "        num_hearts_results.append(np.random.permutation(all_cards)[0:5].sum())\n",
    "        \n",
    "    return pd.DataFrame({'num_hearts': num_hearts_results})"
   ]
  },
  {
   "cell_type": "code",
   "execution_count": 94,
   "metadata": {
    "collapsed": false
   },
   "outputs": [
    {
     "data": {
      "text/plain": [
       "num_hearts    1.2617\n",
       "dtype: float64"
      ]
     },
     "execution_count": 94,
     "metadata": {},
     "output_type": "execute_result"
    }
   ],
   "source": [
    "expected_value(draw_5_cards())"
   ]
  },
  {
   "cell_type": "code",
   "execution_count": 101,
   "metadata": {
    "collapsed": false
   },
   "outputs": [
    {
     "data": {
      "text/plain": [
       "0.86944123999999978"
      ]
     },
     "execution_count": 101,
     "metadata": {},
     "output_type": "execute_result"
    }
   ],
   "source": [
    "variance(draw_5_cards(), 'num_hearts')"
   ]
  },
  {
   "cell_type": "markdown",
   "metadata": {},
   "source": [
    "## 27. In the bank example in Section 4.5, suppose you observe the bank for $n$ days. Let $X$ denote the number of days in which at least $2$ customers entered during the 11:00-11:15 observation period. Find $P(X = k)$."
   ]
  },
  {
   "cell_type": "markdown",
   "metadata": {},
   "source": [
    "\\begin{equation}\n",
    "    \\begin{aligned}\n",
    "        P(Y=z) &= \\frac{e^{−λ}λ^z}{z!}, z = 0,1,2,... && \\text{$Y$ is # of customers who arrive between 11:00-11:15} \\\\\n",
    "        P(Y\\geq 2) &= \\sum_{z=2}^{\\infty}\\frac{e^{−λ}λ^z}{z!} && \\text{probability that there will be at least two customers entering during the time period} \\\\\n",
    "        P(X=k) &= {n \\choose k}p^k(1-p)^{n-k} && \\text{Assuming that days are independent from one another, $P(X=k)$ is binomially distributed} \\\\\n",
    "        &= {n \\choose k}P(Y\\geq2)^kP(Y<2)^{n-k} \\\\\n",
    "        &= {n \\choose k}\\left(\\sum_{z=2}^{\\infty}\\frac{e^{−λ}λ^z}{z!}\\right)^k\\left(\\sum_{z=0}^{1}\\frac{e^{−λ}λ^z}{z!}\\right)^{n-k} \\\\\n",
    "    \\end{aligned}\n",
    "\\end{equation}\n"
   ]
  },
  {
   "cell_type": "markdown",
   "metadata": {},
   "source": [
    "## 28. Find $E(X^3)$, where $X$ has a geometric distribution with parameter $p$.\n",
    "\n",
    "\\begin{equation}\n",
    "    \\begin{aligned}\n",
    "        E(X^3) &= \\sum_{k=1}^{\\infty}k^3(1-p)^{k-1}p \\\\\n",
    "        &= p\\sum_{k=1}^{\\infty}k(k+1)(k+2)(1-p)^{k-1} - p\\sum_{k=1}^{\\infty}(3k^2+2k)(1-p)^{k-1} \\\\\n",
    "        &= p\\sum_{j=2}^{\\infty}j(j-1)(j-2)(1-p)^{j-3} - p\\sum_{k=1}^{\\infty}(3k^2+2k)(1-p)^{k-1} && \\text{Substitute $j=k+3$ for first sum} \\\\\n",
    "        &= \\frac{6p}{(1-(1-p))^4} - p\\sum_{k=1}^{\\infty}(3k^2+2k)(1-p)^{k-1} && \\text{Take derivative 3x of $\\sum_{j=0}^\\infty (q)^j = \\frac{1}{1-(q)}$} \\\\\n",
    "        &= \\frac{6}{p^3} - p\\sum_{k=1}^{\\infty}(3k^2+2k)(1-p)^{k-1} \\\\\n",
    "        &= \\frac{6}{p^3} - 3p\\sum_{k=1}^{\\infty}k^2(1-p)^{k-1} - 2p\\sum_{k=1}^{\\infty}k(1-p)^{k-1}\\\\\n",
    "        &= \\frac{6}{p^3} - 3p\\sum_{k=1}^{\\infty}(k^2+k)(1-p)^{k-1} + 3p\\sum_{k=1}^{\\infty}k(1-p)^{k-1} - 2p\\sum_{k=1}^{\\infty}k(1-p)^{k-1}\\\\\n",
    "        &= \\frac{6}{p^3} - 3p\\sum_{k=1}^{\\infty}(k^2+k)(1-p)^{k-1} + p\\sum_{k=1}^{\\infty}k(1-p)^{k-1} \\\\\n",
    "        &= \\frac{6}{p^3} - 3p\\sum_{k=1}^{\\infty}(k^2+k)(1-p)^{k-1} + \\frac{p}{(1-(1-p))^2} && \\text{Take derivative of $\\sum_{j=0}^\\infty (q)^j = \\frac{1}{1-(q)}$}\\\\\n",
    "        &= \\frac{6}{p^3} - 3p\\sum_{k=1}^{\\infty}(k^2+k)(1-p)^{k-1} + \\frac{1}{p} \\\\\n",
    "        &= \\frac{6}{p^3} - 3p\\sum_{k=1}^{\\infty}k(k+1)(1-p)^{k-1} + \\frac{1}{p} \\\\\n",
    "        &= \\frac{6}{p^3} - 3p\\sum_{j=2}^{\\infty}(j-1)(j)(1-p)^{j-2} + \\frac{1}{p} && \\text{Substitute $j=k+1$}\\\\\n",
    "        &= \\frac{6}{p^3} - 3p\\left(\\frac{2}{(1-(1-p))^3}\\right)+ \\frac{1}{p} && \\text{Take derivative 2x of $\\sum_{j=0}^\\infty (q)^j = \\frac{1}{1-(q)}$} \\\\\n",
    "        &= \\frac{6}{p^3} - \\frac{6}{p^2} + \\frac{1}{p} \\\\\n",
    "    \\end{aligned}\n",
    "\\end{equation}\n",
    "\n"
   ]
  },
  {
   "cell_type": "markdown",
   "metadata": {},
   "source": [
    "## 29. Supppose we have a nonnegative random variable $X$, and define a new random variable $Y$, which is equal to $X$ if $X > 8$ and equal to $0$ otherwise. Assume $X$ takes on only a finite number of values (just a mathematical nicety, not really an issue). Which one of the following is true:\n",
    "\n",
    "### (i) $EY \\leq EX$. \n",
    "\n",
    "### (ii) $EY ≥ EX$.\n",
    "\n",
    "### (iii) Either of $EY$ and $EX$ could be larger than the other, depending on the situation. \n",
    "\n",
    "### (iv) $EY$ is undefined."
   ]
  },
  {
   "cell_type": "markdown",
   "metadata": {},
   "source": [
    "\\begin{equation}\n",
    "    \\begin{aligned}\n",
    "        EY &= \\sum_{j=0}^8 0P(X=j) + \\sum_{j=9}^{\\infty} jP(X=j) \\\\\n",
    "           &= \\sum_{j=9}^{\\infty} jP(X=j) \\\\\n",
    "        EX &= \\sum_{j=0}^{\\infty} jP(X=j) \\\\\n",
    "        EX - EY &= \\sum_{j=0}^{\\infty} jP(X=j) - \\sum_{j=9}^{\\infty} jP(X=j)\\\\\n",
    "        &= \\sum_{j=0}^{8} jP(X=j) \\\\\n",
    "        &\\geq 0 \\\\\n",
    "        EY &\\leq EX \n",
    "    \\end{aligned}\n",
    "\\end{equation}"
   ]
  },
  {
   "cell_type": "markdown",
   "metadata": {},
   "source": [
    "## 30. Say we roll two dice, a blue one and a yellow one. Let $B$ and $Y$ denote the number of dots we get, respectively, and write $S = B + Y$. Now let $G$ denote the indicator random variable for the event $S = 2$. Find $E(G)$."
   ]
  },
  {
   "cell_type": "markdown",
   "metadata": {},
   "source": [
    "\\begin{equation}\n",
    "    \\begin{aligned}\n",
    "        EG &= 1P(S=2) + 0P(S\\neq 2) \\\\\n",
    "        &= P(S=2) \\\\\n",
    "        &= P(B=1, Y=1) \\\\\n",
    "        &= \\frac{1}{6} \\times \\frac{1}{6} \\\\\n",
    "        &= \\frac{1}{36} \\\\\n",
    "    \\end{aligned}\n",
    "\\end{equation}"
   ]
  },
  {
   "cell_type": "markdown",
   "metadata": {},
   "source": [
    "## 32. Consider the bus ridership example, Section 2.12. Suppose upon arrival to a certain stop, there are $2$ passengers. Let $A$ denote the number of them who choose to alight at that stop.\n",
    "\n",
    "###(a) State the parametric family that the distribution of $A$ belongs to.\n",
    "\n",
    "Binomial distribution with $n=2$.\n",
    "\n",
    "###(b) Find $p_A(1)$ and $F_A(1)$, writing each answer in decimal expression form e.g. $128 \\times 0.32+0.3333$.\n",
    "\n",
    "\\begin{equation}\n",
    "    \\begin{aligned}\n",
    "        p_A(1) &= P(A=1) \\\\\n",
    "        &= {2 \\choose 1}p(1-p) \\\\\n",
    "        &= 2(0.2)(0.8) \\\\\n",
    "        &= 0.32\n",
    "    \\end{aligned}\n",
    "\\end{equation}\n",
    "\n",
    "Not really sure what $F_A(1)$ stands for."
   ]
  },
  {
   "cell_type": "markdown",
   "metadata": {},
   "source": [
    "### 33. Suppose you have a large disk farm, so heavily used that the lifetimes $L$ are measured in months. They come from two different factories, in proportions $q$ and $1-q$. The disks from factory $i$ have geometrically distributed lifetime with parameter $p_i$, $i = 1,2$. Find $Var(L)$ in terms of $q$ and the $p_i$."
   ]
  },
  {
   "cell_type": "markdown",
   "metadata": {},
   "source": [
    "\\begin{equation}\n",
    "    \\begin{aligned}\n",
    "        L &= qL_1 + (1-q)L_2 \\\\\n",
    "        EL &= E(qL_1 + (1-q)L_2) \\\\\n",
    "        &= qE(L_1) + (1-q)E(L_2) \\\\\n",
    "        &= q\\sum_{k=0}^{\\infty}k(1-p_1)^{k-1} + (1-q)\\sum_{k=0}^{\\infty}k(1-p_2)^{k-1}  \\\\\n",
    "        &= qp_1\\left(\\frac{1}{(1-(1-p_1))^2}\\right) + (1-q)p_2\\left(\\frac{1}{(1-(1-p_2))^2}\\right) \\\\\n",
    "        &= \\frac{q}{p_1} + \\frac{1-q}{p_2} \\\\\n",
    "        E(L)^2 &= \\left(\\frac{q}{p_1} + \\frac{1-q}{p_2}\\right)^2 \\\\\n",
    "        E(L^2) &= qE(L_1^2) + (1-q)E(L_2^2) \\\\\n",
    "        &= qp_1\\sum_{k=1}^{\\infty}k^2(1-p_1)^{k-1} + (1-q)p_2\\sum_{j=1}^{\\infty}j^2(1-p_2)^{j-1} \\\\\n",
    "        &= qp_1\\left(\\sum_{k=1}^{\\infty}k(k+1)(1-p_1)^{k-1} + \\sum_{k=1}^{\\infty}k(1-p_1)^{k-1}\\right) \\\\\n",
    "        &\\quad + (1-q)p_2\\left(\\sum_{j=1}^{\\infty}j(j+1)(1-p_2)^{j-1} - \\sum_{j=1}^{\\infty}j(1-p_2)^{j-1}\\right) \\\\\n",
    "        &= qp_1\\left(\\sum_{m=2}^{\\infty}m(m-1)(1-p_1)^{m-2} + \\sum_{k=1}^{\\infty}k(1-p_1)^{k-1}\\right) \\\\\n",
    "        &\\quad + (1-q)p_2\\left(\\sum_{n=2}^{\\infty}n(n-1)(1-p_2)^{n-2} - \\sum_{j=1}^{\\infty}j(1-p_2)^{j-1}\\right) \\\\\n",
    "        &= qp_1\\left(\\frac{2}{(1-(1-p_1))^3}-\\frac{1}{(1-(1-p_1))^2}\\right) \\\\ \n",
    "        &\\quad + (1-q)p_2\\left(\\frac{2}{(1-(1-p_2))^3}-\\frac{1}{(1-(1-p_2))^2}\\right) \\\\\n",
    "        &= q\\left(\\frac{2}{p_1^2}-\\frac{1}{p_1}\\right) + (1-q)\\left(\\frac{2}{p_2^2}-\\frac{1}{p_2}\\right) \\\\\n",
    "        Var(L) &= E(L^2) - E(L)^2 \\\\\n",
    "        &=  q\\left(\\frac{2}{p_1^2}-\\frac{1}{p_1}\\right) + (1-q)\\left(\\frac{2}{p_2^2}-\\frac{1}{p_2}\\right) \\\\\n",
    "        &\\quad - \\left(\\frac{q}{p_1} + \\frac{1-q}{p_2}\\right)^2 \\\\\n",
    "    \\end{aligned}\n",
    "\\end{equation}\n"
   ]
  },
  {
   "cell_type": "code",
   "execution_count": 265,
   "metadata": {
    "collapsed": false,
    "scrolled": true
   },
   "outputs": [],
   "source": [
    "def disk_farm(num_experiments=10000000,\n",
    "              from_factory_1_prob=0.3,\n",
    "              factory_1_disk_failure_prob=0.2,\n",
    "              factory_2_disk_failure_prob=0.4):\n",
    "    fac_1_lifetimes = np.random.geometric(p=factory_1_disk_failure_prob,\n",
    "                        size=num_experiments)\n",
    "    fac_2_lifetimes = np.random.geometric(p=factory_2_disk_failure_prob,\n",
    "                        size=num_experiments)\n",
    "    \n",
    "    return np.append(fac_1_lifetimes[0:int(num_experiments*from_factory_1_prob)],\n",
    "                     fac_2_lifetimes[int(num_experiments*from_factory_1_prob):])\n",
    "\n"
   ]
  },
  {
   "cell_type": "code",
   "execution_count": 293,
   "metadata": {
    "collapsed": false,
    "scrolled": true
   },
   "outputs": [
    {
     "data": {
      "text/plain": [
       "100.029647"
      ]
     },
     "execution_count": 293,
     "metadata": {},
     "output_type": "execute_result"
    }
   ],
   "source": [
    "disk_farm(from_factory_1_prob=0.5,\n",
    "          factory_1_disk_failure_prob=0.01,\n",
    "          factory_2_disk_failure_prob=0.01).mean()"
   ]
  },
  {
   "cell_type": "code",
   "execution_count": 294,
   "metadata": {
    "collapsed": false,
    "scrolled": true
   },
   "outputs": [
    {
     "data": {
      "text/plain": [
       "100.0"
      ]
     },
     "execution_count": 294,
     "metadata": {},
     "output_type": "execute_result"
    }
   ],
   "source": [
    "def expected_value_disk_farm(from_factory_1_prob=0.5,\n",
    "          factory_1_disk_failure_prob=0.01,\n",
    "          factory_2_disk_failure_prob=0.01):\n",
    "    return from_factory_1_prob/factory_1_disk_failure_prob \\\n",
    "    + (1-from_factory_1_prob)/factory_2_disk_failure_prob\n",
    "\n",
    "expected_value_disk_farm(from_factory_1_prob=0.5,\n",
    "      factory_1_disk_failure_prob=0.01,\n",
    "      factory_2_disk_failure_prob=0.01)"
   ]
  },
  {
   "cell_type": "code",
   "execution_count": 341,
   "metadata": {
    "collapsed": false,
    "scrolled": true
   },
   "outputs": [],
   "source": [
    "# Issue: This is the first attempt. I think this does not work because\n",
    "# it assumes that covariance between the lifetime of items from factory\n",
    "# 1 is zero (i.e. independent of the lifetimes from factory 2).\n",
    "# But aren't they?\n",
    "def variance_disk_farm(from_factory_1_prob=0.3,\n",
    "                       factory_1_disk_failure_prob=0.2,\n",
    "                       factory_2_disk_failure_prob=0.4):\n",
    "    # (q^2)*(1-p_1)/p_1^2 + (1-q)^2*(1-p_2)/p_2^2\n",
    "    \n",
    "    return from_factory_1_prob**2 * (1-factory_1_disk_failure_prob) \\\n",
    "    / factory_1_disk_failure_prob**2 \\\n",
    "    + (1-factory_2_disk_failure_prob) / factory_2_disk_failure_prob**2 \\\n",
    "    - (from_factory_1_prob)**2 * (1-factory_2_disk_failure_prob) \\\n",
    "    / factory_2_disk_failure_prob**2\n",
    "#     return from_factory_1_prob**2 \\\n",
    "#             * (1-factory_1_disk_failure_prob) \\\n",
    "#             / factory_1_disk_failure_prob**2 \\\n",
    "#             + (1-from_factory_1_prob)**2 \\\n",
    "#             * (1-factory_2_disk_failure_prob) \\\n",
    "#             / factory_2_disk_failure_prob**2\n",
    "          \n"
   ]
  },
  {
   "cell_type": "code",
   "execution_count": 342,
   "metadata": {
    "collapsed": false
   },
   "outputs": [],
   "source": [
    "# This is the implementation of my answer above. Seems to give a very good approximation \n",
    "# of the simulated answer.\n",
    "def variance_disk_farm_2nd_version(q=0.2,\n",
    "                       p_1=0.09,\n",
    "                       p_2=0.01):\n",
    "    return q*(2/p_1**2 - 1/p_1) + (1-q)*(2/p_2**2-1/p_2) - (q/p_1+(1-q)/p_2)**2"
   ]
  },
  {
   "cell_type": "code",
   "execution_count": 334,
   "metadata": {
    "collapsed": false
   },
   "outputs": [
    {
     "data": {
      "text/plain": [
       "9900.0"
      ]
     },
     "execution_count": 334,
     "metadata": {},
     "output_type": "execute_result"
    }
   ],
   "source": [
    "variance_disk_farm_2nd_version(q=0.5,\n",
    "                       p_1=0.01,\n",
    "                       p_2=0.01)"
   ]
  },
  {
   "cell_type": "code",
   "execution_count": 337,
   "metadata": {
    "collapsed": false
   },
   "outputs": [
    {
     "data": {
      "text/plain": [
       "9206.666666666666"
      ]
     },
     "execution_count": 337,
     "metadata": {},
     "output_type": "execute_result"
    }
   ],
   "source": [
    "variance_disk_farm_2nd_version(q=0.2,\n",
    "                       p_1=0.09,\n",
    "                       p_2=0.01)"
   ]
  },
  {
   "cell_type": "code",
   "execution_count": 323,
   "metadata": {
    "collapsed": false
   },
   "outputs": [
    {
     "data": {
      "text/plain": [
       "9206.205916455734"
      ]
     },
     "execution_count": 323,
     "metadata": {},
     "output_type": "execute_result"
    }
   ],
   "source": [
    "disk_farm(from_factory_1_prob=0.2,\n",
    "          factory_1_disk_failure_prob=0.09,\n",
    "          factory_2_disk_failure_prob=0.01,\n",
    "          num_experiments=100000000).var()"
   ]
  },
  {
   "cell_type": "code",
   "execution_count": null,
   "metadata": {
    "collapsed": true
   },
   "outputs": [],
   "source": []
  }
 ],
 "metadata": {
  "kernelspec": {
   "display_name": "Python 3",
   "language": "python",
   "name": "python3"
  },
  "language_info": {
   "codemirror_mode": {
    "name": "ipython",
    "version": 3
   },
   "file_extension": ".py",
   "mimetype": "text/x-python",
   "name": "python",
   "nbconvert_exporter": "python",
   "pygments_lexer": "ipython3",
   "version": "3.6.0"
  },
  "toc": {
   "colors": {
    "hover_highlight": "#DAA520",
    "navigate_num": "#000000",
    "navigate_text": "#333333",
    "running_highlight": "#FF0000",
    "selected_highlight": "#FFD700",
    "sidebar_border": "#EEEEEE",
    "wrapper_background": "#FFFFFF"
   },
   "moveMenuLeft": true,
   "nav_menu": {
    "height": "504px",
    "width": "253px"
   },
   "navigate_menu": true,
   "number_sections": true,
   "sideBar": true,
   "threshold": "5",
   "toc_cell": true,
   "toc_section_display": "block",
   "toc_window_display": true,
   "widenNotebook": false
  }
 },
 "nbformat": 4,
 "nbformat_minor": 0
}
