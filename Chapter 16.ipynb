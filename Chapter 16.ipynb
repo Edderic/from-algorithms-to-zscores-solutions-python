{
 "cells": [
  {
   "cell_type": "markdown",
   "metadata": {
    "toc": "true"
   },
   "source": [
    "# Table of Contents\n",
    " <p><div class=\"lev1 toc-item\"><a href=\"#Exercises\" data-toc-modified-id=\"Exercises-1\"><span class=\"toc-item-num\">1&nbsp;&nbsp;</span>Exercises</a></div><div class=\"lev2 toc-item\"><a href=\"#1.-Consider-Equation-(16.3).-In-each-of-the-entries-in-the-table-below,-fill-in-either-R-for-random-or-NR-for-nonrandom:\" data-toc-modified-id=\"1.-Consider-Equation-(16.3).-In-each-of-the-entries-in-the-table-below,-fill-in-either-R-for-random-or-NR-for-nonrandom:-11\"><span class=\"toc-item-num\">1.1&nbsp;&nbsp;</span>1. Consider Equation (16.3). In each of the entries in the table below, fill in either R for random or NR for nonrandom:</a></div><div class=\"lev2 toc-item\"><a href=\"#2.-Consider-hat{p},-the-estimator-of-a-population-proportion-p,-based-on-a-sample-size-n.-Give-the-expression-for-the-standard-error-of-\\hat{p}.\" data-toc-modified-id=\"2.-Consider-hat{p},-the-estimator-of-a-population-proportion-p,-based-on-a-sample-size-n.-Give-the-expression-for-the-standard-error-of-\\hat{p}.-12\"><span class=\"toc-item-num\">1.2&nbsp;&nbsp;</span>2. Consider $\\hat{p}$, the estimator of a population proportion $p$, based on a sample size $n$. Give the expression for the standard error of $\\hat{p}$.</a></div><div class=\"lev2 toc-item\"><a href=\"#3.-Suppose-we-take-a-simple-random-sample-of-size-2-from-a-population-consisting-of-just-three-values,-66,-67,-and-69.-Let-overline{X}-denote-the-resulting-sample-mean.-Find-p_{\\overline{X}}(67.5).\" data-toc-modified-id=\"3.-Suppose-we-take-a-simple-random-sample-of-size-2-from-a-population-consisting-of-just-three-values,-66,-67,-and-69.-Let-overline{X}-denote-the-resulting-sample-mean.-Find-p_{\\overline{X}}(67.5).-13\"><span class=\"toc-item-num\">1.3&nbsp;&nbsp;</span>3. Suppose we take a simple random sample of size 2 from a population consisting of just three values, 66, 67, and 69. Let $\\overline{X}$ denote the resulting sample mean. Find $p_{\\overline{X}}(67.5)$.</a></div><div class=\"lev2 toc-item\"><a href=\"#4.-Suppose-we-have-a-random-sample-W_1,-...-,-W_n-and-we-wish-to-estimate-the-population-mean-mu,-as-usual.-But-we-decide-to-place-double-weight-on-W_1,-so-our-estimator-for-\\mu-is\" data-toc-modified-id=\"4.-Suppose-we-have-a-random-sample-W_1,-...-,-W_n-and-we-wish-to-estimate-the-population-mean-mu,-as-usual.-But-we-decide-to-place-double-weight-on-W_1,-so-our-estimator-for-\\mu-is-14\"><span class=\"toc-item-num\">1.4&nbsp;&nbsp;</span>4. Suppose we have a random sample $W_1, ... , W_n$ and we wish to estimate the population mean $\\mu$, as usual. But we decide to place double weight on $W_1$, so our estimator for $\\mu$ is</a></div><div class=\"lev2 toc-item\"><a href=\"#5.-Suppose-a-random-sample-of-size-n-is-drawn-from-a-population-in-which,-unknown-to-the-analyst,-X-actually-has-an-exponential-distribution-with-mean-10.-Suppose-the-analyst-forms-an-approximate-95%-confidence-interval-for-the-mean,-using-(16.4).-Use-R-simulation-to-estimate-the-true-confidence-level,-for-n=10,25,100,-and-500.\" data-toc-modified-id=\"5.-Suppose-a-random-sample-of-size-n-is-drawn-from-a-population-in-which,-unknown-to-the-analyst,-X-actually-has-an-exponential-distribution-with-mean-10.-Suppose-the-analyst-forms-an-approximate-95%-confidence-interval-for-the-mean,-using-(16.4).-Use-R-simulation-to-estimate-the-true-confidence-level,-for-n=10,25,100,-and-500.-15\"><span class=\"toc-item-num\">1.5&nbsp;&nbsp;</span>5. Suppose a random sample of size $n$ is drawn from a population in which, unknown to the analyst, $X$ actually has an exponential distribution with mean $10$. Suppose the analyst forms an approximate $95%$ confidence interval for the mean, using (16.4). Use R simulation to estimate the true confidence level, for $n=10,25,100$, and $500$.</a></div><div class=\"lev2 toc-item\"><a href=\"#6.-Suppose-we-draw-a-sample-of-size-2-from-a-population-in-which-X-has-the-values-10,-15,-and-12.-Find-p_{overline{X}},-first-assuming-sampling-with-replacement,-then-assuming-sampling-without-replacement.\" data-toc-modified-id=\"6.-Suppose-we-draw-a-sample-of-size-2-from-a-population-in-which-X-has-the-values-10,-15,-and-12.-Find-p_{overline{X}},-first-assuming-sampling-with-replacement,-then-assuming-sampling-without-replacement.-16\"><span class=\"toc-item-num\">1.6&nbsp;&nbsp;</span>6. Suppose we draw a sample of size $2$ from a population in which $X$ has the values $10, 15,$ and $12$. Find $p_{\\overline{X}}$, first assuming sampling with replacement, then assuming sampling without replacement.</a></div><div class=\"lev2 toc-item\"><a href=\"#7.-We-ask-100-randomly-sampled-programmers-whether-C++-is-their-favorite-language,-and-12-answer-yes.-Give-a-numerical-expression-for-an-approximate-95%-confidence-interval-for-the-population-fraction-of-programmers-who-have-C++-as-their-favorite-language.\" data-toc-modified-id=\"7.-We-ask-100-randomly-sampled-programmers-whether-C++-is-their-favorite-language,-and-12-answer-yes.-Give-a-numerical-expression-for-an-approximate-95%-confidence-interval-for-the-population-fraction-of-programmers-who-have-C++-as-their-favorite-language.-17\"><span class=\"toc-item-num\">1.7&nbsp;&nbsp;</span>7. We ask $100$ randomly sampled programmers whether C++ is their favorite language, and 12 answer yes. Give a numerical expression for an approximate $95%$ confidence interval for the population fraction of programmers who have C++ as their favorite language.</a></div><div class=\"lev2 toc-item\"><a href=\"#8.-In-Equation-(16.4),-suppose-1.96-is-replaced-by-1.88-in-both-instances.-Then-of-course-the-confidence-level-will-be-smaller-than-95%.-Give-a-call-to-an-R-function-(not-a-simulation),-that-will-find-the-new-confidence-level.\" data-toc-modified-id=\"8.-In-Equation-(16.4),-suppose-1.96-is-replaced-by-1.88-in-both-instances.-Then-of-course-the-confidence-level-will-be-smaller-than-95%.-Give-a-call-to-an-R-function-(not-a-simulation),-that-will-find-the-new-confidence-level.-18\"><span class=\"toc-item-num\">1.8&nbsp;&nbsp;</span>8. In Equation (16.4), suppose $1.96$ is replaced by $1.88$ in both instances. Then of course the confidence level will be smaller than $95\\%$. Give a call to an R function (not a simulation), that will find the new confidence level.</a></div><div class=\"lev2 toc-item\"><a href=\"#9.-Candidates-A,-B-and-C-are-vying-for-election.-Let-p_1,-p_2-and-p_3-denote-the-fractions-of-people-planning-to-vote-for-them.-We-poll-n-people-at-random,-yielding-estimates-hat{p_1},-\\hat{p_2},-and-\\hat{p_3}.-Y-claims-that-she-has-more-supporters-than-the-other-two-candidates-combined.-Give-a-formula-for-an-approximate-95\\%-confidence-interval-for-p_2-(p_1+p_3).\" data-toc-modified-id=\"9.-Candidates-A,-B-and-C-are-vying-for-election.-Let-p_1,-p_2-and-p_3-denote-the-fractions-of-people-planning-to-vote-for-them.-We-poll-n-people-at-random,-yielding-estimates-hat{p_1},-\\hat{p_2},-and-\\hat{p_3}.-Y-claims-that-she-has-more-supporters-than-the-other-two-candidates-combined.-Give-a-formula-for-an-approximate-95\\%-confidence-interval-for-p_2-(p_1+p_3).-19\"><span class=\"toc-item-num\">1.9&nbsp;&nbsp;</span>9. Candidates A, B and C are vying for election. Let $p_1, p_2$ and $p_3$ denote the fractions of people planning to vote for them. We poll $n$ people at random, yielding estimates $\\hat{p_1}, \\hat{p_2}$, and $\\hat{p_3}$. $Y$ claims that she has more supporters than the other two candidates combined. Give a formula for an approximate $95\\%$ confidence interval for $p_2-(p_1+p_3)$.</a></div><div class=\"lev2 toc-item\"><a href=\"#10.-Suppose-Jack-and-Jill-each-collect-random-samples-of-size-n-from-a-population-having-unknown-mean-mu-but-KNOWN-variance-\\sigma^2.-They-each-form-an-approximate-95\\%-confidence-interval-for-\\mu,-using-(16.4)-but-with-s-replaced-by-\\sigma.-Find-the-approximate-probability-that-their-intervals-do-not-overlap.-Express-your-answer-in-terms-of-\\phi,-the-cdf-of-the-N(0,1)-distribution.\" data-toc-modified-id=\"10.-Suppose-Jack-and-Jill-each-collect-random-samples-of-size-n-from-a-population-having-unknown-mean-mu-but-KNOWN-variance-\\sigma^2.-They-each-form-an-approximate-95\\%-confidence-interval-for-\\mu,-using-(16.4)-but-with-s-replaced-by-\\sigma.-Find-the-approximate-probability-that-their-intervals-do-not-overlap.-Express-your-answer-in-terms-of-\\phi,-the-cdf-of-the-N(0,1)-distribution.-110\"><span class=\"toc-item-num\">1.10&nbsp;&nbsp;</span>10. Suppose Jack and Jill each collect random samples of size $n$ from a population having unknown mean $\\mu$ but KNOWN variance $\\sigma^2$. They each form an approximate $95\\%$ confidence interval for $\\mu$, using (16.4) but with $s$ replaced by $\\sigma$. Find the approximate probability that their intervals do not overlap. Express your answer in terms of $\\phi$, the cdf of the $N(0,1)$ distribution.</a></div><div class=\"lev2 toc-item\"><a href=\"#11.-In-the-example-of-the-population-of-three-people,-page-263,-find-the-following:\" data-toc-modified-id=\"11.-In-the-example-of-the-population-of-three-people,-page-263,-find-the-following:-111\"><span class=\"toc-item-num\">1.11&nbsp;&nbsp;</span>11. In the example of the population of three people, page 263, find the following:</a></div><div class=\"lev3 toc-item\"><a href=\"#(a)-p_{X_1}(70)\" data-toc-modified-id=\"(a)-p_{X_1}(70)-1111\"><span class=\"toc-item-num\">1.11.1&nbsp;&nbsp;</span>(a) $p_{X_1}(70)$</a></div><div class=\"lev3 toc-item\"><a href=\"#(b)-p_{X_1,X_2}(69,70)\" data-toc-modified-id=\"(b)-p_{X_1,X_2}(69,70)-1112\"><span class=\"toc-item-num\">1.11.2&nbsp;&nbsp;</span>(b) $p_{X_1,X_2}(69,70)$</a></div><div class=\"lev3 toc-item\"><a href=\"#(c)-F_{overline{X}}(69.5)\" data-toc-modified-id=\"(c)-F_{overline{X}}(69.5)-1113\"><span class=\"toc-item-num\">1.11.3&nbsp;&nbsp;</span>(c) $F_{\\overline{X}}(69.5)$</a></div><div class=\"lev3 toc-item\"><a href=\"#(d)-probability-that-overline{X}-overestimates-the-population-mean-\\mu\" data-toc-modified-id=\"(d)-probability-that-overline{X}-overestimates-the-population-mean-\\mu-1114\"><span class=\"toc-item-num\">1.11.4&nbsp;&nbsp;</span>(d) probability that $\\overline{X}$ overestimates the population mean $\\mu$</a></div><div class=\"lev3 toc-item\"><a href=\"#(e)-p_{overline{X}}(69)-if-our-sample-size-is-three-rather-than-two-(remember,-we-are-sampling-with-replacement)\" data-toc-modified-id=\"(e)-p_{overline{X}}(69)-if-our-sample-size-is-three-rather-than-two-(remember,-we-are-sampling-with-replacement)-1115\"><span class=\"toc-item-num\">1.11.5&nbsp;&nbsp;</span>(e) $p_{\\overline{X}}(69)$ if our sample size is three rather than two (remember, we are sampling with replacement)</a></div><div class=\"lev2 toc-item\"><a href=\"#12.-In-the-derivation-(15.8),-suppose-instead-we-have-a-simple-random-sample.-Which-one-of-the-following-statements-is-correct?\" data-toc-modified-id=\"12.-In-the-derivation-(15.8),-suppose-instead-we-have-a-simple-random-sample.-Which-one-of-the-following-statements-is-correct?-112\"><span class=\"toc-item-num\">1.12&nbsp;&nbsp;</span>12. In the derivation (15.8), suppose instead we have a simple random sample. Which one of the following statements is correct?</a></div><div class=\"lev3 toc-item\"><a href=\"#(a)-E(overline{X})-will-still-be-equal-to-\\mu.\" data-toc-modified-id=\"(a)-E(overline{X})-will-still-be-equal-to-\\mu.-1121\"><span class=\"toc-item-num\">1.12.1&nbsp;&nbsp;</span>(a) $E(\\overline{X})$ will still be equal to $\\mu$.</a></div><div class=\"lev3 toc-item\"><a href=\"#(b)-E(overline{X})-will-not-exist.\" data-toc-modified-id=\"(b)-E(overline{X})-will-not-exist.-1122\"><span class=\"toc-item-num\">1.12.2&nbsp;&nbsp;</span>(b) $E(\\overline{X})$ will not exist.</a></div><div class=\"lev3 toc-item\"><a href=\"#(c)-E(overline{X})-will-exist,-but-may-be-less-than-\\mu.\" data-toc-modified-id=\"(c)-E(overline{X})-will-exist,-but-may-be-less-than-\\mu.-1123\"><span class=\"toc-item-num\">1.12.3&nbsp;&nbsp;</span>(c) $E(\\overline{X})$ will exist, but may be less than $\\mu$.</a></div><div class=\"lev3 toc-item\"><a href=\"#(d)-E(overline{X})-will-exist,-but-may-be-greater-than-\\mu.\" data-toc-modified-id=\"(d)-E(overline{X})-will-exist,-but-may-be-greater-than-\\mu.-1124\"><span class=\"toc-item-num\">1.12.4&nbsp;&nbsp;</span>(d) $E(\\overline{X})$ will exist, but may be greater than $\\mu$.</a></div><div class=\"lev3 toc-item\"><a href=\"#(e)-None-of-the-above-is-necessarily-true.\" data-toc-modified-id=\"(e)-None-of-the-above-is-necessarily-true.-1125\"><span class=\"toc-item-num\">1.12.5&nbsp;&nbsp;</span>(e) None of the above is necessarily true.</a></div><div class=\"lev2 toc-item\"><a href=\"#13.-Consider-a-toy-example-in-which-we-take-a-random-sample-of-size-2-(done-with-replacement)-from-a-population-of-size-2.-The-two-values-in-the-population-(say-heights-in-some-measure-system)-are-40-and-60.-Find-p_{s^2}(100).\" data-toc-modified-id=\"13.-Consider-a-toy-example-in-which-we-take-a-random-sample-of-size-2-(done-with-replacement)-from-a-population-of-size-2.-The-two-values-in-the-population-(say-heights-in-some-measure-system)-are-40-and-60.-Find-p_{s^2}(100).-113\"><span class=\"toc-item-num\">1.13&nbsp;&nbsp;</span>13. Consider a toy example in which we take a random sample of size $2$ (done with replacement) from a population of size $2$. The two values in the population (say heights in some measure system) are $40$ and $60$. Find $p_{s^2}(100)$.</a></div>"
   ]
  },
  {
   "cell_type": "code",
   "execution_count": 77,
   "metadata": {
    "collapsed": false
   },
   "outputs": [],
   "source": [
    "import numpy as np\n",
    "from scipy.stats import norm\n",
    "from scipy.stats import multivariate_normal"
   ]
  },
  {
   "cell_type": "markdown",
   "metadata": {},
   "source": [
    "# Exercises"
   ]
  },
  {
   "cell_type": "markdown",
   "metadata": {},
   "source": [
    "## 1. Consider Equation (16.3). In each of the entries in the table below, fill in either R for random or NR for nonrandom:\n",
    "\n",
    "-------------------\n",
    "| quantity | R or NR?|\n",
    "|----------|---------|\n",
    "|$\\overline{W}$| R |\n",
    "| $s$ | R |\n",
    "| $\\mu$ | NR |\n",
    "| $n$ | NR |\n",
    "-----------"
   ]
  },
  {
   "cell_type": "markdown",
   "metadata": {},
   "source": [
    "## 2. Consider $\\hat{p}$, the estimator of a population proportion $p$, based on a sample size $n$. Give the expression for the standard error of $\\hat{p}$."
   ]
  },
  {
   "cell_type": "markdown",
   "metadata": {},
   "source": [
    "Consider example of people voting for Candidate A. Let $Y_i = 0$ if person $i$ is not voting for A, and $1$ otherwise. \n",
    "\n",
    "$$\n",
    "\\begin{equation}\n",
    "\\begin{aligned}\n",
    "    s^2 &= \\sum_{i=1}^n (Y_i^2) - \\overline{Y}^2 \\\\\n",
    "    &= \\sum_{i=1}^n Y_i - \\overline{Y}^2 \\\\\n",
    "    &= \\hat{p} - \\hat{p}^2 && \\text{$\\hat{p} = \\overline{Y}$} \\\\\n",
    "\\end{aligned}\n",
    "\\end{equation}\n",
    "$$\n",
    "\n",
    "$$\n",
    "\\begin{equation}\n",
    "\\begin{aligned}\n",
    "    s.e.(Y) &= \\sqrt{\\frac{s^2}{n}} \\\\\n",
    "    &= \\sqrt{\\frac{\\hat{p}-\\hat{p}^2}{n}}\n",
    "\\end{aligned}\n",
    "\\end{equation}\n",
    "$$"
   ]
  },
  {
   "cell_type": "markdown",
   "metadata": {},
   "source": [
    "## 3. Suppose we take a simple random sample of size 2 from a population consisting of just three values, 66, 67, and 69. Let $\\overline{X}$ denote the resulting sample mean. Find $p_{\\overline{X}}(67.5)$."
   ]
  },
  {
   "cell_type": "markdown",
   "metadata": {},
   "source": [
    "Let $X_1$ be the first pick and $X_2$ be the second. We are interested in $p_{\\overline{X}}(67.5) = P(\\frac{X_1 + X_2}{2} = 67.5)$. Assuming random sampling with replacement, the only way to get this result is by picking a $66$ and a $69$, and vice versa.\n",
    "\n",
    "$$\n",
    "\\begin{equation}\n",
    "\\begin{aligned}\n",
    "    P\\Big(\\frac{X_1 + X_2}{2} = 67.5\\Big) &= P(X_1=66, X_2=69) + P(X_1=69, X_2 = 66) \\\\\n",
    "    &= P(X_1=66)P(X_2=69) + P(X_1=69)P(X_2 = 66) && \\text{indep.} \\\\\n",
    "    &= \\frac{1}{3}\\cdot\\frac{1}{3}+\\frac{1}{3}\\cdot\\frac{1}{3} \\\\\n",
    "    &= \\frac{1}{9}\n",
    "\\end{aligned}\n",
    "\\end{equation}\n",
    "$$\n"
   ]
  },
  {
   "cell_type": "markdown",
   "metadata": {},
   "source": [
    "## 4. Suppose we have a random sample $W_1, ... , W_n$ and we wish to estimate the population mean $\\mu$, as usual. But we decide to place double weight on $W_1$, so our estimator for $\\mu$ is"
   ]
  },
  {
   "cell_type": "markdown",
   "metadata": {},
   "source": [
    "$$\n",
    "\\begin{equation}\n",
    "\\begin{aligned}\n",
    "    U &= \\frac{2W_1 + W_2 + ... + W_n}{n+1}\n",
    "\\end{aligned}\n",
    "\\end{equation}\n",
    "$$\n",
    "\n",
    "Find $E(U)$ and $Var(U)$ in terms of $\\mu$ and the population variance $\\sigma^2$."
   ]
  },
  {
   "cell_type": "markdown",
   "metadata": {},
   "source": [
    "$$\n",
    "\\begin{equation}\n",
    "\\begin{aligned}\n",
    "    E(U) &= \\frac{\\sum_{i=1}^{n+1}W_i}{n+1} && \\text{Let $W_{n+1}=W_1$} \\\\\n",
    "    &= \\overline{W} \\\\ \n",
    "    &= \\mu\n",
    "\\end{aligned}\n",
    "\\end{equation}\n",
    "$$\n"
   ]
  },
  {
   "cell_type": "markdown",
   "metadata": {},
   "source": [
    "$$\n",
    "\\begin{equation}\n",
    "\\begin{aligned}\n",
    "    Var(U) &= Var\\Big(\\frac{2W_1+W_2+...+W_n}{n+1}\\Big) \\\\\n",
    "    &= Var\\Big(\\frac{2}{n+1}\\cdot W_1\\Big) + ... + Var\\Big(\\frac{W_n}{n+1}\\Big) \\\\\n",
    "    &= \\frac{4}{(n+1)^2}\\cdot \\sigma^2 + \\frac{n-1}{(n+1)^2}\\cdot \\sigma^2 \\\\\n",
    "    &= \\frac{n+3}{(n+1)^2}\\cdot \\sigma^2\n",
    "\\end{aligned}\n",
    "\\end{equation}\n",
    "$$\n",
    "\n",
    "Double weighting $W_1$ seems to keep the mean the same as not double weighting it. However, the former slightly increases the variance (compared to $\\frac{\\sigma^2}{n}$)."
   ]
  },
  {
   "cell_type": "markdown",
   "metadata": {},
   "source": [
    "## 5. Suppose a random sample of size $n$ is drawn from a population in which, unknown to the analyst, $X$ actually has an exponential distribution with mean $10$. Suppose the analyst forms an approximate $95%$ confidence interval for the mean, using (16.4). Use R simulation to estimate the true confidence level, for $n=10,25,100$, and $500$."
   ]
  },
  {
   "cell_type": "code",
   "execution_count": 3,
   "metadata": {
    "collapsed": false
   },
   "outputs": [
    {
     "data": {
      "text/plain": [
       "array([ 23.85602335,  10.64944248,   5.11911264,  30.42118786,\n",
       "        16.04987466,   7.04727479,  12.03693781,   3.19927576,\n",
       "         1.45681344,  16.22023303])"
      ]
     },
     "execution_count": 3,
     "metadata": {},
     "output_type": "execute_result"
    }
   ],
   "source": [
    "np.random.exponential(scale=10,size=10)"
   ]
  },
  {
   "cell_type": "code",
   "execution_count": 13,
   "metadata": {
    "collapsed": false,
    "scrolled": true
   },
   "outputs": [
    {
     "data": {
      "text/plain": [
       "1.6448536269514722"
      ]
     },
     "execution_count": 13,
     "metadata": {},
     "output_type": "execute_result"
    }
   ],
   "source": [
    "norm.ppf(0.95)"
   ]
  },
  {
   "cell_type": "code",
   "execution_count": 16,
   "metadata": {
    "collapsed": false,
    "scrolled": false
   },
   "outputs": [
    {
     "data": {
      "text/plain": [
       "-1.9599639845400545"
      ]
     },
     "execution_count": 16,
     "metadata": {},
     "output_type": "execute_result"
    }
   ],
   "source": [
    "norm.ppf(0.025)"
   ]
  },
  {
   "cell_type": "code",
   "execution_count": 18,
   "metadata": {
    "collapsed": false
   },
   "outputs": [],
   "source": [
    "def ci(samples):\n",
    "    mean = samples.mean()\n",
    "    n = len(samples)\n",
    "    var = samples.var()\n",
    "    \n",
    "    return (\n",
    "        mean-1.96*(var/n)**0.5,\n",
    "        mean+1.96*(var/n)**0.5\n",
    "    )"
   ]
  },
  {
   "cell_type": "code",
   "execution_count": 39,
   "metadata": {
    "collapsed": false
   },
   "outputs": [
    {
     "data": {
      "text/plain": [
       "(4.641392927077594, 19.828153110949426)"
      ]
     },
     "execution_count": 39,
     "metadata": {},
     "output_type": "execute_result"
    }
   ],
   "source": [
    "ci(np.random.exponential(scale=10,size=10))"
   ]
  },
  {
   "cell_type": "code",
   "execution_count": 27,
   "metadata": {
    "collapsed": false
   },
   "outputs": [
    {
     "data": {
      "text/plain": [
       "(6.5423782450710473, 17.816808745603467)"
      ]
     },
     "execution_count": 27,
     "metadata": {},
     "output_type": "execute_result"
    }
   ],
   "source": [
    "ci(np.random.exponential(scale=10,size=25))"
   ]
  },
  {
   "cell_type": "code",
   "execution_count": 28,
   "metadata": {
    "collapsed": false
   },
   "outputs": [
    {
     "data": {
      "text/plain": [
       "(9.2056812568392843, 13.482012612096408)"
      ]
     },
     "execution_count": 28,
     "metadata": {},
     "output_type": "execute_result"
    }
   ],
   "source": [
    "ci(np.random.exponential(scale=10,size=100))"
   ]
  },
  {
   "cell_type": "code",
   "execution_count": 30,
   "metadata": {
    "collapsed": false,
    "scrolled": true
   },
   "outputs": [
    {
     "data": {
      "text/plain": [
       "(9.3671140666133645, 11.022289752088664)"
      ]
     },
     "execution_count": 30,
     "metadata": {},
     "output_type": "execute_result"
    }
   ],
   "source": [
    "ci(np.random.exponential(scale=10,size=500))"
   ]
  },
  {
   "cell_type": "code",
   "execution_count": 31,
   "metadata": {
    "collapsed": false,
    "scrolled": true
   },
   "outputs": [
    {
     "data": {
      "text/plain": [
       "(9.3115490697973442, 10.630375739083842)"
      ]
     },
     "execution_count": 31,
     "metadata": {},
     "output_type": "execute_result"
    }
   ],
   "source": [
    "ci(np.random.exponential(scale=10,size=1000))"
   ]
  },
  {
   "cell_type": "code",
   "execution_count": 32,
   "metadata": {
    "collapsed": false,
    "scrolled": true
   },
   "outputs": [
    {
     "data": {
      "text/plain": [
       "(9.9473462258815957, 10.337792012346807)"
      ]
     },
     "execution_count": 32,
     "metadata": {},
     "output_type": "execute_result"
    }
   ],
   "source": [
    "ci(np.random.exponential(scale=10,size=10000))"
   ]
  },
  {
   "cell_type": "code",
   "execution_count": 38,
   "metadata": {
    "collapsed": false,
    "scrolled": true
   },
   "outputs": [
    {
     "data": {
      "text/plain": [
       "(9.8806994628912257, 10.003870074322418)"
      ]
     },
     "execution_count": 38,
     "metadata": {},
     "output_type": "execute_result"
    }
   ],
   "source": [
    "ci(np.random.exponential(scale=10,size=100000))"
   ]
  },
  {
   "cell_type": "markdown",
   "metadata": {},
   "source": [
    "## 6. Suppose we draw a sample of size $2$ from a population in which $X$ has the values $10, 15,$ and $12$. Find $p_{\\overline{X}}$, first assuming sampling with replacement, then assuming sampling without replacement."
   ]
  },
  {
   "cell_type": "markdown",
   "metadata": {},
   "source": [
    "Let $X_1$ be the first pick, and $X_2$ be the second. With replacement, here are all the possible outcomes:\n",
    "\n",
    "-------------\n",
    "|$X_1$ | $X_2$ | $\\overline{X}$ |\n",
    "|------|-------|---------|\n",
    "|10|10|10|\n",
    "|10|15|12.5|\n",
    "|10|12|11|\n",
    "|12|10|11|\n",
    "|12|12|12|\n",
    "|12|15|13.5|\n",
    "|15|10|12.5|\n",
    "|15|12|13.5|\n",
    "|15|15|15|\n",
    "----------\n",
    "\n",
    "Thus $p_{\\overline{X}}$ is the following:\n",
    "\n",
    "-------\n",
    "|   event   |probability|\n",
    "|------------|-----------|\n",
    "|$\\overline{X}=10$|$\\frac{1}{9}$|\n",
    "|$\\overline{X}=15$|$\\frac{1}{9}$|\n",
    "|$\\overline{X}=12$|$\\frac{1}{9}$|\n",
    "|$\\overline{X}=11$|$\\frac{2}{9}$|\n",
    "|$\\overline{X}=12.5$|$\\frac{2}{9}$|\n",
    "|$\\overline{X}=13.5$|$\\frac{2}{9}$|\n",
    "\n",
    "Without replacement, distribution of $\\overline{X}$ becomes the following:\n",
    "\n",
    "-------\n",
    "|   event   |probability|\n",
    "|------------|-----------|\n",
    "|$\\overline{X}=11$|$\\frac{1}{3}$|\n",
    "|$\\overline{X}=12.5$|$\\frac{1}{3}$|\n",
    "|$\\overline{X}=13.5$|$\\frac{1}{3}$|"
   ]
  },
  {
   "cell_type": "markdown",
   "metadata": {},
   "source": [
    "## 7. We ask $100$ randomly sampled programmers whether C++ is their favorite language, and 12 answer yes. Give a numerical expression for an approximate $95%$ confidence interval for the population fraction of programmers who have C++ as their favorite language."
   ]
  },
  {
   "cell_type": "markdown",
   "metadata": {},
   "source": [
    "$\\frac{12}{100} \\pm 1.96\\sqrt{\\frac{\n",
    "    \\frac{12}{100}\\Big(1 - \\frac{12}{100}\\Big)\n",
    "}{100}}$"
   ]
  },
  {
   "cell_type": "code",
   "execution_count": 40,
   "metadata": {
    "collapsed": false,
    "scrolled": true
   },
   "outputs": [
    {
     "data": {
      "text/plain": [
       "0.05630753890765407"
      ]
     },
     "execution_count": 40,
     "metadata": {},
     "output_type": "execute_result"
    }
   ],
   "source": [
    "12/100.0 - 1.96*((12/100.0*(1-12/100.0))/100)**0.5"
   ]
  },
  {
   "cell_type": "code",
   "execution_count": 41,
   "metadata": {
    "collapsed": false,
    "scrolled": true
   },
   "outputs": [
    {
     "data": {
      "text/plain": [
       "0.18369246109234594"
      ]
     },
     "execution_count": 41,
     "metadata": {},
     "output_type": "execute_result"
    }
   ],
   "source": [
    "12/100.0 + 1.96*((12/100.0*(1-12/100.0))/100)**0.5"
   ]
  },
  {
   "cell_type": "code",
   "execution_count": 53,
   "metadata": {
    "collapsed": false,
    "scrolled": true
   },
   "outputs": [
    {
     "data": {
      "text/plain": [
       "(0.05630870927157311, 0.18369129072842688)"
      ]
     },
     "execution_count": 53,
     "metadata": {},
     "output_type": "execute_result"
    }
   ],
   "source": [
    "# Another way\n",
    "norm.interval(0.95, loc=0.12, scale=np.sqrt(0.12*0.88 / 100))"
   ]
  },
  {
   "cell_type": "markdown",
   "metadata": {},
   "source": [
    "## 8. In Equation (16.4), suppose $1.96$ is replaced by $1.88$ in both instances. Then of course the confidence level will be smaller than $95\\%$. Give a call to an R function (not a simulation), that will find the new confidence level."
   ]
  },
  {
   "cell_type": "code",
   "execution_count": 47,
   "metadata": {
    "collapsed": false,
    "scrolled": false
   },
   "outputs": [
    {
     "data": {
      "text/plain": [
       "-1.8807936081512511"
      ]
     },
     "execution_count": 47,
     "metadata": {},
     "output_type": "execute_result"
    }
   ],
   "source": [
    "norm.ppf(0.03)\n",
    "# Thus the CI would be 1 - 2*0.03 = 94%"
   ]
  },
  {
   "cell_type": "code",
   "execution_count": 52,
   "metadata": {
    "collapsed": false
   },
   "outputs": [
    {
     "data": {
      "text/plain": [
       "(0.0588814419847416, 0.18111855801525839)"
      ]
     },
     "execution_count": 52,
     "metadata": {},
     "output_type": "execute_result"
    }
   ],
   "source": [
    "# Applying to question 7, changing 0.95 to 0.94\n",
    "norm.interval(0.94, loc=0.12, scale=np.sqrt(0.12*0.88 / 100))"
   ]
  },
  {
   "cell_type": "code",
   "execution_count": null,
   "metadata": {
    "collapsed": true
   },
   "outputs": [],
   "source": []
  },
  {
   "cell_type": "markdown",
   "metadata": {},
   "source": [
    "## 9. Candidates A, B and C are vying for election. Let $p_1, p_2$ and $p_3$ denote the fractions of people planning to vote for them. We poll $n$ people at random, yielding estimates $\\hat{p_1}, \\hat{p_2}$, and $\\hat{p_3}$. $Y$ claims that she has more supporters than the other two candidates combined. Give a formula for an approximate $95\\%$ confidence interval for $p_2-(p_1+p_3)$."
   ]
  },
  {
   "cell_type": "markdown",
   "metadata": {},
   "source": [
    "Let $A_i$ be $1$ if person $i$ votes for Candidate $A$, $0$ otherwise, etc."
   ]
  },
  {
   "cell_type": "markdown",
   "metadata": {},
   "source": [
    "\n",
    "$$\n",
    "\\begin{equation}\n",
    "\\begin{aligned}\n",
    "    Var(\\hat{p_2}-(\\hat{p_1} + \\hat{p_3})) &= Var(\\hat{p_2}) + Var(\\hat{p_1}) + Var(\\hat{p_3}) \\\\\n",
    "    &\\quad - 2Cov(\\hat{p_2}, \\hat{p_1}) + 2Cov(\\hat{p_3}, \\hat{p_1}) - 2Cov(\\hat{p_2}, \\hat{p_1}) \\\\\n",
    "    &= \\frac{1}{n}\\sum_{i=0}^n A_i^2 - \\overline{A}^2 \\\\\n",
    "    &\\quad + \\frac{1}{n}\\sum_{i=0}^n B_i^2 - \\overline{B}^2 \\\\\n",
    "    &\\quad + \\frac{1}{n}\\sum_{i=0}^n C_i^2 - \\overline{B}^2 \\\\\n",
    "    &\\quad -2\\Big(\\frac{1}{n}\\sum_{i=0}^n A_iB_i - (\\overline{A}\\overline{B})^2\\Big) \\\\\n",
    "    &\\quad -2\\Big(\\frac{1}{n}\\sum_{i=0}^n B_iC_i - (\\overline{B}\\overline{C})^2\\Big) \\\\\n",
    "    &\\quad +2\\Big(\\frac{1}{n}\\sum_{i=0}^n A_iC_i - (\\overline{A}\\overline{C})^2\\Big) \\\\\n",
    "    &= \\frac{1}{n}\\sum_{i=0}^n A_i - \\overline{A}^2 && \\text{$A_i^2=A_i$ since $A_i$ is $0$ or $1$}\\\\\n",
    "    &\\quad + \\frac{1}{n}\\sum_{i=0}^n B_i - \\overline{B}^2 \\\\\n",
    "    &\\quad + \\frac{1}{n}\\sum_{i=0}^n C_i - \\overline{B}^2 \\\\\n",
    "    &\\quad -2\\Big(\\frac{1}{n}\\sum_{i=0}^n A_iB_i - \\overline{A}\\overline{B}\\Big) \\\\\n",
    "    &\\quad -2\\Big(\\frac{1}{n}\\sum_{i=0}^n B_iC_i - \\overline{B}\\overline{C}\\Big) \\\\\n",
    "    &\\quad +2\\Big(\\frac{1}{n}\\sum_{i=0}^n A_iC_i - \\overline{A}\\overline{C}\\Big) \\\\\n",
    "    &= \\hat{p_1}(1-\\hat{p_1}) + \\hat{p_2}(1-\\hat{p_2}) + \\hat{p_3}(1-\\hat{p_3}) \\\\\n",
    "    &\\quad -2\\Big(\\frac{1}{n}\\sum_{i=0}^n A_iB_i - \\overline{A}\\overline{B}\\Big) \\\\\n",
    "    &\\quad -2\\Big(\\frac{1}{n}\\sum_{i=0}^n B_iC_i - \\overline{B}\\overline{C}\\Big) \\\\\n",
    "    &\\quad +2\\Big(\\frac{1}{n}\\sum_{i=0}^n A_iC_i - \\overline{A}\\overline{C}\\Big) \\\\\n",
    "    &= \\hat{p_1}(1-\\hat{p_1}) + \\hat{p_2}(1-\\hat{p_2}) + \\hat{p_3}(1-\\hat{p_3}) \\\\\n",
    "    &\\quad + 2\\hat{p_1}\\hat{p_2} + 2\\hat{p_2}\\hat{p_3} - 2\\hat{p_1}\\hat{p_3} \\\\\n",
    "\\end{aligned}\n",
    "\\end{equation}\n",
    "$$"
   ]
  },
  {
   "cell_type": "markdown",
   "metadata": {},
   "source": [
    "\n",
    "Thus, the $95\\%$ CI for $\\hat{p_2}-(\\hat{p_1}-\\hat{p_3})$ is $\\hat{p_2}-(\\hat{p_1}-\\hat{p_3}) \\pm 1.96 \\cdot \\sqrt{\\frac{\\hat{p_1}(1-\\hat{p_1}) + \\hat{p_2}(1-\\hat{p_2}) + \\hat{p_3}(1-\\hat{p_3}) + 2\\hat{p_1}\\hat{p_2} + 2\\hat{p_2}\\hat{p_3} - 2\\hat{p_1}\\hat{p_3}}{n}}$\n"
   ]
  },
  {
   "cell_type": "markdown",
   "metadata": {},
   "source": [
    "## 10. Suppose Jack and Jill each collect random samples of size $n$ from a population having unknown mean $\\mu$ but KNOWN variance $\\sigma^2$. They each form an approximate $95\\%$ confidence interval for $\\mu$, using (16.4) but with $s$ replaced by $\\sigma$. Find the approximate probability that their intervals do not overlap. Express your answer in terms of $\\phi$, the cdf of the $N(0,1)$ distribution."
   ]
  },
  {
   "cell_type": "code",
   "execution_count": 55,
   "metadata": {
    "collapsed": false
   },
   "outputs": [
    {
     "data": {
      "text/plain": [
       "0.18566094557883606"
      ]
     },
     "execution_count": 55,
     "metadata": {},
     "output_type": "execute_result"
    }
   ],
   "source": [
    "1-norm.cdf(0.894)"
   ]
  },
  {
   "cell_type": "code",
   "execution_count": 56,
   "metadata": {
    "collapsed": false,
    "scrolled": true
   },
   "outputs": [
    {
     "data": {
      "text/plain": [
       "0.024997895148220435"
      ]
     },
     "execution_count": 56,
     "metadata": {},
     "output_type": "execute_result"
    }
   ],
   "source": [
    "norm.cdf(-1.96)"
   ]
  },
  {
   "cell_type": "code",
   "execution_count": 57,
   "metadata": {
    "collapsed": false,
    "scrolled": true
   },
   "outputs": [
    {
     "data": {
      "text/plain": [
       "0.97500210485177952"
      ]
     },
     "execution_count": 57,
     "metadata": {},
     "output_type": "execute_result"
    }
   ],
   "source": [
    "norm.cdf(1.96)"
   ]
  },
  {
   "cell_type": "code",
   "execution_count": 163,
   "metadata": {
    "collapsed": false
   },
   "outputs": [
    {
     "data": {
      "text/plain": [
       "(-2.5758293035489004, 2.5758293035489004)"
      ]
     },
     "execution_count": 163,
     "metadata": {},
     "output_type": "execute_result"
    }
   ],
   "source": [
    "norm.interval(0.99,loc=0,scale=1)"
   ]
  },
  {
   "cell_type": "code",
   "execution_count": 150,
   "metadata": {
    "collapsed": false
   },
   "outputs": [],
   "source": [
    "def sim_jack_jill(\n",
    "    num_samples = 100,\n",
    "    num_experiments = 10000,\n",
    "    known_variance = 1\n",
    "):\n",
    "    \n",
    "    non_overlap_count = 0\n",
    "    jill_means = []\n",
    "    jack_means = []\n",
    "    \n",
    "    for i in range(num_experiments):\n",
    "        \n",
    "        jack_samples = np.random.normal(\n",
    "            size=num_samples,\n",
    "            scale=known_variance\n",
    "        )\n",
    "        \n",
    "        jill_samples = np.random.normal(\n",
    "            size=num_samples,\n",
    "            scale=known_variance\n",
    "        )\n",
    "        \n",
    "        jill_mean = jill_samples.mean()\n",
    "        jack_mean = jack_samples.mean()\n",
    "        \n",
    "        jill_means.append(jill_mean)\n",
    "        jack_means.append(jack_mean)\n",
    "        \n",
    "        jack_lower_bound, jack_upper_bound = norm.interval(\n",
    "            0.95, \n",
    "            loc=jack_mean, \n",
    "            scale=np.sqrt(known_variance / num_samples)\n",
    "        )\n",
    "        \n",
    "        jill_lower_bound, jill_upper_bound = norm.interval(\n",
    "            0.95, \n",
    "            loc=jill_mean, \n",
    "            scale=np.sqrt(known_variance / num_samples)\n",
    "        )\n",
    "        \n",
    "        if (jack_upper_bound < jill_lower_bound \n",
    "            or jill_upper_bound < jack_lower_bound):\n",
    "            non_overlap_count += 1\n",
    "            \n",
    "        \n",
    "    \n",
    "    return (non_overlap_count / float(num_experiments), \n",
    "            jill_means, \n",
    "            jack_means,\n",
    "            known_variance,\n",
    "            num_samples\n",
    "           )\n",
    "        \n",
    "        "
   ]
  },
  {
   "cell_type": "code",
   "execution_count": 123,
   "metadata": {
    "collapsed": false
   },
   "outputs": [],
   "source": [
    "non_overlap_mean, jill_means, jack_means = sim_jack_jill()"
   ]
  },
  {
   "cell_type": "code",
   "execution_count": null,
   "metadata": {
    "collapsed": true
   },
   "outputs": [],
   "source": [
    "1"
   ]
  },
  {
   "cell_type": "code",
   "execution_count": 124,
   "metadata": {
    "collapsed": false
   },
   "outputs": [
    {
     "data": {
      "text/plain": [
       "0.0065"
      ]
     },
     "execution_count": 124,
     "metadata": {},
     "output_type": "execute_result"
    }
   ],
   "source": [
    "non_overlap_mean"
   ]
  },
  {
   "cell_type": "code",
   "execution_count": 179,
   "metadata": {
    "collapsed": false,
    "scrolled": true
   },
   "outputs": [
    {
     "data": {
      "text/plain": [
       "0.005573724535172131"
      ]
     },
     "execution_count": 179,
     "metadata": {},
     "output_type": "execute_result"
    }
   ],
   "source": [
    "2-2*norm.cdf(3.92/np.sqrt(2))"
   ]
  },
  {
   "cell_type": "code",
   "execution_count": 182,
   "metadata": {
    "collapsed": false,
    "scrolled": true
   },
   "outputs": [
    {
     "data": {
      "text/plain": [
       "-0.99442627546482787"
      ]
     },
     "execution_count": 182,
     "metadata": {},
     "output_type": "execute_result"
    }
   ],
   "source": [
    "1-2*norm.cdf(3.92/np.sqrt(2))"
   ]
  },
  {
   "cell_type": "code",
   "execution_count": 181,
   "metadata": {
    "collapsed": false
   },
   "outputs": [
    {
     "data": {
      "text/plain": [
       "0.0531"
      ]
     },
     "execution_count": 181,
     "metadata": {},
     "output_type": "execute_result"
    }
   ],
   "source": [
    "vals = sim_jack_jill(\n",
    "    known_variance=2\n",
    ")\n",
    "vals[0]"
   ]
  },
  {
   "cell_type": "code",
   "execution_count": 126,
   "metadata": {
    "collapsed": false
   },
   "outputs": [
    {
     "name": "stdout",
     "output_type": "stream",
     "text": [
      "Jill means:  -0.102857173591  Jack means:  -0.0316004795441\n"
     ]
    }
   ],
   "source": [
    "print('Jill means: ', jill_means[0], ' Jack means: ', jack_means[0])"
   ]
  },
  {
   "cell_type": "code",
   "execution_count": 177,
   "metadata": {
    "collapsed": false
   },
   "outputs": [
    {
     "data": {
      "text/plain": [
       "-0.71256694046797331"
      ]
     },
     "execution_count": 177,
     "metadata": {},
     "output_type": "execute_result"
    }
   ],
   "source": [
    "(jill_means[0] - jack_means[0])/np.sqrt(1.0/100.0)"
   ]
  },
  {
   "cell_type": "code",
   "execution_count": 178,
   "metadata": {
    "collapsed": false
   },
   "outputs": [
    {
     "data": {
      "text/plain": [
       "-0.50386091565425495"
      ]
     },
     "execution_count": 178,
     "metadata": {},
     "output_type": "execute_result"
    }
   ],
   "source": [
    "(jill_means[0] - jack_means[0])/np.sqrt(2*1.0/100.0)"
   ]
  },
  {
   "cell_type": "code",
   "execution_count": 129,
   "metadata": {
    "collapsed": false
   },
   "outputs": [
    {
     "data": {
      "text/plain": [
       "-0.348442552271924"
      ]
     },
     "execution_count": 129,
     "metadata": {},
     "output_type": "execute_result"
    }
   ],
   "source": [
    "jill_means[0] - jack_means[0] - 1.96*np.sqrt(2/100)"
   ]
  },
  {
   "cell_type": "code",
   "execution_count": 130,
   "metadata": {
    "collapsed": false
   },
   "outputs": [
    {
     "data": {
      "text/plain": [
       "0.20592916417832929"
      ]
     },
     "execution_count": 130,
     "metadata": {},
     "output_type": "execute_result"
    }
   ],
   "source": [
    "jill_means[0] - jack_means[0] + 1.96*np.sqrt(2/100)"
   ]
  },
  {
   "cell_type": "code",
   "execution_count": 136,
   "metadata": {
    "collapsed": false
   },
   "outputs": [
    {
     "data": {
      "text/plain": [
       "-0.50386091565425495"
      ]
     },
     "execution_count": 136,
     "metadata": {},
     "output_type": "execute_result"
    }
   ],
   "source": [
    "(jill_means[0] - jack_means[0])/np.sqrt(2/100)"
   ]
  },
  {
   "cell_type": "code",
   "execution_count": 142,
   "metadata": {
    "collapsed": false
   },
   "outputs": [
    {
     "data": {
      "text/plain": [
       "0.0075273354534704118"
      ]
     },
     "execution_count": 142,
     "metadata": {},
     "output_type": "execute_result"
    }
   ],
   "source": [
    "norm.cdf((jill_means[0] - jack_means[0])/np.sqrt(1/100) - 1.96)*2"
   ]
  },
  {
   "cell_type": "code",
   "execution_count": 172,
   "metadata": {
    "collapsed": true
   },
   "outputs": [],
   "source": [
    "def approx_proba_jill_jack_overlap(\n",
    "    results\n",
    "):\n",
    "    sim_proba = results[0]\n",
    "    jill_mean = results[1]\n",
    "    jack_mean = results[2]\n",
    "    known_variance = results[3]\n",
    "    num_samples = results[4]\n",
    "    \n",
    "    estim_proba = norm.cdf(\n",
    "        (jill_mean[0] - jack_mean[0])/np.sqrt(\n",
    "            2*known_variance/float(num_samples)\n",
    "        ) - 1.96\n",
    "    ) \n",
    "    \n",
    "#     + 1 - norm.cdf(\n",
    "#         (jill_mean[0] - jack_mean[0])/np.sqrt(\n",
    "#             2*known_variance/float(num_samples)\n",
    "#         ) + 1.96\n",
    "#     )\n",
    "    \n",
    "    return sim_proba, estim_proba"
   ]
  },
  {
   "cell_type": "code",
   "execution_count": 173,
   "metadata": {
    "collapsed": false
   },
   "outputs": [
    {
     "data": {
      "text/plain": [
       "(0.0053, 0.080610300838290128)"
      ]
     },
     "execution_count": 173,
     "metadata": {},
     "output_type": "execute_result"
    }
   ],
   "source": [
    "approx_proba_jill_jack_overlap(\n",
    "    sim_jack_jill(\n",
    "        num_samples = 1000,\n",
    "        num_experiments = 10000,\n",
    "        known_variance = 1\n",
    "    )\n",
    ")"
   ]
  },
  {
   "cell_type": "code",
   "execution_count": 174,
   "metadata": {
    "collapsed": false
   },
   "outputs": [
    {
     "data": {
      "text/plain": [
       "(0.004, 0.22444622265684105)"
      ]
     },
     "execution_count": 174,
     "metadata": {},
     "output_type": "execute_result"
    }
   ],
   "source": [
    "approx_proba_jill_jack_overlap(\n",
    "    sim_jack_jill(\n",
    "        num_samples = 10,\n",
    "        num_experiments = 10000,\n",
    "        known_variance = 1\n",
    "    )\n",
    ")"
   ]
  },
  {
   "cell_type": "code",
   "execution_count": 175,
   "metadata": {
    "collapsed": false
   },
   "outputs": [
    {
     "data": {
      "text/plain": [
       "(0.0461, 0.0038102523984158399)"
      ]
     },
     "execution_count": 175,
     "metadata": {},
     "output_type": "execute_result"
    }
   ],
   "source": [
    "approx_proba_jill_jack_overlap(\n",
    "    sim_jack_jill(\n",
    "        num_samples = 100,\n",
    "        num_experiments = 10000,\n",
    "        known_variance = 2\n",
    "    )\n",
    ")"
   ]
  },
  {
   "cell_type": "code",
   "execution_count": 155,
   "metadata": {
    "collapsed": false
   },
   "outputs": [
    {
     "data": {
      "text/plain": [
       "0.10611937547730632"
      ]
     },
     "execution_count": 155,
     "metadata": {},
     "output_type": "execute_result"
    }
   ],
   "source": [
    "1 - norm.cdf((jill_means[0] - jack_means[0])/np.sqrt(1/100) + 1.96)"
   ]
  },
  {
   "cell_type": "code",
   "execution_count": 132,
   "metadata": {
    "collapsed": false,
    "scrolled": true
   },
   "outputs": [
    {
     "data": {
      "text/plain": [
       "0.36376990126223635"
      ]
     },
     "execution_count": 132,
     "metadata": {},
     "output_type": "execute_result"
    }
   ],
   "source": [
    "norm.cdf(-0.3484)"
   ]
  },
  {
   "cell_type": "code",
   "execution_count": 134,
   "metadata": {
    "collapsed": false,
    "scrolled": true
   },
   "outputs": [
    {
     "data": {
      "text/plain": [
       "0.41843451272422039"
      ]
     },
     "execution_count": 134,
     "metadata": {},
     "output_type": "execute_result"
    }
   ],
   "source": [
    "1- norm.cdf(.2059)"
   ]
  },
  {
   "cell_type": "code",
   "execution_count": null,
   "metadata": {
    "collapsed": true
   },
   "outputs": [],
   "source": []
  },
  {
   "cell_type": "code",
   "execution_count": 127,
   "metadata": {
    "collapsed": false,
    "scrolled": true
   },
   "outputs": [
    {
     "data": {
      "text/plain": [
       "0.38252457873727808"
      ]
     },
     "execution_count": 127,
     "metadata": {},
     "output_type": "execute_result"
    }
   ],
   "source": [
    "norm.cdf(-0.102857-1.96*1/10.0)"
   ]
  },
  {
   "cell_type": "code",
   "execution_count": 113,
   "metadata": {
    "collapsed": false
   },
   "outputs": [
    {
     "data": {
      "text/plain": [
       "0.00614"
      ]
     },
     "execution_count": 113,
     "metadata": {},
     "output_type": "execute_result"
    }
   ],
   "source": [
    "sim_jack_jill(num_experiments=100000)"
   ]
  },
  {
   "cell_type": "code",
   "execution_count": 114,
   "metadata": {
    "collapsed": false
   },
   "outputs": [
    {
     "data": {
      "text/plain": [
       "0.0509"
      ]
     },
     "execution_count": 114,
     "metadata": {},
     "output_type": "execute_result"
    }
   ],
   "source": [
    "sim_jack_jill(known_variance=2)"
   ]
  },
  {
   "cell_type": "code",
   "execution_count": 115,
   "metadata": {
    "collapsed": false
   },
   "outputs": [
    {
     "data": {
      "text/plain": [
       "0.05003"
      ]
     },
     "execution_count": 115,
     "metadata": {},
     "output_type": "execute_result"
    }
   ],
   "source": [
    "sim_jack_jill(known_variance=2, num_experiments=100000)"
   ]
  },
  {
   "cell_type": "code",
   "execution_count": 73,
   "metadata": {
    "collapsed": false,
    "scrolled": true
   },
   "outputs": [
    {
     "data": {
      "text/plain": [
       "0.25"
      ]
     },
     "execution_count": 73,
     "metadata": {},
     "output_type": "execute_result"
    }
   ],
   "source": [
    "norm.cdf(0)**2"
   ]
  },
  {
   "cell_type": "code",
   "execution_count": 118,
   "metadata": {
    "collapsed": false,
    "scrolled": true
   },
   "outputs": [
    {
     "data": {
      "text/plain": [
       "0.30547851087010536"
      ]
     },
     "execution_count": 118,
     "metadata": {},
     "output_type": "execute_result"
    }
   ],
   "source": [
    "2*norm.cdf(-1.96*np.sqrt(2)/10)**2"
   ]
  },
  {
   "cell_type": "code",
   "execution_count": 108,
   "metadata": {
    "collapsed": false
   },
   "outputs": [
    {
     "data": {
      "text/plain": [
       "array([[ 0.24847129, -0.87107012],\n",
       "       [-1.36702977,  1.93345941],\n",
       "       [-1.50152161, -0.18800687],\n",
       "       ..., \n",
       "       [-1.10665808, -0.57836826],\n",
       "       [-0.93147905, -0.66316393],\n",
       "       [ 0.17826474, -0.34825594]])"
      ]
     },
     "execution_count": 108,
     "metadata": {},
     "output_type": "execute_result"
    }
   ],
   "source": [
    "samps = np.random.multivariate_normal(\n",
    "    mean=[0,0],\n",
    "    cov=[\n",
    "        [1,0 ],\n",
    "        [0,1 ]\n",
    "    ],\n",
    "    size=100000\n",
    "); samps"
   ]
  },
  {
   "cell_type": "code",
   "execution_count": 109,
   "metadata": {
    "collapsed": false
   },
   "outputs": [
    {
     "data": {
      "text/plain": [
       "0.0012099999999999999"
      ]
     },
     "execution_count": 109,
     "metadata": {},
     "output_type": "execute_result"
    }
   ],
   "source": [
    "(\n",
    "    (\n",
    "        (samps.T[0] < -1.96) * (samps.T[1] > 1.96)\n",
    "    ).sum() + (\n",
    "        (samps.T[1] < -1.96) * (samps.T[0] > 1.96)\n",
    "    ).sum()\n",
    ") / float(100000)\n"
   ]
  },
  {
   "cell_type": "markdown",
   "metadata": {},
   "source": [
    "## 11. In the example of the population of three people, page 263, find the following:"
   ]
  },
  {
   "cell_type": "markdown",
   "metadata": {},
   "source": [
    "### (a) $p_{X_1}(70)$\n"
   ]
  },
  {
   "cell_type": "markdown",
   "metadata": {},
   "source": [
    "### (b) $p_{X_1,X_2}(69,70)$"
   ]
  },
  {
   "cell_type": "markdown",
   "metadata": {},
   "source": [
    "### (c) $F_{\\overline{X}}(69.5)$\n"
   ]
  },
  {
   "cell_type": "markdown",
   "metadata": {},
   "source": [
    "### (d) probability that $\\overline{X}$ overestimates the population mean $\\mu$"
   ]
  },
  {
   "cell_type": "markdown",
   "metadata": {},
   "source": [
    "### (e) $p_{\\overline{X}}(69)$ if our sample size is three rather than two (remember, we are sampling with replacement)"
   ]
  },
  {
   "cell_type": "markdown",
   "metadata": {},
   "source": [
    "## 12. In the derivation (15.8), suppose instead we have a simple random sample. Which one of the following statements is correct?"
   ]
  },
  {
   "cell_type": "markdown",
   "metadata": {},
   "source": [
    "### (a) $E(\\overline{X})$ will still be equal to $\\mu$."
   ]
  },
  {
   "cell_type": "markdown",
   "metadata": {},
   "source": [
    "### (b) $E(\\overline{X})$ will not exist."
   ]
  },
  {
   "cell_type": "markdown",
   "metadata": {},
   "source": [
    "### (c) $E(\\overline{X})$ will exist, but may be less than $\\mu$."
   ]
  },
  {
   "cell_type": "markdown",
   "metadata": {},
   "source": [
    "### (d) $E(\\overline{X})$ will exist, but may be greater than $\\mu$."
   ]
  },
  {
   "cell_type": "markdown",
   "metadata": {},
   "source": [
    "### (e) None of the above is necessarily true."
   ]
  },
  {
   "cell_type": "markdown",
   "metadata": {},
   "source": [
    "## 13. Consider a toy example in which we take a random sample of size $2$ (done with replacement) from a population of size $2$. The two values in the population (say heights in some measure system) are $40$ and $60$. Find $p_{s^2}(100)$."
   ]
  },
  {
   "cell_type": "code",
   "execution_count": null,
   "metadata": {
    "collapsed": true
   },
   "outputs": [],
   "source": []
  }
 ],
 "metadata": {
  "kernelspec": {
   "display_name": "Python 3",
   "language": "python",
   "name": "python3"
  },
  "language_info": {
   "codemirror_mode": {
    "name": "ipython",
    "version": 3
   },
   "file_extension": ".py",
   "mimetype": "text/x-python",
   "name": "python",
   "nbconvert_exporter": "python",
   "pygments_lexer": "ipython3",
   "version": "3.6.0"
  },
  "toc": {
   "colors": {
    "hover_highlight": "#DAA520",
    "navigate_num": "#000000",
    "navigate_text": "#333333",
    "running_highlight": "#FF0000",
    "selected_highlight": "#FFD700",
    "sidebar_border": "#EEEEEE",
    "wrapper_background": "#FFFFFF"
   },
   "moveMenuLeft": true,
   "nav_menu": {
    "height": "503px",
    "width": "253px"
   },
   "navigate_menu": true,
   "number_sections": false,
   "sideBar": true,
   "threshold": "5",
   "toc_cell": true,
   "toc_section_display": "block",
   "toc_window_display": true,
   "widenNotebook": false
  }
 },
 "nbformat": 4,
 "nbformat_minor": 2
}
