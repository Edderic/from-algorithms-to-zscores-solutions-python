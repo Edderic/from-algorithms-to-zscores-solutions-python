{
 "cells": [
  {
   "cell_type": "markdown",
   "metadata": {
    "toc": "true"
   },
   "source": [
    "# Table of Contents\n",
    " <p><div class=\"lev1 toc-item\"><a href=\"#Chapter-2-Solutions\" data-toc-modified-id=\"Chapter-2-Solutions-1\"><span class=\"toc-item-num\">1&nbsp;&nbsp;</span>Chapter 2 Solutions</a></div><div class=\"lev3 toc-item\"><a href=\"#Sanity-Checks\" data-toc-modified-id=\"Sanity-Checks-101\"><span class=\"toc-item-num\">1.0.1&nbsp;&nbsp;</span>Sanity Checks</a></div><div class=\"lev4 toc-item\"><a href=\"#Equation-(2.1)-in-the-book-says-P(X_1=2)-=-0.52-\" data-toc-modified-id=\"Equation-(2.1)-in-the-book-says-P(X_1=2)-=-0.52--1011\"><span class=\"toc-item-num\">1.0.1.1&nbsp;&nbsp;</span>Equation (2.1) in the book says $P(X_1=2) = 0.52 $</a></div><div class=\"lev4 toc-item\"><a href=\"#Equation-(2.16)-in-the-book-says-P(X_1=1)-=-0.48-\" data-toc-modified-id=\"Equation-(2.16)-in-the-book-says-P(X_1=1)-=-0.48--1012\"><span class=\"toc-item-num\">1.0.1.2&nbsp;&nbsp;</span>Equation (2.16) in the book says $P(X_1=1) = 0.48 $</a></div><div class=\"lev4 toc-item\"><a href=\"#Equation-(2.17)-in-the-book-says-P(X_2=2-mid-X_1=1)-=-0.41-\" data-toc-modified-id=\"Equation-(2.17)-in-the-book-says-P(X_2=2-mid-X_1=1)-=-0.41--1013\"><span class=\"toc-item-num\">1.0.1.3&nbsp;&nbsp;</span>Equation (2.17) in the book says $P(X_2=2 \\mid X_1=1) = 0.41 $</a></div><div class=\"lev4 toc-item\"><a href=\"#Equation-(2.18)-in-the-book-says-P(X_1=1-mid-X_2=2)-=-0.43-\" data-toc-modified-id=\"Equation-(2.18)-in-the-book-says-P(X_1=1-mid-X_2=2)-=-0.43--1014\"><span class=\"toc-item-num\">1.0.1.4&nbsp;&nbsp;</span>Equation (2.18) in the book says $P(X_1=1 \\mid X_2=2) = 0.43 $</a></div><div class=\"lev4 toc-item\"><a href=\"#Equation-(2.19)-in-the-book-says-P(X_1=2-text{-or-}-X_2=2)-=-0.72-\" data-toc-modified-id=\"Equation-(2.19)-in-the-book-says-P(X_1=2-text{-or-}-X_2=2)-=-0.72--1015\"><span class=\"toc-item-num\">1.0.1.5&nbsp;&nbsp;</span>Equation (2.19) in the book says $P(X_1=2 \\text{ or } X_2=2) = 0.72 $</a></div><div class=\"lev3 toc-item\"><a href=\"#(a)-Calculate-P(X_{1}-=-2-text{-and-}-X_{2}-=-1),-for-the-same-values-of-p-and-q-in-the-examples.\" data-toc-modified-id=\"(a)-Calculate-P(X_{1}-=-2-text{-and-}-X_{2}-=-1),-for-the-same-values-of-p-and-q-in-the-examples.-102\"><span class=\"toc-item-num\">1.0.2&nbsp;&nbsp;</span>(a) Calculate $P(X_{1} = 2 \\text{ and } X_{2} = 1)$, for the same values of $p$ and $q$ in the examples.</a></div><div class=\"lev3 toc-item\"><a href=\"#(b)-Find-P(X_{2}-=-0)\" data-toc-modified-id=\"(b)-Find-P(X_{2}-=-0)-103\"><span class=\"toc-item-num\">1.0.3&nbsp;&nbsp;</span>(b) Find $P(X_{2} = 0)$</a></div><div class=\"lev3 toc-item\"><a href=\"#(c)-Find-P(X_{1}-=-1-mid-X_{2}-=-1)\" data-toc-modified-id=\"(c)-Find-P(X_{1}-=-1-mid-X_{2}-=-1)-104\"><span class=\"toc-item-num\">1.0.4&nbsp;&nbsp;</span>(c) Find $P(X_{1} = 1 \\mid X_{2} = 1)$</a></div><div class=\"lev2 toc-item\"><a href=\"#2.--Urn-I-contains-three-blue-marbles-and-three-yellow-ones,-while-Urn-II-contains-five-and-seven-of-these-colors.-We-draw-a-marble-at-random-from-Urn-I-and-place-it-in-Urn-II.-We-then-draw-a-marble-at-random-from-Urn-II.\" data-toc-modified-id=\"2.--Urn-I-contains-three-blue-marbles-and-three-yellow-ones,-while-Urn-II-contains-five-and-seven-of-these-colors.-We-draw-a-marble-at-random-from-Urn-I-and-place-it-in-Urn-II.-We-then-draw-a-marble-at-random-from-Urn-II.-11\"><span class=\"toc-item-num\">1.1&nbsp;&nbsp;</span>2.  Urn I contains three blue marbles and three yellow ones, while Urn II contains five and seven of these colors. We draw a marble at random from Urn I and place it in Urn II. We then draw a marble at random from Urn II.</a></div><div class=\"lev3 toc-item\"><a href=\"#a.-Find-P(text{second-marble-drawn-is-blue})\" data-toc-modified-id=\"a.-Find-P(text{second-marble-drawn-is-blue})-111\"><span class=\"toc-item-num\">1.1.1&nbsp;&nbsp;</span>a. Find $P(\\text{second marble drawn is blue})$</a></div><div class=\"lev3 toc-item\"><a href=\"#a.-Find-P(text{first-marble-drawn-is-blue}-\\mid-\\text{second-marble-drawn-is-blue})\" data-toc-modified-id=\"a.-Find-P(text{first-marble-drawn-is-blue}-\\mid-\\text{second-marble-drawn-is-blue})-112\"><span class=\"toc-item-num\">1.1.2&nbsp;&nbsp;</span>a. Find $P(\\text{first marble drawn is blue} \\mid \\text{second marble drawn is blue})$</a></div><div class=\"lev2 toc-item\"><a href=\"#3.-Consider-the-example-of-association-rules-in-Section-2.15.4.-How-many-two-antecedent,-two--consequent-rules-are-possible-from-20-items?-Express-your-answer-in-terms-of-combinatorial-(“n-choose-k”)-symbols.\" data-toc-modified-id=\"3.-Consider-the-example-of-association-rules-in-Section-2.15.4.-How-many-two-antecedent,-two--consequent-rules-are-possible-from-20-items?-Express-your-answer-in-terms-of-combinatorial-(“n-choose-k”)-symbols.-12\"><span class=\"toc-item-num\">1.2&nbsp;&nbsp;</span>3. Consider the example of association rules in Section 2.15.4. How many two-antecedent, two- consequent rules are possible from 20 items? Express your answer in terms of combinatorial (“n choose k”) symbols.</a></div><div class=\"lev3 toc-item\"><a href=\"#Simplification-of-the-problem:-How-many-two-antecedent,-two-consequent-rules-are-possible-from-5-items?\" data-toc-modified-id=\"Simplification-of-the-problem:-How-many-two-antecedent,-two-consequent-rules-are-possible-from-5-items?-121\"><span class=\"toc-item-num\">1.2.1&nbsp;&nbsp;</span>Simplification of the problem: How many two-antecedent, two-consequent rules are possible from 5 items?</a></div><div class=\"lev3 toc-item\"><a href=\"#Here-are-all-the-possible-configurations:\" data-toc-modified-id=\"Here-are-all-the-possible-configurations:-122\"><span class=\"toc-item-num\">1.2.2&nbsp;&nbsp;</span>Here are all the possible configurations:</a></div><div class=\"lev2 toc-item\"><a href=\"#4.-Suppose-20%-of-all-C++-programs-have-at-least-one-major-bug.-Out-of-five-programs,-what-is-the-probability-that-exactly-two-of-them-have-a-major-bug?\" data-toc-modified-id=\"4.-Suppose-20%-of-all-C++-programs-have-at-least-one-major-bug.-Out-of-five-programs,-what-is-the-probability-that-exactly-two-of-them-have-a-major-bug?-13\"><span class=\"toc-item-num\">1.3&nbsp;&nbsp;</span>4. Suppose 20% of all C++ programs have at least one major bug. Out of five programs, what is the probability that exactly two of them have a major bug?</a></div><div class=\"lev2 toc-item\"><a href=\"#5.-Assume-the-ALOHA-network-model-as-in-Section-2.1,-i.e.-m-=-2-and-X_0-=-2,-but-with-general-values-for-p-and-q.-Find-the-probability-that-a-new-message-is-created-during-epoch-2.\" data-toc-modified-id=\"5.-Assume-the-ALOHA-network-model-as-in-Section-2.1,-i.e.-m-=-2-and-X_0-=-2,-but-with-general-values-for-p-and-q.-Find-the-probability-that-a-new-message-is-created-during-epoch-2.-14\"><span class=\"toc-item-num\">1.4&nbsp;&nbsp;</span>5. Assume the ALOHA network model as in Section 2.1, i.e. $m = 2$ and $X_0 = 2$, but with general values for $p$ and $q$. Find the probability that a new message is created during epoch 2.</a></div><div class=\"lev2 toc-item\"><a href=\"#6.-You-bought-three-tickets-in-a-lottery,-for-which-60-tickets-were-sold-in-all.-There-will-be-five-prizes-given.-Find-the-probability-that-you-win-at-least-one-prize,-and-the-probability-that-you-win-exactly-one-prize.\" data-toc-modified-id=\"6.-You-bought-three-tickets-in-a-lottery,-for-which-60-tickets-were-sold-in-all.-There-will-be-five-prizes-given.-Find-the-probability-that-you-win-at-least-one-prize,-and-the-probability-that-you-win-exactly-one-prize.-15\"><span class=\"toc-item-num\">1.5&nbsp;&nbsp;</span>6. You bought three tickets in a lottery, for which 60 tickets were sold in all. There will be five prizes given. Find the probability that you win at least one prize, and the probability that you win exactly one prize.</a></div><div class=\"lev3 toc-item\"><a href=\"#P(win-geq-1)\" data-toc-modified-id=\"P(win-geq-1)-151\"><span class=\"toc-item-num\">1.5.1&nbsp;&nbsp;</span>$P(win \\geq 1)$</a></div><div class=\"lev3 toc-item\"><a href=\"#P(win-=-1)\" data-toc-modified-id=\"P(win-=-1)-152\"><span class=\"toc-item-num\">1.5.2&nbsp;&nbsp;</span>$P(win = 1)$</a></div><div class=\"lev2 toc-item\"><a href=\"#7.-Two-five-person-committees-are-to-be-formed-from-your-group-of-20-people.-In-order-to-foster-communication,-we-set-a-requirement-that-the-two-committees-have-the-same-chair-but-no-other-overlap.-Find-the-probability-that-you-and-your-friend-are-both-chosen-for-some-committee.\" data-toc-modified-id=\"7.-Two-five-person-committees-are-to-be-formed-from-your-group-of-20-people.-In-order-to-foster-communication,-we-set-a-requirement-that-the-two-committees-have-the-same-chair-but-no-other-overlap.-Find-the-probability-that-you-and-your-friend-are-both-chosen-for-some-committee.-16\"><span class=\"toc-item-num\">1.6&nbsp;&nbsp;</span>7. Two five-person committees are to be formed from your group of 20 people. In order to foster communication, we set a requirement that the two committees have the same chair but no other overlap. Find the probability that you and your friend are both chosen for some committee.</a></div><div class=\"lev2 toc-item\"><a href=\"#8.-Consider-a-device-that-lasts-either-one,-two-or-three-months,-with-probabilities-0.1,-0.7-and-0.2,-respectively.-We-carry-one-spare.-Find-the-probability-that-we-have-some-device-still-working-just-before-four-months-have-elapsed.\" data-toc-modified-id=\"8.-Consider-a-device-that-lasts-either-one,-two-or-three-months,-with-probabilities-0.1,-0.7-and-0.2,-respectively.-We-carry-one-spare.-Find-the-probability-that-we-have-some-device-still-working-just-before-four-months-have-elapsed.-17\"><span class=\"toc-item-num\">1.7&nbsp;&nbsp;</span>8. Consider a device that lasts either one, two or three months, with probabilities 0.1, 0.7 and 0.2, respectively. We carry one spare. Find the probability that we have some device still working just before four months have elapsed.</a></div><div class=\"lev2 toc-item\"><a href=\"#9.-A-building-has-six-floors,-and-is-served-by-two-freight-elevators,-named-Mike-and-Ike.-The-destination-floor-of-any-order-of-freight-is-equally-likely-to-be-any-of-floors-2-through-6.-Once-an-elevator-reaches-any-of-these-floors,-it-stays-there-until-summoned.\" data-toc-modified-id=\"9.-A-building-has-six-floors,-and-is-served-by-two-freight-elevators,-named-Mike-and-Ike.-The-destination-floor-of-any-order-of-freight-is-equally-likely-to-be-any-of-floors-2-through-6.-Once-an-elevator-reaches-any-of-these-floors,-it-stays-there-until-summoned.-18\"><span class=\"toc-item-num\">1.8&nbsp;&nbsp;</span>9. A building has six floors, and is served by two freight elevators, named Mike and Ike. The destination floor of any order of freight is equally likely to be any of floors 2 through 6. Once an elevator reaches any of these floors, it stays there until summoned.</a></div><div class=\"lev2 toc-item\"><a href=\"#10.-Without-resorting-to-using-the-fact-that--{n-choose-k}--=-n!/[k!(n-−-k!)],-find-c-and-d-such-that\" data-toc-modified-id=\"10.-Without-resorting-to-using-the-fact-that--{n-choose-k}--=-n!/[k!(n-−-k!)],-find-c-and-d-such-that-19\"><span class=\"toc-item-num\">1.9&nbsp;&nbsp;</span>10. Without resorting to using the fact that  ${n \\choose k}  = n!/[k!(n − k!)]$, find c and d such that</a></div><div class=\"lev2 toc-item\"><a href=\"#11.-Consider-the-ALOHA-example-from-the-text,-for-general-p-and-q,-and-suppose-that-X_0-=-0,-i.e.-there-are-no-active-nodes-at-the-beginning-of-our-observation-period.-Find-P(X_1-=-0).\" data-toc-modified-id=\"11.-Consider-the-ALOHA-example-from-the-text,-for-general-p-and-q,-and-suppose-that-X_0-=-0,-i.e.-there-are-no-active-nodes-at-the-beginning-of-our-observation-period.-Find-P(X_1-=-0).-110\"><span class=\"toc-item-num\">1.10&nbsp;&nbsp;</span>11. Consider the ALOHA example from the text, for general p and q, and suppose that $X_0 = 0$, i.e. there are no active nodes at the beginning of our observation period. Find $P(X_1 = 0)$.</a></div><div class=\"lev2 toc-item\"><a href=\"#12.-Consider-a-three-sided-die,-as-opposed-to-the-standard-six-sided-type.-The-die-is-cylinder--shaped,-and-gives-equal-probabilities-to-one,-two-and-three-dots.-The-game-is-to-keep-rolling-the-die-until-we-get-a-total-of-at-least-3.-Let-N-denote-the-number-of-times-we-roll-the-die.-For-example,-if-we-get-a-3-on-the-first-roll,-N=1.-If-we-get-a-2-on-the-first-roll,-then-N-will-be-2-no-matter-what-we-get-the-second-time.-The-largest-N-can-be-is-3.-The-rule-is-that-one-wins-if-one’s-final-total-is-exactly-3.\" data-toc-modified-id=\"12.-Consider-a-three-sided-die,-as-opposed-to-the-standard-six-sided-type.-The-die-is-cylinder--shaped,-and-gives-equal-probabilities-to-one,-two-and-three-dots.-The-game-is-to-keep-rolling-the-die-until-we-get-a-total-of-at-least-3.-Let-N-denote-the-number-of-times-we-roll-the-die.-For-example,-if-we-get-a-3-on-the-first-roll,-N=1.-If-we-get-a-2-on-the-first-roll,-then-N-will-be-2-no-matter-what-we-get-the-second-time.-The-largest-N-can-be-is-3.-The-rule-is-that-one-wins-if-one’s-final-total-is-exactly-3.-111\"><span class=\"toc-item-num\">1.11&nbsp;&nbsp;</span>12. Consider a three-sided die, as opposed to the standard six-sided type. The die is cylinder- shaped, and gives equal probabilities to one, two and three dots. The game is to keep rolling the die until we get a total of at least $3$. Let N denote the number of times we roll the die. For example, if we get a $3$ on the first roll, $N=1$. If we get a $2$ on the first roll, then $N$ will be $2$ no matter what we get the second time. The largest $N$ can be is $3$. The rule is that one wins if one’s final total is exactly $3$.</a></div><div class=\"lev3 toc-item\"><a href=\"#(a)-Find-the-probability-of-winning:\" data-toc-modified-id=\"(a)-Find-the-probability-of-winning:-1111\"><span class=\"toc-item-num\">1.11.1&nbsp;&nbsp;</span>(a) Find the probability of winning:</a></div><div class=\"lev3 toc-item\"><a href=\"#(b)-Find-P(text{our-first-roll-was-a-1}-\\mid-\\text{we-won}):\" data-toc-modified-id=\"(b)-Find-P(text{our-first-roll-was-a-1}-\\mid-\\text{we-won}):-1112\"><span class=\"toc-item-num\">1.11.2&nbsp;&nbsp;</span>(b) Find $P(\\text{our first roll was a 1} \\mid \\text{we won})$:</a></div><div class=\"lev3 toc-item\"><a href=\"#(c)-How-could-we-construct-such-a-die?\" data-toc-modified-id=\"(c)-How-could-we-construct-such-a-die?-1113\"><span class=\"toc-item-num\">1.11.3&nbsp;&nbsp;</span>(c) How could we construct such a die?</a></div><div class=\"lev2 toc-item\"><a href=\"#14.-Jack-and-Jill-keep-rolling-a-four-sided-and-a-three-sided-die,-respectively.-The-first-player-to-get-the-face-having-just-one-dot-wins,-except-that-if-they-both-get-a-1,-it’s-a-tie,-and-play-continues.-Let-N-denote-the-number-of-turns-needed.-Find-the-following:\" data-toc-modified-id=\"14.-Jack-and-Jill-keep-rolling-a-four-sided-and-a-three-sided-die,-respectively.-The-first-player-to-get-the-face-having-just-one-dot-wins,-except-that-if-they-both-get-a-1,-it’s-a-tie,-and-play-continues.-Let-N-denote-the-number-of-turns-needed.-Find-the-following:-112\"><span class=\"toc-item-num\">1.12&nbsp;&nbsp;</span>14. Jack and Jill keep rolling a four-sided and a three-sided die, respectively. The first player to get the face having just one dot wins, except that if they both get a 1, it’s a tie, and play continues. Let N denote the number of turns needed. Find the following:</a></div><div class=\"lev3 toc-item\"><a href=\"#(a)-P(N=1),-P(N=2)\" data-toc-modified-id=\"(a)-P(N=1),-P(N=2)-1121\"><span class=\"toc-item-num\">1.12.1&nbsp;&nbsp;</span>(a) $P(N=1), P(N=2)$</a></div><div class=\"lev3 toc-item\"><a href=\"#(b)-P(text{the-first-turn-resulted-in-a-tie}-\\mid-N=2)\" data-toc-modified-id=\"(b)-P(text{the-first-turn-resulted-in-a-tie}-\\mid-N=2)-1122\"><span class=\"toc-item-num\">1.12.2&nbsp;&nbsp;</span>(b) $P(\\text{the first turn resulted in a tie} \\mid N=2)$</a></div><div class=\"lev2 toc-item\"><a href=\"#15.-In-the-ALOHA-network-example-in-Sec.-1.1,-suppose-X_0-=-1,-i.e.-we-start-out-with-just-one-active-node.-Find-P(X_2-=-0),-as-an-expression-in-p-and-q.\" data-toc-modified-id=\"15.-In-the-ALOHA-network-example-in-Sec.-1.1,-suppose-X_0-=-1,-i.e.-we-start-out-with-just-one-active-node.-Find-P(X_2-=-0),-as-an-expression-in-p-and-q.-113\"><span class=\"toc-item-num\">1.13&nbsp;&nbsp;</span>15. In the ALOHA network example in Sec. 1.1, suppose $X_0 = 1$, i.e. we start out with just one active node. Find $P(X_2 = 0)$, as an expression in $p$ and $q$.</a></div><div class=\"lev2 toc-item\"><a href=\"#16.-Suppose-a-box-contains-two-pennies,-three-nickels-and-five-dimes.-During-transport,-two-coins-fall-out,-unseen-by-the-bearer.-Assume-each-type-of-coin-is-equally-likely-to-fall-out.-Find:-P(text{at-least-\\0.10-worth-of-money-is-lost});-P(\\text{both-lost-coins-are-of-the-same-denomination})\" data-toc-modified-id=\"16.-Suppose-a-box-contains-two-pennies,-three-nickels-and-five-dimes.-During-transport,-two-coins-fall-out,-unseen-by-the-bearer.-Assume-each-type-of-coin-is-equally-likely-to-fall-out.-Find:-P(text{at-least-\\0.10-worth-of-money-is-lost});-P(\\text{both-lost-coins-are-of-the-same-denomination})-114\"><span class=\"toc-item-num\">1.14&nbsp;&nbsp;</span>16. Suppose a box contains two pennies, three nickels and five dimes. During transport, two coins fall out, unseen by the bearer. Assume each type of coin is equally likely to fall out. Find: $P(\\text{at least \\$0.10 worth of money is lost})$; $P(\\text{both lost coins are of the same denomination})$</a></div><div class=\"lev2 toc-item\"><a href=\"#Suppose-we-have-the-track-record-of-a-certain-weather-forecaster.-Of-the-days-for-which-he-predicts-rain,-a-fraction-c-actually-do-have-rain.-Among-days-for-which-he-predicts-no-rain,-he-is-correct-a-fraction-d-of-the-time.-Among-all-days,-he-predicts-rain-g-of-the-time,-and-predicts-no-rain-1-g-of-the-time.-Find-P(text{he-predicted-rain}-\\mid-\\text{it-does-rain}),-P(\\text{he-predicts-wrong})-and-P(\\text{it-does-rain-—-he-was-wrong}).-Write-R-simulation-code-to-verify.-(Partial-answer:-For-the-case-c-=-0.8,-d-=-0.6-and-g-=-0.2,-P(\\text{he-predicted-rain}-\\mid-\\text{it-does-rain})-=-1/3.)\" data-toc-modified-id=\"Suppose-we-have-the-track-record-of-a-certain-weather-forecaster.-Of-the-days-for-which-he-predicts-rain,-a-fraction-c-actually-do-have-rain.-Among-days-for-which-he-predicts-no-rain,-he-is-correct-a-fraction-d-of-the-time.-Among-all-days,-he-predicts-rain-g-of-the-time,-and-predicts-no-rain-1-g-of-the-time.-Find-P(text{he-predicted-rain}-\\mid-\\text{it-does-rain}),-P(\\text{he-predicts-wrong})-and-P(\\text{it-does-rain-—-he-was-wrong}).-Write-R-simulation-code-to-verify.-(Partial-answer:-For-the-case-c-=-0.8,-d-=-0.6-and-g-=-0.2,-P(\\text{he-predicted-rain}-\\mid-\\text{it-does-rain})-=-1/3.)-115\"><span class=\"toc-item-num\">1.15&nbsp;&nbsp;</span>Suppose we have the track record of a certain weather forecaster. Of the days for which he predicts rain, a fraction c actually do have rain. Among days for which he predicts no rain, he is correct a fraction d of the time. Among all days, he predicts rain g of the time, and predicts no rain 1-g of the time. Find $P(\\text{he predicted rain} \\mid \\text{it does rain})$, $P(\\text{he predicts wrong})$ and $P(\\text{it does rain — he was wrong})$. Write R simulation code to verify. (Partial answer: For the case $c = 0.8$, $d = 0.6$ and $g = 0.2$, $P(\\text{he predicted rain} \\mid \\text{it does rain}) = 1/3.)$</a></div><div class=\"lev3 toc-item\"><a href=\"#P(text{he-predicted-rain}):\" data-toc-modified-id=\"P(text{he-predicted-rain}):-1151\"><span class=\"toc-item-num\">1.15.1&nbsp;&nbsp;</span>$P(\\text{he predicted rain})$:</a></div><div class=\"lev3 toc-item\"><a href=\"#P(text{he-predicted-wrong}):\" data-toc-modified-id=\"P(text{he-predicted-wrong}):-1152\"><span class=\"toc-item-num\">1.15.2&nbsp;&nbsp;</span>$P(\\text{he predicted wrong})$:</a></div><div class=\"lev3 toc-item\"><a href=\"#P(text{it-does-rain----he-was-wrong}):\" data-toc-modified-id=\"P(text{it-does-rain----he-was-wrong}):-1153\"><span class=\"toc-item-num\">1.15.3&nbsp;&nbsp;</span>$P(\\text{it does rain -- he was wrong})$:</a></div>"
   ]
  },
  {
   "cell_type": "markdown",
   "metadata": {
    "collapsed": true
   },
   "source": [
    "# Chapter 2 Solutions"
   ]
  },
  {
   "cell_type": "code",
   "execution_count": 10,
   "metadata": {
    "collapsed": true
   },
   "outputs": [],
   "source": [
    "import numpy as np\n",
    "import pandas as pd\n",
    "import scipy.misc as misc\n",
    "%matplotlib inline"
   ]
  },
  {
   "cell_type": "markdown",
   "metadata": {
    "collapsed": true
   },
   "source": [
    "##1. This problem concerns the ALOHA network model of Section 2.1. Feel free to use (but cite) computations already in the example."
   ]
  },
  {
   "cell_type": "code",
   "execution_count": 6,
   "metadata": {
    "collapsed": false
   },
   "outputs": [],
   "source": [
    "class Sample():\n",
    "    def __init__(self, ratio, num_samples=1000):\n",
    "        self.ratio = ratio\n",
    "        self.num_samples = num_samples\n",
    "        \n",
    "    def generate(self):\n",
    "        num_ones = int(self.ratio * self.num_samples)\n",
    "        num_zeros = int((1 - self.ratio) * self.num_samples)\n",
    "        return np.append(np.zeros(num_zeros), np.ones(num_ones))\n",
    "\n",
    "    def event_happens(self):\n",
    "        samples = self.generate()\n",
    "        np.random.shuffle(samples)\n",
    "        return samples[0] == 1\n",
    "\n",
    "class InactiveNode():\n",
    "    def __init__(self, p=None, q=None):\n",
    "        self.p = p\n",
    "        self.q = q\n",
    "        \n",
    "    def maybe_become_active(self):\n",
    "        if Sample(self.q).event_happens():\n",
    "            return ActiveNode(p=self.p, q=self.q)\n",
    "        else: \n",
    "            return InactiveNode(p=self.p, q=self.q)\n",
    "        \n",
    "    def is_sendable(self):\n",
    "        return False\n",
    "    \n",
    "    def maybe_send(self, collision):\n",
    "        return InactiveNode(p=self.p, q=self.q)\n",
    "    \n",
    "    def is_active(self):\n",
    "        return False\n",
    "    \n",
    "    def is_inactive(self):\n",
    "        return not self.is_active()\n",
    "\n",
    "\n",
    "\n",
    "class ActiveNode():\n",
    "    def __init__(self, p=None, q=None):\n",
    "        self.sendable = False\n",
    "        self.p = p\n",
    "        self.q = q\n",
    "\n",
    "    def maybe_become_active(self):\n",
    "        return ActiveNode(p=self.p, q=self.q)\n",
    "    \n",
    "    def is_sendable(self):\n",
    "        self.sendable = Sample(self.p).event_happens()\n",
    "        return self.sendable\n",
    "    \n",
    "    def maybe_send(self, collision):\n",
    "        if collision or not self.sendable:\n",
    "            return ActiveNode(p=self.p, q=self.q)\n",
    "        else:    \n",
    "            return InactiveNode(p=self.p, q=self.q)\n",
    "\n",
    "    def is_active(self):\n",
    "        return True\n",
    "    \n",
    "    def is_inactive(self):\n",
    "        return not self.is_active()\n",
    "\n",
    "\n",
    "class Epoch():\n",
    "    def __init__(self, nodes, num):\n",
    "        self.nodes = nodes\n",
    "        self.num = num\n",
    "\n",
    "    def check_collisions(self):\n",
    "        collision = True\n",
    "\n",
    "        for node in self.nodes:\n",
    "            collision = collision & node.is_sendable()\n",
    "        self.collision = collision\n",
    "\n",
    "    def maybe_send(self):\n",
    "        new_nodes = []\n",
    "        for node in self.nodes:\n",
    "            new_nodes.append(node.maybe_send(self.collision))\n",
    "        return new_nodes\n",
    "\n",
    "    def maybe_become_active(self):\n",
    "        new_nodes = []\n",
    "        for node in self.nodes:\n",
    "            new_nodes.append(node.maybe_become_active())\n",
    "        self.nodes = new_nodes\n",
    "\n",
    "    def num_nodes_active(self):\n",
    "        count = 0\n",
    "        for node in self.nodes:\n",
    "            if node.is_active():\n",
    "                count += 1\n",
    "        return count\n",
    "    \n",
    "class Criteria():\n",
    "    def __init__(self, criteria=None, given=lambda x: True):\n",
    "        self._criteria = criteria\n",
    "        self._given = given\n",
    "        \n",
    "    def given(self, active_count):\n",
    "        return self._given(active_count)\n",
    "    \n",
    "    def criteria(self, active_count):\n",
    "        return self._criteria(active_count)\n",
    "            \n",
    "def simulate_aloha(criteria=None, \n",
    "                   given=lambda x: True, \n",
    "                   num_experiments=10000,\n",
    "                   num_nodes=2,\n",
    "                   num_epochs=2,\n",
    "                   num_active_initial=2,\n",
    "                   p=0.4,  # prob of sending as an active node\n",
    "                   q=0.8): # prob of becoming active as an inactive node\n",
    "    criteria = Criteria(criteria=criteria, given=given)\n",
    "    \n",
    "    def build_epoch(epoch=Epoch([ActiveNode(p=p, q=q),\n",
    "                                 ActiveNode(p=p, q=q)], 0)):\n",
    "        epoch.maybe_become_active()\n",
    "        epoch.check_collisions()\n",
    "        \n",
    "        return Epoch(epoch.maybe_send(), epoch.num + 1)\n",
    "    \n",
    "    def generate_initial_number_of_nodes():\n",
    "        nodes = []\n",
    "        for i in range(num_active_initial):\n",
    "            nodes.append(ActiveNode(p=p, q=q))\n",
    "        for i in range(num_nodes - num_active_initial):\n",
    "            nodes.append(InactiveNode(p=p, q=q))\n",
    "        return nodes\n",
    "    \n",
    "    def populate_active_count(num_new_epochs):\n",
    "        epoch = Epoch(generate_initial_number_of_nodes(), 0)\n",
    "        active_count = [epoch.num_nodes_active()]\n",
    "        for i in range(num_new_epochs):\n",
    "            epoch = build_epoch(epoch=epoch)\n",
    "            active_count.append(epoch.num_nodes_active())\n",
    "        return active_count\n",
    "    \n",
    "    counts_updater = CountsUpdater(criteria)\n",
    "\n",
    "    for experiment in range(num_experiments):\n",
    "        active_count = populate_active_count(num_epochs)\n",
    "        counts_updater.update(active_count)\n",
    "\n",
    "    # needs to divide by num times that the \"given\" section \n",
    "    # happens, if \"given\" exists\n",
    "    if counts_updater.denominator == 0:\n",
    "        return 0.0\n",
    "    else:\n",
    "        return counts_updater.numerator / counts_updater.denominator\n",
    "\n",
    "    \n",
    "class CountsUpdater():\n",
    "    def __init__(self, criteria):\n",
    "        self.criteria = criteria\n",
    "        self.numerator = 0.0\n",
    "        self.denominator = 0.0\n",
    "    \n",
    "    def update(self, active_count):\n",
    "        if self.criteria.given(active_count):\n",
    "            self.denominator += 1\n",
    "        if self.criteria.given(active_count) and \\\n",
    "           self.criteria.criteria(active_count):\n",
    "            self.numerator += 1\n",
    "    "
   ]
  },
  {
   "cell_type": "markdown",
   "metadata": {
    "collapsed": true
   },
   "source": [
    "### Sanity Checks"
   ]
  },
  {
   "cell_type": "markdown",
   "metadata": {
    "collapsed": true
   },
   "source": [
    "#### Equation (2.1) in the book says $P(X_1=2) = 0.52 $"
   ]
  },
  {
   "cell_type": "code",
   "execution_count": 436,
   "metadata": {
    "collapsed": false
   },
   "outputs": [
    {
     "data": {
      "text/plain": [
       "0.5197"
      ]
     },
     "execution_count": 436,
     "metadata": {},
     "output_type": "execute_result"
    }
   ],
   "source": [
    "simulate_aloha(criteria=lambda x: x[1]==2)"
   ]
  },
  {
   "cell_type": "markdown",
   "metadata": {
    "collapsed": true
   },
   "source": [
    "#### Equation (2.16) in the book says $P(X_1=1) = 0.48 $"
   ]
  },
  {
   "cell_type": "code",
   "execution_count": 434,
   "metadata": {
    "collapsed": false
   },
   "outputs": [
    {
     "data": {
      "text/plain": [
       "0.4779"
      ]
     },
     "execution_count": 434,
     "metadata": {},
     "output_type": "execute_result"
    }
   ],
   "source": [
    "simulate_aloha(criteria=lambda x: x[1]==1)"
   ]
  },
  {
   "cell_type": "markdown",
   "metadata": {
    "collapsed": true
   },
   "source": [
    "#### Equation (2.17) in the book says $P(X_2=2 \\mid X_1=1) = 0.41 $"
   ]
  },
  {
   "cell_type": "code",
   "execution_count": 276,
   "metadata": {
    "collapsed": false
   },
   "outputs": [
    {
     "data": {
      "text/plain": [
       "0.4230298080849326"
      ]
     },
     "execution_count": 276,
     "metadata": {},
     "output_type": "execute_result"
    }
   ],
   "source": [
    "simulate_aloha(criteria=lambda x: x[2]==2, given=lambda x: x[1]==1)"
   ]
  },
  {
   "cell_type": "markdown",
   "metadata": {
    "collapsed": true
   },
   "source": [
    "#### Equation (2.18) in the book says $P(X_1=1 \\mid X_2=2) = 0.43 $"
   ]
  },
  {
   "cell_type": "code",
   "execution_count": 277,
   "metadata": {
    "collapsed": false
   },
   "outputs": [
    {
     "data": {
      "text/plain": [
       "0.4090048390490217"
      ]
     },
     "execution_count": 277,
     "metadata": {},
     "output_type": "execute_result"
    }
   ],
   "source": [
    "simulate_aloha(criteria=lambda x: x[1]==1, given=lambda x: x[2]==2)"
   ]
  },
  {
   "cell_type": "markdown",
   "metadata": {
    "collapsed": true
   },
   "source": [
    "#### Equation (2.19) in the book says $P(X_1=2 \\text{ or } X_2=2) = 0.72 $"
   ]
  },
  {
   "cell_type": "code",
   "execution_count": 278,
   "metadata": {
    "collapsed": false
   },
   "outputs": [
    {
     "data": {
      "text/plain": [
       "0.7206"
      ]
     },
     "execution_count": 278,
     "metadata": {},
     "output_type": "execute_result"
    }
   ],
   "source": [
    "simulate_aloha(criteria=lambda x: x[1] == 2 or x[2] == 2)"
   ]
  },
  {
   "cell_type": "markdown",
   "metadata": {
    "collapsed": false
   },
   "source": [
    "### (a) Calculate $P(X_{1} = 2 \\text{ and } X_{2} = 1)$, for the same values of $p$ and $q$ in the examples.\n",
    "\n",
    "\\begin{equation}\n",
    "  P(X_{1} = 2 \\text{ and } X_{2} = 1) = P(X_{2} = 1 \\mid X_{1} = 2) P(X_{1} = 2)\n",
    "\\end{equation}\n",
    "\n",
    "Formally speaking:\n",
    "\n",
    "\\begin{equation}\n",
    "\\begin{split}\n",
    "  P(X_{1} = 2) &= \\sum_{i=0}^{2}{P(X_{1} = 2 \\mid X_{0} = i) P(X_{0} = i)} \\\\\n",
    "  &= P(X_{1} = 2 \\mid X_{0} = 0) P(X_{0} = 0) \\\\\n",
    "  &+  P(X_{1} = 2 \\mid X_{0} = 1) P(X_{0} = 1) \\\\\n",
    "  &+ P(X_{1} = 2 \\mid X_{0} = 2) P(X_{0} = 2)\n",
    "\\end{split}\n",
    "\\end{equation}\n",
    "\n",
    "\n",
    "However, since it was given that both nodes were active in the beginning (i.e.\n",
    "$P(X_{0} = 2) = 1$), we know that $P(X_{0} = 0) = P(X_{0} = 1) = 0$. Thus, the\n",
    "statement above simplifies to:\n",
    "\n",
    "\\begin{equation}\n",
    "\\begin{aligned}\n",
    "  P(X_{1} = 2) &= P(X_{1} = 2 \\mid X_{0} = 2)\n",
    "\\end{aligned}\n",
    "\\end{equation}\n",
    "\n",
    "$P(X_{1} = 2 \\mid X_{0} = 2)$ could only happen two ways: either both\n",
    "active nodes send information (and hence create a collision), or both active\n",
    "nodes don't send anything at all.\n",
    "\n",
    "\\begin{equation}\n",
    "  \\begin{aligned}\n",
    "    P(X_{1} = 2) &= P(X_{1} = 2 \\mid X_{0} = 2) \\\\\n",
    "    &= P(C_{1} = 1 \\text{ and } C_{2} = 1 \\text{ or } C_{1} = 0 \\text{ and } C_{2} = 0) \\\\\n",
    "                 &= P(C_{1} = 1 \\text{ and } C_{2} = 1) + P(C_{1} = 0 \\text{ and } C_{2} = 0) \\\\\n",
    "    &= p^2 + (1-p)^2 \\\\\n",
    "    &= (0.4)^2 + (1-0.4)^2 \\\\\n",
    "    &= 0.16 + 0.36 \\\\\n",
    "    &= 0.52 \\\\\n",
    "  \\end{aligned}\n",
    "\\end{equation}\n",
    "\n",
    "\\begin{equation}\n",
    "  \\begin{aligned}\n",
    "    P(X_{2} = 1 \\mid X_{1} = 2) &= P(C_{1} = 1 \\text{ and } C_{2} = 0 \\text{ or } C_{1} = 0 \\text{ and } C_{2} = 1) \\\\\n",
    "    &= P(C_{1} = 1 \\text{ and } C_{2} = 0) + P(C_{1} = 0 \\text{ and } C_{2} =  1) \\\\\n",
    "    &= p(1-p) + p(1-p) \\\\\n",
    "    &= 2p(1-p) \\\\\n",
    "    &= 2(0.4)(1-(0.4)) \\\\\n",
    "    &= 0.48\\\\\n",
    "  \\end{aligned}\n",
    "\\end{equation}\n",
    "\n",
    "Therefore:\n",
    "\n",
    "\\begin{equation}\n",
    "  \\begin{aligned}\n",
    "    P(X_{1} = 2 \\text{ and } X_{2} = 1) &= P(X_{2} = 1 \\mid X_{1} = 2) P(X_{1} = 2) \\\\\n",
    "    &= 0.48 \\times 0.52 \\\\\n",
    "    &= 0.2496\n",
    "  \\end{aligned}\n",
    "\\end{equation}\n",
    "\n",
    "\n"
   ]
  },
  {
   "cell_type": "code",
   "execution_count": 279,
   "metadata": {
    "collapsed": false
   },
   "outputs": [
    {
     "data": {
      "text/plain": [
       "0.2501"
      ]
     },
     "execution_count": 279,
     "metadata": {},
     "output_type": "execute_result"
    }
   ],
   "source": [
    "simulate_aloha(lambda x: x[1] == 2 and x[2] == 1)"
   ]
  },
  {
   "cell_type": "markdown",
   "metadata": {
    "collapsed": false
   },
   "source": [
    "### (b) Find $P(X_{2} = 0)$\n",
    "\n",
    "\n",
    "\\begin{equation}\n",
    "  \\begin{aligned}\n",
    "    P(X_2 = 0) &= \\sum_{i=0}^{2} P(X_2 = 0 \\text{ and } X_1 = i) \\\\\n",
    "    &= \\sum_{i=0}^{2} P(X_2 = 0 \\mid X_1 = i)P(X_1 = i) \\\\\n",
    "    &= P(X_2 = 0 \\mid X_1 = 0)P(X_1 = 0) \\\\\n",
    "    &\\quad + P(X_2 = 0 \\mid X_1 = 1)P(X_1 = 1) \\\\\n",
    "    &\\quad + P(X_2 = 0 \\mid X_1 = 2)P(X_1 = 2) \\\\\n",
    "  \\end{aligned}\n",
    "\\end{equation}\n",
    "\n",
    "Let's start with $P(X_1 = 0)$. We know that it is equivalent to:\n",
    "\n",
    "\\begin{equation}\n",
    "  \\begin{aligned}\n",
    "    P(X_1 = 0) &= P(X_1 = 0 \\text{ and } X_0 = 2) \\\\\n",
    "    &= P(X_1 = 0 \\mid X_0 = 2)P(X_0 = 2) \\\\\n",
    "    &= P(X_1 = 0 \\mid X_0 = 2) \\\\\n",
    "  \\end{aligned}\n",
    "\\end{equation}\n",
    "\n",
    "It is impossible for two active nodes to both become inactive for the next\n",
    "epoch, so $P(X_1 = 0) = P(X_1 = 0 \\mid X_0 = 2) = 0$.\n",
    "\n",
    "Next we look at $P(X_1 = 1)$:\n",
    "\n",
    "\\begin{equation}\n",
    "  \\begin{aligned}\n",
    "    P(X_1 = 1) &= P(X_1 = 1 \\text{ and } X_0 = 2) \\\\\n",
    "    &= P(X_1 = 1 \\mid X_0 = 2)P(X_0 = 2) \\\\\n",
    "    &= P(X_1 = 1 \\mid X_0 = 2) \\\\\n",
    "  \\end{aligned}\n",
    "\\end{equation}\n",
    "\n",
    "This could only happen two ways: either the first node sends and the second\n",
    "node does not, or the second node sends and the first node does not. For active\n",
    "nodes, let $S_i=k, i \\in \\{0,1\\}$ and $k \\in \\{0,1\\}$ where, for node $i$,\n",
    "$S_i=0$ is the event of not sending and $S_i=1$ is the event of sending:\n",
    "\n",
    "\\begin{equation}\n",
    "  \\begin{aligned}\n",
    "    P(X_1 = 1) &= P(X_1 = 1 \\mid X_0 = 2) \\\\\n",
    "    &= P(S_1 = 1 \\text{ and } S_2 = 0 \\text{ or } S_1 = 0 \\text{ and } S_2 = 1) \\\\\n",
    "    &= P(S_1 = 1 \\text{ and } S_2 = 0) + P(S_1 = 0 \\text{ and } S_2 = 1) \\\\\n",
    "    &= p(1-p) + p(1-p) \\\\\n",
    "    &= 2p(1-p) \\\\\n",
    "    &= 2(0.4)(1-0.4) \\\\\n",
    "    &= 0.48\n",
    "  \\end{aligned}\n",
    "\\end{equation}\n",
    "\n",
    "Now let's look at $P(X_2=0 \\mid X_1=1)$. The only way this could happen is when\n",
    "the active node sends while the other node stays inactive:\n",
    "\n",
    "\\begin{equation}\n",
    "  \\begin{aligned}\n",
    "    P(X_2=0 \\mid X_1=1) &= p(1-q) \\\\\n",
    "    &= (0.4)(1-(0.8)) \\\\\n",
    "    &= 0.08\n",
    "  \\end{aligned}\n",
    "\\end{equation}\n",
    "\n",
    "Now we consider $P(X_2=0 \\mid X_1=2)$. Again it is impossible for two active\n",
    "nodes to become inactive for the next epoch, so $P(X_2=0 \\mid X_1=2) = 0$.\n",
    "\n",
    "Therefore, $P(X_2=0)$ simplifies to the following:\n",
    "\n",
    "\\begin{equation}\n",
    "  \\begin{aligned}\n",
    "    P(X_2=0) &= P(X_2 = 0 \\mid X_1 = 0)P(X_1 = 0) \\\\\n",
    "    &\\quad + P(X_2 = 0 \\mid X_1 = 1)P(X_1 = 1) \\\\\n",
    "    &\\quad + P(X_2 = 0 \\mid X_1 = 2)P(X_1 = 2) \\\\\n",
    "    &= P(X_2 = 0 \\mid X_1 = 0) \\times 0 \\\\\n",
    "    &\\quad + 0.08 \\times 0.48 \\\\\n",
    "    &\\quad + 0 \\times P(X_1 = 2) \\\\\n",
    "    &= 0.0384\n",
    "  \\end{aligned}\n",
    "\\end{equation}\n",
    "\n",
    "\n",
    "\n"
   ]
  },
  {
   "cell_type": "code",
   "execution_count": 280,
   "metadata": {
    "collapsed": false
   },
   "outputs": [
    {
     "data": {
      "text/plain": [
       "0.043"
      ]
     },
     "execution_count": 280,
     "metadata": {},
     "output_type": "execute_result"
    }
   ],
   "source": [
    "simulate_aloha(lambda x: x[2]==0)"
   ]
  },
  {
   "cell_type": "markdown",
   "metadata": {
    "collapsed": false
   },
   "source": [
    "### (c) Find $P(X_{1} = 1 \\mid X_{2} = 1)$\n",
    "\n",
    "\\begin{equation}\n",
    "  \\begin{aligned}\n",
    "    P(X_{1} = 1 \\mid X_{2} = 1) &= \\frac{P(X_1=1 \\text{ and } X_2=1)}{P(X_2 = 1)} \\\\\n",
    "    &= \\frac{P(X_2=1 \\mid X_1=1)P(X_1=1) }{P(X_2 = 1)} \\\\\n",
    "    &= \\frac{P(X_2=1 \\mid X_1=1)P(X_1=1) }{\\sum_{i=0}^{2}P(X_2 = 1, X_1=i)} \\\\\n",
    "    &= \\frac{P(X_2=1 \\mid X_1=1)P(X_1=1) }{\\sum_{i=0}^{2}P(X_2 = 1 \\mid X_1=i)P(X_1=i)} \\\\\n",
    "  \\end{aligned}\n",
    "\\end{equation}\n",
    "\n",
    "The denominator expands to the following:\n",
    "\n",
    "\\begin{equation}\n",
    "  \\begin{aligned}\n",
    "    \\sum_{i=0}^{2}P(X_2 = 1 \\mid X_1=i)P(X_1=i) &= P(X_2 = 1 \\mid X_1=0)P(X_1=0) \\\\\n",
    "    &\\quad + P(X_2 = 1 \\mid X_1=1)P(X_1=1) \\\\\n",
    "    &\\quad + P(X_2 = 1 \\mid X_1=2)P(X_1=2) \\\\\n",
    "  \\end{aligned}\n",
    "\\end{equation}\n",
    "\n",
    "We've already established that $P(X_1=0) = 0$, $P(X_1=1)=0.48$, $P(X_1=2) =\n",
    "0.52$. Since, $P(X_1=0) = 0$, we know that $P(X_2=1 \\mid X_1=0)$ cannot\n",
    "happen. Thus, what we need to calculate are the following: $P(X_2=1\n",
    "\\mid X_1=1)$ and $P(X_2=1 \\mid X_1=2)$.\n",
    "\n",
    "Let's start with $P(X_2=1 \\mid X_1=1)$. Three possibilities:\n",
    "\n",
    "* Active node successfully sends; inactive node becomes active and does not send\n",
    "* Active node does not attempt to send; inactive node does not become active\n",
    "* Active node does not attempt to send; inactive node becomes active and successfully sends\n",
    "\n",
    "\\begin{equation}\n",
    "  \\begin{aligned}\n",
    "    P(X_2=1 \\mid X_1=1) &= (1-p)qp + (1-p)(1-q) + pq(1-p) \\\\\n",
    "    &= (1-0.4)(0.8)(0.4) + (1-0.4)(1-0.8) + (0.4(0.8(1-0.4))) \\\\\n",
    "    &= 0.192 + 0.12 + 0.192 \\\\\n",
    "    &= 0.504\n",
    "  \\end{aligned}\n",
    "\\end{equation}\n",
    "\n",
    "Next we look at $P(X_2=1 \\mid X_1=2)$. The first active node sends a message\n",
    "and becomes inactive while the second active node refrains from sending, or the\n",
    "second active node sends a message and becomes inactive while the first active\n",
    "node refrains.\n",
    "\n",
    "\\begin{equation}\n",
    "  \\begin{aligned}\n",
    "    P(X_2=1 \\mid X_1=2) &= P(A_1=1 \\text{ and } A_2=0 \\text{ or } A_1=0 \\text{ and } A_2=1) \\\\\n",
    "    &= P(A_1=1 \\text{ and } A_2=0) + P(A_1=0 \\text{ and } A_2=1) \\\\\n",
    "    &= p(1-p) + (1-p)p \\\\\n",
    "    &= 2p(1-p) \\\\\n",
    "    &= 2(0.4)(1-0.4) \\\\\n",
    "    &= 0.48\n",
    "  \\end{aligned}\n",
    "\\end{equation}\n",
    "\n",
    "Therefore, $P(X_1=1 \\mid X_2=1)$ reduces to the following:\n",
    "\n",
    "\\begin{equation}\n",
    "  \\begin{aligned}\n",
    "    P(X_1=1 \\mid X_2=1) &= \\frac{P(X_2=1 \\mid X_1=1)P(X_1=1) }{\\sum_{i=0}^{2}P(X_2 = 1 \\mid X_1=i)P(X_1=i)} \\\\\n",
    "    &= \\frac{0.504 \\times 0.48}{0 \\times 0 + 0.504 \\times 0.48 + 0.48 \\times 0.52}\\\\\n",
    "    &= \\frac{0.24192}{0 + 0.24192 + 0.2496} \\\\\n",
    "    &= 0.4921875 \\\\\n",
    "  \\end{aligned}\n",
    "\\end{equation}\n",
    "\n",
    "\n"
   ]
  },
  {
   "cell_type": "code",
   "execution_count": 281,
   "metadata": {
    "collapsed": false
   },
   "outputs": [
    {
     "data": {
      "text/plain": [
       "0.48874923981350094"
      ]
     },
     "execution_count": 281,
     "metadata": {},
     "output_type": "execute_result"
    }
   ],
   "source": [
    "simulate_aloha(criteria=lambda x: x[1]==1, given=lambda x: x[2]==1)"
   ]
  },
  {
   "cell_type": "markdown",
   "metadata": {
    "collapsed": false
   },
   "source": [
    "## 2.  Urn I contains three blue marbles and three yellow ones, while Urn II contains five and seven of these colors. We draw a marble at random from Urn I and place it in Urn II. We then draw a marble at random from Urn II.\n"
   ]
  },
  {
   "cell_type": "code",
   "execution_count": 282,
   "metadata": {
    "collapsed": true
   },
   "outputs": [],
   "source": [
    "def simulate_urn_drawing(criteria=None, given=None, num_experiments=10000):\n",
    "    draws = ['placeholder']\n",
    "    experiments = []\n",
    "    first_draws = []\n",
    "    second_draws = []\n",
    "    \n",
    "    def urn_1(): \n",
    "        return ['B','B','B','Y','Y','Y']\n",
    "    def urn_2():\n",
    "        return ['B','B','B','B','B','Y','Y','Y','Y','Y','Y','Y']\n",
    "\n",
    "    for i in range(num_experiments):\n",
    "        first_draw = np.random.permutation(urn_1())[0]\n",
    "        urn_2_copy = urn_2()\n",
    "        urn_2_copy.append(first_draw)\n",
    "        second_draw = np.random.permutation(urn_2_copy)[0]\n",
    "        \n",
    "        first_draws.append(first_draw)\n",
    "        second_draws.append(second_draw)\n",
    "        \n",
    "    df = pd.DataFrame({'first_draw': first_draws, 'second_draw': second_draws})\n",
    "\n",
    "    if given==None:\n",
    "        return df[criteria(df)].shape[0] / float(num_experiments)\n",
    "    else:\n",
    "        meeting_what_is_given = df[given(df)]\n",
    "        return meeting_what_is_given[criteria(meeting_what_is_given)].shape[0] \\\n",
    "                / float(meeting_what_is_given.shape[0])\n",
    "    "
   ]
  },
  {
   "cell_type": "markdown",
   "metadata": {
    "collapsed": false
   },
   "source": [
    "### a. Find $P(\\text{second marble drawn is blue})$\n",
    "\n",
    "Let $M_i=k$ represent the marble drawn for the $i$-th drawing where $k \\in\n",
    "\\{B, Y\\}$. $B$ stands for 'Blue' and $Y$ stands for 'yellow'.\n",
    "\n",
    "\\begin{equation}\n",
    "  \\begin{aligned}\n",
    "    P(M_2=B) &= P(M_2=B, M_1=B) + P(M_2=B, M_1=Y)\\\\\n",
    "    &= P(M_2=B \\mid M_1=B)P(M_1=B) + P(M_2=B \\mid M_1=Y)P(M_1=Y)\\\\\n",
    "    &= \\frac{6}{13}(0.5) + \\frac{5}{13}(0.5)\\\\\n",
    "    &= 0.4230769231\n",
    "  \\end{aligned}\n",
    "\\end{equation}\n"
   ]
  },
  {
   "cell_type": "code",
   "execution_count": 283,
   "metadata": {
    "collapsed": false,
    "scrolled": false
   },
   "outputs": [
    {
     "data": {
      "text/plain": [
       "0.4262"
      ]
     },
     "execution_count": 283,
     "metadata": {},
     "output_type": "execute_result"
    }
   ],
   "source": [
    "simulate_urn_drawing(criteria=lambda df: df['second_draw']=='B')"
   ]
  },
  {
   "cell_type": "markdown",
   "metadata": {
    "collapsed": false
   },
   "source": [
    "### a. Find $P(\\text{first marble drawn is blue} \\mid \\text{second marble drawn is blue})$\n",
    "\n",
    "\\begin{equation}\n",
    "  \\begin{aligned}\n",
    "    P(M_1=B \\mid M_2=B) &= \\frac{P(M_2=B, M_1=B)}{P(M_2=B)}\\\\\n",
    "    &= \\frac{P(M_2=B \\mid M_1=B)P(M_1=B)}{P(M_2=B)}\\\\\n",
    "    &= \\frac{(6/13)(1/2)}{11/26}\\\\\n",
    "    &= 0.\\overline{54}\n",
    "  \\end{aligned}\n",
    "\\end{equation}\n",
    "\n"
   ]
  },
  {
   "cell_type": "code",
   "execution_count": 284,
   "metadata": {
    "collapsed": false,
    "scrolled": true
   },
   "outputs": [
    {
     "data": {
      "text/plain": [
       "0.5421227986673013"
      ]
     },
     "execution_count": 284,
     "metadata": {},
     "output_type": "execute_result"
    }
   ],
   "source": [
    "simulate_urn_drawing(criteria=lambda df: df['first_draw']=='B', given=lambda df: df['second_draw']=='B')"
   ]
  },
  {
   "cell_type": "markdown",
   "metadata": {
    "collapsed": false,
    "scrolled": false
   },
   "source": [
    "## 3. Consider the example of association rules in Section 2.15.4. How many two-antecedent, two- consequent rules are possible from 20 items? Express your answer in terms of combinatorial (“n choose k”) symbols.\n",
    "\n",
    "\\begin{equation}\n",
    "  \\begin{aligned}\n",
    "    {20 \\choose 2} {18 \\choose 2} &= \\frac{20!}{2! \\times 18!} \\times \\frac{18!}{2!16!} \\\\\n",
    "    &= \\frac{20 \\times 19 \\times 18 \\times 17 \\times 16!}{4 \\times 16!} \\\\\n",
    "    &= 5 \\times 19 \\times 18 \\times 17 \\\\\n",
    "    &= 29\\,070\n",
    "  \\end{aligned}\n",
    "\\end{equation}"
   ]
  },
  {
   "cell_type": "code",
   "execution_count": 285,
   "metadata": {
    "collapsed": false,
    "scrolled": true
   },
   "outputs": [
    {
     "data": {
      "text/plain": [
       "29070.0"
      ]
     },
     "execution_count": 285,
     "metadata": {},
     "output_type": "execute_result"
    }
   ],
   "source": [
    "misc.comb(20, 2) * misc.comb(18,2)"
   ]
  },
  {
   "cell_type": "markdown",
   "metadata": {
    "collapsed": false,
    "scrolled": false
   },
   "source": [
    "### Simplification of the problem: How many two-antecedent, two-consequent rules are possible from 5 items?\n",
    "\n",
    "To get better confidence about the solution for 20 items above, I simplified the problem to 5 items. I expect 30 different configurations:\n",
    "\n",
    "\\begin{equation}\n",
    "  \\begin{aligned}\n",
    "    {5 \\choose 2} {3 \\choose 2} &= \\frac{5!}{2! \\times 3!} \\times \\frac{3!}{2!1!} \\\\\n",
    "    &= \\frac{5 \\times 4 \\times 3 \\times 2}{4} \\\\\n",
    "    &= 5 \\times 3 \\times 2 \\\\\n",
    "    &= 30\n",
    "  \\end{aligned}\n",
    "\\end{equation}\n",
    "\n",
    "### Here are all the possible configurations:\n",
    "\n",
    "![How many two-antecedent and two-consequent rules are possible from 5 items?](images/2-precedents-2-antecedents-5-choices.jpeg \"Title\")"
   ]
  },
  {
   "cell_type": "markdown",
   "metadata": {
    "collapsed": false,
    "scrolled": false
   },
   "source": [
    "## 4. Suppose 20% of all C++ programs have at least one major bug. Out of five programs, what is the probability that exactly two of them have a major bug?\n",
    "\n",
    "\\begin{equation}\n",
    "  \\begin{aligned}\n",
    "    P(\\text{bug}) &= 0.2 \\\\\n",
    "    P(\\text{no bug}) &= 0.8 \\\\\n",
    "    P(\\text{bug})^2 \\times P(\\text{no bug})^3 \\times {5 \\choose 2} &= 0.2^2 \\times 0.8^3 \\frac{5!}{2!\\times3!}\\\\\n",
    "    &= 0.04 \\times 0.512 \\times 10.0\\\\\n",
    "    &= 0.2048 \\\\\n",
    "  \\end{aligned}\n",
    "\\end{equation}"
   ]
  },
  {
   "cell_type": "code",
   "execution_count": 9,
   "metadata": {
    "collapsed": false,
    "scrolled": true
   },
   "outputs": [
    {
     "ename": "NameError",
     "evalue": "global name 'np' is not defined",
     "output_type": "error",
     "traceback": [
      "\u001b[0;31m---------------------------------------------------------------------------\u001b[0m",
      "\u001b[0;31mNameError\u001b[0m                                 Traceback (most recent call last)",
      "\u001b[0;32m<ipython-input-9-94852d2f312c>\u001b[0m in \u001b[0;36m<module>\u001b[0;34m()\u001b[0m\n\u001b[1;32m     21\u001b[0m     \u001b[0;32mreturn\u001b[0m \u001b[0mcount\u001b[0m \u001b[0;34m/\u001b[0m \u001b[0mfloat\u001b[0m\u001b[0;34m(\u001b[0m\u001b[0mnum_experiments\u001b[0m\u001b[0;34m)\u001b[0m\u001b[0;34m\u001b[0m\u001b[0m\n\u001b[1;32m     22\u001b[0m \u001b[0;34m\u001b[0m\u001b[0m\n\u001b[0;32m---> 23\u001b[0;31m \u001b[0mbug_percentage\u001b[0m\u001b[0;34m(\u001b[0m\u001b[0;34m)\u001b[0m\u001b[0;34m\u001b[0m\u001b[0m\n\u001b[0m",
      "\u001b[0;32m<ipython-input-9-94852d2f312c>\u001b[0m in \u001b[0;36mbug_percentage\u001b[0;34m(num_programs, exactly_have_bug, num_experiments, prob_bug)\u001b[0m\n\u001b[1;32m      3\u001b[0m                    \u001b[0mnum_experiments\u001b[0m\u001b[0;34m=\u001b[0m\u001b[0;36m10000\u001b[0m\u001b[0;34m,\u001b[0m\u001b[0;34m\u001b[0m\u001b[0m\n\u001b[1;32m      4\u001b[0m                    prob_bug=0.2):\n\u001b[0;32m----> 5\u001b[0;31m     \u001b[0mones\u001b[0m \u001b[0;34m=\u001b[0m \u001b[0mnp\u001b[0m\u001b[0;34m.\u001b[0m\u001b[0mones\u001b[0m\u001b[0;34m(\u001b[0m\u001b[0mint\u001b[0m\u001b[0;34m(\u001b[0m\u001b[0mprob_bug\u001b[0m \u001b[0;34m*\u001b[0m \u001b[0;36m10\u001b[0m\u001b[0;34m)\u001b[0m\u001b[0;34m)\u001b[0m\u001b[0;34m\u001b[0m\u001b[0m\n\u001b[0m\u001b[1;32m      6\u001b[0m     \u001b[0mzeros\u001b[0m \u001b[0;34m=\u001b[0m \u001b[0mnp\u001b[0m\u001b[0;34m.\u001b[0m\u001b[0mzeros\u001b[0m\u001b[0;34m(\u001b[0m\u001b[0mint\u001b[0m\u001b[0;34m(\u001b[0m\u001b[0;34m(\u001b[0m\u001b[0;36m1.0\u001b[0m\u001b[0;34m-\u001b[0m\u001b[0mprob_bug\u001b[0m\u001b[0;34m)\u001b[0m \u001b[0;34m*\u001b[0m \u001b[0;36m10\u001b[0m\u001b[0;34m)\u001b[0m\u001b[0;34m)\u001b[0m\u001b[0;34m\u001b[0m\u001b[0m\n\u001b[1;32m      7\u001b[0m \u001b[0;34m\u001b[0m\u001b[0m\n",
      "\u001b[0;31mNameError\u001b[0m: global name 'np' is not defined"
     ]
    }
   ],
   "source": [
    "def bug_percentage(num_programs=5,\n",
    "                   exactly_have_bug=2, \n",
    "                   num_experiments=10000, \n",
    "                   prob_bug=0.2):\n",
    "    ones = np.ones(int(prob_bug * 10))\n",
    "    zeros = np.zeros(int((1.0-prob_bug) * 10))\n",
    "    \n",
    "    vals = np.append(ones, zeros)\n",
    "   \n",
    "    count = 0\n",
    "    for i in range(num_experiments):\n",
    "        \n",
    "        result = []\n",
    "        for x in range(num_programs):\n",
    "            val = np.random.permutation(vals)[0]\n",
    "            result.append(val)\n",
    "            \n",
    "        if np.array(result).sum() == exactly_have_bug:\n",
    "            count += 1\n",
    "    \n",
    "    return count / float(num_experiments)\n",
    "        \n",
    "bug_percentage()"
   ]
  },
  {
   "cell_type": "markdown",
   "metadata": {
    "collapsed": false,
    "scrolled": false
   },
   "source": [
    "## 5. Assume the ALOHA network model as in Section 2.1, i.e. $m = 2$ and $X_0 = 2$, but with general values for $p$ and $q$. Find the probability that a new message is created during epoch 2.\n",
    "\n",
    "The term \"created\" is ambiguous to me. It could mean \"created\" in a sense that the message is actually sent, or it could mean \"created\" in a sense that an inactive node generates a new message to send (which may, or may not, actually be sent at some epoch of interest). I'm going to assume that it means the latter.\n",
    "\n",
    "Let $G_i$ be the number of messages created at the $i$-th epoch. The probability that a message gets created during the second epoch, then, is the probability that one message or two messages get created during the second epoch:\n",
    "\n",
    "\\begin{equation}\n",
    "  \\begin{aligned}\n",
    "    P(G_2=1 \\text{ or } G_2=2) &= P((G_2=1 \\text{ or } G_2=2) \\text{ and } X_1=0) \\\\\n",
    "    &\\quad + P((G_2=1 \\text{ or } G_2=2) \\text{ and } X_1=1) \\\\\n",
    "    &\\quad + P((G_2=1 \\text{ or } G_2=2) \\text{ and } X_1=2) \\\\\n",
    "  \\end{aligned}\n",
    "\\end{equation}\n",
    "\n",
    "We know from previous exercises, however, that $P(X_1=0)$ is impossible. We also know that given $X_1=2$, we cannot generate new messages during the second epoch -- both nodes were already active then, which means that during the second epoch, we cannot create new messages. Thus, the above equation simplifies to:\n",
    "\n",
    "\\begin{equation}\n",
    "  \\begin{aligned}\n",
    "    P(G_2=1 \\text{ or } G_2=2) &= P((G_2=1 \\text{ or } G_2=2) \\text{ and } X_1=1) \\\\\n",
    "  \\end{aligned}\n",
    "\\end{equation}\n",
    "\n",
    "When one node is already active during the first epoch, we know we can only create one more message (not two). Thus, the above equation simplifies to something even simpler:\n",
    "\n",
    "\\begin{equation}\n",
    "  \\begin{aligned}\n",
    "    P(G_2=1 \\text{ or } G_2=2) &= P(G_2=1 \\text{ and } X_1=1) \\\\\n",
    "    &= P(G_2=1 \\mid X_1=1)P(X_1=1) \\\\\n",
    "  \\end{aligned}\n",
    "\\end{equation}\n",
    "\n",
    "We've already established in previous questions that $P(X_1=1) = p^2 + (1-p)^2$. When $X_1=1$, the only way for $G_2=1$ to happen is for the inactive node to become active, which has a probability of $q$.\n",
    "\n",
    "Therefore, the whole thing simplifies to the following:\n",
    "\n",
    "\\begin{equation}\n",
    "  \\begin{aligned}\n",
    "    P(G_2=1 \\text{ or } G_2=2) &= q(p^2 + (1-p)^2)\n",
    "  \\end{aligned}\n",
    "\\end{equation}\n",
    "\n",
    "\n",
    "\n"
   ]
  },
  {
   "cell_type": "markdown",
   "metadata": {
    "collapsed": false,
    "scrolled": false
   },
   "source": [
    "## 6. You bought three tickets in a lottery, for which 60 tickets were sold in all. There will be five prizes given. Find the probability that you win at least one prize, and the probability that you win exactly one prize."
   ]
  },
  {
   "cell_type": "code",
   "execution_count": 287,
   "metadata": {
    "collapsed": false,
    "scrolled": true
   },
   "outputs": [],
   "source": [
    "def win_lottery_perc(num_tickets=60, \n",
    "                     num_prizes=5, \n",
    "                     tickets_bought=3, \n",
    "                     num_tickets_won_by_you=1, \n",
    "                     state='eq', \n",
    "                     num_experiments=10000):\n",
    "    ones = np.ones(tickets_bought)\n",
    "    zeros = np.zeros(num_tickets - tickets_bought)\n",
    "    \n",
    "    tickets = np.append(ones, zeros)\n",
    "    count = 0\n",
    "    \n",
    "    for i in range(num_experiments):    \n",
    "        picks = np.random.permutation(tickets)[0:num_prizes]\n",
    "\n",
    "        if picks.sum() == num_tickets_won_by_you and state=='eq':\n",
    "            count += 1\n",
    "        elif picks.sum() >= num_tickets_won_by_you and state=='geq':\n",
    "            count += 1\n",
    "    \n",
    "    return count / float(num_experiments)"
   ]
  },
  {
   "cell_type": "markdown",
   "metadata": {
    "collapsed": false,
    "scrolled": false
   },
   "source": [
    "### $P(win \\geq 1)$\n",
    "\n",
    "There are $60 \\choose 5$ ways of getting a combination of 5 tickets overall. Since we bought 3 tickets, there are ${60 - 3 \\choose 5} = {57 \\choose 5}$ ways of getting a losing combination (e.g. you do not win anything at all). Thus, the probability that you will win *at least* one ticket is $1 - \\frac{57 \\choose 5}{60 \\choose 5} \\approx 0.2334.$"
   ]
  },
  {
   "cell_type": "code",
   "execution_count": 288,
   "metadata": {
    "collapsed": false,
    "scrolled": true
   },
   "outputs": [
    {
     "data": {
      "text/plain": [
       "0.233437"
      ]
     },
     "execution_count": 288,
     "metadata": {},
     "output_type": "execute_result"
    }
   ],
   "source": [
    "win_lottery_perc(state='geq', num_experiments=1000000)"
   ]
  },
  {
   "cell_type": "markdown",
   "metadata": {
    "collapsed": false,
    "scrolled": false
   },
   "source": [
    "### $P(win = 1)$\n",
    "\n",
    "We choose 1 from 3 tickets as a winner ${3 \\choose 1}$. Then we fill the rest tickets bought by other people $57 \\choose 4$. There are a total of ${60 \\choose 5}$ ways of selecting 5 tickets, thus, the probability of winning exactly only exactly one prize:\n",
    "\n",
    "\\begin{equation}\n",
    "  \\begin{aligned}\n",
    "    P(\\text{win}=1) &= \\frac{{3 \\choose 1}{57 \\choose 4}}{{60 \\choose 5}} \\\\\n",
    "    &\\approx 0.216978\n",
    "  \\end{aligned}\n",
    "\\end{equation}"
   ]
  },
  {
   "cell_type": "code",
   "execution_count": 289,
   "metadata": {
    "collapsed": false
   },
   "outputs": [
    {
     "data": {
      "text/plain": [
       "0.21697837521917007"
      ]
     },
     "execution_count": 289,
     "metadata": {},
     "output_type": "execute_result"
    }
   ],
   "source": [
    "misc.comb(3,1)* misc.comb(57,4) / misc.comb(60,5)"
   ]
  },
  {
   "cell_type": "code",
   "execution_count": 290,
   "metadata": {
    "collapsed": false
   },
   "outputs": [
    {
     "data": {
      "text/plain": [
       "0.2133"
      ]
     },
     "execution_count": 290,
     "metadata": {},
     "output_type": "execute_result"
    }
   ],
   "source": [
    "win_lottery_perc(num_tickets=60, num_prizes=5, tickets_bought=3, num_tickets_won_by_you=1)"
   ]
  },
  {
   "cell_type": "markdown",
   "metadata": {
    "collapsed": false,
    "scrolled": false
   },
   "source": [
    "## 7. Two five-person committees are to be formed from your group of 20 people. In order to foster communication, we set a requirement that the two committees have the same chair but no other overlap. Find the probability that you and your friend are both chosen for some committee.\n",
    "\n",
    "Let $A=i$ be the number of relevant people in the first group, and $B=j$ the number of relevant people in the second group. $A$ and $B$'s possible values are $0$ (no relevant people), $1$ (either you or your friend are in that group), or $2$ (both of you are in the same group). $C$, on the other hand, represents the chair person who is in both groups simultaneously. It is binary (0 for neither relevant people being the chair, 1 for one of them being the chair).\n",
    "\n",
    "\\begin{equation}\n",
    "  \\begin{aligned}\n",
    "    P(\\text{you and your friend are chosen for a committee}) &= P(A=1 \\text{ and } B=1 \\text{ and } C=0 \\\\\n",
    "    &\\quad \\text{ or } A=2 \\text{ and } B=0 \\text{ and } C=0 \\\\\n",
    "    &\\quad \\text{ or } A=0 \\text{ and } B=2 \\text{ and } C=0 \\\\\n",
    "    &\\quad \\text{ or } A=0 \\text{ and } B=1 \\text{ and } C=1 \\\\\n",
    "    &\\quad \\text{ or } A=1 \\text{ and } B=0 \\text{ and } C=1) \\\\\n",
    "    &= P(A=1 \\text{ and } B=1 \\text{ and } C=0) \\\\\n",
    "    &\\quad + P(A=2 \\text{ and } B=0 \\text{ and } C=0) \\\\\n",
    "    &\\quad + P(A=0 \\text{ and } B=2 \\text{ and } C=0) \\\\\n",
    "    &\\quad + P(A=0 \\text{ and } B=1 \\text{ and } C=1) \\\\\n",
    "    &\\quad + P(A=1 \\text{ and } B=0 \\text{ and } C=1) \\\\\n",
    "  \\end{aligned}\n",
    "\\end{equation}\n",
    "\n",
    "\n",
    "\\begin{equation}\n",
    "  \\begin{aligned}\n",
    "    P(A=1 \\text{ and } B=1 \\text{ and } C=0) &= \\frac{{2 \\choose 1}{18 \\choose 3}{1 \\choose 1}{15 \\choose 3}{12 \\choose 1}}{{20 \\choose 4}{16 \\choose 4}{12 \\choose 1}} \\\\\n",
    "    &\\approx 0.084210526315789472 \\\\\n",
    "     P(A=2 \\text{ and } B=0 \\text{ and } C=0) &= \\frac{{2 \\choose 2}{18 \\choose 2}{1 \\choose 1}{16 \\choose 4}{12 \\choose 1}}{{20 \\choose 4}{16 \\choose 4}{12 \\choose 1}} \\\\\n",
    "    &\\approx 0.031578947368421054 \\\\\n",
    "    P(A=0 \\text{ and } B=2 \\text{ and } C=0) &= \\frac{{18 \\choose 4}{2 \\choose 2}{14 \\choose 2}{12 \\choose 1}}{{20 \\choose 4}{16 \\choose 4}{12 \\choose 1}} \\\\\n",
    "    &\\approx 0.031578947368421054 \\\\\n",
    "    P(A=0 \\text{ and } B=1 \\text{ and } C=1) &= \\frac{{18 \\choose 4}{2 \\choose 1}{14 \\choose 3}{1 \\choose 1}}{{20 \\choose 4}{16 \\choose 4}{12 \\choose 1}} \\\\\n",
    "    &\\approx 0.021052631578947368 \\\\\n",
    "    P(A=1 \\text{ and } B=0 \\text{ and } C=1) &= \\frac{{2 \\choose 1}{18 \\choose 3}{15 \\choose 4}{1 \\choose 1}}{{20 \\choose 4}{16 \\choose 4}{12 \\choose 1}} \\\\\n",
    "    &\\approx 0.021052631578947368 \\\\\n",
    "    P(\\text{you and your friend are chosen for a committee}) &\\approx 0.189\n",
    "  \\end{aligned}\n",
    "\\end{equation}"
   ]
  },
  {
   "cell_type": "code",
   "execution_count": 296,
   "metadata": {
    "collapsed": false,
    "scrolled": true
   },
   "outputs": [
    {
     "data": {
      "text/plain": [
       "0.18947368421052632"
      ]
     },
     "execution_count": 296,
     "metadata": {},
     "output_type": "execute_result"
    }
   ],
   "source": [
    "misc.comb(2,1)*misc.comb(18,3)*misc.comb(1,1)*misc.comb(15,3)*misc.comb(12,1) \\\n",
    "/ (misc.comb(20,4)*misc.comb(16,4)*misc.comb(12,1)) + \\\n",
    "misc.comb(2,2)*misc.comb(18,2)*misc.comb(16,4)*misc.comb(12,1) \\\n",
    "/ (misc.comb(20,4)*misc.comb(16,4)*misc.comb(12,1)) * 2 + \\\n",
    "misc.comb(18,4)*misc.comb(14,3)*misc.comb(2,1)*misc.comb(1,1) \\\n",
    "/ (misc.comb(20,4)*misc.comb(16,4)*misc.comb(12,1)) * 2"
   ]
  },
  {
   "cell_type": "code",
   "execution_count": 301,
   "metadata": {
    "collapsed": false,
    "scrolled": true
   },
   "outputs": [],
   "source": [
    "def committee_sim(num_experiments=10000, \n",
    "                  num_people_of_interest=2, \n",
    "                  num_people=20, \n",
    "                  committee_1_size=5, \n",
    "                  committee_2_size=5):\n",
    "    \n",
    "    ones = np.ones(num_people_of_interest)\n",
    "    zeros = np.zeros(num_people - num_people_of_interest)\n",
    "    \n",
    "    population = np.append(ones, zeros)\n",
    "    \n",
    "    count = 0\n",
    "    \n",
    "    for exp in range(num_experiments):\n",
    "        permuted = np.random.permutation(population)\n",
    "\n",
    "        # if I and my friend are in a committee (spaces 0,1,2,3,4,5,6,7,8)\n",
    "        if permuted[9:].sum() == 0:\n",
    "            count += 1\n",
    "        \n",
    "    return count / float(num_experiments)\n",
    "        "
   ]
  },
  {
   "cell_type": "code",
   "execution_count": 311,
   "metadata": {
    "collapsed": false,
    "scrolled": false
   },
   "outputs": [
    {
     "data": {
      "text/plain": [
       "0.1882"
      ]
     },
     "execution_count": 311,
     "metadata": {},
     "output_type": "execute_result"
    }
   ],
   "source": [
    "committee_sim()"
   ]
  },
  {
   "cell_type": "markdown",
   "metadata": {
    "collapsed": true
   },
   "source": [
    "# "
   ]
  },
  {
   "cell_type": "code",
   "execution_count": 304,
   "metadata": {
    "collapsed": true
   },
   "outputs": [],
   "source": [
    "def hist_committee():\n",
    "    vals = []\n",
    "    for i in range(1000):\n",
    "        vals.append(committee_sim())\n",
    "    \n",
    "    return np.sort(vals)"
   ]
  },
  {
   "cell_type": "code",
   "execution_count": null,
   "metadata": {
    "collapsed": false
   },
   "outputs": [],
   "source": []
  },
  {
   "cell_type": "code",
   "execution_count": 305,
   "metadata": {
    "collapsed": false
   },
   "outputs": [],
   "source": [
    "vals = pd.DataFrame({'val': hist_committee()})"
   ]
  },
  {
   "cell_type": "code",
   "execution_count": 306,
   "metadata": {
    "collapsed": false
   },
   "outputs": [
    {
     "data": {
      "text/plain": [
       "array([[<matplotlib.axes._subplots.AxesSubplot object at 0x1112516d0>]], dtype=object)"
      ]
     },
     "execution_count": 306,
     "metadata": {},
     "output_type": "execute_result"
    },
    {
     "data": {
      "image/png": "[encoded data removed]",
      "text/plain": [
       "<matplotlib.figure.Figure at 0x111251c50>"
      ]
     },
     "metadata": {},
     "output_type": "display_data"
    }
   ],
   "source": [
    "vals.hist(bins=100)"
   ]
  },
  {
   "cell_type": "code",
   "execution_count": 307,
   "metadata": {
    "collapsed": false
   },
   "outputs": [
    {
     "data": {
      "text/plain": [
       "val    0.1896\n",
       "Name: 500, dtype: float64"
      ]
     },
     "execution_count": 307,
     "metadata": {},
     "output_type": "execute_result"
    }
   ],
   "source": [
    "vals.ix[500]"
   ]
  },
  {
   "cell_type": "markdown",
   "metadata": {
    "collapsed": false,
    "scrolled": false
   },
   "source": [
    "## 8. Consider a device that lasts either one, two or three months, with probabilities 0.1, 0.7 and 0.2, respectively. We carry one spare. Find the probability that we have some device still working just before four months have elapsed.\n",
    "\n",
    "Let $A$ represent the life in months of the main device and $B$ the life in months of the spare. Essentially, we are interested in figuring out the value of $P(A+B \\geq 4)$:\n",
    "\n",
    "\\begin{equation}\n",
    "    \\begin{aligned}\n",
    "        P(A+B \\geq 4) &= P(A=1 \\text{ and } B=3) \\\\\n",
    "        &\\quad + P(A=2 \\text{ and } B=2) \\\\\n",
    "        &\\quad + P(A=2 \\text{ and } B=3) \\\\\n",
    "        &\\quad + P(A=3 \\text{ and } B=1) \\\\\n",
    "        &\\quad + P(A=3 \\text{ and } B=2) \\\\\n",
    "        &\\quad + P(A=3 \\text{ and } B=3) \\\\\n",
    "        &= (0.1)(0.2) \\\\\n",
    "        &\\quad + (0.7)(0.7) \\\\\n",
    "        &\\quad + (0.7)(0.2) \\\\\n",
    "        &\\quad + (0.2)(0.1) \\\\\n",
    "        &\\quad + (0.2)(0.7) \\\\\n",
    "        &\\quad + (0.2)(0.2) \\\\\n",
    "        &= 0.85\n",
    "    \\end{aligned}\n",
    "\\end{equation}\n"
   ]
  },
  {
   "cell_type": "code",
   "execution_count": 362,
   "metadata": {
    "collapsed": false
   },
   "outputs": [],
   "source": [
    "class Device():\n",
    "    def __init__(self):\n",
    "        ones = np.ones(1)\n",
    "        twos = np.ones(7) * 2\n",
    "        threes = np.ones(2) * 3\n",
    "        combo = np.append(ones, np.append(twos, threes))\n",
    "\n",
    "        self.life = np.random.permutation(combo)[0]\n",
    "        \n",
    "    def update(self):\n",
    "        if self.life > 0:\n",
    "            self.life -= 1\n",
    "\n",
    "    def is_alive(self):\n",
    "        return self.life > 0\n",
    "\n",
    "class Devices():\n",
    "    def __init__(self, num_devices=2):\n",
    "        self.devices = []\n",
    "        self.num_devices = num_devices\n",
    "        \n",
    "        for i in range(self.num_devices):\n",
    "            self.devices.append(Device())\n",
    "            \n",
    "    def update(self):\n",
    "        for d in self.devices:\n",
    "            if d.is_alive():\n",
    "                d.update()\n",
    "                break       \n",
    "        \n",
    "    def is_alive_count(self):\n",
    "        count = 0\n",
    "        for d in self.devices:\n",
    "            if d.is_alive():\n",
    "                count += 1\n",
    "        return count\n",
    "            \n",
    "def sim_device_life(num_experiments=10000, target_month=4):\n",
    "  \n",
    "    count = 0\n",
    "    \n",
    "    for i in range(num_experiments):\n",
    "        devices = Devices()\n",
    "        \n",
    "        for j in range(target_month - 1):\n",
    "            devices.update()\n",
    "        if devices.is_alive_count() > 0:\n",
    "            count += 1\n",
    "    \n",
    "    return count / float(num_experiments)\n",
    "    "
   ]
  },
  {
   "cell_type": "code",
   "execution_count": 367,
   "metadata": {
    "collapsed": false
   },
   "outputs": [
    {
     "data": {
      "text/plain": [
       "0.8479"
      ]
     },
     "execution_count": 367,
     "metadata": {},
     "output_type": "execute_result"
    }
   ],
   "source": [
    "sim_device_life()"
   ]
  },
  {
   "cell_type": "code",
   "execution_count": null,
   "metadata": {
    "collapsed": true
   },
   "outputs": [],
   "source": []
  },
  {
   "cell_type": "markdown",
   "metadata": {
    "collapsed": false,
    "scrolled": false
   },
   "source": [
    "## 9. A building has six floors, and is served by two freight elevators, named Mike and Ike. The destination floor of any order of freight is equally likely to be any of floors 2 through 6. Once an elevator reaches any of these floors, it stays there until summoned. \n",
    "\n",
    "##When an order arrives to the building, whichever elevator is currently closer to floor 1 will be summoned, with elevator Ike being the one summoned in the case in which they are both on the same floor.\n",
    "\n",
    "##Find the probability that after the summons, elevator Mike is on floor 3. Assume that only one order of freight can fit in an elevator at a time. Also, suppose the average time between arrivals of freight to the building is much larger than the time for an elevator to travel between the bottom and top floors; this assumption allows us to neglect travel time.\n",
    "\n",
    "\n",
    "This essentially boils down to $P(\\text{Mike stays at 3 or Mike goes to 3})$\n",
    "\n",
    "Since we know that the elevators stay at their destination (floors $2$,$3$,$4$,$5$, or $6$), and that any destination is equally likely, and that we are not given the starting locations of the elevators, we are just going to assume they are random (e.g. either be in floors $2$,$3$,$4$,$5$, or $6$).  :\n",
    "\n",
    "\\begin{equation}\n",
    "    \\begin{aligned}\n",
    "        P(\\text{Mike stays at 3 or Mike goes to 3}) &= P(\\text{Mike stays at 3}) \\\\\n",
    "        &\\quad + P(\\text{Mike goes to 3}) \\\\\n",
    "        P(\\text{Mike stays at 3}) &= P(M=3, I=3) + P(M=3, I=2) \\\\\n",
    "        &= \\frac{1}{5} \\times \\frac{1}{5} + \\frac{1}{5} \\times \\frac{1}{5} \\\\\n",
    "        &= \\frac{2}{25} \\\\\n",
    "        P(\\text{Mike goes to 3}) &= P(M=5, I=6) \\\\\n",
    "        &\\quad + P(M=5, I=6) \\\\\n",
    "        &\\quad + P(M=4, I=6) \\\\\n",
    "        &\\quad + P(M=3, I=6) \\\\\n",
    "        &\\quad + P(M=2, I=6) \\\\\n",
    "        &\\quad + P(M=4, I=5) \\\\\n",
    "        &\\quad + P(M=3, I=5) \\\\\n",
    "        &\\quad + P(M=2, I=5) \\\\\n",
    "        &\\quad + P(M=3, I=4) \\\\\n",
    "        &\\quad + P(M=2, I=4) \\\\\n",
    "        &\\quad + P(M=2, I=3) \\\\\n",
    "        &=P(M=5 \\mid I=6)P(I=6) \\\\\n",
    "        &\\quad + P(M=4 \\mid I=6)P(I=6) \\\\\n",
    "        &\\quad + P(M=3 \\mid I=6)P(I=6) \\\\\n",
    "        &\\quad + P(M=2 \\mid I=6)P(I=6) \\\\\n",
    "        &\\quad + P(M=4 \\mid I=5)P(I=5) \\\\\n",
    "        &\\quad + P(M=3 \\mid I=5)P(I=5) \\\\\n",
    "        &\\quad + P(M=2 \\mid I=5)P(I=5) \\\\\n",
    "        &\\quad + P(M=3 \\mid I=4)P(I=4) \\\\\n",
    "        &\\quad + P(M=2 \\mid I=4)P(I=4) \\\\\n",
    "        &\\quad + P(M=2 \\mid I=3)P(I=3) \\\\\n",
    "        &= \\frac{10}{25} \\times \\frac{1}{5} \\\\\n",
    "        &= \\frac{10}{125}\n",
    "    \\end{aligned}\n",
    "\\end{equation}\n",
    "\n",
    "\\begin{equation}\n",
    "    \\begin{aligned}\n",
    "        P(\\text{Mike stays at 3 or Mike goes to 3}) &= \\frac{2}{25} + \\frac{10}{125} \\\\ \n",
    "        &= 0.16 \\\\\n",
    "    \\end{aligned}\n",
    "\\end{equation}\n"
   ]
  },
  {
   "cell_type": "code",
   "execution_count": 429,
   "metadata": {
    "collapsed": false
   },
   "outputs": [],
   "source": [
    "class FreightOrder():\n",
    "    def __init__(self):\n",
    "        self.destination = np.random.permutation([2,3,4,5,6])[0]\n",
    "        \n",
    "class MikeElevator():\n",
    "    def __init__(self):\n",
    "        self.current_level = np.random.permutation([2,3,4,5,6])[0]\n",
    "    def go_to_destination(self, freight_order):\n",
    "        self.current_level = freight_order.destination\n",
    "        \n",
    "class IkeElevator():\n",
    "    def __init__(self):\n",
    "        self.current_level = np.random.permutation([2,3,4,5,6])[0]\n",
    "    def go_to_destination(self, freight_order):\n",
    "        self.current_level = freight_order.destination\n",
    "        \n",
    "class Elevators():\n",
    "    def __init__(self):\n",
    "        self.mike_elevator = MikeElevator()\n",
    "        self.ike_elevator = IkeElevator()\n",
    "        self.elevators = [self.mike_elevator, self.ike_elevator]\n",
    "        \n",
    "    def take_order(self, freight_order):\n",
    "        if self.mike_elevator.current_level == self.ike_elevator.current_level or \\\n",
    "           self.mike_elevator.current_level > self.ike_elevator.current_level:\n",
    "            self.ike_elevator.go_to_destination(freight_order)\n",
    "        else:\n",
    "            self.mike_elevator.go_to_destination(freight_order)\n",
    "    \n",
    "    def mike_is_in_level_3(self):\n",
    "        return self.mike_elevator.current_level == 3\n",
    "\n",
    "def sim_elevators(num_experiments=10000):\n",
    "   \n",
    "    count = 0\n",
    "    for i in range(num_experiments):\n",
    "        elevators = Elevators()\n",
    "    \n",
    "        elevators.take_order(FreightOrder())\n",
    "        if elevators.mike_is_in_level_3():\n",
    "            count += 1\n",
    "\n",
    "    return count / float(num_experiments)"
   ]
  },
  {
   "cell_type": "code",
   "execution_count": 431,
   "metadata": {
    "collapsed": false
   },
   "outputs": [
    {
     "data": {
      "text/plain": [
       "0.1602"
      ]
     },
     "execution_count": 431,
     "metadata": {},
     "output_type": "execute_result"
    }
   ],
   "source": [
    "sim_elevators(num_experiments=10000)"
   ]
  },
  {
   "cell_type": "markdown",
   "metadata": {},
   "source": [
    "## 10. Without resorting to using the fact that  ${n \\choose k}  = n!/[k!(n − k!)]$, find c and d such that \n",
    "\n",
    "\\begin{equation}\n",
    "{n \\choose k} = {n - 1 \\choose k} + {c \\choose d}\n",
    "\\end{equation}\n",
    "\n",
    "I don't really see the point of *not* using the definition, and couldn't think of any other way to solve the problem, so I chose to use the definition instead.\n",
    "\n",
    "\\begin{equation}\n",
    "\\begin{aligned}\n",
    "{n \\choose k} &= {n - 1 \\choose k} + {c \\choose d} \\\\\n",
    "\\frac{n!}{k!(n-k)!} &= \\frac{(n-1)!}{k!(n-1-k)!} + \\frac{c!}{(c-d)!d!} \\\\\n",
    "\\frac{n!}{k!(n-k)!} - \\frac{(n-1)!}{k!(n-1-k)!} &= \\frac{c!}{(c-d)!d!} \\\\\n",
    "\\frac{n!}{k!(n-k)(n-k-1)!} - \\frac{(n-1)!}{k!(n-k-1)!} &= \\\\\n",
    "\\frac{n!}{k!(n-k)(n-k-1)!} - \\frac{(n-1)!(n-k)}{k!(n-k)(n-k-1)!} &= \\\\\n",
    "\\frac{n! - (n-1)!(n-k)}{k!(n-k)(n-k-1)!} &= \\\\\n",
    "\\frac{n(n-1)! - (n-1)!(n-k)}{k!(n-k)(n-k-1)!} &= \\\\\n",
    "\\frac{(n-(n-k))(n-1)!}{k!(n-k)(n-k-1)!} &= \\\\\n",
    "\\frac{k(n-1)!}{k!(n-k)(n-k-1)!} &=  \\\\\n",
    "\\frac{(n-1)!}{(k-1)!(n-k)(n-k-1)!} &= \\\\\n",
    "\\frac{(n-1)!}{(k-1)!(n-k)!} &= \\\\\n",
    "c &= n-1 \\\\\n",
    "d &= n-k \\\\\n",
    "c-d &= (n-1) - (n-k) \\\\\n",
    "&= k-1 \\\\\n",
    "{n \\choose k} &= {n - 1 \\choose k} + {n-1 \\choose n-k} \\\\\n",
    "\\end{aligned}\n",
    "\\end{equation}"
   ]
  },
  {
   "cell_type": "markdown",
   "metadata": {},
   "source": [
    "## 11. Consider the ALOHA example from the text, for general p and q, and suppose that $X_0 = 0$, i.e. there are no active nodes at the beginning of our observation period. Find $P(X_1 = 0)$.\n",
    "\n",
    "\\begin{equation}\n",
    "    \\begin{aligned}\n",
    "        P(X_1=0) &= P(X_1=0|X_0=0)P(X_0=0) \\\\\n",
    "        &= P(X_1=0|X_0=0) \\\\\n",
    "        &= P(A\\text{ becomes active & sends a message & }B\\text{ stays inactive }   \\\\ \n",
    "        &\\quad \\text{ or } B \\text{ becomes active & sends a message & }A\\text{ stays inactive } \\\\\n",
    "        &\\quad \\text{ or }A \\text{ & }B\\text{ don't become active}) \\\\\n",
    "        &= P(A\\text{ becomes active & sends a message & }B\\text{ stays inactive }) \\\\ \n",
    "        &\\quad + P(B \\text{ becomes active & sends a message & }A\\text{ stays inactive } )\\\\\n",
    "        &\\quad + P(A\\text{ & }B\\text{ don't become active}) \\\\\n",
    "        &= (1-q)pq + (1-q)^2 + (1-q)pq \\\\ \n",
    "        &= 2pq(1-q) + (1-q)^2 \\\\\n",
    "    \\end{aligned}\n",
    "\\end{equation}\n",
    "\n",
    "To test our intuition, we try out a case and compare it with the simulation. We assume that $p=0.4$ and $q=0.8$.\n",
    "\n",
    "Thus,\n",
    "\n",
    "\\begin{equation}\n",
    "    \\begin{aligned}\n",
    "        P(X_1=0) &= 2pq(1-q) + (1-q)^2 \\\\\n",
    "        &= 2(0.4)(0.8)(1-0.8) + (1-0.8)^2 \\\\ \n",
    "        &= 0.168\n",
    "    \\end{aligned}\n",
    "\\end{equation}\n"
   ]
  },
  {
   "cell_type": "code",
   "execution_count": 447,
   "metadata": {
    "collapsed": false,
    "scrolled": true
   },
   "outputs": [
    {
     "data": {
      "text/plain": [
       "0.16800000000000004"
      ]
     },
     "execution_count": 447,
     "metadata": {},
     "output_type": "execute_result"
    }
   ],
   "source": [
    "(2*0.4*0.8)*0.2 + 0.2*0.2"
   ]
  },
  {
   "cell_type": "code",
   "execution_count": 445,
   "metadata": {
    "collapsed": false
   },
   "outputs": [
    {
     "data": {
      "text/plain": [
       "0.16766"
      ]
     },
     "execution_count": 445,
     "metadata": {},
     "output_type": "execute_result"
    }
   ],
   "source": [
    "simulate_aloha(num_nodes=2, \n",
    "               num_epochs=1, \n",
    "               num_active_initial=0,\n",
    "               criteria=lambda x: x[1]==0,\n",
    "               num_experiments=100000)"
   ]
  },
  {
   "cell_type": "code",
   "execution_count": null,
   "metadata": {
    "collapsed": true
   },
   "outputs": [],
   "source": []
  },
  {
   "cell_type": "markdown",
   "metadata": {},
   "source": [
    "## 12. Consider a three-sided die, as opposed to the standard six-sided type. The die is cylinder- shaped, and gives equal probabilities to one, two and three dots. The game is to keep rolling the die until we get a total of at least $3$. Let N denote the number of times we roll the die. For example, if we get a $3$ on the first roll, $N=1$. If we get a $2$ on the first roll, then $N$ will be $2$ no matter what we get the second time. The largest $N$ can be is $3$. The rule is that one wins if one’s final total is exactly $3$.\n",
    "\n",
    "### (a) Find the probability of winning:\n",
    "\n",
    "Let $R_i$ represent the value of the die at roll $i$.\n",
    "\n",
    "\\begin{equation}\n",
    "    \\begin{aligned}\n",
    "        P(\\text{win}) &= P(R_1=3, R_2=0, R_3=0) \\\\\n",
    "        &\\quad + P(R_1=2, R_2=1, R_3=0) \\\\\n",
    "        &\\quad + P(R_1=1, R_2=2, R_3=0) \\\\\n",
    "        &\\quad + P(R_1=1, R_2=1, R_3=1) \\\\\n",
    "        P(R_1=3, R_2=0, R_3=0) &= P(R_3=0 \\mid R_2=0, R_1=3)P(R_2=0 \\mid R_1=3)P(R_1=3) \\\\\n",
    "        &= 1 \\times 1 \\times \\frac{1}{3} \\\\\n",
    "        &= \\frac{1}{3} \\\\\n",
    "        P(R_1=2, R_2=1, R_3=0) &= P(R_3=0 \\mid R_2=1, R_1=2)P(R_2=1 \\mid R_1=2)P(R_1=2) \\\\\n",
    "        &= 1 \\times \\frac{1}{3} \\times \\frac{1}{3} \\\\\n",
    "        &= \\frac{1}{9} \\\\\n",
    "        P(R_1=1, R_2=2, R_3=0) &= P(R_3=0 \\mid R_2=2, R_1=1)P(R_2=2 \\mid R_1=1)P(R_1=1) \\\\\n",
    "        &= 1 \\times \\frac{1}{3} \\times \\frac{1}{3} \\\\\n",
    "        &= \\frac{1}{9} \\\\\n",
    "        P(R_1=1, R_2=1, R_3=1) &= P(R_3=1 \\mid R_2=1, R_1=1)P(R_2=1 \\mid R_1=1)P(R_1=1) \\\\\n",
    "        &= \\frac{1}{3} \\times \\frac{1}{3} \\times \\frac{1}{3} \\\\\n",
    "        &= \\frac{1}{27} \\\\\n",
    "        P(\\text{win}) &= \\frac{1}{3} + \\frac{1}{9} + \\frac{1}{9} + \\frac{1}{27} \\\\\n",
    "        &\\approx 0.592\n",
    "    \\end{aligned}\n",
    "\\end{equation}"
   ]
  },
  {
   "cell_type": "code",
   "execution_count": 492,
   "metadata": {
    "collapsed": false
   },
   "outputs": [
    {
     "data": {
      "text/plain": [
       "0.5925925925925926"
      ]
     },
     "execution_count": 492,
     "metadata": {},
     "output_type": "execute_result"
    }
   ],
   "source": [
    "1.0/3+2.0*1/9.0+1.0/27"
   ]
  },
  {
   "cell_type": "code",
   "execution_count": 478,
   "metadata": {
    "collapsed": true
   },
   "outputs": [],
   "source": [
    "class ThreeSidedDie():\n",
    "    def roll(self):\n",
    "        return np.random.permutation([1,2,3])[0]\n",
    "        \n",
    "def sim_three_points_game(num_experiments=10000, num_tries=3):\n",
    "    die = ThreeSidedDie()\n",
    "    count = 0\n",
    "    \n",
    "    for i in range(num_experiments):\n",
    "        results = []\n",
    "        successful = False\n",
    "        num_attempts = 0\n",
    "        while (num_attempts < num_tries) and not successful:\n",
    "            results.append(die.roll())\n",
    "            \n",
    "            if np.array(results).sum() == 3:\n",
    "                count += 1\n",
    "                successful = True\n",
    "            \n",
    "            num_attempts += 1\n",
    "            \n",
    "    return count / float(num_experiments)"
   ]
  },
  {
   "cell_type": "code",
   "execution_count": 524,
   "metadata": {
    "collapsed": true
   },
   "outputs": [],
   "source": [
    "class ThreeSidedDie():\n",
    "    def roll(self):\n",
    "        return np.random.permutation([1,2,3])[0]\n",
    "        \n",
    "def sim_three_points_game(num_experiments=100000, \n",
    "                          num_tries=3, \n",
    "                          given=lambda x: True,\n",
    "                          criteria=lambda x: np.array(x).sum() == 3):\n",
    "    die = ThreeSidedDie()\n",
    "    count = 0\n",
    "    given_count = 0\n",
    "    \n",
    "    for i in range(num_experiments):\n",
    "        results = []\n",
    "        successful = False\n",
    "        num_attempts = 0\n",
    "            \n",
    "        while (num_attempts < num_tries) and not successful:\n",
    "            results.append(die.roll())\n",
    "            \n",
    "            if np.array(results).sum() == 3:\n",
    "                successful = True\n",
    "                \n",
    "            num_attempts += 1\n",
    "            \n",
    "        if given(results) and criteria(results):\n",
    "            count += 1\n",
    "            given_count += 1\n",
    "        elif given(results) and not criteria(results):\n",
    "            given_count += 1\n",
    "            \n",
    "    return count / float(given_count)"
   ]
  },
  {
   "cell_type": "code",
   "execution_count": 520,
   "metadata": {
    "collapsed": false,
    "scrolled": false
   },
   "outputs": [
    {
     "data": {
      "text/plain": [
       "0.59284"
      ]
     },
     "execution_count": 520,
     "metadata": {},
     "output_type": "execute_result"
    }
   ],
   "source": [
    "sim_three_points_game(num_experiments=100000)"
   ]
  },
  {
   "cell_type": "markdown",
   "metadata": {},
   "source": [
    "### (b) Find $P(\\text{our first roll was a 1} \\mid \\text{we won})$:\n",
    "\n",
    "Let $R_i$ represent the value of the die at roll $i$.\n",
    "\n",
    "\\begin{equation}\n",
    "    \\begin{aligned}\n",
    "        P(\\text{our first roll was a 1} \\mid \\text{we won}) &= \\frac{P(R_1=1, R_2=2, R_3=0) + P(R_1=1, R_2=1, R_3=1)}{P(\\text{win})} \\\\\n",
    "        &= \\frac{\\frac{1}{9} + \\frac{1}{27}}{\\frac{1}{3} + \\frac{1}{9} + \\frac{1}{9} + \\frac{1}{27}} \\\\\n",
    "        &= 0.25\n",
    "    \\end{aligned}\n",
    "\\end{equation}"
   ]
  },
  {
   "cell_type": "code",
   "execution_count": 523,
   "metadata": {
    "collapsed": false,
    "scrolled": true
   },
   "outputs": [
    {
     "data": {
      "text/plain": [
       "0.24985237299859966"
      ]
     },
     "execution_count": 523,
     "metadata": {},
     "output_type": "execute_result"
    }
   ],
   "source": [
    "sim_three_points_game(num_experiments=100000,\n",
    "                      criteria=lambda x: x[0] == 1, \n",
    "                      given=lambda x: np.array(x).sum() == 3)"
   ]
  },
  {
   "cell_type": "code",
   "execution_count": 491,
   "metadata": {
    "collapsed": false
   },
   "outputs": [
    {
     "data": {
      "text/plain": [
       "0.25"
      ]
     },
     "execution_count": 491,
     "metadata": {},
     "output_type": "execute_result"
    }
   ],
   "source": [
    "(1.0/9 + 1/27.0)/(1.0/3+2.0*1/9.0+1.0/27)"
   ]
  },
  {
   "cell_type": "markdown",
   "metadata": {},
   "source": [
    "### (c) How could we construct such a die?\n",
    "\n",
    "We want to make sure that the cylinder is taller than it is wide, so that it ends lying on its curved surface virtually all the time.  Split the curved surface of the cylinder into 3 even slots."
   ]
  },
  {
   "cell_type": "code",
   "execution_count": 525,
   "metadata": {
    "collapsed": false
   },
   "outputs": [
    {
     "data": {
      "text/plain": [
       "0.24305555555555552"
      ]
     },
     "execution_count": 525,
     "metadata": {},
     "output_type": "execute_result"
    }
   ],
   "source": [
    "5*7*(1/4.0*1/3.0)*(1/4.0*1/3.0)"
   ]
  },
  {
   "cell_type": "markdown",
   "metadata": {},
   "source": [
    "## 14. Jack and Jill keep rolling a four-sided and a three-sided die, respectively. The first player to get the face having just one dot wins, except that if they both get a 1, it’s a tie, and play continues. Let N denote the number of turns needed. Find the following:"
   ]
  },
  {
   "cell_type": "code",
   "execution_count": 1,
   "metadata": {
    "collapsed": false
   },
   "outputs": [],
   "source": [
    "def sim_jack_jill(num_simulations=10000,\n",
    "                  given=lambda x: True,\n",
    "                  criteria=lambda x: len(x) == 1):\n",
    "    \n",
    "    def jack_roll():\n",
    "        return np.random.permutation([1,2,3,4])[0]\n",
    "    \n",
    "    def jill_roll():\n",
    "        return np.random.permutation([1,2,3])[0]\n",
    "    \n",
    "\n",
    "    meet_criteria_count = 0\n",
    "    meet_given_count = 0\n",
    "        \n",
    "    for i in range(num_simulations):\n",
    "        no_one_has_won = True        \n",
    "        results = []\n",
    "        \n",
    "        while no_one_has_won:\n",
    "            jk_roll = jack_roll()\n",
    "            jl_roll = jill_roll()\n",
    "        \n",
    "            results.append(jk_roll + jl_roll)\n",
    "            \n",
    "            if jk_roll == 1 and not jl_roll == 1:\n",
    "                no_one_has_won = False\n",
    "            elif not jk_roll == 1 and jl_roll == 1:\n",
    "                no_one_has_won = False\n",
    "    \n",
    "        if given(results) and criteria(results):\n",
    "            meet_criteria_count +=1\n",
    "            meet_given_count += 1\n",
    "        elif given(results) and not criteria(results):\n",
    "            meet_given_count += 1\n",
    "            \n",
    "        \n",
    "        \n",
    "    return meet_criteria_count / float(meet_given_count)"
   ]
  },
  {
   "cell_type": "markdown",
   "metadata": {},
   "source": [
    "### (a) $P(N=1), P(N=2)$\n",
    "\n",
    "\\begin{equation}\n",
    "  \\begin{aligned}\n",
    "    P(N=1) &= P(\\text{Jack wins or Jill wins}) \\\\\n",
    "    &= P(\\text{Ja}_1=1)P(\\text{Ji}_1=2) \\\\\n",
    "    &\\quad P(\\text{Ja}_1=1)P(\\text{Ji}_1=3) \\\\\n",
    "    &\\quad P(\\text{Ja}_1=2)P(\\text{Ji}_1=1) \\\\\n",
    "    &\\quad P(\\text{Ja}_1=3)P(\\text{Ji}_1=1) \\\\\n",
    "    &\\quad P(\\text{Ja}_1=4)P(\\text{Ji}_1=1) \\\\\n",
    "    &= 1/3 \\times 1/4 \\\\\n",
    "    &\\quad + 1/3 \\times 1/4 \\\\\n",
    "    &\\quad + 1/3 \\times 1/4 \\\\\n",
    "    &\\quad + 1/3 \\times 1/4 \\\\\n",
    "    &\\quad + 1/3 \\times 1/4 \\\\\n",
    "    &= 5/12 \\\\\n",
    "    &\\approx 0.416 \\\\\n",
    "  \\end{aligned}\n",
    "\\end{equation}\n",
    "\n",
    "\\begin{equation}\n",
    "  \\begin{aligned}\n",
    " P(N=2) &= P(\\text{no one wins during the first roll})P(\\text{Jack wins or Jill wins}) \\\\\n",
    "    P(\\text{no one wins during the first roll}) &= 1.0 - P(N=1) \\\\ \n",
    "    &= 7/12 \\\\ \n",
    "    P(\\text{Jack wins or Jill wins}) &= P(N=1)\\\\\n",
    "    &= 5/12 \\\\\n",
    "    P(N=2) &= 7/12 \\times 5/12 \\\\\n",
    "    &= 35/144 \\\\\n",
    "    &\\approx 0.243\n",
    "  \\end{aligned}\n",
    "\\end{equation}"
   ]
  },
  {
   "cell_type": "code",
   "execution_count": 579,
   "metadata": {
    "collapsed": false
   },
   "outputs": [
    {
     "data": {
      "text/plain": [
       "0.4167"
      ]
     },
     "execution_count": 579,
     "metadata": {},
     "output_type": "execute_result"
    }
   ],
   "source": [
    "sim_jack_jill(criteria=lambda x: len(x) == 1, num_simulations=10000)"
   ]
  },
  {
   "cell_type": "code",
   "execution_count": 580,
   "metadata": {
    "collapsed": false
   },
   "outputs": [
    {
     "data": {
      "text/plain": [
       "0.2399"
      ]
     },
     "execution_count": 580,
     "metadata": {},
     "output_type": "execute_result"
    }
   ],
   "source": [
    "sim_jack_jill(criteria=lambda x: len(x) == 2, num_simulations=10000)"
   ]
  },
  {
   "cell_type": "markdown",
   "metadata": {},
   "source": [
    "### (b) $P(\\text{the first turn resulted in a tie} \\mid N=2)$\n",
    "\n",
    "\\begin{equation}\n",
    "  \\begin{aligned}\n",
    "    P(\\text{the first turn resulted in a tie} \\mid N=2) &= \\frac{P(\\text{tie during first roll})P(\\text{Jack wins or Jill wins})}{35/144} \\\\\n",
    "    &= \\frac{P(\\text{Ja}_1=1)P(\\text{Ji}_1=1)(5/12)}{35/144} \\\\\n",
    "    &= \\frac{1/3 \\times 1/4 \\times 5/12}{35/144} \\\\\n",
    "    &= 1/7 \\\\\n",
    "    &\\approx 0.143\n",
    "  \\end{aligned}\n",
    "\\end{equation}"
   ]
  },
  {
   "cell_type": "code",
   "execution_count": 584,
   "metadata": {
    "collapsed": false
   },
   "outputs": [
    {
     "data": {
      "text/plain": [
       "0.1436950146627566"
      ]
     },
     "execution_count": 584,
     "metadata": {},
     "output_type": "execute_result"
    }
   ],
   "source": [
    "sim_jack_jill(criteria=lambda x: x[0] == 2,\n",
    "              given=lambda x: len(x) == 2,\n",
    "              num_simulations=100000)"
   ]
  },
  {
   "cell_type": "markdown",
   "metadata": {},
   "source": [
    "## 15. In the ALOHA network example in Sec. 1.1, suppose $X_0 = 1$, i.e. we start out with just one active node. Find $P(X_2 = 0)$, as an expression in $p$ and $q$.\n",
    "\n",
    "\\begin{equation}\n",
    "  \\begin{aligned}\n",
    "    P(X_2=0) &= P(X_2=0 \\mid X_1=0)P(X_1=0) \\\\\n",
    "    &\\quad + P(X_2=0 \\mid X_1=1)P(X_1=1) \\\\\n",
    "    &\\quad + P(X_2=0 \\mid X_1=2)P(X_1=2) \\\\\n",
    "  \\end{aligned}\n",
    "\\end{equation}\n",
    "\n",
    "We know that $P(X_2=0 \\mid X_1=2)$ cannot happen; two active nodes cannot become inactive in the same epoch -- see earlier examples, so we simplify the equation:\n",
    "\n",
    "\\begin{equation}\n",
    "  \\begin{aligned}\n",
    "    P(X_2=0) &= P(X_2=0 \\mid X_1=0)P(X_1=0) \\\\\n",
    "    &\\quad + P(X_2=0 \\mid X_1=1)P(X_1=1) \\\\\n",
    "  \\end{aligned}\n",
    "\\end{equation}\n",
    "\n",
    "\n",
    "\\begin{equation}\n",
    "  \\begin{aligned}\n",
    "    P(X_1=0) &= P(\\text{active sends message and inactive stays inactive}) \\\\\n",
    "    &= p(1-q) \\\\\n",
    "  \\end{aligned}\n",
    "\\end{equation}\n",
    "\n",
    "\\begin{equation}\n",
    "  \\begin{aligned}\n",
    "    P(X_2=0 \\mid X_1=0) &= P(\\text{A stays inactive and B stays inactive}) \\\\\n",
    "    &\\quad + P(\\text{A becomes active, sends, and B stays inactive}) \\\\\n",
    "    &\\quad + P(\\text{B becomes active, sends, and A stays inactive}) \\\\\n",
    "    &= (1-p)(1-q) + qp(1-q) + qp(1-q) \\\\\n",
    "    &= 2pq(1-q) + (1-q)^2 \\\\\n",
    "  \\end{aligned}\n",
    "\\end{equation}\n",
    "\n",
    "\\begin{equation}\n",
    "  \\begin{aligned}\n",
    "    P(X_1=1) &= P(\\text{active does not send, and inactive stays inactive}) \\\\\n",
    "    &\\quad + P(\\text{active does send, inactive becomes active and does not send}) \\\\\n",
    "    &\\quad + P(\\text{active does not send, inactive becomes active and does send}) \\\\\n",
    "    &= (1-q)(1-q) + qp(1-q) + qp(1-q) \\\\\n",
    "    &= pq(1-p) + pq(1-q) + (1-p)(1-q) \\\\\n",
    "    &= 2pq(1-p) + (1-p)(1-q)\n",
    "  \\end{aligned}\n",
    "\\end{equation}\n",
    "\n",
    "\\begin{equation}\n",
    "  \\begin{aligned}\n",
    "    P(X_2=0 \\mid X_1=1) &= P(\\text{active sends, and inactive stays inactive}) \\\\\n",
    "    &= p(1-q)\n",
    "  \\end{aligned}\n",
    "\\end{equation}\n",
    "\n",
    "\\begin{equation}\n",
    "  \\begin{aligned}\n",
    "    P(X_2=0) &= p(1-q)pq(1-p)[2pq(1-p)+(1-p)(1-q)] \\\\\n",
    "    &\\quad + [(1-q)^2 + 2pq(1-q)]p(1-q)pq(1-p) \\\\\n",
    "  \\end{aligned}\n",
    "\\end{equation}\n",
    "\n",
    "For a gut check, let's assume that $p=0.4$ and $q=0.8$. Thus:\n",
    "\n",
    "\\begin{equation}\n",
    "  \\begin{aligned}\n",
    "    P(X_2=0) &= 0.4 \\times 0.2 \\times [2\\times0.4\\times0.8\\times0.6 + 0.4\\times0.2] \\\\\n",
    "    &\\quad + [0.2^2 + 2\\times0.4\\times0.8\\times0.2]\\times0.4\\times0.2\\\\\n",
    "    &\\approx 0.0537\n",
    "  \\end{aligned}\n",
    "\\end{equation}"
   ]
  },
  {
   "cell_type": "code",
   "execution_count": 594,
   "metadata": {
    "collapsed": false
   },
   "outputs": [
    {
     "data": {
      "text/plain": [
       "0.05413"
      ]
     },
     "execution_count": 594,
     "metadata": {},
     "output_type": "execute_result"
    }
   ],
   "source": [
    "simulate_aloha(num_nodes=2, \n",
    "               num_epochs=2, \n",
    "               num_active_initial=1,\n",
    "               criteria=lambda x: x[2]==0,\n",
    "               num_experiments=100000)"
   ]
  },
  {
   "cell_type": "code",
   "execution_count": 592,
   "metadata": {
    "collapsed": false
   },
   "outputs": [
    {
     "data": {
      "text/plain": [
       "0.053760000000000016"
      ]
     },
     "execution_count": 592,
     "metadata": {},
     "output_type": "execute_result"
    }
   ],
   "source": [
    ".4*.2*(2*.4*.8*.6+.6*.2) + (.2*.2 + 2.0*.4*.8*.2)*.4*.2\n"
   ]
  },
  {
   "cell_type": "markdown",
   "metadata": {},
   "source": [
    "## 16. Suppose a box contains two pennies, three nickels and five dimes. During transport, two coins fall out, unseen by the bearer. Assume each type of coin is equally likely to fall out. Find: $P(\\text{at least \\$0.10 worth of money is lost})$; $P(\\text{both lost coins are of the same denomination})$\n",
    "\n",
    "\\begin{equation}\n",
    "  \\begin{aligned}\n",
    "    P(\\text{at least 10 cents worth of money is lost}) &= P(S_1=0.1, S_2=0.01) \\\\\n",
    "    &\\quad + P(S_1=0.1, S_2=0.05) \\\\\n",
    "    &\\quad + P(S_1=0.1, S_2=0.1) \\\\\n",
    "    &\\quad + P(S_1=0.05, S_2=0.05) \\\\\n",
    "    &\\quad + P(S_1=0.05, S_2=0.1) \\\\\n",
    "    &\\quad + P(S_1=0.01, S_2=0.1) \\\\\n",
    "    &= P(S_2=0.01 \\mid S_1=0.1)P(S_1=0.1) \\\\\n",
    "    &\\quad + P(S_2=0.05 \\mid S_1=0.1)P(S_1=0.1) \\\\\n",
    "    &\\quad + P(S_2=0.1 \\mid S_1=0.1)P(S_1=0.1) \\\\\n",
    "    &\\quad + P(S_2=0.05 \\mid S_1=0.05)P(S_1=0.05) \\\\\n",
    "    &\\quad + P(S_2=0.1 \\mid S_1=0.05)P(S_1=0.05) \\\\\n",
    "    &\\quad + P(S_2=0.1 \\mid S_1=0.01)P(S_1=0.01) \\\\\n",
    "    &= 2/9 \\times 1/2 \\\\\n",
    "    &= 1/3 \\times 1/2 \\\\\n",
    "    &= 4/9 \\times 1/2 \\\\\n",
    "    &= 2/9 \\times 3/10 \\\\\n",
    "    &= 5/9 \\times 3/10 \\\\\n",
    "    &= 5/9 \\times 2/10 \\\\\n",
    "  \\end{aligned}\n",
    "\\end{equation}\n",
    "\n",
    "\\begin{equation}\n",
    "  \\begin{aligned}\n",
    "    P(\\text{both lost coins are of the same denomination}) &= P(S_1=0.1, S_2=0.1) \\\\\n",
    "    &\\quad + P(S_1=0.05, S_2=0.05) \\\\\n",
    "    &\\quad + P(S_1=0.01, S_2=0.01) \\\\\n",
    "    &= 1/2 \\times 4/9 \\\\\n",
    "    &\\quad + 3/10 \\times 2/9 \\\\\n",
    "    &\\quad + 2/10 \\times 1/9 \\\\\n",
    "    &\\approx 0.311 \\\\\n",
    "  \\end{aligned}\n",
    "\\end{equation}\n"
   ]
  },
  {
   "cell_type": "code",
   "execution_count": 606,
   "metadata": {
    "collapsed": true
   },
   "outputs": [],
   "source": [
    "def sim_lost_two_coins(num_simulations=10000, \n",
    "                       criteria=lambda x: x.sum() >= 0.1):\n",
    "    \n",
    "    pennies = np.ones(2) * 0.01\n",
    "    nickels = np.ones(3) * 0.05\n",
    "    dimes = np.ones(5) * 0.1\n",
    "    coins = np.append(np.append(pennies, nickels), dimes)\n",
    "    \n",
    "    count = 0\n",
    "    \n",
    "    for i in range(num_simulations):\n",
    "        result = np.random.permutation(coins)[0:2]\n",
    "\n",
    "        if criteria(result):\n",
    "            count += 1\n",
    "    \n",
    "    return count / float(num_simulations)"
   ]
  },
  {
   "cell_type": "code",
   "execution_count": 608,
   "metadata": {
    "collapsed": false,
    "scrolled": true
   },
   "outputs": [
    {
     "data": {
      "text/plain": [
       "0.8488"
      ]
     },
     "execution_count": 608,
     "metadata": {},
     "output_type": "execute_result"
    }
   ],
   "source": [
    "sim_lost_two_coins(criteria=lambda x: x.sum() >= 0.1, num_simulations=10000)"
   ]
  },
  {
   "cell_type": "code",
   "execution_count": 8,
   "metadata": {
    "collapsed": false
   },
   "outputs": [
    {
     "data": {
      "text/plain": [
       "0.8444444444444446"
      ]
     },
     "execution_count": 8,
     "metadata": {},
     "output_type": "execute_result"
    }
   ],
   "source": [
    "2/9.0*.5 + 1/3.0 * 0.5 + 4.0/9 * 0.5 + 2/9.0 \\\n",
    "* 3/10.0 + 5/9.0 * 3/10.0 + 5/9.0 * 2/10.0"
   ]
  },
  {
   "cell_type": "code",
   "execution_count": 610,
   "metadata": {
    "collapsed": false,
    "scrolled": true
   },
   "outputs": [
    {
     "data": {
      "text/plain": [
       "0.3097"
      ]
     },
     "execution_count": 610,
     "metadata": {},
     "output_type": "execute_result"
    }
   ],
   "source": [
    "sim_lost_two_coins(criteria=lambda x: x[0] == x[1], num_simulations=10000)"
   ]
  },
  {
   "cell_type": "markdown",
   "metadata": {},
   "source": [
    "## Suppose we have the track record of a certain weather forecaster. Of the days for which he predicts rain, a fraction c actually do have rain. Among days for which he predicts no rain, he is correct a fraction d of the time. Among all days, he predicts rain g of the time, and predicts no rain 1-g of the time. Find $P(\\text{he predicted rain} \\mid \\text{it does rain})$, $P(\\text{he predicts wrong})$ and $P(\\text{it does rain — he was wrong})$. Write R simulation code to verify. (Partial answer: For the case $c = 0.8$, $d = 0.6$ and $g = 0.2$, $P(\\text{he predicted rain} \\mid \\text{it does rain}) = 1/3.)$\n",
    "\n",
    "### $P(\\text{he predicted rain})$:\n",
    "\n",
    "Let $F$ represent the forecast and $A$ represent what had actually happened.\n",
    "\n",
    "\\begin{equation}\n",
    "  \\begin{aligned}\n",
    "    P(\\text{he predicted rain}) &= P(F=r) \\\\\n",
    "    &= g\n",
    "  \\end{aligned}\n",
    "\\end{equation}\n",
    "\n",
    "\\begin{equation}\n",
    "  \\begin{aligned}\n",
    "    P(\\text{he predicted no rain}) &= P(F=n) \\\\\n",
    "    &= 1-g\n",
    "  \\end{aligned}\n",
    "\\end{equation}\n",
    "\n",
    "\\begin{equation}\n",
    "  \\begin{aligned}\n",
    "    P(\\text{it does rain} \\mid \\text{he predicted rain}) &= P(A=r \\mid F=r) \\\\\n",
    "    &= c\n",
    "  \\end{aligned}\n",
    "\\end{equation}\n",
    "\n",
    "Thus,\n",
    "\n",
    "\\begin{equation}\n",
    "  \\begin{aligned}\n",
    "    P(\\text{it does not rain} \\mid \\text{he predicted rain}) &= P(A=n \\mid F=r) \\\\\n",
    "    &= 1-c\n",
    "  \\end{aligned}\n",
    "\\end{equation}\n",
    "\n",
    "\\begin{equation}\n",
    "  \\begin{aligned}\n",
    "    P(\\text{it does not rain} \\mid \\text{he predicted no rain}) &= P(A=n \\mid F=n) \\\\\n",
    "    &= d\n",
    "  \\end{aligned}\n",
    "\\end{equation}\n",
    "\n",
    "Thus,\n",
    "\n",
    "\\begin{equation}\n",
    "  \\begin{aligned}\n",
    "    P(\\text{it does rain} \\mid \\text{he predicted no rain}) &= P(A=r \\mid F=n) \\\\\n",
    "    &= 1-d\n",
    "  \\end{aligned}\n",
    "\\end{equation}\n",
    "\n",
    "\\begin{equation}\n",
    "  \\begin{aligned}\n",
    "    P(\\text{he predicted rain} \\mid \\text{it does rain}) &= P(F=r \\mid A=r) \\\\\n",
    "    &= \\frac{P(F=r \\text{ and } A=r)}{P(A=r)} \\\\\n",
    "    &= \\frac{P(A=r \\mid F=r)P(F=r)}{P(\\text{A=r})} \\\\\n",
    "    &= \\frac{P(A=r \\mid F=r)P(F=r)}{P(A=r \\mid F=r)P(F=r)\n",
    "    + P(A=r \\mid F=n)P(F=n)} \\\\\n",
    "    &= \\frac{cg}{cg + (1-d)(1-g)} \\\\\n",
    "  \\end{aligned}\n",
    "\\end{equation}\n",
    "\n",
    "Substituting $c=0.8, d=0.6, g=0.2$ yields:\n",
    "\n",
    "\\begin{equation}\n",
    "  \\begin{aligned}\n",
    "    P(\\text{he predicted rain} \\mid \\text{it does rain}) &= \\frac{cg}{cg + (1-d)(1-g)} \\\\\n",
    "    &= \\frac{(0.8)(0.2)}{(0.8)(0.2) + (1-0.6)(1-0.2)} \\\\\n",
    "    &= \\frac{(0.8)(0.2)}{(0.8)(0.2) + (0.4)(0.8)} \\\\\n",
    "    &= \\frac{(0.8)(0.2)}{1(0.8)(0.2) + 2(0.2)(0.8)} \\\\\n",
    "    &= \\frac{1}{3} \\\\\n",
    "  \\end{aligned}\n",
    "\\end{equation}"
   ]
  },
  {
   "cell_type": "code",
   "execution_count": 43,
   "metadata": {
    "collapsed": false
   },
   "outputs": [],
   "source": [
    "def sim_forecast(c=0.8, # it does rain | he predicted rain\n",
    "                 d=0.6, # it does not rain | he predicted no rain\n",
    "                 g=0.2, # he predicted rain\n",
    "                 given=lambda x: x.actual == x.actual,\n",
    "                 num_experiments=10000,\n",
    "                 criteria=None):\n",
    "    num_samples = 100\n",
    "    predict_yes = np.ones(int((g) * num_samples))\n",
    "    predict_no = np.zeros(int((1.0 - g) * num_samples))\n",
    "    \n",
    "    \n",
    "    yes_rain_given_predict_yes = np.ones(int(c * num_samples))\n",
    "    no_rain_given_predict_yes = np.zeros(int((1.0-c) * num_samples))\n",
    "                                         \n",
    "    no_rain_given_predict_no = np.zeros(int(d * num_samples))\n",
    "    yes_rain_given_predict_no = np.ones(int((1.0-d) * num_samples))\n",
    "    \n",
    "    def sample_rain_given_predict_yes():\n",
    "        return np.random.permutation(np.append(yes_rain_given_predict_yes,\n",
    "                                               no_rain_given_predict_yes))[0]\n",
    "                                          \n",
    "    def sample_predict():\n",
    "        return np.random.permutation(np.append(predict_yes,\n",
    "                                               predict_no))[0]\n",
    "    \n",
    "    def sample_rain_given_predict_no():\n",
    "        return np.random.permutation(np.append(no_rain_given_predict_no,\n",
    "                                               yes_rain_given_predict_no))[0]\n",
    "    \n",
    "    predicteds = []\n",
    "    actuals = []\n",
    "    \n",
    "    \n",
    "    for i in range(num_experiments):\n",
    "        prediction = sample_predict()\n",
    "        if prediction == 1:\n",
    "            actual = sample_rain_given_predict_yes()\n",
    "        else:\n",
    "            actual = sample_rain_given_predict_no()\n",
    "        \n",
    "        predicteds.append(prediction)\n",
    "        actuals.append(actual)\n",
    "                                          \n",
    "    df = pd.DataFrame({'predicted': predicteds, 'actual': actuals})\n",
    "\n",
    "    given_df = df[given(df)]\n",
    "                                          \n",
    "    return given_df[criteria(given_df)].shape[0] / float(given_df.shape[0])\n",
    "        "
   ]
  },
  {
   "cell_type": "code",
   "execution_count": 44,
   "metadata": {
    "collapsed": false
   },
   "outputs": [
    {
     "data": {
      "text/plain": [
       "0.3337842900553636"
      ]
     },
     "execution_count": 44,
     "metadata": {},
     "output_type": "execute_result"
    }
   ],
   "source": [
    "sim_forecast(criteria=lambda x: x.predicted == 1,\n",
    "             given=lambda x: x.actual == 1,\n",
    "             num_experiments=100000)jjj\n",
    "        "
   ]
  },
  {
   "cell_type": "markdown",
   "metadata": {},
   "source": [
    "### $P(\\text{he predicted wrong})$:\n",
    "\n",
    "\\begin{equation}\n",
    "  \\begin{aligned}\n",
    "    P(\\text{he predicted wrong}) &= P(F=r \\text{ and } A=n \\text{ or } F=n \\text{ and } A=r) \\\\\n",
    "    &= P(F=r \\text{ and } A=n) + P(F=n \\text{ and } A=r) \\\\\n",
    "    &= P(A=n \\mid F=r)P(F=r) + P(A=r \\mid F=n)P(F=n) \\\\\n",
    "    &= (1-c)g + (1-d)(1-g)\n",
    "  \\end{aligned}\n",
    "\\end{equation}\n",
    "\n",
    "Substituting $c=0.8, d=0.6, g=0.2$ yields:\n",
    "\n",
    "\\begin{equation}\n",
    "  \\begin{aligned}\n",
    "    P(\\text{he predicted wrong}) &= (1-c)g + (1-d)(1-g) \\\\\n",
    "    &= 0.2\\times0.2 + 0.4\\times0.8 \\\\\n",
    "    &= 0.36\n",
    "  \\end{aligned}\n",
    "\\end{equation}\n",
    "\n",
    "\n",
    "\n"
   ]
  },
  {
   "cell_type": "code",
   "execution_count": 45,
   "metadata": {
    "collapsed": false
   },
   "outputs": [
    {
     "data": {
      "text/plain": [
       "0.3617"
      ]
     },
     "execution_count": 45,
     "metadata": {},
     "output_type": "execute_result"
    }
   ],
   "source": [
    "sim_forecast(criteria=lambda x: x.predicted != x.actual,\n",
    "             num_experiments=10000)\n",
    "        "
   ]
  },
  {
   "cell_type": "markdown",
   "metadata": {},
   "source": [
    "### $P(\\text{it does rain -- he was wrong})$:\n",
    "\n",
    "\\begin{equation}\n",
    "  \\begin{aligned}\n",
    "    P(\\text{it does rain -- he was wrong}) &= P(\\text{it does rain} \\mid \\text{he predicted no rain})\\\\\n",
    "    &= P(A=r \\mid F=n) \\\\\n",
    "    &= 1-d\n",
    "  \\end{aligned}\n",
    "\\end{equation}\n",
    "\n",
    "Substituting $c=0.8, d=0.6, g=0.2$ yields:\n",
    "\n",
    "\\begin{equation}\n",
    "  \\begin{aligned}\n",
    "    P(\\text{it does rain -- he was wrong}) &= 1-d \\\\\n",
    "    &= 1-(0.6) \\\\\n",
    "    &= 0.4 \\\\\n",
    "  \\end{aligned}\n",
    "\\end{equation}"
   ]
  },
  {
   "cell_type": "code",
   "execution_count": 48,
   "metadata": {
    "collapsed": false
   },
   "outputs": [
    {
     "data": {
      "text/plain": [
       "0.3991232452415447"
      ]
     },
     "execution_count": 48,
     "metadata": {},
     "output_type": "execute_result"
    }
   ],
   "source": [
    "sim_forecast(criteria=lambda x: x.actual == 1, \n",
    "             given=lambda x: x.predicted == 0,\n",
    "             num_experiments=100000)\n",
    "        "
   ]
  },
  {
   "cell_type": "code",
   "execution_count": null,
   "metadata": {
    "collapsed": true
   },
   "outputs": [],
   "source": []
  }
 ],
 "metadata": {
  "kernelspec": {
   "display_name": "Python 3",
   "language": "python",
   "name": "python3"
  },
  "language_info": {
   "codemirror_mode": {
    "name": "ipython",
    "version": 3
   },
   "file_extension": ".py",
   "mimetype": "text/x-python",
   "name": "python",
   "nbconvert_exporter": "python",
   "pygments_lexer": "ipython3",
   "version": "3.6.0"
  },
  "toc": {
   "colors": {
    "hover_highlight": "#DAA520",
    "navigate_num": "#000000",
    "navigate_text": "#333333",
    "running_highlight": "#FF0000",
    "selected_highlight": "#FFD700",
    "sidebar_border": "#EEEEEE",
    "wrapper_background": "#FFFFFF"
   },
   "moveMenuLeft": true,
   "nav_menu": {
    "height": "504px",
    "width": "253px"
   },
   "navigate_menu": true,
   "number_sections": true,
   "sideBar": true,
   "threshold": "5",
   "toc_cell": true,
   "toc_position": {
    "height": "873px",
    "left": "0px",
    "right": "1152.01px",
    "top": "43.9931px",
    "width": "448px"
   },
   "toc_section_display": "block",
   "toc_window_display": true,
   "widenNotebook": false
  }
 },
 "nbformat": 4,
 "nbformat_minor": 0
}
