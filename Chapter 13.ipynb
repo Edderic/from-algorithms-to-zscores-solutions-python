{
 "cells": [
  {
   "cell_type": "markdown",
   "metadata": {},
   "source": [
    "# Chapter 13 Multivariate PMFs and Densities"
   ]
  },
  {
   "cell_type": "markdown",
   "metadata": {},
   "source": [
    "## Python Code"
   ]
  },
  {
   "cell_type": "code",
   "execution_count": 34,
   "metadata": {
    "collapsed": true
   },
   "outputs": [],
   "source": [
    "from scipy.special import comb\n",
    "from scipy.stats import expon\n",
    "from scipy.misc import factorial\n",
    "import numpy as np\n",
    "import pandas as pd"
   ]
  },
  {
   "cell_type": "markdown",
   "metadata": {},
   "source": [
    "### Eq 13.1"
   ]
  },
  {
   "cell_type": "code",
   "execution_count": 3,
   "metadata": {
    "collapsed": false
   },
   "outputs": [],
   "source": [
    "def multiv_dist_marbles():\n",
    "    \"\"\" Probability of Y=i and B=k \"\"\"\n",
    "    num_yellows = 2\n",
    "    num_blues = 3\n",
    "    num_greens = 4\n",
    "    num_total_to_pick = 4\n",
    "\n",
    "    probas = []\n",
    "    \n",
    "    for i in range(num_yellows + 1):\n",
    "        i_row = []\n",
    "        for j in range(num_blues + 1):\n",
    "            proba_i_j = comb(num_yellows, i) * \\\n",
    "                comb(num_blues, j) * \\\n",
    "                comb(num_greens, num_greens - i - j) / \\\n",
    "                comb(num_yellows + num_blues + num_greens, num_total_to_pick)\n",
    "            i_row.append(proba_i_j)\n",
    "            \n",
    "        probas.append(np.array(i_row))\n",
    "        \n",
    "    return pd.DataFrame(np.array(probas))"
   ]
  },
  {
   "cell_type": "code",
   "execution_count": 4,
   "metadata": {
    "collapsed": false
   },
   "outputs": [
    {
     "data": {
      "text/html": [
       "<div>\n",
       "<table border=\"1\" class=\"dataframe\">\n",
       "  <thead>\n",
       "    <tr style=\"text-align: right;\">\n",
       "      <th></th>\n",
       "      <th>0</th>\n",
       "      <th>1</th>\n",
       "      <th>2</th>\n",
       "      <th>3</th>\n",
       "    </tr>\n",
       "  </thead>\n",
       "  <tbody>\n",
       "    <tr>\n",
       "      <th>0</th>\n",
       "      <td>0.007937</td>\n",
       "      <td>0.095238</td>\n",
       "      <td>0.142857</td>\n",
       "      <td>0.031746</td>\n",
       "    </tr>\n",
       "    <tr>\n",
       "      <th>1</th>\n",
       "      <td>0.063492</td>\n",
       "      <td>0.285714</td>\n",
       "      <td>0.190476</td>\n",
       "      <td>0.015873</td>\n",
       "    </tr>\n",
       "    <tr>\n",
       "      <th>2</th>\n",
       "      <td>0.047619</td>\n",
       "      <td>0.095238</td>\n",
       "      <td>0.023810</td>\n",
       "      <td>0.000000</td>\n",
       "    </tr>\n",
       "  </tbody>\n",
       "</table>\n",
       "</div>"
      ],
      "text/plain": [
       "          0         1         2         3\n",
       "0  0.007937  0.095238  0.142857  0.031746\n",
       "1  0.063492  0.285714  0.190476  0.015873\n",
       "2  0.047619  0.095238  0.023810  0.000000"
      ]
     },
     "execution_count": 4,
     "metadata": {},
     "output_type": "execute_result"
    }
   ],
   "source": [
    "dist_marbles = multiv_dist_marbles()\n",
    "dist_marbles"
   ]
  },
  {
   "cell_type": "code",
   "execution_count": 5,
   "metadata": {
    "collapsed": false
   },
   "outputs": [
    {
     "data": {
      "text/plain": [
       "array([[ 0.00793651,  0.0952381 ,  0.14285714,  0.03174603],\n",
       "       [ 0.06349206,  0.28571429,  0.19047619,  0.01587302],\n",
       "       [ 0.04761905,  0.0952381 ,  0.02380952,  0.        ]])"
      ]
     },
     "execution_count": 5,
     "metadata": {},
     "output_type": "execute_result"
    }
   ],
   "source": [
    "dist_marbles.values"
   ]
  },
  {
   "cell_type": "code",
   "execution_count": 6,
   "metadata": {
    "collapsed": false
   },
   "outputs": [
    {
     "data": {
      "text/plain": [
       "(3, 4)"
      ]
     },
     "execution_count": 6,
     "metadata": {},
     "output_type": "execute_result"
    }
   ],
   "source": [
    "dist_marbles.values.shape"
   ]
  },
  {
   "cell_type": "code",
   "execution_count": 7,
   "metadata": {
    "collapsed": false
   },
   "outputs": [
    {
     "data": {
      "text/plain": [
       "0.47619047619047616"
      ]
     },
     "execution_count": 7,
     "metadata": {},
     "output_type": "execute_result"
    }
   ],
   "source": [
    "def yellows_less_than_blues(yellows, blues):\n",
    "    return yellows < blues\n",
    "\n",
    "def proba(multiv_dist, query):\n",
    "    proba_val = 0\n",
    "    \n",
    "    for i in range(multiv_dist.shape[0]):\n",
    "        for j in range(multiv_dist.shape[1]):\n",
    "            if query(i,j):\n",
    "                proba_val += multiv_dist[i][j]\n",
    "            \n",
    "    return proba_val\n",
    "\n",
    "proba(dist_marbles.values, yellows_less_than_blues)"
   ]
  },
  {
   "cell_type": "code",
   "execution_count": 9,
   "metadata": {
    "collapsed": false
   },
   "outputs": [],
   "source": [
    "def simulate_marbles(\n",
    "    num_pick=4,\n",
    "    num_yellows=2,\n",
    "    num_blues=3,\n",
    "    num_greens=4,\n",
    "    query=yellows_less_than_blues,\n",
    "    num_experiments=10000\n",
    "):\n",
    "    to_choose_from = np.concatenate(\n",
    "        [\n",
    "            np.ones(num_yellows) * 1,\n",
    "            np.ones(num_blues) * 2,\n",
    "            np.ones\n",
    "        ]\n",
    "    )\n",
    "    for i in range(num_experiments):\n",
    "        np.random.choice()\n",
    "    \n",
    "    "
   ]
  },
  {
   "cell_type": "markdown",
   "metadata": {
    "collapsed": true
   },
   "source": [
    "## Exercises"
   ]
  },
  {
   "cell_type": "markdown",
   "metadata": {},
   "source": [
    "### 1. Suppose the random pair $(X,Y)$ has the density $f_{X,Y}(s,t) = 8st$ on the triangle $\\{(s,t): 0 < t < s < 1\\}$.\n",
    "    \n",
    "(a). Find $f_X(s)$"
   ]
  },
  {
   "cell_type": "markdown",
   "metadata": {},
   "source": [
    "$$\n",
    "\\begin{equation}\n",
    "\\begin{aligned}\n",
    "    f_X(s) &= \\int_{t=0}^{t=s}f_{X,Y}(s,t) \\cdot dt && \\text{integrate out $t$}\\\\\n",
    "    &= \\int_{t=0}^{t=s}8st \\cdot dt \\\\\n",
    "    &= s \\int_{t=0}^{t=s} 8t \\cdot dt \\\\\n",
    "    &= s(4t^2)\\big|_{t=0}^{t=s} \\\\\n",
    "    &= 4s^3\n",
    "\\end{aligned}\n",
    "\\end{equation}\n",
    "$$\n",
    "    (b). Find $P(X<Y/2)$."
   ]
  },
  {
   "cell_type": "markdown",
   "metadata": {},
   "source": [
    "$$\n",
    "\\begin{equation}\n",
    "\\begin{aligned}\n",
    "    P(X<Y/2) &= \\int_{t=0}^{t=1}\\int_{s=0}^{s=t/2}8st \\cdot dsdt \\\\\n",
    "    &= \\int_{t=0}^{t=1}t4(s^2)\\big|_{s=0}^{s=t/2} \\cdot dt \\\\\n",
    "    &= \\int_{t=0}^{t=1}t4\\big[\\big(\\frac{t}{2}\\big)^2 - (0)^2\\big] \\cdot dt \\\\\n",
    "    &= \\int_{t=0}^{t=1}t^3 \\cdot dt \\\\\n",
    "    &= \\frac{t^4}{4}\\big|_{t=0}^{t=1} \\\\\n",
    "    &= \\frac{1}{4}\n",
    "\\end{aligned}\n",
    "\\end{equation}\n",
    "$$\n"
   ]
  },
  {
   "cell_type": "markdown",
   "metadata": {},
   "source": [
    "#### Approximation 1b"
   ]
  },
  {
   "cell_type": "code",
   "execution_count": 28,
   "metadata": {
    "collapsed": true
   },
   "outputs": [],
   "source": [
    "def approx_1b():\n",
    "    \"\"\" Approximate the double integral by doing double sums. \"\"\"\n",
    "    sums = 0.0\n",
    "    #rng = np.linspace(0,1 - 1.0/1000.0, num=1000)\n",
    "    t= 0\n",
    "    while t < 1.0:\n",
    "        s = 0\n",
    "        while s < t / 2:\n",
    "            # the sum is approximated by length * width * height,\n",
    "            # where the length is 0.001, width is 0.001\n",
    "            # height is given as 8st\n",
    "            sums += 8*s*t * 0.000001\n",
    "            s += 0.001\n",
    "        t += 0.001\n",
    "    return sums "
   ]
  },
  {
   "cell_type": "code",
   "execution_count": 29,
   "metadata": {
    "collapsed": false
   },
   "outputs": [
    {
     "data": {
      "text/plain": [
       "0.24916783217600103"
      ]
     },
     "execution_count": 29,
     "metadata": {},
     "output_type": "execute_result"
    }
   ],
   "source": [
    "approx_1b()"
   ]
  },
  {
   "cell_type": "markdown",
   "metadata": {},
   "source": [
    "### 2. Suppose packets on a network are of three types. In general, $40%$ of the packets are of type $A$, $40%$ have type B, and $20%$ have type $C$. We observe six packets, and denote the numbers of packets of types $A$, $B$ and $C$ by $X$, $Y$, $Z$, respectively."
   ]
  },
  {
   "cell_type": "markdown",
   "metadata": {},
   "source": [
    "#### (a) $P(X=Y=Z=2)$\n",
    "\n",
    "$$\n",
    "\\begin{equation}\n",
    "\\begin{aligned}\n",
    "    P(X=Y=Z=2) &= \\frac{6!}{2!2!2!}(0.4)^2(0.4)^2(0.2)^2 && \\text{multinomial dist.}\\\\\n",
    "    &= 0.09216\n",
    "\\end{aligned}\n",
    "\\end{equation}\n",
    "$$\n"
   ]
  },
  {
   "cell_type": "code",
   "execution_count": 32,
   "metadata": {
    "collapsed": false
   },
   "outputs": [
    {
     "data": {
      "text/plain": [
       "0.092160000000000047"
      ]
     },
     "execution_count": 32,
     "metadata": {},
     "output_type": "execute_result"
    }
   ],
   "source": [
    "factorial(6) / (factorial(2) * factorial(2) * factorial(2))* (0.4)**2 *(0.4)**2 * (0.2)**2"
   ]
  },
  {
   "cell_type": "markdown",
   "metadata": {},
   "source": [
    "#### (b) Find $Cov(X,Y+Z)$"
   ]
  },
  {
   "cell_type": "markdown",
   "metadata": {},
   "source": [
    "$$\n",
    "\\begin{equation}\n",
    "\\begin{aligned}\n",
    "    X + Y + Z &= 6 \\\\\n",
    "    Y + Z &= 6 - X \n",
    "    Cov(X,Y+Z) &= Cov(X,6-X) \\\\\n",
    "    &= E[X\\cdot(6-X)]-EX \\cdot E(6-X) \\\\\n",
    "    &= E(6X-X^2)-EX\\cdot (E(6) - E(X)) \\\\\n",
    "    &= 6EX-E(X^2)-6EX+E(X)^2 \\\\\n",
    "    &= E(X^2) - E(X)^2 \\\\\n",
    "    &= Var(X) \\\\\n",
    "    &= 6(0.4)(1-0.4) \\\\\n",
    "    &= 1.44\n",
    "\\end{aligned}\n",
    "\\end{equation}\n",
    "$$\n"
   ]
  },
  {
   "cell_type": "markdown",
   "metadata": {},
   "source": [
    "#### (c) To what parametric family in this book does the distribution of $Y+Z$ belong?"
   ]
  },
  {
   "cell_type": "markdown",
   "metadata": {},
   "source": [
    "Y+Z is binomially distributed, with $n=6, p=(0.4+0.2)=0.6$"
   ]
  },
  {
   "cell_type": "markdown",
   "metadata": {},
   "source": [
    "### 3. Suppose $X$ and $Y$ are independent, each having an exponential distribution with means $1.0$ and $2.0$, respectively. Find $P(Y>X^2)$."
   ]
  },
  {
   "cell_type": "code",
   "execution_count": 74,
   "metadata": {
    "collapsed": false
   },
   "outputs": [
    {
     "data": {
      "text/plain": [
       "0.65600000000000003"
      ]
     },
     "execution_count": 74,
     "metadata": {},
     "output_type": "execute_result"
    }
   ],
   "source": [
    "# approximation\n",
    "(expon.rvs(scale=2.0, size=10000) \\\n",
    " > (expon.rvs(scale=1,size=10000)**2)\\\n",
    ").sum() / 10000.0"
   ]
  },
  {
   "cell_type": "markdown",
   "metadata": {},
   "source": [
    "Note: The following integral seemed difficult to calculate by hand. So I looked at Wolfram Alpha to see if there are step-by-step solutions available for this double integral. Normally it shows solutions. However, this time, it only gave the exact solution, which makes me think that it's probably hard/impossible to calculate by hand.\n",
    "\n",
    "$$\n",
    "\\begin{equation}\n",
    "\\begin{aligned}\n",
    "    \\int_{b=0}^{b=\\infty}\\int_{a=b^2}^{a=\\infty}\\frac{e^{-a/2}}{2}e^{-b}dadb &= 0.65568 && \\text{Wolfram Alpha Pro}\n",
    "\\end{aligned}\n",
    "\\end{equation}\n",
    "$$\n"
   ]
  },
  {
   "cell_type": "code",
   "execution_count": 68,
   "metadata": {
    "collapsed": false
   },
   "outputs": [
    {
     "data": {
      "text/plain": [
       "0.30326532985631671"
      ]
     },
     "execution_count": 68,
     "metadata": {},
     "output_type": "execute_result"
    }
   ],
   "source": [
    "expon.pdf(1, scale=2.0)"
   ]
  },
  {
   "cell_type": "code",
   "execution_count": 69,
   "metadata": {
    "collapsed": false
   },
   "outputs": [
    {
     "data": {
      "text/plain": [
       "0.1353352832366127"
      ]
     },
     "execution_count": 69,
     "metadata": {},
     "output_type": "execute_result"
    }
   ],
   "source": [
    "expon.pdf(1, scale=0.5) / 2"
   ]
  },
  {
   "cell_type": "markdown",
   "metadata": {},
   "source": [
    "### 4. Suppose the pair $(X,Y)'$ has a bivariate normal distribution with mean vector (0,2) and covariance matrix $\\begin{pmatrix} 1 & 2 \\\\ 2 & 6 \\end{pmatrix}$\n",
    "\n",
    "#### (a) Set up (but do not evaluate) the double integral for the exact value of $P(X^2 + Y^2 \\leq 2.8)$"
   ]
  },
  {
   "cell_type": "markdown",
   "metadata": {},
   "source": [
    "Let $\\mu_1 = 0, \\mu_2 = 2, \\sigma_1 = 1, \\sigma_2 = \\sqrt{6}$, and $\\rho=\\begin{pmatrix} 1 & 2 \\\\ 2 & 6\\end{pmatrix}$. \n",
    "\n",
    "\n",
    "$$\n",
    "\\begin{equation}\n",
    "\\begin{aligned}\n",
    "    f_{X,Y}(s,t) &= \\frac{1}{2\\pi \\sigma_1 \\sigma_2 \\sqrt{1-\\rho^2}}e^{-\\frac{1}{2(1-\\rho^2)}\\big[\\frac{(s-\\sigma_1)^2}{\\sigma_1^2} + \\frac{(t-\\sigma_2)^2}{\\sigma_2^2} - \\frac{2\\rho(s-\\sigma_1)(t-\\sigma_2)}{\\sigma_1\\sigma_2}\\big]} \\\\\n",
    "    \\int_{t=-\\sqrt{2.8}}^{t=\\sqrt{2.8}}\\int_{-\\sqrt{2.8-t^2}}^{\\sqrt{2.8-t^2}} f_{X,Y}(s,t) &= P(X^2 + Y^2 \\leq 2.8)\n",
    "\\end{aligned}\n",
    "\\end{equation}\n",
    "$$"
   ]
  },
  {
   "cell_type": "markdown",
   "metadata": {},
   "source": [
    "#### (b) Using the matrix methods of Section 12.4, find the covariance matrix of the pair $U = (X+Y,X-2Y)'$. Does $U$ have a bivariate normal distribution?"
   ]
  },
  {
   "cell_type": "markdown",
   "metadata": {},
   "source": [
    "$U$ does have a bivariate normal distribution because $U$ is a linear combination of bivariate random vector (X,Y)'.\n",
    "\n",
    "$$\n",
    "\\begin{equation}\n",
    "\\begin{aligned}\n",
    "    U &= \\begin{pmatrix} X+Y \\\\ \n",
    "            X-Y \\end{pmatrix} \\\\\n",
    "    W &= \\begin{pmatrix} X \\\\\n",
    "            Y \\end{pmatrix} \\\\\n",
    "    Cov(W) &= \\begin{pmatrix}\n",
    "            Var(X) & Cov(X,Y) \\\\\n",
    "            Cov(X,Y) & Var(Y) \n",
    "            \\end{pmatrix} \\\\\n",
    "    Var(X) &= 1 \\\\\n",
    "    Cov(X,Y) &= 2 \\\\\n",
    "    Var(Y) &= 6 \\\\\n",
    "    A &= \\begin{pmatrix} 1 & 1 \\\\\n",
    "            1 & -1 \\end{pmatrix} \\\\\n",
    "    A' &= \\begin{pmatrix} 1 & 1 \\\\\n",
    "            1 & -1 \\end{pmatrix} \\\\\n",
    "    Cov(U) &= ACov(W)A' \\\\\n",
    "           &= \\begin{pmatrix} 11 & -5 \\\\\n",
    "           -5 & 3 \\end{pmatrix}\n",
    "\\end{aligned}\n",
    "\\end{equation}\n",
    "$$\n"
   ]
  },
  {
   "cell_type": "code",
   "execution_count": 77,
   "metadata": {
    "collapsed": false
   },
   "outputs": [
    {
     "data": {
      "text/plain": [
       "array([[11, -5],\n",
       "       [-5,  3]])"
      ]
     },
     "execution_count": 77,
     "metadata": {},
     "output_type": "execute_result"
    }
   ],
   "source": [
    "def compute_4b():\n",
    "    a = np.array([[1, 1],[1, -1]])\n",
    "    cov_w = np.array([[1,2], [2,6]])\n",
    "    \n",
    "    return a.dot(cov_w).dot(a.T)\n",
    "\n",
    "compute_4b()"
   ]
  },
  {
   "cell_type": "markdown",
   "metadata": {},
   "source": [
    "### 5. Suppose $X$ and $Y$ are independent, and each has a $U(0,1)$ distribution. Let $V=X+Y$."
   ]
  },
  {
   "cell_type": "markdown",
   "metadata": {},
   "source": [
    "#### (a) Find $f_V$.\n",
    "\n",
    "$$\n",
    "\\begin{equation}\n",
    "\\begin{aligned}\n",
    "    f_V(t) &= \\int_{s=0}^{s=t} f_X(s)f_Y(t-s)ds && \\text{sum of independent R.V. is equal to convolution of the two R.V.} \\\\\n",
    "    &= \\int_{s=0}^{s=1} f_Y(t-s) ds && \\text{$f_X(s)$ is $1$ if $0<s<1$, 0 otherwise} \\\\\n",
    "\\end{aligned}\n",
    "\\end{equation}\n",
    "$$\n",
    "\n",
    "Case 1: When $0<t<1$, $f_Y(t-s) = 1$ if $0<s<t$, $0$ otherwise. Therefore:\n",
    "\n",
    "$$\n",
    "\\begin{equation}\n",
    "\\begin{aligned}\n",
    "   \\int_{0}^{t}ds &= s\\Big|_0^t\\\\ \n",
    "   &= t\n",
    "\\end{aligned}\n",
    "\\end{equation}\n",
    "$$\n",
    "\n",
    "Case 2: When $1<t<2$, $f_Y(t-s) = 1$ if $t-1 \\leq s \\leq 1$, $0$ otherwise. Therefore:\n",
    "\n",
    "$$\n",
    "\\begin{equation}\n",
    "\\begin{aligned}\n",
    "   \\int_{t-1}^{1}ds &= s\\Big|_{t-1}^1&& \\text{When $1<t<2$ } \\\\ \n",
    "   &= 1-(t-1) \\\\\n",
    "   &= 2-t\n",
    "\\end{aligned}\n",
    "\\end{equation}\n",
    "$$\n"
   ]
  },
  {
   "cell_type": "markdown",
   "metadata": {},
   "source": [
    "#### (b) Verify your answer in (a) by finding $EV$ from your answer in (a) and then using the fact that $EX=EY=0.5$"
   ]
  },
  {
   "cell_type": "markdown",
   "metadata": {},
   "source": [
    "$$\n",
    "\\begin{equation}\n",
    "\\begin{aligned}\n",
    "    V &= X+Y \\\\\n",
    "    EV &= E(X+Y) \\\\\n",
    "       &= EX + EY \\\\\n",
    "       &= 0.5 + 0.5 \\\\\n",
    "       &= 1\n",
    "\\end{aligned}\n",
    "\\end{equation}\n",
    "$$\n",
    "\n",
    "$$\n",
    "\\begin{equation}\n",
    "\\begin{aligned}\n",
    "    EV &= \\int_0^t t(t)dt + \\int_1^2 t(2-t)dt \\\\\n",
    "       &= \\frac{t^3}{3}\\Big|_0^1 + t^2\\Big|_1^2 - \\frac{t^3}{3}\\Big|_1^2 \\\\\n",
    "       &= \\frac{1}{3}+4-1-\\Big(\\frac{8}{3}-\\frac{1}{3}\\Big) \\\\\n",
    "       &= 1\n",
    "\\end{aligned}\n",
    "\\end{equation}\n",
    "$$\n"
   ]
  },
  {
   "cell_type": "markdown",
   "metadata": {},
   "source": [
    "#### \\* In the general population of parents who have 10-year-old kids, the parent/kid weight pairs have an exact bivariate normal distribution\n",
    "\n",
    "#### \\* Parents' weights have mean 152.6 and standard deviation 25.0.\n",
    "\n",
    "#### \\* Weights of kids have mean 62 and standard deviation 6.4.\n",
    "\n",
    "#### \\* The correlation between parents' and kids' weights is 0.4.\n",
    "\n",
    "Use R functions (not simulation) in the following:\n",
    "\n",
    "#### (a) Find the fraction of parents who weigh more than 160.\n",
    "\n",
    "#### (b) Find the fraction of kidns who weigh less than 56.\n",
    "\n",
    "#### (c) Find the fraction of parent/child pairs in which the parent weighs more than 160 and the child weighs less than 56.\n",
    "\n",
    "#### (d) Suppose a ride aat an amusement park charges by weight, one cent for each poind of weight in the parent and child. State the exact distribution of the fee, and find the fraction of parent/child pairs who are charged less than \\$2.00."
   ]
  },
  {
   "cell_type": "markdown",
   "metadata": {},
   "source": [
    "### 6. Newspapers at acertain vending machine cost 25 cents. Suppose 60% of the customers pay with quarters, 20% use two dimes and a nickel, 15% insert a dime and three nickels, and 5% deposit five nickels. When the vendor collects the money, five coins fall to the ground. Let X,Y, and Z denote the numbers of quarters, dimes, and nickels among these five coins.\n",
    "\n",
    "#### (a) Is the joint distribution $(X,Y,Z)$ a member of a parametric family presented in this chapter? If so, which one?"
   ]
  },
  {
   "cell_type": "markdown",
   "metadata": {},
   "source": [
    "#### (b) Find $P(X=2,Y=2,Z=1)$"
   ]
  },
  {
   "cell_type": "markdown",
   "metadata": {},
   "source": [
    "#### (c) Find $\\rho(X,Y)$."
   ]
  },
  {
   "cell_type": "markdown",
   "metadata": {},
   "source": [
    "### 7. Jack and Jill play a dice game, in which one wins \\$1 per dot. There are three dice, die A, die B, and die C. Jill always rolls dice A and B. Jack always roll just die C, but he also gets credit for $90\\%$ of die B. For instance, say in a particular roll A,B, and C are 3,1, and 6 respectively. Then Jill would win \\$4 and Jack would get \\$6.90. Let $X$ and $Y$ be Jill's and Jack's total winnings after 100 rolls. Use the Central Limit Theorem to find the approximate values of $P(X>650, Y<660)$ and $P(Y>1.06X)$.\n",
    "\n",
    "### Hints: This will follow a similar pattern to the dice game in Section 12.7, which we win \\$5 for one dot, and \\$2 for two or three dots. Remember, in that example, the key was that we noticed that the pair $(X,Y)$ was a sum of random pairs. That meant that $(X,Y)$ had an approximate bivariate normal distribution, so we could find probabbilities if we had the mean vector and covariance matrix of $(X,Y)$. Thus we needed to find $EX, EY, Var(X), Var(Y)$ and $Cov(X,Y)$. We used the various properties of $E(), Var(),$ and $Cov()$."
   ]
  },
  {
   "cell_type": "markdown",
   "metadata": {},
   "source": [
    "### 8. Consider the coin game in Section 4.8. Find $F_{X_3,Y_3}(0,0)$"
   ]
  },
  {
   "cell_type": "markdown",
   "metadata": {},
   "source": [
    "### 9. Suppose the random vector $X=(X_1, X_2, X_3)'$ has mean (2.0, 3.0, 8.2)' and covariance matrix $\\begin{pmatrix} 1 & 0.4 & -0.2 \\\\ & 1 & 0.25 \\\\ & & 3 \\end{pmatrix}$"
   ]
  },
  {
   "cell_type": "markdown",
   "metadata": {},
   "source": [
    "#### (a) Fill in the missing entries."
   ]
  },
  {
   "cell_type": "markdown",
   "metadata": {},
   "source": [
    "#### (b) Find $Cov(X_1,X_3)$"
   ]
  },
  {
   "cell_type": "markdown",
   "metadata": {},
   "source": [
    "#### (c) Find $\\rho(X_2, X_3)$."
   ]
  },
  {
   "cell_type": "markdown",
   "metadata": {},
   "source": [
    "#### (d) Find $Var(X_3)$."
   ]
  },
  {
   "cell_type": "markdown",
   "metadata": {},
   "source": [
    "#### (e) Find the covariance matrix of (X_1 + X_2, X_2 + X_3)'."
   ]
  },
  {
   "cell_type": "markdown",
   "metadata": {},
   "source": [
    "#### (f) If in addition we know that $X_1$ has a normal distribution, find $P(1<X_1<2.5)$, in terms of $\\phi()$."
   ]
  },
  {
   "cell_type": "markdown",
   "metadata": {},
   "source": [
    "#### (g) Consider the random variable $W=X_1+X_2$. Which of the following is true? _(i)_ $Var(W) = Var(X_1 + X_2)$. _(ii)_ $Var(W) > Var(X_1+X_2)$. _(iv)_  In order to determine which of the variances is the larger one, we would need to know whether the variables $X_i$ have a multivariate normal distribution. _(v)_ $Var(X_1 + X_2)$ does not exist."
   ]
  },
  {
   "cell_type": "markdown",
   "metadata": {},
   "source": [
    "### 10. Find the (approximate) output of this R code, by using the analytical techniques of this chapter:\n",
    "\n",
    "```\n",
    "count <- 0\n",
    "for (i in 1:10000) {\n",
    "    count1 <- 0\n",
    "    count2 <- 0\n",
    "    count3 <- 0\n",
    "    for (j in 1:20) {\n",
    "        x <- runif(1)\n",
    "        if (x < 0.2) {\n",
    "            count1 <- count1 + 1\n",
    "        } else if (x < 0.6) count <- count2 + 1 else\n",
    "                count3 <- count3 + 1\n",
    "    }\n",
    "    if (count1 == 9 && count2 == 2 && count3 == 9) count <- count + 1\n",
    "}\n",
    "cat(count/10000)\n",
    "```"
   ]
  },
  {
   "cell_type": "markdown",
   "metadata": {},
   "source": [
    "### 11. Use the convolution formula (13.52) to derive (7.46) for the case $r=2$. Explain your steps carefully!"
   ]
  },
  {
   "cell_type": "markdown",
   "metadata": {},
   "source": [
    "### 12. The book, _Last Man Standing_, autheor D. McDonald writes the following about the practice of combining many mortgage loans into a single package sold to investors:\n",
    "\n",
    "    Even if every single [loan] in the [package] had a 30-percent risk of default, the thinking went, the odds that most of them would default at once were arguably infinitesimal...What [this argument] missed was the auto-synchronous relationship of many loans...[If several of them] are all mortgage for houses sittingc next to each other on a beach...one strong hurricane and the [loan package] would be decimated.\n",
    "    \n",
    "Fill in the blank with a term from this book: The author is referring to an unwarranted assumption of _____________."
   ]
  },
  {
   "cell_type": "markdown",
   "metadata": {},
   "source": [
    "### 13. Consider the computer worm example in Section 9.3.1. Let $R$ denote the time it takes to go from state 1 to state 3. Find $f_R(v)$. (Leave your answer in integral form.)"
   ]
  },
  {
   "cell_type": "markdown",
   "metadata": {},
   "source": [
    "### 14. Suppose (X,Y) has a bivariate normal distribution, with $EX = EY = 0, Var(X)=Var(Y)=1$,  and $\\rho(X,Y)=0.2$. Find the following, leaving your answers in integral form:"
   ]
  },
  {
   "cell_type": "markdown",
   "metadata": {},
   "source": [
    "#### (a) $E(X^2 + XY^{0.5})$"
   ]
  },
  {
   "cell_type": "markdown",
   "metadata": {},
   "source": [
    "#### (b) P(Y>0.5X)"
   ]
  },
  {
   "cell_type": "markdown",
   "metadata": {},
   "source": [
    "#### (c) $F_{X,Y}(0.6, 0.2)$"
   ]
  },
  {
   "cell_type": "code",
   "execution_count": null,
   "metadata": {
    "collapsed": true
   },
   "outputs": [],
   "source": []
  }
 ],
 "metadata": {
  "kernelspec": {
   "display_name": "Python 3",
   "language": "python",
   "name": "python3"
  },
  "language_info": {
   "codemirror_mode": {
    "name": "ipython",
    "version": 3
   },
   "file_extension": ".py",
   "mimetype": "text/x-python",
   "name": "python",
   "nbconvert_exporter": "python",
   "pygments_lexer": "ipython3",
   "version": "3.6.0"
  },
  "toc": {
   "colors": {
    "hover_highlight": "#DAA520",
    "navigate_num": "#000000",
    "navigate_text": "#333333",
    "running_highlight": "#FF0000",
    "selected_highlight": "#FFD700",
    "sidebar_border": "#EEEEEE",
    "wrapper_background": "#FFFFFF"
   },
   "moveMenuLeft": true,
   "nav_menu": {
    "height": "82px",
    "width": "254px"
   },
   "navigate_menu": true,
   "number_sections": false,
   "sideBar": true,
   "threshold": "5",
   "toc_cell": false,
   "toc_section_display": "block",
   "toc_window_display": true,
   "widenNotebook": false
  }
 },
 "nbformat": 4,
 "nbformat_minor": 2
}
