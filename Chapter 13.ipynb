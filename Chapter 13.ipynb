{
 "cells": [
  {
   "cell_type": "markdown",
   "metadata": {},
   "source": [
    "# Chapter 13 Multivariate PMFs and Densities"
   ]
  },
  {
   "cell_type": "markdown",
   "metadata": {},
   "source": [
    "## Python Code"
   ]
  },
  {
   "cell_type": "code",
   "execution_count": 199,
   "metadata": {
    "collapsed": true
   },
   "outputs": [],
   "source": [
    "from scipy.special import comb\n",
    "from scipy.stats import expon\n",
    "from scipy.special import factorial\n",
    "from scipy.stats import norm\n",
    "from scipy.stats import multivariate_normal\n",
    "from scipy.integrate import dblquad, quad\n",
    "\n",
    "import numpy as np\n",
    "import pandas as pd\n",
    "import matplotlib.pyplot as plt\n",
    "\n",
    "%matplotlib inline"
   ]
  },
  {
   "cell_type": "markdown",
   "metadata": {},
   "source": [
    "### Eq 13.1"
   ]
  },
  {
   "cell_type": "code",
   "execution_count": 2,
   "metadata": {
    "collapsed": false
   },
   "outputs": [],
   "source": [
    "def multiv_dist_marbles():\n",
    "    \"\"\" Probability of Y=i and B=k \"\"\"\n",
    "    num_yellows = 2\n",
    "    num_blues = 3\n",
    "    num_greens = 4\n",
    "    num_total_to_pick = 4\n",
    "\n",
    "    probas = []\n",
    "    \n",
    "    for i in range(num_yellows + 1):\n",
    "        i_row = []\n",
    "        for j in range(num_blues + 1):\n",
    "            proba_i_j = comb(num_yellows, i) * \\\n",
    "                comb(num_blues, j) * \\\n",
    "                comb(num_greens, num_greens - i - j) / \\\n",
    "                comb(num_yellows + num_blues + num_greens, num_total_to_pick)\n",
    "            i_row.append(proba_i_j)\n",
    "            \n",
    "        probas.append(np.array(i_row))\n",
    "        \n",
    "    return pd.DataFrame(np.array(probas))"
   ]
  },
  {
   "cell_type": "code",
   "execution_count": 3,
   "metadata": {
    "collapsed": false
   },
   "outputs": [
    {
     "data": {
      "text/html": [
       "<div>\n",
       "<style scoped>\n",
       "    .dataframe tbody tr th:only-of-type {\n",
       "        vertical-align: middle;\n",
       "    }\n",
       "\n",
       "    .dataframe tbody tr th {\n",
       "        vertical-align: top;\n",
       "    }\n",
       "\n",
       "    .dataframe thead th {\n",
       "        text-align: right;\n",
       "    }\n",
       "</style>\n",
       "<table border=\"1\" class=\"dataframe\">\n",
       "  <thead>\n",
       "    <tr style=\"text-align: right;\">\n",
       "      <th></th>\n",
       "      <th>0</th>\n",
       "      <th>1</th>\n",
       "      <th>2</th>\n",
       "      <th>3</th>\n",
       "    </tr>\n",
       "  </thead>\n",
       "  <tbody>\n",
       "    <tr>\n",
       "      <th>0</th>\n",
       "      <td>0.007937</td>\n",
       "      <td>0.095238</td>\n",
       "      <td>0.142857</td>\n",
       "      <td>0.031746</td>\n",
       "    </tr>\n",
       "    <tr>\n",
       "      <th>1</th>\n",
       "      <td>0.063492</td>\n",
       "      <td>0.285714</td>\n",
       "      <td>0.190476</td>\n",
       "      <td>0.015873</td>\n",
       "    </tr>\n",
       "    <tr>\n",
       "      <th>2</th>\n",
       "      <td>0.047619</td>\n",
       "      <td>0.095238</td>\n",
       "      <td>0.023810</td>\n",
       "      <td>0.000000</td>\n",
       "    </tr>\n",
       "  </tbody>\n",
       "</table>\n",
       "</div>"
      ],
      "text/plain": [
       "          0         1         2         3\n",
       "0  0.007937  0.095238  0.142857  0.031746\n",
       "1  0.063492  0.285714  0.190476  0.015873\n",
       "2  0.047619  0.095238  0.023810  0.000000"
      ]
     },
     "execution_count": 3,
     "metadata": {},
     "output_type": "execute_result"
    }
   ],
   "source": [
    "dist_marbles = multiv_dist_marbles()\n",
    "dist_marbles"
   ]
  },
  {
   "cell_type": "code",
   "execution_count": 4,
   "metadata": {
    "collapsed": false
   },
   "outputs": [
    {
     "data": {
      "text/plain": [
       "array([[ 0.00793651,  0.0952381 ,  0.14285714,  0.03174603],\n",
       "       [ 0.06349206,  0.28571429,  0.19047619,  0.01587302],\n",
       "       [ 0.04761905,  0.0952381 ,  0.02380952,  0.        ]])"
      ]
     },
     "execution_count": 4,
     "metadata": {},
     "output_type": "execute_result"
    }
   ],
   "source": [
    "dist_marbles.values"
   ]
  },
  {
   "cell_type": "code",
   "execution_count": 5,
   "metadata": {
    "collapsed": false
   },
   "outputs": [
    {
     "data": {
      "text/plain": [
       "(3, 4)"
      ]
     },
     "execution_count": 5,
     "metadata": {},
     "output_type": "execute_result"
    }
   ],
   "source": [
    "dist_marbles.values.shape"
   ]
  },
  {
   "cell_type": "code",
   "execution_count": 6,
   "metadata": {
    "collapsed": false
   },
   "outputs": [
    {
     "data": {
      "text/plain": [
       "0.47619047619047616"
      ]
     },
     "execution_count": 6,
     "metadata": {},
     "output_type": "execute_result"
    }
   ],
   "source": [
    "def yellows_less_than_blues(yellows, blues):\n",
    "    return yellows < blues\n",
    "\n",
    "def proba(multiv_dist, query):\n",
    "    proba_val = 0\n",
    "    \n",
    "    for i in range(multiv_dist.shape[0]):\n",
    "        for j in range(multiv_dist.shape[1]):\n",
    "            if query(i,j):\n",
    "                proba_val += multiv_dist[i][j]\n",
    "            \n",
    "    return proba_val\n",
    "\n",
    "proba(dist_marbles.values, yellows_less_than_blues)"
   ]
  },
  {
   "cell_type": "code",
   "execution_count": 7,
   "metadata": {
    "collapsed": false
   },
   "outputs": [],
   "source": [
    "def simulate_marbles(\n",
    "    num_pick=4,\n",
    "    num_yellows=2,\n",
    "    num_blues=3,\n",
    "    num_greens=4,\n",
    "    query=yellows_less_than_blues,\n",
    "    num_experiments=10000\n",
    "):\n",
    "    to_choose_from = np.concatenate(\n",
    "        [\n",
    "            np.ones(num_yellows) * 1,\n",
    "            np.ones(num_blues) * 2,\n",
    "            np.ones\n",
    "        ]\n",
    "    )\n",
    "    for i in range(num_experiments):\n",
    "        np.random.choice()\n",
    "    \n",
    "    "
   ]
  },
  {
   "cell_type": "markdown",
   "metadata": {
    "collapsed": true
   },
   "source": [
    "## Exercises"
   ]
  },
  {
   "cell_type": "markdown",
   "metadata": {},
   "source": [
    "### 1. Suppose the random pair $(X,Y)$ has the density $f_{X,Y}(s,t) = 8st$ on the triangle $\\{(s,t): 0 < t < s < 1\\}$.\n",
    "    \n",
    "(a). Find $f_X(s)$"
   ]
  },
  {
   "cell_type": "markdown",
   "metadata": {},
   "source": [
    "$$\n",
    "\\begin{equation}\n",
    "\\begin{aligned}\n",
    "    f_X(s) &= \\int_{t=0}^{t=s}f_{X,Y}(s,t) \\cdot dt && \\text{integrate out $t$}\\\\\n",
    "    &= \\int_{t=0}^{t=s}8st \\cdot dt \\\\\n",
    "    &= s \\int_{t=0}^{t=s} 8t \\cdot dt \\\\\n",
    "    &= s(4t^2)\\big|_{t=0}^{t=s} \\\\\n",
    "    &= 4s^3\n",
    "\\end{aligned}\n",
    "\\end{equation}\n",
    "$$\n",
    "    (b). Find $P(X<Y/2)$."
   ]
  },
  {
   "cell_type": "markdown",
   "metadata": {},
   "source": [
    "$$\n",
    "\\begin{equation}\n",
    "\\begin{aligned}\n",
    "    P(X<Y/2) &= \\int_{t=0}^{t=1}\\int_{s=0}^{s=t/2}8st \\cdot dsdt \\\\\n",
    "    &= \\int_{t=0}^{t=1}t4(s^2)\\big|_{s=0}^{s=t/2} \\cdot dt \\\\\n",
    "    &= \\int_{t=0}^{t=1}t4\\big[\\big(\\frac{t}{2}\\big)^2 - (0)^2\\big] \\cdot dt \\\\\n",
    "    &= \\int_{t=0}^{t=1}t^3 \\cdot dt \\\\\n",
    "    &= \\frac{t^4}{4}\\big|_{t=0}^{t=1} \\\\\n",
    "    &= \\frac{1}{4}\n",
    "\\end{aligned}\n",
    "\\end{equation}\n",
    "$$\n"
   ]
  },
  {
   "cell_type": "markdown",
   "metadata": {},
   "source": [
    "#### Approximation 1b"
   ]
  },
  {
   "cell_type": "code",
   "execution_count": 8,
   "metadata": {
    "collapsed": true
   },
   "outputs": [],
   "source": [
    "def approx_1b():\n",
    "    \"\"\" Approximate the double integral by doing double sums. \"\"\"\n",
    "    sums = 0.0\n",
    "    #rng = np.linspace(0,1 - 1.0/1000.0, num=1000)\n",
    "    t= 0\n",
    "    while t < 1.0:\n",
    "        s = 0\n",
    "        while s < t / 2:\n",
    "            # the sum is approximated by length * width * height,\n",
    "            # where the length is 0.001, width is 0.001\n",
    "            # height is given as 8st\n",
    "            sums += 8*s*t * 0.000001\n",
    "            s += 0.001\n",
    "        t += 0.001\n",
    "    return sums "
   ]
  },
  {
   "cell_type": "code",
   "execution_count": 9,
   "metadata": {
    "collapsed": false
   },
   "outputs": [
    {
     "data": {
      "text/plain": [
       "0.24916783217600103"
      ]
     },
     "execution_count": 9,
     "metadata": {},
     "output_type": "execute_result"
    }
   ],
   "source": [
    "approx_1b()"
   ]
  },
  {
   "cell_type": "markdown",
   "metadata": {},
   "source": [
    "### 2. Suppose packets on a network are of three types. In general, $40%$ of the packets are of type $A$, $40%$ have type B, and $20%$ have type $C$. We observe six packets, and denote the numbers of packets of types $A$, $B$ and $C$ by $X$, $Y$, $Z$, respectively."
   ]
  },
  {
   "cell_type": "markdown",
   "metadata": {},
   "source": [
    "#### (a) $P(X=Y=Z=2)$\n",
    "\n",
    "$$\n",
    "\\begin{equation}\n",
    "\\begin{aligned}\n",
    "    P(X=Y=Z=2) &= \\frac{6!}{2!2!2!}(0.4)^2(0.4)^2(0.2)^2 && \\text{multinomial dist.}\\\\\n",
    "    &= 0.09216\n",
    "\\end{aligned}\n",
    "\\end{equation}\n",
    "$$\n"
   ]
  },
  {
   "cell_type": "code",
   "execution_count": 10,
   "metadata": {
    "collapsed": false
   },
   "outputs": [
    {
     "name": "stderr",
     "output_type": "stream",
     "text": [
      "/Users/eddericugaddan/anaconda3/lib/python3.6/site-packages/ipykernel/__main__.py:1: DeprecationWarning: `factorial` is deprecated!\n",
      "Importing `factorial` from scipy.misc is deprecated in scipy 1.0.0. Use `scipy.special.factorial` instead.\n",
      "  if __name__ == '__main__':\n"
     ]
    },
    {
     "data": {
      "text/plain": [
       "0.092160000000000047"
      ]
     },
     "execution_count": 10,
     "metadata": {},
     "output_type": "execute_result"
    }
   ],
   "source": [
    "factorial(6) / (factorial(2) * factorial(2) * factorial(2))* (0.4)**2 *(0.4)**2 * (0.2)**2"
   ]
  },
  {
   "cell_type": "markdown",
   "metadata": {},
   "source": [
    "#### (b) Find $Cov(X,Y+Z)$"
   ]
  },
  {
   "cell_type": "markdown",
   "metadata": {},
   "source": [
    "$$\n",
    "\\begin{equation}\n",
    "\\begin{aligned}\n",
    "    X + Y + Z &= 6 \\\\\n",
    "    Y + Z &= 6 - X \n",
    "    Cov(X,Y+Z) &= Cov(X,6-X) \\\\\n",
    "    &= E[X\\cdot(6-X)]-EX \\cdot E(6-X) \\\\\n",
    "    &= E(6X-X^2)-EX\\cdot (E(6) - E(X)) \\\\\n",
    "    &= 6EX-E(X^2)-6EX+E(X)^2 \\\\\n",
    "    &= E(X^2) - E(X)^2 \\\\\n",
    "    &= Var(X) \\\\\n",
    "    &= 6(0.4)(1-0.4) \\\\\n",
    "    &= 1.44\n",
    "\\end{aligned}\n",
    "\\end{equation}\n",
    "$$\n"
   ]
  },
  {
   "cell_type": "markdown",
   "metadata": {},
   "source": [
    "#### (c) To what parametric family in this book does the distribution of $Y+Z$ belong?"
   ]
  },
  {
   "cell_type": "markdown",
   "metadata": {},
   "source": [
    "Y+Z is binomially distributed, with $n=6, p=(0.4+0.2)=0.6$"
   ]
  },
  {
   "cell_type": "markdown",
   "metadata": {},
   "source": [
    "### 3. Suppose $X$ and $Y$ are independent, each having an exponential distribution with means $1.0$ and $2.0$, respectively. Find $P(Y>X^2)$."
   ]
  },
  {
   "cell_type": "code",
   "execution_count": 11,
   "metadata": {
    "collapsed": false
   },
   "outputs": [
    {
     "data": {
      "text/plain": [
       "0.65639999999999998"
      ]
     },
     "execution_count": 11,
     "metadata": {},
     "output_type": "execute_result"
    }
   ],
   "source": [
    "# approximation\n",
    "(expon.rvs(scale=2.0, size=10000) \\\n",
    " > (expon.rvs(scale=1,size=10000)**2)\\\n",
    ").sum() / 10000.0"
   ]
  },
  {
   "cell_type": "markdown",
   "metadata": {},
   "source": [
    "Note: The following integral seemed difficult to calculate by hand. So I looked at Wolfram Alpha to see if there are step-by-step solutions available for this double integral. Normally it shows solutions. However, this time, it only gave the exact solution, which makes me think that it's probably hard/impossible to calculate by hand.\n",
    "\n",
    "$$\n",
    "\\begin{equation}\n",
    "\\begin{aligned}\n",
    "    \\int_{b=0}^{b=\\infty}\\int_{a=b^2}^{a=\\infty}\\frac{e^{-a/2}}{2}e^{-b}dadb &= 0.65568 && \\text{Wolfram Alpha Pro}\n",
    "\\end{aligned}\n",
    "\\end{equation}\n",
    "$$\n"
   ]
  },
  {
   "cell_type": "code",
   "execution_count": 12,
   "metadata": {
    "collapsed": false
   },
   "outputs": [
    {
     "data": {
      "text/plain": [
       "0.30326532985631671"
      ]
     },
     "execution_count": 12,
     "metadata": {},
     "output_type": "execute_result"
    }
   ],
   "source": [
    "expon.pdf(1, scale=2.0)"
   ]
  },
  {
   "cell_type": "code",
   "execution_count": 13,
   "metadata": {
    "collapsed": false
   },
   "outputs": [
    {
     "data": {
      "text/plain": [
       "0.1353352832366127"
      ]
     },
     "execution_count": 13,
     "metadata": {},
     "output_type": "execute_result"
    }
   ],
   "source": [
    "expon.pdf(1, scale=0.5) / 2"
   ]
  },
  {
   "cell_type": "markdown",
   "metadata": {},
   "source": [
    "### 4. Suppose the pair $(X,Y)'$ has a bivariate normal distribution with mean vector (0,2) and covariance matrix $\\begin{pmatrix} 1 & 2 \\\\ 2 & 6 \\end{pmatrix}$\n",
    "\n",
    "#### (a) Set up (but do not evaluate) the double integral for the exact value of $P(X^2 + Y^2 \\leq 2.8)$"
   ]
  },
  {
   "cell_type": "markdown",
   "metadata": {},
   "source": [
    "Let $\\mu_1 = 0, \\mu_2 = 2, \\sigma_1 = 1, \\sigma_2 = \\sqrt{6}$, and $\\rho=\\begin{pmatrix} 1 & 2 \\\\ 2 & 6\\end{pmatrix}$. \n",
    "\n",
    "\n",
    "$$\n",
    "\\begin{equation}\n",
    "\\begin{aligned}\n",
    "    f_{X,Y}(s,t) &= \\frac{1}{2\\pi \\sigma_1 \\sigma_2 \\sqrt{1-\\rho^2}}e^{-\\frac{1}{2(1-\\rho^2)}\\big[\\frac{(s-\\sigma_1)^2}{\\sigma_1^2} + \\frac{(t-\\sigma_2)^2}{\\sigma_2^2} - \\frac{2\\rho(s-\\sigma_1)(t-\\sigma_2)}{\\sigma_1\\sigma_2}\\big]} \\\\\n",
    "    \\int_{t=-\\sqrt{2.8}}^{t=\\sqrt{2.8}}\\int_{-\\sqrt{2.8-t^2}}^{\\sqrt{2.8-t^2}} f_{X,Y}(s,t) &= P(X^2 + Y^2 \\leq 2.8)\n",
    "\\end{aligned}\n",
    "\\end{equation}\n",
    "$$"
   ]
  },
  {
   "cell_type": "markdown",
   "metadata": {},
   "source": [
    "#### (b) Using the matrix methods of Section 12.4, find the covariance matrix of the pair $U = (X+Y,X-2Y)'$. Does $U$ have a bivariate normal distribution?"
   ]
  },
  {
   "cell_type": "markdown",
   "metadata": {},
   "source": [
    "$U$ does have a bivariate normal distribution because $U$ is a linear combination of bivariate random vector (X,Y)'.\n",
    "\n",
    "$$\n",
    "\\begin{equation}\n",
    "\\begin{aligned}\n",
    "    U &= \\begin{pmatrix} X+Y \\\\ \n",
    "            X-Y \\end{pmatrix} \\\\\n",
    "    W &= \\begin{pmatrix} X \\\\\n",
    "            Y \\end{pmatrix} \\\\\n",
    "    Cov(W) &= \\begin{pmatrix}\n",
    "            Var(X) & Cov(X,Y) \\\\\n",
    "            Cov(X,Y) & Var(Y) \n",
    "            \\end{pmatrix} \\\\\n",
    "    Var(X) &= 1 \\\\\n",
    "    Cov(X,Y) &= 2 \\\\\n",
    "    Var(Y) &= 6 \\\\\n",
    "    A &= \\begin{pmatrix} 1 & 1 \\\\\n",
    "            1 & -1 \\end{pmatrix} \\\\\n",
    "    A' &= \\begin{pmatrix} 1 & 1 \\\\\n",
    "            1 & -1 \\end{pmatrix} \\\\\n",
    "    Cov(U) &= ACov(W)A' \\\\\n",
    "           &= \\begin{pmatrix} 11 & -5 \\\\\n",
    "           -5 & 3 \\end{pmatrix}\n",
    "\\end{aligned}\n",
    "\\end{equation}\n",
    "$$\n"
   ]
  },
  {
   "cell_type": "code",
   "execution_count": 14,
   "metadata": {
    "collapsed": false
   },
   "outputs": [
    {
     "data": {
      "text/plain": [
       "array([[11, -5],\n",
       "       [-5,  3]])"
      ]
     },
     "execution_count": 14,
     "metadata": {},
     "output_type": "execute_result"
    }
   ],
   "source": [
    "def compute_4b():\n",
    "    a = np.array([[1, 1],[1, -1]])\n",
    "    cov_w = np.array([[1,2], [2,6]])\n",
    "    \n",
    "    return a.dot(cov_w).dot(a.T)\n",
    "\n",
    "compute_4b()"
   ]
  },
  {
   "cell_type": "markdown",
   "metadata": {},
   "source": [
    "### 5. Suppose $X$ and $Y$ are independent, and each has a $U(0,1)$ distribution. Let $V=X+Y$."
   ]
  },
  {
   "cell_type": "markdown",
   "metadata": {},
   "source": [
    "#### (a) Find $f_V$.\n",
    "\n",
    "$$\n",
    "\\begin{equation}\n",
    "\\begin{aligned}\n",
    "    f_V(t) &= \\int_{s=0}^{s=t} f_X(s)f_Y(t-s)ds && \\text{sum of independent R.V. is equal to convolution of the two R.V.} \\\\\n",
    "    &= \\int_{s=0}^{s=1} f_Y(t-s) ds && \\text{$f_X(s)$ is $1$ if $0<s<1$, 0 otherwise} \\\\\n",
    "\\end{aligned}\n",
    "\\end{equation}\n",
    "$$\n",
    "\n",
    "Case 1: When $0<t<1$, $f_Y(t-s) = 1$ if $0<s<t$, $0$ otherwise. Therefore:\n",
    "\n",
    "$$\n",
    "\\begin{equation}\n",
    "\\begin{aligned}\n",
    "   \\int_{0}^{t}ds &= s\\Big|_0^t\\\\ \n",
    "   &= t\n",
    "\\end{aligned}\n",
    "\\end{equation}\n",
    "$$\n",
    "\n",
    "Case 2: When $1<t<2$, $f_Y(t-s) = 1$ if $t-1 \\leq s \\leq 1$, $0$ otherwise. Therefore:\n",
    "\n",
    "$$\n",
    "\\begin{equation}\n",
    "\\begin{aligned}\n",
    "   \\int_{t-1}^{1}ds &= s\\Big|_{t-1}^1&& \\text{When $1<t<2$ } \\\\ \n",
    "   &= 1-(t-1) \\\\\n",
    "   &= 2-t\n",
    "\\end{aligned}\n",
    "\\end{equation}\n",
    "$$\n"
   ]
  },
  {
   "cell_type": "markdown",
   "metadata": {},
   "source": [
    "#### (b) Verify your answer in (a) by finding $EV$ from your answer in (a) and then using the fact that $EX=EY=0.5$"
   ]
  },
  {
   "cell_type": "markdown",
   "metadata": {},
   "source": [
    "$$\n",
    "\\begin{equation}\n",
    "\\begin{aligned}\n",
    "    V &= X+Y \\\\\n",
    "    EV &= E(X+Y) \\\\\n",
    "       &= EX + EY \\\\\n",
    "       &= 0.5 + 0.5 \\\\\n",
    "       &= 1\n",
    "\\end{aligned}\n",
    "\\end{equation}\n",
    "$$\n",
    "\n",
    "$$\n",
    "\\begin{equation}\n",
    "\\begin{aligned}\n",
    "    EV &= \\int_0^t t(t)dt + \\int_1^2 t(2-t)dt \\\\\n",
    "       &= \\frac{t^3}{3}\\Big|_0^1 + t^2\\Big|_1^2 - \\frac{t^3}{3}\\Big|_1^2 \\\\\n",
    "       &= \\frac{1}{3}+4-1-\\Big(\\frac{8}{3}-\\frac{1}{3}\\Big) \\\\\n",
    "       &= 1\n",
    "\\end{aligned}\n",
    "\\end{equation}\n",
    "$$\n"
   ]
  },
  {
   "cell_type": "markdown",
   "metadata": {},
   "source": [
    "#### \\* In the general population of parents who have 10-year-old kids, the parent/kid weight pairs have an exact bivariate normal distribution\n",
    "\n",
    "#### \\* Parents' weights have mean 152.6 and standard deviation 25.0.\n",
    "\n",
    "#### \\* Weights of kids have mean 62 and standard deviation 6.4.\n",
    "\n",
    "#### \\* The correlation between parents' and kids' weights is 0.4.\n",
    "\n",
    "Use R functions (not simulation) in the following:\n",
    "\n",
    "#### (a) Find the fraction of parents who weigh more than 160."
   ]
  },
  {
   "cell_type": "code",
   "execution_count": 15,
   "metadata": {
    "collapsed": false
   },
   "outputs": [
    {
     "data": {
      "text/plain": [
       "<matplotlib.text.Text at 0x1a12176198>"
      ]
     },
     "execution_count": 15,
     "metadata": {},
     "output_type": "execute_result"
    },
    {
     "data": {
      "image/png": "[encoded data removed]",
      "text/plain": [
       "<matplotlib.figure.Figure at 0x1a121325f8>"
      ]
     },
     "metadata": {},
     "output_type": "display_data"
    }
   ],
   "source": [
    "fig, ax = plt.subplots(1, 1)\n",
    "x = np.linspace(\n",
    "    norm.ppf(0.01, loc=152.6, scale=25.0),\n",
    "    norm.ppf(0.99, loc=152.6, scale=25.0), \n",
    "    100\n",
    ")\n",
    "ax.plot(x, norm.pdf(x, loc=152.6, scale=25.0),\n",
    "       'r-', lw=5, alpha=0.6, label='norm pdf')\n",
    "ax.set_title('Weight distribution of parents')\n",
    "ax.set_xlabel('lbs')\n",
    "ax.set_ylabel('probability')"
   ]
  },
  {
   "cell_type": "code",
   "execution_count": 16,
   "metadata": {
    "collapsed": false
   },
   "outputs": [
    {
     "data": {
      "text/plain": [
       "0.38351504069809861"
      ]
     },
     "execution_count": 16,
     "metadata": {},
     "output_type": "execute_result"
    }
   ],
   "source": [
    "# About 38.4% of parents weigh more than 160 lbs.\n",
    "norm.cdf(\n",
    "    norm.ppf(0.9999, loc=152.6, scale=25.0),\n",
    "    loc=152.6, \n",
    "    scale=25.0\n",
    ") - norm.cdf(\n",
    "    160.0,\n",
    "    loc=152.6, \n",
    "    scale=25.0\n",
    ") "
   ]
  },
  {
   "cell_type": "code",
   "execution_count": 17,
   "metadata": {
    "collapsed": true
   },
   "outputs": [],
   "source": [
    "def simulate_parents_weights_1():\n",
    "    \"\"\" \n",
    "        Define normal distribution pdf and then find the area\n",
    "        from 160 lbs to infinity\n",
    "    \"\"\"\n",
    "    \n",
    "    num_points = 1000\n",
    "    _min = 160\n",
    "    _max = 260\n",
    "    x = np.linspace(_min, _max, num=num_points)\n",
    "    std_dev = 25.0\n",
    "    mean = 152.6\n",
    "    \n",
    "    vals = 1.0 / (2*np.pi*std_dev*std_dev)**0.5*np.exp(-(x-mean)**2 / (2*std_dev**2))\n",
    "    width = (_max-_min) / num_points\n",
    "    return (vals * width).sum()"
   ]
  },
  {
   "cell_type": "code",
   "execution_count": 18,
   "metadata": {
    "collapsed": false
   },
   "outputs": [
    {
     "data": {
      "text/plain": [
       "0.38398665340889954"
      ]
     },
     "execution_count": 18,
     "metadata": {},
     "output_type": "execute_result"
    }
   ],
   "source": [
    "simulate_parents_weights_1()"
   ]
  },
  {
   "cell_type": "markdown",
   "metadata": {},
   "source": [
    "#### (b) Find the fraction of kids who weigh less than 56."
   ]
  },
  {
   "cell_type": "code",
   "execution_count": 19,
   "metadata": {
    "collapsed": false
   },
   "outputs": [
    {
     "data": {
      "text/plain": [
       "0.17425071188054242"
      ]
     },
     "execution_count": 19,
     "metadata": {},
     "output_type": "execute_result"
    }
   ],
   "source": [
    "norm.cdf(56, loc=62, scale=6.4)"
   ]
  },
  {
   "cell_type": "markdown",
   "metadata": {},
   "source": [
    "#### (c) Find the fraction of parent/child pairs in which the parent weighs more than 160 and the child weighs less than 56."
   ]
  },
  {
   "cell_type": "code",
   "execution_count": 20,
   "metadata": {
    "collapsed": false
   },
   "outputs": [
    {
     "data": {
      "text/plain": [
       "64.0"
      ]
     },
     "execution_count": 20,
     "metadata": {},
     "output_type": "execute_result"
    }
   ],
   "source": [
    "# Cov(X,Y) = Corr(X,Y) * std_dev(X) * std_dev(Y)\n",
    "0.4 * (25*6.4)"
   ]
  },
  {
   "cell_type": "code",
   "execution_count": 21,
   "metadata": {
    "collapsed": false
   },
   "outputs": [
    {
     "data": {
      "text/plain": [
       "(0.02987677566007454, 1.4747870275913424e-08)"
      ]
     },
     "execution_count": 21,
     "metadata": {},
     "output_type": "execute_result"
    }
   ],
   "source": [
    "# About 0.03 of parent/child pairs have the parents \n",
    "# weighing more than 160 and the child weighs less \n",
    "# than 56.\n",
    "\n",
    "def bivariate(y,x):\n",
    "    \"\"\" y is kids, x is parents \"\"\"\n",
    "    return multivariate_normal.pdf(\n",
    "        [x,y],\n",
    "        mean=[152.6, 62.0],\n",
    "        cov=np.array([[25.0**2, 64], [64, 6.4**2]])\n",
    "    )\n",
    "\n",
    "dblquad(\n",
    "    bivariate,\n",
    "    a=160,\n",
    "    b=np.inf,\n",
    "    gfun=lambda x: 0,\n",
    "    hfun=lambda x: 56\n",
    ")"
   ]
  },
  {
   "cell_type": "markdown",
   "metadata": {},
   "source": [
    "#### (d) Suppose a ride at an amusement park charges by weight, one cent for each poind of weight in the parent and child. State the exact distribution of the fee, and find the fraction of parent/child pairs who are charged less than \\$2.00."
   ]
  },
  {
   "cell_type": "markdown",
   "metadata": {},
   "source": [
    "$$\n",
    "\\begin{equation}\n",
    "\\begin{aligned}\n",
    "    X &= \\begin{pmatrix} P \\\\ K \\end{pmatrix} && \\text{$P$ are parents' weights, $K$ are kids' weights}\\\\\n",
    "    A &= \\begin{pmatrix} 0.01 & 0.01 \\end{pmatrix} && \\text{price per weight} \\\\\n",
    "    Y &= AX && \\text{$Y$ is the distribution of the fee}\\\\\n",
    "    &= 0.01P+0.01K \\\\\n",
    "\\end{aligned}\n",
    "\\end{equation}\n",
    "$$"
   ]
  },
  {
   "cell_type": "markdown",
   "metadata": {},
   "source": [
    "$$\n",
    "\\begin{equation}\n",
    "\\begin{aligned}\n",
    "    EY &= E(AX) \\\\\n",
    "    &= AEX \\\\\n",
    "    &= A\\mu \\\\\n",
    "    &= 0.01EP + 0.01EK \\\\\n",
    "    &= 2.146 \\\\\n",
    "\\end{aligned}\n",
    "\\end{equation}\n",
    "$$\n"
   ]
  },
  {
   "cell_type": "markdown",
   "metadata": {},
   "source": [
    "$$\n",
    "\\begin{equation}\n",
    "\\begin{aligned}\n",
    "    Cov(Y) &= Cov(AX) \\\\\n",
    "    &= ACov(X)A' \\\\\n",
    "    &= \\begin{pmatrix} 0.01 & 0.01 \\end{pmatrix} \\begin{pmatrix} 625 & 160 \\\\ 160 & 40.96 \\end{pmatrix} \\begin{pmatrix} 0.01 \\\\ 0.01 \\end{pmatrix} \\\\\n",
    "    &= 0.098596 \\\\\n",
    "    &= Var(Y)\n",
    "\\end{aligned}\n",
    "\\end{equation}\n",
    "$$\n"
   ]
  },
  {
   "cell_type": "code",
   "execution_count": 22,
   "metadata": {
    "collapsed": false
   },
   "outputs": [
    {
     "data": {
      "text/plain": [
       "array([ 0.098596])"
      ]
     },
     "execution_count": 22,
     "metadata": {},
     "output_type": "execute_result"
    }
   ],
   "source": [
    "np.array([0.01, 0.01]).dot(\n",
    "    np.array([\n",
    "        [625, 160],\n",
    "        [160, 40.96]\n",
    "    ])\n",
    ").dot(np.array([[0.01], [0.01]]))"
   ]
  },
  {
   "cell_type": "markdown",
   "metadata": {},
   "source": [
    "\n",
    "$$\n",
    "\\begin{equation}\n",
    "\\begin{aligned}\n",
    "    \\int_0^2 f_Y(t) dt\n",
    "\\end{aligned}\n",
    "\\end{equation}\n",
    "$$\n"
   ]
  },
  {
   "cell_type": "code",
   "execution_count": 23,
   "metadata": {
    "collapsed": false
   },
   "outputs": [
    {
     "data": {
      "text/plain": [
       "0.32097713160406532"
      ]
     },
     "execution_count": 23,
     "metadata": {},
     "output_type": "execute_result"
    }
   ],
   "source": [
    "# 32.1% chance that the amount of money to be paid \n",
    "# is less than $2\n",
    "norm.cdf(2, loc=2.146, scale=0.098596**0.5) - \\\n",
    "    norm.cdf(0, loc=2.146, scale=0.098596**0.5) "
   ]
  },
  {
   "cell_type": "markdown",
   "metadata": {},
   "source": [
    "### 6. Newspapers at a certain vending machine cost 25 cents. Suppose 60% of the customers pay with quarters, 20% use two dimes and a nickel, 15% insert a dime and three nickels, and 5% deposit five nickels. When the vendor collects the money, five coins fall to the ground. Let X,Y, and Z denote the numbers of quarters, dimes, and nickels among these five coins.\n",
    "\n",
    "#### (a) Is the joint distribution $(X,Y,Z)$ a member of a parametric family presented in this chapter? If so, which one?\n",
    "\n",
    "If the sample size of the coins is big enough such that each coin falling is essentially independent of the rest, then this is multinomially distributed."
   ]
  },
  {
   "cell_type": "code",
   "execution_count": 24,
   "metadata": {
    "collapsed": false
   },
   "outputs": [
    {
     "data": {
      "text/plain": [
       "array(['quarter', 'quarter', 'quarter', 'two_dimes_and_nickel',\n",
       "       'one_dime_and_three_nickels', 'one_dime_and_three_nickels',\n",
       "       'two_dimes_and_nickel', 'quarter', 'quarter', 'quarter', 'quarter',\n",
       "       'two_dimes_and_nickel'],\n",
       "      dtype='<U26')"
      ]
     },
     "execution_count": 24,
     "metadata": {},
     "output_type": "execute_result"
    }
   ],
   "source": [
    "np.random.choice([\n",
    "    'quarter', \n",
    "    'two_dimes_and_nickel',\n",
    "    'one_dime_and_three_nickels',\n",
    "    'five_nickels'\n",
    "], size=12, p=[\n",
    "    0.6,0.2,0.15,0.05\n",
    "])"
   ]
  },
  {
   "cell_type": "code",
   "execution_count": 25,
   "metadata": {
    "collapsed": false
   },
   "outputs": [
    {
     "data": {
      "text/plain": [
       "array([ 0.4136162 ,  0.10205214,  0.48433167])"
      ]
     },
     "execution_count": 25,
     "metadata": {},
     "output_type": "execute_result"
    }
   ],
   "source": [
    "def find_proportion_of_q_d_n():\n",
    "    sample_size = 10000\n",
    "    choices = np.random.choice([\n",
    "        'quarter', \n",
    "        'two_dimes_and_nickel',\n",
    "        'one_dime_and_three_nickels',\n",
    "        'five_nickels'\n",
    "    ], size=sample_size, p=[\n",
    "        0.6,0.2,0.15,0.05\n",
    "    ])\n",
    "    \n",
    "    q_d_n_counts = np.array([0,0,0])\n",
    "    \n",
    "    for choice in choices:\n",
    "        if choice == 'quarter':\n",
    "            q_d_n_counts += np.array([1,0,0])\n",
    "        elif choice == 'two_dimes_and_nickels':\n",
    "            q_d_n_counts += np.array([0,2,1])\n",
    "        elif choice == 'one_dime_and_three_nickels':\n",
    "            q_d_n_counts += np.array([0,1,3])\n",
    "        elif choice == 'five_nickels':\n",
    "            q_d_n_counts += np.array([0,0,5])\n",
    "            \n",
    "    return q_d_n_counts / q_d_n_counts.sum()\n",
    "\n",
    "find_proportion_of_q_d_n()"
   ]
  },
  {
   "cell_type": "markdown",
   "metadata": {},
   "source": [
    "#### (b) Find $P(X=2,Y=2,Z=1)$\n",
    "\n",
    "$$\n",
    "\\begin{equation}\n",
    "\\begin{aligned}\n",
    "    P(X=2,Y=2,Z=1) &\\approx \\frac{5!}{2!2!1!}\\cdot\n",
    "    0.425^2 \\cdot 0.102^2 \\cdot 0.473^1 \\\\\n",
    "    &\\approx 0.027\n",
    "\\end{aligned}\n",
    "\\end{equation}\n",
    "$$\n",
    "\n"
   ]
  },
  {
   "cell_type": "code",
   "execution_count": 26,
   "metadata": {
    "collapsed": false
   },
   "outputs": [
    {
     "name": "stderr",
     "output_type": "stream",
     "text": [
      "/Users/eddericugaddan/anaconda3/lib/python3.6/site-packages/ipykernel/__main__.py:2: DeprecationWarning: `factorial` is deprecated!\n",
      "Importing `factorial` from scipy.misc is deprecated in scipy 1.0.0. Use `scipy.special.factorial` instead.\n",
      "  from ipykernel import kernelapp as app\n"
     ]
    },
    {
     "data": {
      "text/plain": [
       "0.026666167274999989"
      ]
     },
     "execution_count": 26,
     "metadata": {},
     "output_type": "execute_result"
    }
   ],
   "source": [
    "# There is about a \n",
    "factorial(5) / (2*2*1) * 0.425**2 * 0.102**2 * 0.473"
   ]
  },
  {
   "cell_type": "markdown",
   "metadata": {},
   "source": [
    "#### (c) Find $\\rho(X,Y)$.\n",
    "\n",
    "Assuming that a coin dropping does not tell us any information about another, then $X$ and $Y$ are independent. Therefore, the $\\rho(X,Y)$ must be $0$."
   ]
  },
  {
   "cell_type": "markdown",
   "metadata": {},
   "source": [
    "### 7. Jack and Jill play a dice game, in which one wins \\$1 per dot. There are three dice, die A, die B, and die C. Jill always rolls dice A and B. Jack always roll just die C, but he also gets credit for $90\\%$ of die B. For instance, say in a particular roll A,B, and C are 3,1, and 6 respectively. Then Jill would win \\$4 and Jack would get \\$6.90. Let $X$ and $Y$ be Jill's and Jack's total winnings after 100 rolls. Use the Central Limit Theorem to find the approximate values of $P(X>650, Y<660)$ and $P(Y>1.06X)$.\n",
    "\n",
    "### Hints: This will follow a similar pattern to the dice game in Section 12.7, which we win \\$5 for one dot, and \\$2 for two or three dots. Remember, in that example, the key was that we noticed that the pair $(X,Y)$ was a sum of random pairs. That meant that $(X,Y)$ had an approximate bivariate normal distribution, so we could find probabilities if we had the mean vector and covariance matrix of $(X,Y)$. Thus we needed to find $EX, EY, Var(X), Var(Y)$ and $Cov(X,Y)$. We used the various properties of $E(), Var(),$ and $Cov()$."
   ]
  },
  {
   "cell_type": "markdown",
   "metadata": {},
   "source": [
    "$A_1, B_1, C_1$ are the number of dots in the first roll of die $A, B, C$. $U_1$ is Jill's payoff for the 1st roll, while $V_1$ is Jack's prize for the 1st roll. \n",
    "\n",
    "$$\n",
    "\\begin{equation}\n",
    "\\begin{aligned}\n",
    "    X &= U_1 + ... + U_{100} \\\\\n",
    "    &= 100U_1 && \\text{i.i.d} \\\\\n",
    "    &= 100(A_1 + B_1) \\\\\n",
    "\\end{aligned}\n",
    "\\end{equation}\n",
    "$$\n",
    "\n",
    "\n",
    "$$\n",
    "\\begin{equation}\n",
    "\\begin{aligned}\n",
    "    EX &= E(100(A_1+B_1)) \\\\\n",
    "    &= 200\\sum_1^6iP(A=i) \\\\\n",
    "    &= 200 \\cdot 3.5 \\\\\n",
    "    &= 700\n",
    "\\end{aligned}\n",
    "\\end{equation}\n",
    "$$\n",
    "\n",
    "\n",
    "$$\n",
    "\\begin{equation}\n",
    "\\begin{aligned}\n",
    "    Var(X) &= Var(U_1 + ... + U_{100}) \\\\\n",
    "    &= Var(U_1) + ... + Var(U_{100}) && \\text{independence} \\\\\n",
    "    &= 100Var(U_1) && \\text{identical} \\\\\n",
    "    &= 100Var(A_1 + B_1) \\\\\n",
    "    &= 100Var(A_1)+100Var(B_1) \\\\\n",
    "    &= 200Var(A_1) \\\\\n",
    "    &= 200\\Big(\\frac{91}{6} - 3.5^2\\Big) \\\\\n",
    "    &= 583.\\bar{3}\n",
    "\\end{aligned}\n",
    "\\end{equation}\n",
    "$$\n",
    "\n",
    "\n",
    "$$\n",
    "\\begin{equation}\n",
    "\\begin{aligned}\n",
    "    Y &= V_1 + ... + V_{100} \\\\\n",
    "    &= 100V_1 && \\text{i.i.d} \\\\\n",
    "    &= 100(0.9B_1+ C_1) \\\\\n",
    "    &= 90B_1+100C_1\n",
    "\\end{aligned}\n",
    "\\end{equation}\n",
    "$$\n",
    "\n",
    "\n",
    "$$\n",
    "\\begin{equation}\n",
    "\\begin{aligned}\n",
    "    EY &= E(90B_1+100C_1) \\\\\n",
    "    &= 90E(B_1) + 100E(C_1) \\\\\n",
    "    &= 90\\cdot3.5 + 100\\cdot3.5 \\\\\n",
    "    &= 665\n",
    "\\end{aligned}\n",
    "\\end{equation}\n",
    "$$\n",
    "\n",
    "$$\n",
    "\\begin{equation}\n",
    "\\begin{aligned}\n",
    "    Var(Y) &= Var(V_1 + ... + V_{100}) \\\\\n",
    "    &= Var(V_1) + ... + Var(V_{100}) && \\text{var. of sum of independent R.V.s}\\\\\n",
    "    &= 100Var(V_1) && \\text{indep.} \\\\\n",
    "    &= 100Var(0.9B_1 + C_1) \\\\\n",
    "    &= 100[0.9^2Var(B_1) + Var(C_1)] && \\text{indep.} \\\\\n",
    "    &= 81Var(B_1) + 100Var(C_1) \\\\\n",
    "    &= 181Var(B_1) && \\text{identically-dist.} \\\\\n",
    "    &= 181\\Big(\\frac{91}{6} - 3.5^2\\Big) \\\\\n",
    "    &= 527.91\\bar{6} \n",
    "\\end{aligned}\n",
    "\\end{equation}\n",
    "$$\n",
    "\n",
    "Calculate Cov(X,Y) one way, *but for some reason is incorrect*. Not sure why. See below for a different way that actually gets to the right answer.\n",
    "\n",
    "$$\n",
    "\\begin{equation}\n",
    "\\begin{aligned}\n",
    "    Cov(X,Y) &= E(XY) - E(X)E(Y) \\\\\n",
    "    &= E[(X_1 + ... + X_{100})(Y_1 + ... + Y_{100})] - 700\\cdot665 \\\\\n",
    "    &= 10000E(X_1Y_1) - 700\\cdot665 \\\\\n",
    "    &= 10000E[(A_1+B_1)(0.9B_1+C_1)] - 465500 \\\\\n",
    "    &= 10000E[0.9A_1B_1 + A_1C_1 + 0.9B_1^2 + B_1C_1] -465500 \\\\\n",
    "    &= 9000E(A_1B_1) + 10000E(A_1C_1) + 9000E(B_1^2) + 10000E(B_1C_1)- 465500 \\\\\n",
    "    &= 9000E(A_1)E(B_1) + 10000E(A_1)E(C_1) + 9000E(B_1^2) + 10000E(B_1)E(C_1) - 465500 && \\text{independence} \\\\\n",
    "    &= 9000\\cdot3.5^2 + 10000\\cdot3.5^2 + 9000\\cdot\\frac{91}{6}  + 10000\\cdot3.5^2 - 465500 \\\\\n",
    "    &= 29000\\cdot3.5^2+9000\\cdot\\frac{91}{6} - 465500 \\\\\n",
    "    &= 491750 - 465500 \\\\\n",
    "    &= 26250\n",
    "\\end{aligned}\n",
    "\\end{equation}\n",
    "$$\n",
    "\n",
    "Here's a correct way of calculating $Cov(X,Y)$:\n",
    "\n",
    "$$\n",
    "\\begin{equation}\n",
    "\\begin{aligned}\n",
    "    Cov(X,Y) &= Cov(X_1+...+X_100, Y_1+...+Y+100) \\\\\n",
    "    &= 100Cov(X_1,Y_1) && \\text{i.i.d.} \\\\\n",
    "    &= 100\\begin{pmatrix} \n",
    "        X_1 & Y_1\n",
    "        \\end{pmatrix} \\\\\n",
    "\\end{aligned}\n",
    "\\end{equation}\n",
    "$$\n",
    "\n",
    "We can represent $X_1$ and $Y_1$ as a sum of random variables $A_1,B_1,$ and $C_1$:\n",
    "\n",
    "$$\n",
    "\\begin{equation}\n",
    "\\begin{aligned}\n",
    "    &= \\begin{pmatrix} 1 & 1 & 0 \\\\\n",
    "        0 & 0.9 & 1 \\end{pmatrix} \\begin{pmatrix} \n",
    "            A_1 \\\\\n",
    "            B_1 \\\\\n",
    "            C_1 \\\\ \\end{pmatrix} \\\\\n",
    "\\end{aligned}\n",
    "\\end{equation}\n",
    "$$\n",
    "\n",
    "Thus, back to solving $100Cov([X_1,Y_1])$:\n",
    "\n",
    "$$\n",
    "\\begin{equation}\n",
    "\\begin{aligned}\n",
    "    100 \\cdot Cov([X_1,Y_1]) &= 100 \\cdot \\begin{pmatrix} 1 & 1 & 0 \\\\\n",
    "        0 & 0.9 & 1 \\end{pmatrix} \\begin{pmatrix} Var(A_1) & Cov(A_1,B_1) & Cov(A_1,B_1) \\\\\n",
    "            Cov(A_1,B_1) & Var(B_1) & Cov(B_1,C_1) \\\\\n",
    "            Cov(A_1,C_1) & Cov(B_1,C_1) & Var(C_1) \\end{pmatrix}\n",
    "            \\begin{pmatrix}\n",
    "        1 & 0 \\\\\n",
    "        1 & 0.9 \\\\\n",
    "        0 & 1 \\end{pmatrix} \\\\\n",
    "        &= 100\\cdot\\begin{pmatrix} 1 & 1 & 0 \\\\\n",
    "        0 & 0.9 & 1 \\end{pmatrix} \\begin{pmatrix} 2.91\\bar{6} & 0 & 0 \\\\\n",
    "            0 & 2.91\\bar{6} & 0 \\\\\n",
    "            0 & 0 & 2.91\\bar{6} \\end{pmatrix}\n",
    "            \\begin{pmatrix}\n",
    "        1 & 0 \\\\\n",
    "        1 & 0.9 \\\\\n",
    "        0 & 1 \\end{pmatrix} \\\\\n",
    "        &= \\begin{pmatrix} 583.33 & 262.50 \\\\\n",
    "                262.50 & 527.92 \\end{pmatrix}\n",
    "\\end{aligned}\n",
    "\\end{equation}\n",
    "$$\n",
    "\n",
    "Thus the parameters of the bivariate normal distribution are the following. Random mean vector is [700, 665], and the covariance matrix is $\\begin{pmatrix} 583.33 & 262.50 \\\\\n",
    "                262.50 & 527.92\\end{pmatrix}$\n",
    "\n",
    "Direct simulation and analytical integration of the multivariate normal distribution shows that $P(X>650, Y<660) \\approx 0.4$ and $P(Y>1.06X)\\approx0.001$.\n"
   ]
  },
  {
   "cell_type": "code",
   "execution_count": 149,
   "metadata": {
    "collapsed": false
   },
   "outputs": [
    {
     "data": {
      "text/plain": [
       "array([[ 5.833332  ,  2.6249994 ],\n",
       "       [ 2.6249994 ,  5.27916546]])"
      ]
     },
     "execution_count": 149,
     "metadata": {},
     "output_type": "execute_result"
    }
   ],
   "source": [
    "np.array([\n",
    "    [1,1,0],\n",
    "    [0,0.9,1]\n",
    "]).dot([\n",
    "    [2.916666,0,0],\n",
    "    [0,2.916666,0],\n",
    "    [0,0,2.916666]\n",
    "]).dot(np.array([\n",
    "    [1,1,0],\n",
    "    [0,0.9,1]\n",
    "]).T)"
   ]
  },
  {
   "cell_type": "code",
   "execution_count": 162,
   "metadata": {
    "collapsed": false
   },
   "outputs": [],
   "source": [
    "def jack_and_jill(proba_function):\n",
    "    \"\"\" Approximate calculating probability via simulation \"\"\"\n",
    "    possible_dice_values = np.array([1.0, 2.0, 3.0, 4.0, 5.0, 6.0])\n",
    "    results = {'X':[], 'Y':[]}\n",
    "    num_experiments = 100000\n",
    "        \n",
    "    for i in range(num_experiments):  \n",
    "        jill_money = 0.0\n",
    "        jack_money = 0.0\n",
    "        jill_values = []\n",
    "        jack_values = []\n",
    "        \n",
    "        for j in range(100):\n",
    "            a = np.random.choice(possible_dice_values)\n",
    "            b = np.random.choice(possible_dice_values)\n",
    "            c = np.random.choice(possible_dice_values)\n",
    "        \n",
    "            jill_money += a + b\n",
    "            jack_money += 0.9*b + c\n",
    "            \n",
    "            jill_values.append(jill_money)\n",
    "            jack_values.append(jack_money)\n",
    "            \n",
    "        proba_function({\n",
    "            'jill_money': jill_money,\n",
    "            'jack_money': jack_money,\n",
    "            'results': results\n",
    "        })\n",
    "        \n",
    "    return results"
   ]
  },
  {
   "cell_type": "code",
   "execution_count": 163,
   "metadata": {
    "collapsed": true
   },
   "outputs": [],
   "source": [
    "def jack_and_jill_values(args):\n",
    "    args['results']['X'].append(args['jill_money'])\n",
    "    args['results']['Y'].append(args['jack_money'])"
   ]
  },
  {
   "cell_type": "code",
   "execution_count": 225,
   "metadata": {
    "collapsed": false
   },
   "outputs": [],
   "source": [
    "jjv = jack_and_jill(jack_and_jill_values)"
   ]
  },
  {
   "cell_type": "code",
   "execution_count": 165,
   "metadata": {
    "collapsed": false,
    "scrolled": true
   },
   "outputs": [
    {
     "data": {
      "text/plain": [
       "699.91741999999999"
      ]
     },
     "execution_count": 165,
     "metadata": {},
     "output_type": "execute_result"
    }
   ],
   "source": [
    "np.array(jjv['X']).mean()"
   ]
  },
  {
   "cell_type": "code",
   "execution_count": 166,
   "metadata": {
    "collapsed": false,
    "scrolled": true
   },
   "outputs": [
    {
     "data": {
      "text/plain": [
       "664.93402499999968"
      ]
     },
     "execution_count": 166,
     "metadata": {},
     "output_type": "execute_result"
    }
   ],
   "source": [
    "np.array(jjv['Y']).mean()"
   ]
  },
  {
   "cell_type": "code",
   "execution_count": 167,
   "metadata": {
    "collapsed": false,
    "scrolled": true
   },
   "outputs": [
    {
     "data": {
      "text/plain": [
       "582.51056054359981"
      ]
     },
     "execution_count": 167,
     "metadata": {},
     "output_type": "execute_result"
    }
   ],
   "source": [
    "np.array(jjv['X']).var()"
   ]
  },
  {
   "cell_type": "code",
   "execution_count": 168,
   "metadata": {
    "collapsed": false,
    "scrolled": true
   },
   "outputs": [
    {
     "data": {
      "text/plain": [
       "524.24487339937514"
      ]
     },
     "execution_count": 168,
     "metadata": {},
     "output_type": "execute_result"
    }
   ],
   "source": [
    "np.array(jjv['Y']).var()"
   ]
  },
  {
   "cell_type": "code",
   "execution_count": 169,
   "metadata": {
    "collapsed": false,
    "scrolled": true
   },
   "outputs": [
    {
     "data": {
      "text/plain": [
       "260.67309878458036"
      ]
     },
     "execution_count": 169,
     "metadata": {},
     "output_type": "execute_result"
    }
   ],
   "source": [
    "(np.array(jjv['X']) * np.array(jjv['Y'])).mean() - np.array(jjv['X']).mean() *  np.array(jjv['Y']).mean()"
   ]
  },
  {
   "cell_type": "code",
   "execution_count": 170,
   "metadata": {
    "collapsed": false
   },
   "outputs": [
    {
     "data": {
      "text/plain": [
       "array([[ 582.51638571,  260.67570554],\n",
       "       [ 260.67570554,  524.2501159 ]])"
      ]
     },
     "execution_count": 170,
     "metadata": {},
     "output_type": "execute_result"
    }
   ],
   "source": [
    "np.cov(np.array(jjv['X']), np.array(jjv['Y']))"
   ]
  },
  {
   "cell_type": "code",
   "execution_count": 171,
   "metadata": {
    "collapsed": false
   },
   "outputs": [
    {
     "data": {
      "text/plain": [
       "0.00093000000000000005"
      ]
     },
     "execution_count": 171,
     "metadata": {},
     "output_type": "execute_result"
    }
   ],
   "source": [
    "(np.array(jjv['Y']) > np.array(jjv['X']) * 1.06).sum()/ float(len(jjv['Y']))"
   ]
  },
  {
   "cell_type": "code",
   "execution_count": 157,
   "metadata": {
    "collapsed": false
   },
   "outputs": [
    {
     "data": {
      "text/plain": [
       "(0.3934715023195603, 1.4643330187899106e-08)"
      ]
     },
     "execution_count": 157,
     "metadata": {},
     "output_type": "execute_result"
    }
   ],
   "source": [
    "def bivariate_jack_and_jill_analytical(y,x):\n",
    "    \"\"\" y is Jack's payoff, x is Jill's payoff \"\"\"\n",
    "    return multivariate_normal.pdf(\n",
    "        [x,y],\n",
    "        mean=[700.0, 665.0],\n",
    "        cov=np.array([\n",
    "            [ 583.33,  262.50 ],\n",
    "            [ 262.50 , 527.92 ]\n",
    "        ])\n",
    "    )\n",
    "\n",
    "\n",
    "def bivariate_jack_and_jill_est_from_sim(y,x):\n",
    "    \"\"\" y is Jack's payoff, x is Jill's payoff \"\"\"\n",
    "    return multivariate_normal.pdf(\n",
    "        [x,y],\n",
    "        mean=[700.19069999999999, 665.22900999999979],\n",
    "        cov=np.array([\n",
    "            [ 591.36206972,  262.50  ],\n",
    "            [ 262.712119  ,  527.92 ]\n",
    "        ])\n",
    "    )\n",
    "\n",
    "# P(X>650, Y<660)\n",
    "\n",
    "dblquad(\n",
    "    bivariate_jack_and_jill_est_from_sim,\n",
    "    a=650,\n",
    "    b=np.inf,\n",
    "    gfun=lambda x: 0,\n",
    "    hfun=lambda x: 660\n",
    ")"
   ]
  },
  {
   "cell_type": "code",
   "execution_count": 158,
   "metadata": {
    "collapsed": false
   },
   "outputs": [
    {
     "data": {
      "text/plain": [
       "(0.39749484924534484, 1.444891998506493e-08)"
      ]
     },
     "execution_count": 158,
     "metadata": {},
     "output_type": "execute_result"
    }
   ],
   "source": [
    "dblquad(\n",
    "    bivariate_jack_and_jill_analytical,\n",
    "    a=650,\n",
    "    b=np.inf,\n",
    "    gfun=lambda x: 0,\n",
    "    hfun=lambda x: 660\n",
    ")"
   ]
  },
  {
   "cell_type": "code",
   "execution_count": 153,
   "metadata": {
    "collapsed": false
   },
   "outputs": [],
   "source": [
    "def calculate_proba_X_gt_660_Y_lt_sampling_mvn():\n",
    "    size = 10000\n",
    "    multiv = np.random.multivariate_normal(\n",
    "        mean=[700.0, 665.0],\n",
    "        cov=np.array([\n",
    "            [ 583.33,  262.50 ],\n",
    "            [ 262.50 , 527.92 ]\n",
    "        ]),\n",
    "        size=size\n",
    "    )\n",
    "    \n",
    "    return ((multiv.T[0] > 650) * (multiv.T[1] < 660)).sum() / size"
   ]
  },
  {
   "cell_type": "code",
   "execution_count": 154,
   "metadata": {
    "collapsed": false
   },
   "outputs": [
    {
     "data": {
      "text/plain": [
       "0.40079999999999999"
      ]
     },
     "execution_count": 154,
     "metadata": {},
     "output_type": "execute_result"
    }
   ],
   "source": [
    "calculate_proba_X_gt_660_Y_lt_sampling_mvn()"
   ]
  },
  {
   "cell_type": "code",
   "execution_count": 138,
   "metadata": {
    "collapsed": false
   },
   "outputs": [
    {
     "data": {
      "text/plain": [
       "(4.05738918013316e-19, 8.02172083289793e-19)"
      ]
     },
     "execution_count": 138,
     "metadata": {},
     "output_type": "execute_result"
    }
   ],
   "source": [
    "# P(Y > 1.06X)\n",
    "dblquad(\n",
    "    bivariate_jack_and_jill_est_from_sim,\n",
    "    a=0,\n",
    "    b=np.inf,\n",
    "    gfun=lambda x: 1.06*x,\n",
    "    hfun=lambda x: np.inf\n",
    ")"
   ]
  },
  {
   "cell_type": "code",
   "execution_count": 161,
   "metadata": {
    "collapsed": false
   },
   "outputs": [
    {
     "data": {
      "text/plain": [
       "(2.2742811873287656e-19, 4.496401003283657e-19)"
      ]
     },
     "execution_count": 161,
     "metadata": {},
     "output_type": "execute_result"
    }
   ],
   "source": [
    "# P(Y > 1.06X)\n",
    "dblquad(\n",
    "    bivariate_jack_and_jill_analytical,\n",
    "    a=0,\n",
    "    b=np.inf,\n",
    "    gfun=lambda x: 1.06*x,\n",
    "    hfun=lambda x: np.inf\n",
    ")"
   ]
  },
  {
   "cell_type": "code",
   "execution_count": 155,
   "metadata": {
    "collapsed": false
   },
   "outputs": [],
   "source": [
    "def calculate_proba_Y_gt_106X():\n",
    "    size = 10000\n",
    "    multiv = np.random.multivariate_normal(\n",
    "        mean=[700.0, 665.0],\n",
    "        cov=np.array([\n",
    "            [ 583.33,  262.50 ],\n",
    "            [ 262.50 , 527.92 ]\n",
    "        ]),\n",
    "        size=size\n",
    "    )\n",
    "    \n",
    "    return (multiv.T[1] > (multiv.T[0] * 1.06)).sum() / size  "
   ]
  },
  {
   "cell_type": "code",
   "execution_count": 156,
   "metadata": {
    "collapsed": false
   },
   "outputs": [
    {
     "data": {
      "text/plain": [
       "0.0011999999999999999"
      ]
     },
     "execution_count": 156,
     "metadata": {},
     "output_type": "execute_result"
    }
   ],
   "source": [
    "calculate_proba_Y_gt_106X()"
   ]
  },
  {
   "cell_type": "markdown",
   "metadata": {},
   "source": [
    "### 8. Consider the coin game in Section 4.8. Find $F_{X_3,Y_3}(0,0)$"
   ]
  },
  {
   "cell_type": "markdown",
   "metadata": {},
   "source": [
    "$X_3$ is the number of heads Jack has gotten through his 3rd toss. Similarly, $Y_3$ is the number of heads Jill has gotten through his 3rd toss. Jack gets a headstart of two turns.\n",
    "\n",
    "$$\n",
    "\\begin{equation}\n",
    "\\begin{aligned}\n",
    "    F_{X_3,Y_3}(0,0) &= \\sum_{i=0}^0 \\sum_{j=0}^0 P(X_3=i, Y_3=j) \\\\\n",
    "    &= P(X_3=0, Y_3=0) \\\\\n",
    "    &= P(X_3=0)P(Y_3=0) && \\text{independent} \\\\\n",
    "    &= {3 \\choose 0}(0.5)^0(1-0.5)^{3-0} \\cdot {1 \\choose 0}(0.5)^0(1-0.5)^{1-0} \\\\\n",
    "    &= 0.0625\n",
    "\\end{aligned}\n",
    "\\end{equation}\n",
    "$$\n"
   ]
  },
  {
   "cell_type": "code",
   "execution_count": 172,
   "metadata": {
    "collapsed": true
   },
   "outputs": [],
   "source": [
    "def simulate_coin_toss_jack_jill():\n",
    "    size=10000\n",
    "    X = np.random.binomial(n=3,p=0.5,size=size)\n",
    "    Y = np.random.binomial(n=1,p=0.5,size=size)\n",
    "    \n",
    "    return ((X == 0) * (Y==0)).sum() / size\n",
    "    "
   ]
  },
  {
   "cell_type": "code",
   "execution_count": 173,
   "metadata": {
    "collapsed": false
   },
   "outputs": [
    {
     "data": {
      "text/plain": [
       "0.062100000000000002"
      ]
     },
     "execution_count": 173,
     "metadata": {},
     "output_type": "execute_result"
    }
   ],
   "source": [
    "simulate_coin_toss_jack_jill()"
   ]
  },
  {
   "cell_type": "markdown",
   "metadata": {},
   "source": [
    "### 9. Suppose the random vector $X=(X_1, X_2, X_3)'$ has mean (2.0, 3.0, 8.2)' and covariance matrix $\\begin{pmatrix} 1 & 0.4 & -0.2 \\\\ & 1 & 0.25 \\\\ & & 3 \\end{pmatrix}$"
   ]
  },
  {
   "cell_type": "markdown",
   "metadata": {},
   "source": [
    "#### (a) Fill in the missing entries.\n",
    "\n",
    "$$\n",
    "\\begin{equation}\n",
    "\\begin{aligned}\n",
    "    \\begin{pmatrix} 1 & 0.4 & -0.2 \\\\ 0.4 & 1 & 0.25 \\\\ -0.2 & 0.25 & 3 \\end{pmatrix}\n",
    "\\end{aligned}\n",
    "\\end{equation}\n",
    "$$\n"
   ]
  },
  {
   "cell_type": "markdown",
   "metadata": {},
   "source": [
    "#### (b) Find $Cov(X_1,X_3)$\n",
    "\n",
    "$$\n",
    "\\begin{equation}\n",
    "\\begin{aligned}\n",
    "    Cov(X_1,X_3) &= -0.2\n",
    "\\end{aligned}\n",
    "\\end{equation}\n",
    "$$"
   ]
  },
  {
   "cell_type": "markdown",
   "metadata": {},
   "source": [
    "#### (c) Find $\\rho(X_2, X_3)$.\n",
    "\n",
    "$$\n",
    "\\begin{equation}\n",
    "\\begin{aligned}\n",
    "    \\rho(X_2,X_3) &= \\frac{Cov(X_2,X_3)}{\\sqrt{Var(X_2)Var(X_3)}} \\\\\n",
    "    &= \\frac{0.25}{\\sqrt{1\\cdot3}} \\\\\n",
    "    &= \\frac{0.25}{\\sqrt{3}}\n",
    "\\end{aligned}\n",
    "\\end{equation}\n",
    "$$\n"
   ]
  },
  {
   "cell_type": "markdown",
   "metadata": {},
   "source": [
    "#### (d) Find $Var(X_3)$.\n",
    "$$\n",
    "\\begin{equation}\n",
    "\\begin{aligned}\n",
    "    Var(X_3) &= 3\n",
    "\\end{aligned}\n",
    "\\end{equation}\n",
    "$$\n"
   ]
  },
  {
   "cell_type": "markdown",
   "metadata": {},
   "source": [
    "#### (e) Find the covariance matrix of $(X_1 + X_2, X_2 + X_3)'$.\n",
    "\n",
    "$$\n",
    "\\begin{equation}\n",
    "\\begin{aligned}\n",
    "    [X_1+X_2, X_2+X_3] &= \\begin{pmatrix} \n",
    "                                1 & 1 & 0 \\\\ \n",
    "                                0 & 1 & 1 \\\\\n",
    "                          \\end{pmatrix} \\cdot \\begin{pmatrix} X_1 \\\\ X_2 \\\\ X_3 \\end{pmatrix} \\\\\n",
    "    Cov(X_1+X_2, X_2+X_3) &= \\begin{pmatrix} \n",
    "                                1 & 1 & 0 \\\\ \n",
    "                                0 & 1 & 1 \\\\\n",
    "                          \\end{pmatrix} \\cdot \n",
    "                          \\begin{pmatrix} Var(X_1) & Cov(X_1,X_2) & Cov(X_1,X_3) \\\\\n",
    "                                          Cov(X_1,X_2) & Var(X_2) & Cov(X_2,X_3) \\\\\n",
    "                                          Cov(X_1,X_3) & Cov(X_1,X_2) & Cov(X_3,Y_3) \\\\\n",
    "                          \\end{pmatrix} \\cdot\n",
    "                          \\begin{pmatrix} \n",
    "                                1 & 1 & 0 \\\\ \n",
    "                                0 & 1 & 1 \\\\\n",
    "                          \\end{pmatrix}^T \\\\\n",
    "                          &= \\begin{pmatrix} \n",
    "                                1 & 1 & 0 \\\\ \n",
    "                                0 & 1 & 1 \\\\\n",
    "                          \\end{pmatrix} \\cdot \n",
    "                          \\begin{pmatrix} 1 & 0.4 & -0.2 \\\\ 0.4 & 1 & 0.25 \\\\ -0.2 & 0.25 & 3 \\end{pmatrix} \\cdot\n",
    "                          \\begin{pmatrix} \n",
    "                                1 & 1 & 0 \\\\ \n",
    "                                0 & 1 & 1 \\\\\n",
    "                          \\end{pmatrix}^T \\\\       \n",
    "                          &= \\begin{pmatrix} 2.8 & 1.45 \\\\\n",
    "                          1.45 & 4.5 \\\\\n",
    "                          \\end{pmatrix} \\\\\n",
    "\\end{aligned}\n",
    "\\end{equation}\n",
    "$$\n"
   ]
  },
  {
   "cell_type": "code",
   "execution_count": 174,
   "metadata": {
    "collapsed": false
   },
   "outputs": [
    {
     "data": {
      "text/plain": [
       "array([[ 2.8 ,  1.45],\n",
       "       [ 1.45,  4.5 ]])"
      ]
     },
     "execution_count": 174,
     "metadata": {},
     "output_type": "execute_result"
    }
   ],
   "source": [
    "np.array([\n",
    "    [1,1,0],\n",
    "    [0,1,1]\n",
    "]).dot([\n",
    "    [1, 0.4, -0.2],\n",
    "    [0.4, 1, 0.25],\n",
    "    [-0.2, 0.25, 3]\n",
    "]).dot(np.array([\n",
    "    [1,1,0],\n",
    "    [0,1,1]\n",
    "]).T)"
   ]
  },
  {
   "cell_type": "markdown",
   "metadata": {},
   "source": [
    "#### (f) If in addition we know that $X_1$ has a normal distribution, find $P(1<X_1<2.5)$, in terms of $\\phi()$."
   ]
  },
  {
   "cell_type": "markdown",
   "metadata": {},
   "source": [
    "$\\phi$ assumes $N(0,1)$, so we need to convert lower- and upper-bound limits to Z-scores. $\\mu = 2$ and $\\sigma^2 = 1$. \n",
    "\n",
    "Let $Z_l, Z_m$ represent the lower-bound and upper-bound $Z$-scores.\n",
    "\n",
    "$$\n",
    "\\begin{equation}\n",
    "\\begin{aligned}\n",
    "    Z_l &= \\frac{X_l-\\mu}{\\sigma} \\\\\n",
    "    &= \\frac{1-2}{1} \\\\\n",
    "    &= -1\n",
    "\\end{aligned}\n",
    "\\end{equation}\n",
    "$$\n",
    "\n",
    "$$\n",
    "\\begin{equation}\n",
    "\\begin{aligned}\n",
    "    Z_m &= \\frac{X_m-\\mu}{\\sigma} \\\\\n",
    "    &= \\frac{2.5-2}{1} \\\\\n",
    "    &= 0.5\n",
    "\\end{aligned}\n",
    "\\end{equation}\n",
    "$$\n",
    "\n",
    "Thus, \n",
    "\n",
    "$$\n",
    "\\begin{equation}\n",
    "\\begin{aligned}\n",
    "    P(1<X_1<2.5) &= \\int_{-1}^{0.5} N(0,1) \\\\\n",
    "    &\\approx 0.533\\\\\n",
    "\\end{aligned}\n",
    "\\end{equation}\n",
    "$$\n"
   ]
  },
  {
   "cell_type": "code",
   "execution_count": 176,
   "metadata": {
    "collapsed": false,
    "scrolled": true
   },
   "outputs": [
    {
     "data": {
      "text/plain": [
       "0.53280720734255604"
      ]
     },
     "execution_count": 176,
     "metadata": {},
     "output_type": "execute_result"
    }
   ],
   "source": [
    "# transformed\n",
    "norm.cdf(0.5, loc=0, scale=1) - norm.cdf(-1, loc=0, scale=1) "
   ]
  },
  {
   "cell_type": "code",
   "execution_count": 177,
   "metadata": {
    "collapsed": false,
    "scrolled": true
   },
   "outputs": [
    {
     "data": {
      "text/plain": [
       "0.53280720734255604"
      ]
     },
     "execution_count": 177,
     "metadata": {},
     "output_type": "execute_result"
    }
   ],
   "source": [
    "# non-transformed\n",
    "norm.cdf(2.5, loc=2, scale=1) - norm.cdf(1, loc=2, scale=1) "
   ]
  },
  {
   "cell_type": "markdown",
   "metadata": {},
   "source": [
    "#### (g) Consider the random variable $W=X_1+X_2$. Which of the following is true? _(i)_ $Var(W) = Var(X_1 + X_2)$. _(ii)_ $Var(W) > Var(X_1+X_2)$.  _(iii)_ $Var(W) < Var(X_1+X_2)$. _(iv)_  In order to determine which of the variances is the larger one, we would need to know whether the variables $X_i$ have a multivariate normal distribution. _(v)_ $Var(X_1 + X_2)$ does not exist."
   ]
  },
  {
   "cell_type": "markdown",
   "metadata": {},
   "source": [
    "_(i)_ is correct due to substitution."
   ]
  },
  {
   "cell_type": "markdown",
   "metadata": {},
   "source": [
    "## 10. Find the (approximate) output of this R code, by using the analytical techniques of this chapter:\n",
    "\n",
    "```\n",
    "count <- 0\n",
    "for (i in 1:10000) {\n",
    "    count1 <- 0\n",
    "    count2 <- 0\n",
    "    count3 <- 0\n",
    "    for (j in 1:20) {\n",
    "        x <- runif(1)\n",
    "        if (x < 0.2) {\n",
    "            count1 <- count1 + 1\n",
    "        } else if (x < 0.6) count2 <- count2 + 1 else\n",
    "                count3 <- count3 + 1\n",
    "    }\n",
    "    if (count1 == 9 && count2 == 2 && count3 == 9) count <- count + 1\n",
    "}\n",
    "cat(count/10000)\n",
    "```"
   ]
  },
  {
   "cell_type": "markdown",
   "metadata": {},
   "source": [
    "$$\n",
    "\\begin{equation}\n",
    "\\begin{aligned}\n",
    "    P(X=9,Y=2,9=3) &= \\frac{20!}{9!2!9!}0.2^9\\cdot0.4^2\\cdot0.4^9\n",
    "\\end{aligned}\n",
    "\\end{equation}\n",
    "$$"
   ]
  },
  {
   "cell_type": "code",
   "execution_count": 190,
   "metadata": {
    "collapsed": false
   },
   "outputs": [
    {
     "data": {
      "text/plain": [
       "0.00019838024443494422"
      ]
     },
     "execution_count": 190,
     "metadata": {},
     "output_type": "execute_result"
    }
   ],
   "source": [
    "factorial(20) / (factorial(9)*factorial(2)*factorial(9))*0.2**9*0.4**2*0.4**9"
   ]
  },
  {
   "cell_type": "code",
   "execution_count": 191,
   "metadata": {
    "collapsed": true
   },
   "outputs": [],
   "source": [
    "def simulate_10():\n",
    "    count = 0\n",
    "    size=10000\n",
    "    \n",
    "    for i in range(size):\n",
    "        count_1 = 0\n",
    "        count_2 = 0\n",
    "        count_3 = 0\n",
    "        \n",
    "        samples = np.random.uniform(size=20)\n",
    "        count_1 += (samples < 0.2).sum()\n",
    "        count_2 += ((samples > 0.2) * (samples < 0.6)).sum()\n",
    "        count_3 += (samples > 0.6).sum()\n",
    "        \n",
    "        if (count_1 == 9 and count_2 == 2 and count_3 == 9):\n",
    "            count += 1\n",
    "    \n",
    "    return count / size"
   ]
  },
  {
   "cell_type": "code",
   "execution_count": 192,
   "metadata": {
    "collapsed": false
   },
   "outputs": [
    {
     "data": {
      "text/plain": [
       "0.0001"
      ]
     },
     "execution_count": 192,
     "metadata": {},
     "output_type": "execute_result"
    }
   ],
   "source": [
    "simulate_10()"
   ]
  },
  {
   "cell_type": "markdown",
   "metadata": {},
   "source": [
    "### 11. Use the convolution formula (13.52) to derive (7.46) for the case $r=2$. Explain your steps carefully!"
   ]
  },
  {
   "cell_type": "markdown",
   "metadata": {},
   "source": [
    "$$\n",
    "\\begin{equation}\n",
    "\\begin{aligned}\n",
    "    f_{T_r}(t) &= \\frac{1}{(r-1)!}\\lambda^r t^{r-1} e^{-\\lambda t} \\\\\n",
    "    f_{T_2}(t) &= \\frac{1}{(2-1)!}\\lambda^2 t^{2-1} e^{-\\lambda t} && \\text{subs. $r=2$}\\\\\n",
    "    &= \\lambda^2 t e^{-\\lambda t} \n",
    "\\end{aligned}\n",
    "\\end{equation}\n",
    "$$\n",
    "\n",
    "$$\n",
    "\\begin{equation}\n",
    "\\begin{aligned}\n",
    "    T_r &= X_1 + ... X_r \\\\\n",
    "    T_2 &= X_1 + X_2 \\\\\n",
    "    f_{T_2}(t) &= \\int_0^t f_{X_1}(s) f_{X_2}(t-s) ds && \\text{Sum of i.i.d R.V.s is convolution of two densities}\\\\\n",
    "    &= \\int_0^t \\lambda e^{-\\lambda \\cdot s} \\cdot \\lambda e^{-\\lambda \\cdot (t-s)} ds\\\\\n",
    "    &= \\int_0^t \\lambda^2 e^{-\\lambda t} ds\\\\\n",
    "    &= \\lambda^2 e^{-\\lambda t} s\\big|_{0}^{t} \\\\\n",
    "    &= \\lambda^2 e^{-\\lambda t} t\n",
    "\\end{aligned}\n",
    "\\end{equation}\n",
    "$$\n"
   ]
  },
  {
   "cell_type": "markdown",
   "metadata": {},
   "source": [
    "### 12. The book, _Last Man Standing_, author D. McDonald writes the following about the practice of combining many mortgage loans into a single package sold to investors:\n",
    "\n",
    "    Even if every single [loan] in the [package] had a 30-percent risk of default, the thinking went, the odds that most of them would default at once were arguably infinitesimal...What [this argument] missed was the auto-synchronous relationship of many loans...[If several of them] are all mortgage for houses sitting next to each other on a beach...one strong hurricane and the [loan package] would be decimated.\n",
    "    \n",
    "Fill in the blank with a term from this book: The author is referring to an unwarranted assumption of _____________.\n",
    "\n",
    "Ans: independence"
   ]
  },
  {
   "cell_type": "markdown",
   "metadata": {},
   "source": [
    "### 13. Consider the computer worm example in Section 9.3.1. Let $R$ denote the time it takes to go from state 1 to state 3. Find $f_R(v)$. (Leave your answer in integral form.)"
   ]
  },
  {
   "cell_type": "markdown",
   "metadata": {},
   "source": [
    "$$\n",
    "\\begin{equation}\n",
    "\\begin{aligned}\n",
    "    f_R(v) &= \\int_1^3 \\frac{1}{v(g-v)}dv\n",
    "\\end{aligned}\n",
    "\\end{equation}\n",
    "$$\n"
   ]
  },
  {
   "cell_type": "markdown",
   "metadata": {},
   "source": [
    "### 14. Suppose (X,Y) has a bivariate normal distribution, with $EX = EY = 0, Var(X)=Var(Y)=1$,  and $\\rho(X,Y)=0.2$. Find the following, leaving your answers in integral form:"
   ]
  },
  {
   "cell_type": "markdown",
   "metadata": {},
   "source": [
    "#### (a) $E(X^2 + XY^{0.5})$"
   ]
  },
  {
   "cell_type": "markdown",
   "metadata": {},
   "source": [
    "$$\n",
    "\\begin{equation}\n",
    "\\begin{aligned}\n",
    "    E(X^2 + XY^{0.5}) &= E(X^2) + E(XY^{0.5}) && \\text{linearity of expectations} \\\\\n",
    "    &= \\int_{-\\infty}^{\\infty}x^2f_X(x)dx + \\int_{-\\infty}^{\\infty}\\int_{-\\infty}^{\\infty}xy^{0.5}f_{X,Y}(x,y)dxdy \\\\\n",
    "    &= \\int_{-\\infty}^{\\infty}x^2 \\frac{e^{-x^2}}{ \\sqrt{2\\pi}}dx + \n",
    "        \\int_{-\\infty}^{\\infty}\\int_{-\\infty}^{\\infty}\n",
    "        xy^{0.5} \\frac{e^{-\\frac{\n",
    "            x^2+y^2-0.4xy\n",
    "        }{\n",
    "            2\\sqrt{0.96}\n",
    "        }}}{2\\pi\\sqrt{0.96}} dxdy\n",
    "\\end{aligned}\n",
    "\\end{equation}\n",
    "$$\n"
   ]
  },
  {
   "cell_type": "markdown",
   "metadata": {},
   "source": [
    "#### (b) $P(Y>0.5X)$"
   ]
  },
  {
   "cell_type": "markdown",
   "metadata": {},
   "source": [
    "$$\n",
    "\\begin{equation}\n",
    "\\begin{aligned}\n",
    "    P(Y>0.5X) &= \\int_{0.5x}^{\\infty}\\int_{-\\infty}^{\\infty}\n",
    "        \\frac{e^{-\\frac{\n",
    "            x^2+y^2-0.4xy\n",
    "        }{\n",
    "            2\\sqrt{0.96}\n",
    "        }}}{2\\pi\\sqrt{0.96}} dxdy\n",
    "\\end{aligned}\n",
    "\\end{equation}\n",
    "$$\n"
   ]
  },
  {
   "cell_type": "markdown",
   "metadata": {},
   "source": [
    "#### (c) $F_{X,Y}(0.6, 0.2)$"
   ]
  },
  {
   "cell_type": "markdown",
   "metadata": {},
   "source": [
    "$$\n",
    "\\begin{equation}\n",
    "\\begin{aligned}\n",
    "    F_{X,Y}(0.6, 0.2) &= \\int_{-\\infty}^{0.2}\\int_{-\\infty}^{0.6}\n",
    "        \\frac{e^{-\\frac{\n",
    "            x^2+y^2-0.4xy\n",
    "        }{\n",
    "            2\\sqrt{0.96}\n",
    "        }}}{2\\pi\\sqrt{0.96}} dxdy\n",
    "\\end{aligned}\n",
    "\\end{equation}\n",
    "$$\n"
   ]
  },
  {
   "cell_type": "code",
   "execution_count": null,
   "metadata": {
    "collapsed": true
   },
   "outputs": [],
   "source": []
  }
 ],
 "metadata": {
  "kernelspec": {
   "display_name": "Python 3",
   "language": "python",
   "name": "python3"
  },
  "toc": {
   "colors": {
    "hover_highlight": "#DAA520",
    "navigate_num": "#000000",
    "navigate_text": "#333333",
    "running_highlight": "#FF0000",
    "selected_highlight": "#FFD700",
    "sidebar_border": "#EEEEEE",
    "wrapper_background": "#FFFFFF"
   },
   "moveMenuLeft": true,
   "nav_menu": {
    "height": "82px",
    "width": "254px"
   },
   "navigate_menu": true,
   "number_sections": false,
   "sideBar": true,
   "threshold": "5",
   "toc_cell": false,
   "toc_position": {
    "height": "1150px",
    "left": "0px",
    "right": "1900px",
    "top": "44px",
    "width": "260px"
   },
   "toc_section_display": "block",
   "toc_window_display": true,
   "widenNotebook": false
  }
 },
 "nbformat": 4,
 "nbformat_minor": 2
}
