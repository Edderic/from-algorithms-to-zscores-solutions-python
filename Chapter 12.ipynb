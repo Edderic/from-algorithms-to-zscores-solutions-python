{
 "cells": [
  {
   "cell_type": "markdown",
   "metadata": {},
   "source": [
    "# Chapter 12 - Covariance and Random Vectors"
   ]
  },
  {
   "cell_type": "code",
   "execution_count": 2,
   "metadata": {
    "collapsed": true
   },
   "outputs": [],
   "source": [
    "import numpy as np"
   ]
  },
  {
   "cell_type": "markdown",
   "metadata": {},
   "source": [
    "## Exercises"
   ]
  },
  {
   "cell_type": "markdown",
   "metadata": {},
   "source": [
    "### 1. Suppose the pair $(X,Y)'$ has mean vector $(0,2)$ and covariance matrix $\\begin{pmatrix} 1 & 2 \\\\ 2 & 6 \\end{pmatrix}$. Find the covariance matrix of the pair $U = (X+Y, X-2Y)'$"
   ]
  },
  {
   "cell_type": "markdown",
   "metadata": {},
   "source": [
    "### Ans\n",
    "\n",
    "$$\n",
    "\\begin{equation}\n",
    "    \\begin{aligned}\n",
    "        U &= \\begin{pmatrix} \n",
    "            X+Y \\\\\n",
    "            X-2Y\n",
    "            \\end{pmatrix} \\\\\n",
    "        &= \\begin{pmatrix} \n",
    "            1 & 1 \\\\\n",
    "            1 & -2\n",
    "            \\end{pmatrix} \\begin{pmatrix}\n",
    "            X \\\\\n",
    "            Y\n",
    "            \\end{pmatrix} \\\\\n",
    "        &= AW \\\\\n",
    "        \\text{Cov}(AW) &= A\\text{Cov}(W)A' \\\\\n",
    "        &= \\begin{pmatrix} \n",
    "            1 & 1 \\\\\n",
    "            1 & -2\n",
    "            \\end{pmatrix} \\begin{pmatrix}\n",
    "            1 & 2 \\\\\n",
    "            2 & 6 \\\\\n",
    "            \\end{pmatrix} \\begin{pmatrix} \n",
    "            1 & 1 \\\\\n",
    "            1 & -2\n",
    "            \\end{pmatrix} \\\\\n",
    "        &= \\begin{pmatrix} \n",
    "            11 & -13\\\\\n",
    "            -13 & 17\n",
    "            \\end{pmatrix}\n",
    "    \\end{aligned}\n",
    "\\end{equation}\n",
    "$$"
   ]
  },
  {
   "cell_type": "code",
   "execution_count": 3,
   "metadata": {
    "collapsed": false
   },
   "outputs": [
    {
     "data": {
      "text/plain": [
       "array([[ 11, -13],\n",
       "       [-13,  17]])"
      ]
     },
     "execution_count": 3,
     "metadata": {},
     "output_type": "execute_result"
    }
   ],
   "source": [
    "np.array([\n",
    "        [1, 1], \n",
    "        [1, -2]\n",
    "    ]).dot([\n",
    "        [1, 2], \n",
    "        [2, 6]\n",
    "    ]).dot([\n",
    "        [1, 1], \n",
    "        [1, -2]\n",
    "    ])"
   ]
  },
  {
   "cell_type": "raw",
   "metadata": {},
   "source": []
  },
  {
   "cell_type": "markdown",
   "metadata": {},
   "source": [
    "### 2. Show that $$ \\rho (aX+b,cY+d) = \\rho(X,Y) $$  for any constants a,b,c and d.\n",
    "\n",
    "$$\n",
    "\\begin{equation}\n",
    "\\begin{aligned}\n",
    "    \\rho(X,Y) &= \\frac{\\text{Cov}(X,Y)}{\\sqrt{\\text{Var}(X)}\\sqrt{\\text{Var}(Y)}} \\\\\n",
    "    &= \\frac{E(XY)-E(X)E(Y)}{\n",
    "        \\sqrt{E(X^2)-E(X)^2}\\sqrt{E(Y^2)-E(Y)^2}\n",
    "       } \\\\\n",
    "    \\rho(aX+b,cY+d) &= \\frac{\\text{Cov}(aX+b,cY+d)}{\\sqrt{\\text{Var}(aX+b)}\\sqrt{\\text{Var}(cY+d)}} \\\\\n",
    "\\end{aligned}\n",
    "\\end{equation}\n",
    "$$"
   ]
  },
  {
   "cell_type": "markdown",
   "metadata": {},
   "source": [
    "### 3. Suppose $X$, $Y$ and $Z$ are \"i.i.d.\" (independent, identically distributed) random variables, with $E(X^k)$ being denoted by $v_k$, $k = 1,2,3$. Find $Cov(XY,XZ)$ in terms of the $v_k$.\n",
    "\n",
    "$$\n",
    "\\begin{equation}\n",
    "\\begin{aligned}\n",
    "    Cov(XY, XZ) &= E(XYXZ) - E(XY)E(XZ) \\\\\n",
    "    &= E(X^2YZ) - E(X)E(Y)E(X)E(Z) && \\text{X & Y, X & Z are independent} \\\\\n",
    "    &= E(X^2)E(YZ) - E(X)^2E(Y)E(Z) && \\text{independence} \\\\\n",
    "    &= E(X^2)E(Y)E(Z) - E(X)^2E(Y)E(Z) && \\text{independence} \\\\\n",
    "    &= (E(X^2) - E(X)^2)E(Y)E(Z) \\\\\n",
    "    &= (E(X^2) - E(X)^2)E(X)E(X) && \\text{identically-distributed assumption} \\\\\n",
    "    &= (E(X^2) - E(X)^2)E(X)^2 \\\\\n",
    "    &= (v_2 - v_1^2)v_1^2\n",
    "\\end{aligned}\n",
    "\\end{equation}\n",
    "$$"
   ]
  },
  {
   "cell_type": "markdown",
   "metadata": {},
   "source": [
    "### 4. Using the properties of covariance in Section 12.1.1, show that for any random variables $X$ and $Y$, $Cov(X+Y,X-Y) = Var(X) - Var(Y)$."
   ]
  },
  {
   "cell_type": "markdown",
   "metadata": {},
   "source": [
    "$$\n",
    "\\begin{equation}\n",
    "\\begin{aligned}\n",
    "    Cov(X+Y,X-Y) &= E[(X+Y)(X-Y)] - E(X+Y)E(X-Y) \\\\\n",
    "    &= E(X^2-Y^2)-[(EX + EY)(EX-EY)] \\\\\n",
    "    &= E(X^2-Y^2)-[E(X)^2-E(Y)^2] \\\\\n",
    "    &= E(X^2) - E(X)^2 - [E(Y^2) - E(Y)^2] \\\\\n",
    "    &= Var(X) - Var(Y)\n",
    "\\end{aligned}\n",
    "\\end{equation}\n",
    "$$\n"
   ]
  },
  {
   "cell_type": "markdown",
   "metadata": {},
   "source": [
    "### 5. Suppose we wish to predict a random variable Y by using another random variable, $X$. We may consider predictors of the form $cX + d$ for constants $c$ and $d$. Show that the values of $c$ and $d$ that minimize the mean squared prediction error, $E[(Y-cX-d)^2]$ are $c = \\frac{E(XY) - EX \\cdot EY}{Var(X)}$, $d = \\frac{E(X^2)EY - EX \\cdot E(XY)}{Var(X)}$\n",
    "\n",
    "$$\n",
    "\\begin{equation}\n",
    "\\begin{aligned}\n",
    "    E[(Y-cX-d)^2] &= E\\big(\\big[Y - X\\frac{Cov(X,Y)}{Var(X)} - \\frac{E(X^2) \\cdot EY - EX \\cdot E(XY)}{Var(X)}\\big]^2\\big) && \\text{substitute, use defn. of Cov} \\\\\n",
    "    &= E\\big(\\big[Y - X\\frac{Cov(X,Y)}{Var(X)} - \\frac{E(X^2) \\cdot EY - EX \\cdot (Cov(X,Y) + EX \\cdot EY)}{Var(X)}\\big]^2\\big) && \\text{substitute } E(XY) = Cov(X,Y) - E(X)E(Y) \\\\\n",
    "    &= E\\big(\\big[Y - X\\frac{Cov(X,Y)}{Var(X)} - \\frac{E(X^2) \\cdot EY - EX \\cdot Cov(X,Y) - E(X)^2 \\cdot EY)}{Var(X)}\\big]^2\\big) \\\\\n",
    "    &= E\\big(\\big[Y - X\\frac{Cov(X,Y)}{Var(X)} - \\frac{[E(X^2) - E(X)^2 ] \\cdot EY - EX \\cdot Cov(X,Y)}{Var(X)}\\big]^2\\big) && \\text{regroup} \\\\ \n",
    "    &= E\\big(\\big[Y - X\\frac{Cov(X,Y)}{Var(X)} - \\frac{Var(X) \\cdot EY - EX \\cdot Cov(X,Y)}{Var(X)}\\big]^2\\big) && \\text{definition of Var(X)} \\\\ \n",
    "    &= E\\big(\\big[Y - EY - X\\frac{Cov(X,Y)}{Var(X)} + \\frac{ EX \\cdot Cov(X,Y)}{Var(X)}\\big]^2\\big) && \\text{simplify} \\\\\n",
    "    &= E\\big(\\big[Y - EY + \\frac{(EX-X)Cov(X,Y)}{Var(X)} \\big]^2\\big) && \\text{simplify} \\\\\n",
    "    &= E\\big(Y^2 - Y \\cdot EY - \\frac{Y(X-EX)(Cov(X,Y))}{Var(X)}- Y \\cdot EY + E(Y)^2 + \\frac{EY(X-EX)Cov(X,Y)}{Var(X)} \\\\ &\\quad - \\frac{Y(X-EX)Cov(X,Y)}{Var(X)} + \\frac{EY(X-EX)Cov(X,Y)}{Var(X)} + \\frac{Y(X-EX)(Cov(X,Y))}{Var(X)} \\big) && \\text{distribute} \\\\\n",
    "    &= E(Y^2) - 2E(Y)^2 - \\frac{2(E(YX) - EY \\cdot EX)Cov(X,Y)}{Var(X)} + E(Y)^2 \\\\ &\\quad + \\frac{[2EY \\cdot EX - 2EY \\cdot EX]Cov(X,Y)}{Var(X)} + \\frac{E((X-EX)^2)Cov(X,Y)^2}{Var(X)} \\\\\n",
    "    &= Var(Y) - \\frac{2Cov(X,Y)^2}{Var(X)} + \\frac{Cov(X,Y)^2}{Var(X)} && \\text{simplify}\\\\\n",
    "    &= Var(Y) - \\frac{Cov(X,Y)^2}{Var(X)} && \\text{simplify}\\\\\n",
    "  0 &= Var(Y) - \\frac{Cov(X,Y)^2}{Var(X)} && \\text{assume expected squared error is 0 since we want to minimize it} \\\\\n",
    "  \\frac{Cov(X,Y)^2}{Var(X)} &= Var(Y) \\\\\n",
    "  \\frac{Cov(X,Y)^2}{Var(X)Var(Y)} &= 1 \\\\\n",
    "  \\frac{Cov(X,Y)}{\\sqrt{Var(X)}\\sqrt{Var(Y)}} &= 1 \\\\\n",
    "  Corr(X,Y) &= 1\n",
    "\\end{aligned}\n",
    "\\end{equation}\n",
    "$$\n",
    "\n",
    "Thus, values for $c$ and $d$ minimize mean-squared error. \n"
   ]
  },
  {
   "cell_type": "markdown",
   "metadata": {},
   "source": [
    "### 6. Programs A and B consist of $r$ and $s$ modules, respectively, of which $c$ modules are common to both. As a simple model, assume that each module has probability $p$ of being correct, with the modules acting independently. Let $X$ and $Y$ denote the numbers of correct modules in A and B respectively. Find the correlation $A(X,Y)$ as a function of $r,s,c$ and $p$.\n",
    "\n",
    "Hint: Write $X = X_1 + ... + X_r$ where $X_i$ is 1 or 0 depending on whether module $i$ of $A$ is correct. Of those, let $X_1, ..., X_c$ correspond to the modules in common to $A$ and $B$. Similarly, write $Y=Y_1 + ... + Y_s$, for the modules in $B$, again having the first $c$ of them correspond to the modules in common. Do the same for $B$, and for the set of common modules."
   ]
  },
  {
   "cell_type": "markdown",
   "metadata": {
    "collapsed": true
   },
   "source": [
    "$$\n",
    "\\begin{equation}\n",
    "\\begin{aligned}\n",
    "    \\rho(X,Y) &= \\frac{Cov(X,Y)}{\\sqrt{Var(X)}\\sqrt{Var(Y)}} && \\text{Definition} \\\\\n",
    "    &= \\frac{Cov(X_1 + ... + X_r, Y_1 + ... + Y_r}{\\sqrt{Var(X_1 + ... + X_r)}\\sqrt{Var(Y_1 + ... + Y_r)}} && \\text{Sum of Bernoulli R.V.} \\\\\n",
    "    &= \\frac{\\sum_{i=1}^{r}\\sum_{j=1}^{s}Cov(X_i, Y_j)}{\\sqrt{Var(X_1 + ... + X_r)}\\sqrt{Var(Y_1 + ... + Y_r)}} && \\text{Linearity of Sums} \\\\\n",
    "    &= \\frac{\\sum_k^{c}Cov(X_k, Y_k) + \\sum_{i=1}^{r}\\sum_{j=1}^{s}Cov(X_i, Y_j) - \\sum_{k=1}^{c}Cov(X_k, Y_k) }{\\sqrt{Var(X_1 + ... + X_r)}\\sqrt{Var(Y_1 + ... + Y_r)}} && \\text{Separate out dependent and independent variables, remove duplications} \\\\\n",
    "    &= \\frac{\\sum_{k=1}^{c}Cov(X_k, Y_k)}{\\sqrt{Var(X_1 + ... + X_r)}\\sqrt{Var(Y_1 + ... + Y_r)}} && \\text{Indep. vars. have 0 covariance} \\\\\n",
    "    &= \\frac{\\sum_{k=1}^{c}Var(X_k)}{\\sqrt{Var(X_1 + ... + X_r)}\\sqrt{Var(Y_1 + ... + Y_r)}} && \\text{$X_k$ is the same as $Y_k$} \\\\\n",
    "    &= \\frac{cp(1-p)}{\\sqrt{Var(X_1 + ... + X_r)}\\sqrt{Var(Y_1 + ... + Y_r)}} && \\text{Simplify} \\\\\n",
    "    &= \\frac{cp(1-p)}{\\sqrt{rp(1-p)}\\sqrt{sp(1-p)}} && \\text{Simplify} \\\\\n",
    "    &= \\frac{cp(1-p)}{\\sqrt{rs}p(1-p)} && \\text{Simplify} \\\\\n",
    "    &= \\frac{c}{\\sqrt{rs}}\n",
    "\\end{aligned}\n",
    "\\end{equation}\n",
    "$$\n"
   ]
  },
  {
   "cell_type": "code",
   "execution_count": 87,
   "metadata": {
    "collapsed": false,
    "scrolled": true
   },
   "outputs": [
    {
     "data": {
      "text/plain": [
       "array([[ 1.        ,  0.40945345],\n",
       "       [ 0.40945345,  1.        ]])"
      ]
     },
     "execution_count": 87,
     "metadata": {},
     "output_type": "execute_result"
    }
   ],
   "source": [
    "def simulate_correlated_program_modules_corrcoeff(\n",
    "    num_common=10,\n",
    "    p_proba=0.4,\n",
    "    num_r_components=20,\n",
    "    num_s_components=30,\n",
    "    num_experiments=10000\n",
    "):\n",
    "    false_true_probas = [1-p_proba, p_proba]\n",
    "    trials = []\n",
    "    for i in range(num_experiments):\n",
    "        r_components = np.random.choice(\n",
    "            [0,1],\n",
    "            size=num_r_components, \n",
    "            p=false_true_probas\n",
    "        )\n",
    "        s_components = np.concatenate(\n",
    "            [\n",
    "                r_components[:num_common], \n",
    "                np.random.choice(\n",
    "                    [0,1], \n",
    "                    size=num_s_components - num_common,\n",
    "                    p=false_true_probas\n",
    "                )\n",
    "            ]\n",
    "        )\n",
    "        \n",
    "        trials.append(\n",
    "            [\n",
    "                sum(r_components), sum(s_components)\n",
    "            ]\n",
    "        )\n",
    "    \n",
    "    results = np.array(trials).T\n",
    "    X, Y = results[0], results[1]\n",
    "    \n",
    "    return np.corrcoef(X,Y)\n",
    "\n",
    "simulate_correlated_program_modules_corrcoeff(\n",
    "    p_proba=0.9,\n",
    "    num_common=10,\n",
    "    num_r_components=20,\n",
    "    num_s_components=30,\n",
    "    num_experiments=100000\n",
    ")       \n",
    "        "
   ]
  },
  {
   "cell_type": "code",
   "execution_count": 86,
   "metadata": {
    "collapsed": false
   },
   "outputs": [
    {
     "data": {
      "text/plain": [
       "0.408248290463863"
      ]
     },
     "execution_count": 86,
     "metadata": {},
     "output_type": "execute_result"
    }
   ],
   "source": [
    "def analytical_correlated_program_modules_corrcoeff(\n",
    "    p=0.4,\n",
    "    c=10,\n",
    "    r=20,\n",
    "    s=30\n",
    "):\n",
    "    \n",
    "    return c/((r*s)**0.5)\n",
    "\n",
    "analytical_correlated_program_modules_corrcoeff(\n",
    "    p=0.4,\n",
    "    c=10,\n",
    "    r=20,\n",
    "    s=30\n",
    ")       \n",
    "        "
   ]
  },
  {
   "cell_type": "markdown",
   "metadata": {},
   "source": [
    "### 7. Suppose we have random variables $X$ and $Y$, and define the new random variable $Z=8Y$. Then which of the following is correct? $(i)$ $\\rho(X,Z) = \\rho(X,Y)$. $(ii)$ $\\rho(X,Z)=0$. $(iii)$ $\\rho(Y,Z)=0$. $(iv)$ $\\rho(X,Z) = 8\\rho(X,Y)$. $(v)$ $\\rho(X,Z) = \\frac{1}{8}\\rho(X,Y)$. $(vi)$ There is no special relationship.\n",
    "\n",
    "$$\n",
    "\\begin{equation}\n",
    "\\begin{aligned}\n",
    "    \\rho(X,Z) &= \\frac{Cov(X,Z)}{\\sqrt{Var(X)}\\sqrt{Var(Z)}} \\\\ \n",
    "    &= \\frac{Cov(X,8Y)}{\\sqrt{Var(X)}\\sqrt{Var(8Y)}} \\\\ \n",
    "    &= \\frac{E(8XY) - E(X)E(8Y)}{\\sqrt{Var(X)}\\sqrt{Var(8Y)}} \\\\ \n",
    "    &= \\frac{8E(XY) - 8E(X)E(Y)}{\\sqrt{Var(X)}\\sqrt{Var(8Y)}} \\\\ \n",
    "    &= \\frac{8(E(XY) - E(X)E(Y))}{\\sqrt{Var(X)}\\sqrt{8^2Var(Y)}} \\\\ \n",
    "    &= \\frac{Cov(X,Y)}{\\sqrt{Var(X)}\\sqrt{Var(Y)}} \\\\ \n",
    "    &= \\rho(X,Y)\n",
    "\\end{aligned}\n",
    "\\end{equation}\n",
    "$$\n",
    "\n",
    "Thus, $(i)$ is true. Can't assume $\\rho(X,Z) = 0$, so $(ii)$ is false. \n",
    "\n",
    "$$\n",
    "\\begin{equation}\n",
    "\\begin{aligned}\n",
    "    \\rho(Y,Z) &= \\frac{Cov(Y,8Y)}{\\sqrt{Var(Y)}\\sqrt{Var(8Y)}} \\\\\n",
    "    &= \\frac{E(8Y^2)-E(Y)E(8Y)}{\\sqrt{Var(Y)}\\sqrt{Var(8Y)}} \\\\\n",
    "    &= \\frac{8E(Y^2)-E(Y)8E(Y)}{\\sqrt{Var(Y)}\\sqrt{Var(8Y)}} \\\\\n",
    "    &= \\frac{8(E(Y^2)-E(Y)E(Y))}{\\sqrt{Var(Y)}\\sqrt{8^2Var(Y)}} \\\\\n",
    "    &= \\frac{(E(Y^2)-E(Y)E(Y))}{\\sqrt{Var(Y)}\\sqrt{Var(Y)}} \\\\\n",
    "    &= \\frac{Var(Y)}{Var(Y)} \\\\\n",
    "    &= 1\n",
    "\\end{aligned}\n",
    "\\end{equation}\n",
    "$$\n",
    "\n",
    "Thus, $(iii)$ is incorrect.\n",
    "\n",
    "$(iv)$, $(v)$, and $(vi)$ are false, since $\\rho(X,Z)=\\rho(X,Y)$ as seen earlier.\n"
   ]
  },
  {
   "cell_type": "markdown",
   "metadata": {},
   "source": [
    "### 8. Derive (12.3). Hint: A constant, $q$ here, is a random variable, trivially, with 0 variance.\n",
    "\n",
    "$$\n",
    "\\begin{equation}\n",
    "\\begin{aligned}\n",
    "    Cov(X,Y+q) &= Cov(X,Y) + Cov(X,q) && \\text{Linearity of Sums} \\\\\n",
    "    &= Cov(X,Y) + E(Xq) - E(X)E(q) \\\\\n",
    "    &= Cov(X,Y) + qE(X) - qE(X) \\\\\n",
    "    &= Cov(X,Y)\n",
    "\\end{aligned}\n",
    "\\end{equation}\n",
    "$$\n"
   ]
  },
  {
   "cell_type": "markdown",
   "metadata": {
    "collapsed": true
   },
   "source": [
    "### 9. Consider a three-card hand drawn from a 52-card deck. Let $X$ and $Y$ denote the number of hearts and diamonds, respectively. Find $\\rho(X, Y )$."
   ]
  },
  {
   "cell_type": "code",
   "execution_count": 44,
   "metadata": {
    "collapsed": false
   },
   "outputs": [
    {
     "data": {
      "text/plain": [
       "array([[ 1.        , -0.33057586],\n",
       "       [-0.33057586,  1.        ]])"
      ]
     },
     "execution_count": 44,
     "metadata": {},
     "output_type": "execute_result"
    }
   ],
   "source": [
    "def corr_three_cards(num_experiments=10000):\n",
    "    \"\"\" \n",
    "        Simulate sampling from 52-card deck. Finds correlation between number of hearts and diamonds\n",
    "        when drawing three cards.\n",
    "    \"\"\"\n",
    "    num_cards_drawn = 3\n",
    "    heart_val = 1\n",
    "    diamond_val = 2\n",
    "    spades_val = 3\n",
    "    clubs_val = 4\n",
    "    \n",
    "    deck = np.concatenate([\n",
    "        np.ones(13) * heart_val, \n",
    "        np.ones(13) * diamond_val,\n",
    "        np.ones(13) * spades_val,\n",
    "        np.ones(13) * clubs_val\n",
    "    ])\n",
    "    \n",
    "    def count(deck, type_val):\n",
    "        \"\"\" How many type_vals were in the drawn set of cards. \"\"\"\n",
    "        arr, = np.where(deck == type_val)\n",
    "        return len(arr)\n",
    "    \n",
    "    collection = []\n",
    "    for i in range(num_experiments):\n",
    "        drawn_cards = np.random.choice(deck, replace=False, size=3)\n",
    "        collection.append(\n",
    "            [\n",
    "                count(drawn_cards, heart_val),\n",
    "                count(drawn_cards, diamond_val)\n",
    "            ]\n",
    "        )\n",
    "    \n",
    "    vectors = np.array(collection)\n",
    "    \n",
    "    return np.corrcoef(vectors.T[0], vectors.T[1])\n",
    "\n",
    "res = corr_three_cards(num_experiments=10000)\n",
    "res"
   ]
  },
  {
   "cell_type": "markdown",
   "metadata": {},
   "source": [
    "Thus the correlation between $X$ and $Y$ is about -0.33."
   ]
  },
  {
   "cell_type": "markdown",
   "metadata": {},
   "source": [
    "### 10. Consider the lightbulb example in Section 9.1. Use the “mailing tubes” on $Var()$ and $Cov()$ to find $\\rho(X1, T2)$."
   ]
  },
  {
   "cell_type": "markdown",
   "metadata": {
    "collapsed": true
   },
   "source": [
    "$$\n",
    "\\begin{equation}\n",
    "\\begin{aligned}\n",
    "    T_r &= X_1 + ... + X_r && \\text{Given} \\\\\n",
    "    T_2 &= X_1 + X_2 \\\\\n",
    "    \\rho(X_1, T_2) &= \\frac{Cov(X_1, T_2)}{\\sqrt{Var(X_1)Var(T_2)}} \\\\\n",
    "    &= \\frac{Cov(X_1, X_1 + X_2)}{\\sqrt{Var(X_1)Var(X_1+X_2)}} \\\\\n",
    "    &= \\frac{Cov(X_1, X_1) + Cov(X_1, X_2)}{\\sqrt{Var(X_1)Var(X_1+X_2)}} && \\text{Linearity of Sums}\\\\\n",
    "    &= \\frac{Cov(X_1, X_1)}{\\sqrt{Var(X_1)Var(X_1+X_2)}} && \\text{Independence}\\\\\n",
    "    &= \\frac{Var(X_1)}{\\sqrt{Var(X_1)Var(X_1+X_2)}} && \\text{Simplify}\\\\    \n",
    "    &= \\frac{Var(X_1)}{\\sqrt{Var(X_1)[Var(X_1) + Var(X_2)]}} && \\text{Independence}\\\\\n",
    "    &= \\frac{Var(X_1)}{\\sqrt{Var(X_1)^2*2}} && \\text{Independence} \\\\\n",
    "    &= \\frac{1}{\\sqrt{2}}\n",
    "\\end{aligned}\n",
    "\\end{equation}\n",
    "$$\n"
   ]
  },
  {
   "cell_type": "code",
   "execution_count": 100,
   "metadata": {
    "collapsed": false
   },
   "outputs": [
    {
     "data": {
      "text/plain": [
       "0.7071067811865475"
      ]
     },
     "execution_count": 100,
     "metadata": {},
     "output_type": "execute_result"
    }
   ],
   "source": [
    "1/2**0.5"
   ]
  },
  {
   "cell_type": "code",
   "execution_count": 102,
   "metadata": {
    "collapsed": false
   },
   "outputs": [
    {
     "data": {
      "text/plain": [
       "array([[ 1.        ,  0.71319282],\n",
       "       [ 0.71319282,  1.        ]])"
      ]
     },
     "execution_count": 102,
     "metadata": {},
     "output_type": "execute_result"
    }
   ],
   "source": [
    "def simulate_lightbulb_corrcoeff(\n",
    "    num_experiments=100000,\n",
    "):\n",
    "    \"\"\" Check results \"\"\"\n",
    "    \n",
    "    trials = []\n",
    "    for i in range(num_experiments):\n",
    "        x_1 = np.random.exponential()\n",
    "        x_2 = np.random.exponential()\n",
    "        trials.append([\n",
    "            x_1, x_1+x_2\n",
    "        ])\n",
    "        \n",
    "    res = np.array(trials).T\n",
    "    X_1 = res[0]\n",
    "    T_2 = res[1]\n",
    "    \n",
    "    return np.corrcoef(X_1, T_2)\n",
    "\n",
    "simulate_lightbulb_corrcoeff()"
   ]
  },
  {
   "cell_type": "markdown",
   "metadata": {},
   "source": [
    "### 11. Find the following quantities for the dice example in Section 12.3.2.1:\n",
    "\n",
    "(a) $Cov(X,2S)$\n",
    "\n",
    "(b) $Cov(X,S+Y)$\n",
    "\n",
    "(c) $Cov(X+2Y,3X-Y)$\n",
    "\n",
    "(d) $p_{X,S}(3,8)$"
   ]
  },
  {
   "cell_type": "code",
   "execution_count": 114,
   "metadata": {
    "collapsed": false,
    "scrolled": true
   },
   "outputs": [
    {
     "data": {
      "text/plain": [
       "2.9166666666666661"
      ]
     },
     "execution_count": 114,
     "metadata": {},
     "output_type": "execute_result"
    }
   ],
   "source": [
    "(np.arange(1,7)**2).mean() - np.arange(1,7).mean()**2"
   ]
  },
  {
   "cell_type": "markdown",
   "metadata": {},
   "source": [
    "(a) $Cov(X,2S)$\n",
    "\n",
    "$$\n",
    "\\begin{equation}\n",
    "\\begin{aligned}\n",
    "    Cov(X,2S) &= Cov(X, 2(X+Y)) && S=X+Y \\\\\n",
    "    &= Cov(X, 2X) + Cov(X, 2Y) \\\\\n",
    "    &= 2Var(X) + 2Cov(X,Y) \\\\\n",
    "    &= 2Var(X) + 2Var(X) && \\text{X and Y are i.i.d.}\\\\\n",
    "    &\\approx 4*2.916 \\\\\n",
    "    &\\approx 11.664\n",
    "\\end{aligned}\n",
    "\\end{equation}\n",
    "$$\n"
   ]
  },
  {
   "cell_type": "code",
   "execution_count": 115,
   "metadata": {
    "collapsed": false
   },
   "outputs": [
    {
     "data": {
      "text/plain": [
       "11.666666666666664"
      ]
     },
     "execution_count": 115,
     "metadata": {},
     "output_type": "execute_result"
    }
   ],
   "source": [
    "4*((np.arange(1,7)**2).mean() - np.arange(1,7).mean()**2)"
   ]
  },
  {
   "cell_type": "markdown",
   "metadata": {},
   "source": [
    "(b) $Cov(X,S+Y)$\n",
    "\n",
    "$$\n",
    "\\begin{equation}\n",
    "\\begin{aligned}\n",
    "    Cov(X,S+Y) &= Cov(X, X+Y + Y) \\\\\n",
    "    &= Cov(X, X+2Y) \\\\\n",
    "    &= Cov(X,X) + 2Cov(X,Y) \\\\\n",
    "    &= Var(X) + 2Var(X) && \\text{X and Y are i.i.d.} \\\\\n",
    "    &= 3Var(X) \\\\\n",
    "    &\\approx 3 * 2.916 \\\\\n",
    "    &\\approx 8.748\n",
    "\\end{aligned}\n",
    "\\end{equation}\n",
    "$$"
   ]
  },
  {
   "cell_type": "markdown",
   "metadata": {},
   "source": [
    "(c) $Cov(X+2Y,3X-Y)$\n",
    "\n",
    "$$\n",
    "\\begin{equation}\n",
    "\\begin{aligned}\n",
    "    Cov(X+2Y, 3X-Y) &= 3Cov(X,X) - Cov(X,Y) + 6Cov(X,Y) - 2Cov(Y,Y) \\\\\n",
    "    &= 3Cov(X,X) + 5Cov(X,Y) - Cov(Y,Y) \\\\\n",
    "    &= 3Var(X) + 5Var(X) - Var(X) && \\text{Var of i.i.d. vars are the same} \\\\\n",
    "    &= 7Var(X) \\\\\n",
    "    &\\approx 7 * 2.916 \\\\\n",
    "    &= 20.412\n",
    "\\end{aligned}\n",
    "\\end{equation}\n",
    "$$"
   ]
  },
  {
   "cell_type": "markdown",
   "metadata": {},
   "source": [
    "(d) $p_{X,S}(3,8)$\n",
    "\n",
    "$$\n",
    "\\begin{equation}\n",
    "\\begin{aligned}\n",
    "    p_{X,S}(3,8) &= P(X=3, S=8) \\\\\n",
    "    &= P(X=3,Y=5) && S-X = Y\\\\\n",
    "    &= P(X=3)P(Y=5) && \\text{independent} \\\\\n",
    "    &= \\frac{1}{6} \\cdot \\frac{1}{6} \\\\\n",
    "    &= \\frac{1}{36}\n",
    "\\end{aligned}\n",
    "\\end{equation}\n",
    "$$\n"
   ]
  },
  {
   "cell_type": "markdown",
   "metadata": {},
   "source": [
    "### 12. Suppose $X_i, i=1,2,3,4,5$ are independent and each have mean 0 and variance 1. Let $Y_i = X_{i+1} - X_i, i=1,2,3,4$. Using the material in Section 12.4, find the covariance matrix of $Y=(Y_1,Y_2,Y_3,Y_4)$."
   ]
  },
  {
   "cell_type": "markdown",
   "metadata": {},
   "source": [
    "$$\n",
    "\\begin{equation}\n",
    "\\begin{aligned}\n",
    "    Y &= AW \\\\\n",
    "    \\begin{pmatrix} -X_1 + X_2 \\\\\n",
    "    -X_2 + X_3 \\\\\n",
    "    -X_3 + X_4 \\\\\n",
    "    -X_4 + X_5\n",
    "    \\end{pmatrix} &= \\begin{pmatrix} \n",
    "    -1 & 1 & 0 & 0 & 0 \\\\\n",
    "    0 & -1 & 1 & 0 & 0 \\\\\n",
    "    0 & 0 & -1 & 1 & 0 \\\\\n",
    "    0 & 0 & 0 & -1 & 1 \\\\\n",
    "    \\end{pmatrix} \\times \\begin{pmatrix}\n",
    "    X_1 \\\\\n",
    "    X_2 \\\\\n",
    "    X_3 \\\\\n",
    "    X_4 \\\\\n",
    "    X_5\n",
    "    \\end{pmatrix} \\\\\n",
    "    Cov(Y) &= ACov(W)A' \\\\\n",
    "    &= \\begin{pmatrix} \n",
    "    -1 & 1 & 0 & 0 & 0 \\\\\n",
    "    0 & -1 & 1 & 0 & 0 \\\\\n",
    "    0 & 0 & -1 & 1 & 0 \\\\\n",
    "    0 & 0 & 0 & -1 & 1 \\\\\n",
    "    \\end{pmatrix} \\times \\begin{pmatrix}\n",
    "    1 & 0 & 0 & 0 & 0 \\\\\n",
    "    0 & 1 & 0 & 0 & 0 \\\\\n",
    "    0 & 0 & 1 & 0 & 0 \\\\\n",
    "    0 & 0 & 0 & 1 & 0 \\\\\n",
    "    0 & 0 & 0 & 0 & 1 \\end{pmatrix} \\times\n",
    "    \\begin{pmatrix} \\\\\n",
    "    -1 & 0 & 0 & 0 \\\\\n",
    "    1 & -1 & 0 & 0 \\\\\n",
    "    0 & 1 & -1 & 0 \\\\\n",
    "    0 & 0 & 1 & -1 \\\\\n",
    "    0 & 0 & 0 &  1 \n",
    "    \\end{pmatrix} \\\\\n",
    "    &= \\begin{pmatrix}\n",
    "     2 & -1 &  0 &  0 \\\\\n",
    "    -1 &  2 & -1 &  0 \\\\\n",
    "     0 & -1 &  2 & -1 \\\\\n",
    "     0 &  0 & -1 &  2 \\\\\n",
    "    \\end{pmatrix}\n",
    "\\end{aligned}\n",
    "\\end{equation}\n",
    "$$\n"
   ]
  },
  {
   "cell_type": "code",
   "execution_count": 117,
   "metadata": {
    "collapsed": false,
    "scrolled": true
   },
   "outputs": [
    {
     "data": {
      "text/plain": [
       "array([[ 1.,  0.,  0.,  0.,  0.],\n",
       "       [ 0.,  1.,  0.,  0.,  0.],\n",
       "       [ 0.,  0.,  1.,  0.,  0.],\n",
       "       [ 0.,  0.,  0.,  1.,  0.],\n",
       "       [ 0.,  0.,  0.,  0.,  1.]])"
      ]
     },
     "execution_count": 117,
     "metadata": {},
     "output_type": "execute_result"
    }
   ],
   "source": [
    "np.identity(5)"
   ]
  },
  {
   "cell_type": "code",
   "execution_count": 118,
   "metadata": {
    "collapsed": false
   },
   "outputs": [
    {
     "data": {
      "text/plain": [
       "array([[ 2., -1.,  0.,  0.],\n",
       "       [-1.,  2., -1.,  0.],\n",
       "       [ 0., -1.,  2., -1.],\n",
       "       [ 0.,  0., -1.,  2.]])"
      ]
     },
     "execution_count": 118,
     "metadata": {},
     "output_type": "execute_result"
    }
   ],
   "source": [
    "def calculate_Y():\n",
    "    A = np.array(\n",
    "        [\n",
    "            [-1,1,0,0,0],\n",
    "            [0,-1,1,0,0],\n",
    "            [0,0,-1,1,0],\n",
    "            [0,0,0,-1,1]\n",
    "        ]\n",
    "    )\n",
    "    \n",
    "    return A.dot(\n",
    "        np.identity(5)\n",
    "    ).dot(\n",
    "        A.T\n",
    "    )\n",
    "\n",
    "calculate_Y()"
   ]
  },
  {
   "cell_type": "code",
   "execution_count": null,
   "metadata": {
    "collapsed": true
   },
   "outputs": [],
   "source": []
  }
 ],
 "metadata": {
  "kernelspec": {
   "display_name": "Python 3",
   "language": "python",
   "name": "python3"
  },
  "language_info": {
   "codemirror_mode": {
    "name": "ipython",
    "version": 3
   },
   "file_extension": ".py",
   "mimetype": "text/x-python",
   "name": "python",
   "nbconvert_exporter": "python",
   "pygments_lexer": "ipython3",
   "version": "3.6.0"
  },
  "toc": {
   "colors": {
    "hover_highlight": "#DAA520",
    "navigate_num": "#000000",
    "navigate_text": "#333333",
    "running_highlight": "#FF0000",
    "selected_highlight": "#FFD700",
    "sidebar_border": "#EEEEEE",
    "wrapper_background": "#FFFFFF"
   },
   "moveMenuLeft": true,
   "nav_menu": {
    "height": "60px",
    "width": "253px"
   },
   "navigate_menu": true,
   "number_sections": true,
   "sideBar": true,
   "threshold": "5",
   "toc_cell": false,
   "toc_position": {
    "height": "1594px",
    "left": "0px",
    "right": "auto",
    "top": "44px",
    "width": "602px"
   },
   "toc_section_display": "none",
   "toc_window_display": true,
   "widenNotebook": false
  }
 },
 "nbformat": 4,
 "nbformat_minor": 2
}
