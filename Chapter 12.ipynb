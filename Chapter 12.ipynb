{
 "cells": [
  {
   "cell_type": "markdown",
   "metadata": {
    "toc": "true"
   },
   "source": [
    "# Table of Contents\n",
    " <p><div class=\"lev1 toc-item\"><a href=\"#Chapter-12---Covariance-and-Random-Vectors\" data-toc-modified-id=\"Chapter-12---Covariance-and-Random-Vectors-1\"><span class=\"toc-item-num\">1&nbsp;&nbsp;</span>Chapter 12 - Covariance and Random Vectors</a></div><div class=\"lev2 toc-item\"><a href=\"#Exercises\" data-toc-modified-id=\"Exercises-11\"><span class=\"toc-item-num\">1.1&nbsp;&nbsp;</span>Exercises</a></div><div class=\"lev3 toc-item\"><a href=\"#1.-Suppose-the-pair-(X,Y)'-has-mean-vector-(0,2)-and-covariance-matrix-begin{pmatrix}-1-&amp;-2-\\\\-2-&amp;-6-\\end{pmatrix}.-Find-the-covariance-matrix-of-the-pair-U-=-(X+Y,-X-2Y)'\" data-toc-modified-id=\"1.-Suppose-the-pair-(X,Y)'-has-mean-vector-(0,2)-and-covariance-matrix-begin{pmatrix}-1-&amp;-2-\\\\-2-&amp;-6-\\end{pmatrix}.-Find-the-covariance-matrix-of-the-pair-U-=-(X+Y,-X-2Y)'-111\"><span class=\"toc-item-num\">1.1.1&nbsp;&nbsp;</span>1. Suppose the pair $(X,Y)'$ has mean vector $(0,2)$ and covariance matrix $\\begin{pmatrix} 1 &amp; 2 \\\\ 2 &amp; 6 \\end{pmatrix}$. Find the covariance matrix of the pair $U = (X+Y, X-2Y)'$</a></div><div class=\"lev3 toc-item\"><a href=\"#Ans\" data-toc-modified-id=\"Ans-112\"><span class=\"toc-item-num\">1.1.2&nbsp;&nbsp;</span>Ans</a></div><div class=\"lev3 toc-item\"><a href=\"#2.-Show-that--rho-(aX+b,cY+d)-=-\\rho(X,Y)---for-any-constants-a,b,c-and-d.\" data-toc-modified-id=\"2.-Show-that--rho-(aX+b,cY+d)-=-\\rho(X,Y)---for-any-constants-a,b,c-and-d.-113\"><span class=\"toc-item-num\">1.1.3&nbsp;&nbsp;</span>2. Show that <div class=\"MathJax_Display\" style=\"text-align: center;\"></div><div class=\"MathJax_Display MathJax_Processing\"></div><script type=\"math/tex; mode=display\" id=\"MathJax-Element-33\"> \\rho (aX+b,cY+d) = \\rho(X,Y) </script>  for any constants a,b,c and d.</a></div><div class=\"lev3 toc-item\"><a href=\"#3.-Suppose-X,-Y-and-Z-are-&quot;i.i.d.&quot;-(independent,-identically-distributed)-random-variables,-with-E(X^k)-being-denoted-by-v_k,-k-=-1,2,3.-Find-Cov(XY,XZ)-in-terms-of-the-v_k.\" data-toc-modified-id=\"3.-Suppose-X,-Y-and-Z-are-&quot;i.i.d.&quot;-(independent,-identically-distributed)-random-variables,-with-E(X^k)-being-denoted-by-v_k,-k-=-1,2,3.-Find-Cov(XY,XZ)-in-terms-of-the-v_k.-114\"><span class=\"toc-item-num\">1.1.4&nbsp;&nbsp;</span>3. Suppose $X$, $Y$ and $Z$ are \"i.i.d.\" (independent, identically distributed) random variables, with $E(X^k)$ being denoted by $v_k$, $k = 1,2,3$. Find $Cov(XY,XZ)$ in terms of the $v_k$.</a></div><div class=\"lev3 toc-item\"><a href=\"#4.-Using-the-properties-of-covariance-in-Section-12.1.1,-show-that-for-any-random-variables-X-and-Y,-Cov(X+Y,X-Y)-=-Var(X)---Var(Y).\" data-toc-modified-id=\"4.-Using-the-properties-of-covariance-in-Section-12.1.1,-show-that-for-any-random-variables-X-and-Y,-Cov(X+Y,X-Y)-=-Var(X)---Var(Y).-115\"><span class=\"toc-item-num\">1.1.5&nbsp;&nbsp;</span>4. Using the properties of covariance in Section 12.1.1, show that for any random variables $X$ and $Y$, $Cov(X+Y,X-Y) = Var(X) - Var(Y)$.</a></div><div class=\"lev3 toc-item\"><a href=\"#5.-Suppose-we-wish-to-predict-a-random-variable-Y-by-using-another-random-variable,-X.-We-may-consider-predictors-of-the-form-cX-+-d-for-constants-c-and-d.-Show-that-the-values-of-c-and-d-that-minimize-the-mean-squared-prediction-error,-E[(Y-−-cX-−-d)^2-are\" data-toc-modified-id=\"5.-Suppose-we-wish-to-predict-a-random-variable-Y-by-using-another-random-variable,-X.-We-may-consider-predictors-of-the-form-cX-+-d-for-constants-c-and-d.-Show-that-the-values-of-c-and-d-that-minimize-the-mean-squared-prediction-error,-E[(Y-−-cX-−-d)^2-are-116\"><span class=\"toc-item-num\">1.1.6&nbsp;&nbsp;</span>5. Suppose we wish to predict a random variable Y by using another random variable, $X$. We may consider predictors of the form $cX + d$ for constants $c$ and d. Show that the values of $c$ and $d$ that minimize the mean squared prediction error, $E[(Y − cX − d)^2$ are</a></div><div class=\"lev3 toc-item\"><a href=\"#9.-Consider-a-three-card-hand-drawn-from-a-52-card-deck.-Let-X-and-Y-denote-the-number-of-hearts-and-diamonds,-respectively.-Find-rho(X,-Y-).\" data-toc-modified-id=\"9.-Consider-a-three-card-hand-drawn-from-a-52-card-deck.-Let-X-and-Y-denote-the-number-of-hearts-and-diamonds,-respectively.-Find-rho(X,-Y-).-117\"><span class=\"toc-item-num\">1.1.7&nbsp;&nbsp;</span>9. Consider a three-card hand drawn from a 52-card deck. Let $X$ and $Y$ denote the number of hearts and diamonds, respectively. Find $\\rho(X, Y )$.</a></div><div class=\"lev3 toc-item\"><a href=\"#10.-Consider-the-lightbulb-example-in-Section-9.1.-Use-the-“mailing-tubes”-on-Var()-and-Cov()-to-find-rho(X1,-T2).\" data-toc-modified-id=\"10.-Consider-the-lightbulb-example-in-Section-9.1.-Use-the-“mailing-tubes”-on-Var()-and-Cov()-to-find-rho(X1,-T2).-118\"><span class=\"toc-item-num\">1.1.8&nbsp;&nbsp;</span>10. Consider the lightbulb example in Section 9.1. Use the “mailing tubes” on $Var()$ and $Cov()$ to find $\\rho(X1, T2)$.</a></div>"
   ]
  },
  {
   "cell_type": "markdown",
   "metadata": {},
   "source": [
    "# Chapter 12 - Covariance and Random Vectors"
   ]
  },
  {
   "cell_type": "code",
   "execution_count": 2,
   "metadata": {
    "collapsed": true
   },
   "outputs": [],
   "source": [
    "import numpy as np"
   ]
  },
  {
   "cell_type": "markdown",
   "metadata": {},
   "source": [
    "## Exercises"
   ]
  },
  {
   "cell_type": "markdown",
   "metadata": {},
   "source": [
    "### 1. Suppose the pair $(X,Y)'$ has mean vector $(0,2)$ and covariance matrix $\\begin{pmatrix} 1 & 2 \\\\ 2 & 6 \\end{pmatrix}$. Find the covariance matrix of the pair $U = (X+Y, X-2Y)'$"
   ]
  },
  {
   "cell_type": "markdown",
   "metadata": {},
   "source": [
    "### Ans\n",
    "\n",
    "$$\n",
    "\\begin{equation}\n",
    "    \\begin{aligned}\n",
    "        U &= \\begin{pmatrix} \n",
    "            X+Y \\\\\n",
    "            X-2Y\n",
    "            \\end{pmatrix} \\\\\n",
    "        &= \\begin{pmatrix} \n",
    "            1 & 1 \\\\\n",
    "            1 & -2\n",
    "            \\end{pmatrix} \\begin{pmatrix}\n",
    "            X \\\\\n",
    "            Y\n",
    "            \\end{pmatrix} \\\\\n",
    "        &= AW \\\\\n",
    "        \\text{Cov}(AW) &= A\\text{Cov}(W)A' \\\\\n",
    "        &= \\begin{pmatrix} \n",
    "            1 & 1 \\\\\n",
    "            1 & -2\n",
    "            \\end{pmatrix} \\begin{pmatrix}\n",
    "            1 & 2 \\\\\n",
    "            2 & 6 \\\\\n",
    "            \\end{pmatrix} \\begin{pmatrix} \n",
    "            1 & 1 \\\\\n",
    "            1 & -2\n",
    "            \\end{pmatrix} \\\\\n",
    "        &= \\begin{pmatrix} \n",
    "            11 & -13\\\\\n",
    "            -13 & 17\n",
    "            \\end{pmatrix}\n",
    "    \\end{aligned}\n",
    "\\end{equation}\n",
    "$$"
   ]
  },
  {
   "cell_type": "code",
   "execution_count": 3,
   "metadata": {
    "collapsed": false
   },
   "outputs": [
    {
     "data": {
      "text/plain": [
       "array([[ 11, -13],\n",
       "       [-13,  17]])"
      ]
     },
     "execution_count": 3,
     "metadata": {},
     "output_type": "execute_result"
    }
   ],
   "source": [
    "np.array([\n",
    "        [1, 1], \n",
    "        [1, -2]\n",
    "    ]).dot([\n",
    "        [1, 2], \n",
    "        [2, 6]\n",
    "    ]).dot([\n",
    "        [1, 1], \n",
    "        [1, -2]\n",
    "    ])"
   ]
  },
  {
   "cell_type": "raw",
   "metadata": {},
   "source": []
  },
  {
   "cell_type": "markdown",
   "metadata": {},
   "source": [
    "### 2. Show that $$ \\rho (aX+b,cY+d) = \\rho(X,Y) $$  for any constants a,b,c and d.\n",
    "\n",
    "$$\n",
    "\\begin{equation}\n",
    "\\begin{aligned}\n",
    "    \\rho(X,Y) &= \\frac{\\text{Cov}(X,Y)}{\\sqrt{\\text{Var}(X)}\\sqrt{\\text{Var}(Y)}} \\\\\n",
    "    &= \\frac{E(XY)-E(X)E(Y)}{\n",
    "        \\sqrt{E(X^2)-E(X)^2}\\sqrt{E(Y^2)-E(Y)^2}\n",
    "       } \\\\\n",
    "    \\rho(aX+b,cY+d) &= \\frac{\\text{Cov}(aX+b,cY+d)}{\\sqrt{\\text{Var}(aX+b)}\\sqrt{\\text{Var}(cY+d)}} \\\\\n",
    "\\end{aligned}\n",
    "\\end{equation}\n",
    "$$"
   ]
  },
  {
   "cell_type": "markdown",
   "metadata": {},
   "source": [
    "### 3. Suppose $X$, $Y$ and $Z$ are \"i.i.d.\" (independent, identically distributed) random variables, with $E(X^k)$ being denoted by $v_k$, $k = 1,2,3$. Find $Cov(XY,XZ)$ in terms of the $v_k$.\n",
    "\n",
    "$$\n",
    "\\begin{equation}\n",
    "\\begin{aligned}\n",
    "    Cov(XY, XZ) &= E(XYXZ) - E(XY)E(XZ) \\\\\n",
    "    &= E(X^2YZ) - E(X)E(Y)E(X)E(Z) && \\text{X & Y, X & Z are independent} \\\\\n",
    "    &= E(X^2)E(YZ) - E(X)^2E(Y)E(Z) && \\text{independence} \\\\\n",
    "    &= E(X^2)E(Y)E(Z) - E(X)^2E(Y)E(Z) && \\text{independence} \\\\\n",
    "    &= (E(X^2) - E(X)^2)E(Y)E(Z) \\\\\n",
    "    &= (E(X^2) - E(X)^2)E(X)E(X) && \\text{identically-distributed assumption} \\\\\n",
    "    &= (E(X^2) - E(X)^2)E(X)^2 \\\\\n",
    "    &= (v_2 - v_1^2)v_1^2\n",
    "\\end{aligned}\n",
    "\\end{equation}\n",
    "$$"
   ]
  },
  {
   "cell_type": "markdown",
   "metadata": {},
   "source": [
    "### 4. Using the properties of covariance in Section 12.1.1, show that for any random variables $X$ and $Y$, $Cov(X+Y,X-Y) = Var(X) - Var(Y)$."
   ]
  },
  {
   "cell_type": "markdown",
   "metadata": {},
   "source": [
    "$$\n",
    "\\begin{equation}\n",
    "\\begin{aligned}\n",
    "    Cov(X+Y,X-Y) &= E[(X+Y)(X-Y)] - E(X+Y)E(X-Y) \\\\\n",
    "    &= E(X^2-Y^2)-[(EX + EY)(EX-EY)] \\\\\n",
    "    &= E(X^2-Y^2)-[E(X)^2-E(Y)^2] \\\\\n",
    "    &= E(X^2) - E(X)^2 - [E(Y^2) - E(Y)^2] \\\\\n",
    "    &= Var(X) - Var(Y)\n",
    "\\end{aligned}\n",
    "\\end{equation}\n",
    "$$\n"
   ]
  },
  {
   "cell_type": "markdown",
   "metadata": {},
   "source": [
    "### 5. Suppose we wish to predict a random variable Y by using another random variable, $X$. We may consider predictors of the form $cX + d$ for constants $c$ and d. Show that the values of $c$ and $d$ that minimize the mean squared prediction error, $E[(Y − cX − d)^2$ are\n",
    "\n",
    "$$\n",
    "\\begin{equation}\n",
    "\\begin{aligned}\n",
    "    c &= \\frac{E(XY) - EX \\cdot EY}{Var(X)}\n",
    "\\end{aligned}\n",
    "\\end{equation}\n",
    "$$\n",
    "\n",
    "\n",
    "$$\n",
    "\\begin{equation}\n",
    "\\begin{aligned}\n",
    "    d &= \\frac{E(X^2)EY - EX \\cdot E(XY)}{Var(X)}\n",
    "\\end{aligned}\n",
    "\\end{equation}\n",
    "$$\n",
    "\n",
    "\n",
    "\n",
    "$$\n",
    "\\begin{equation}\n",
    "\\begin{aligned}\n",
    "    E[(Y − cX − d)^2] &= E\\big(\\big[Y - X\\frac{Cov(X,Y)}{Var(X)} - \\frac{E(X^2) \\cdot EY - EX \\cdot E(XY)}{Var(X)}\\big]^2\\big) && \\text{substitute, use defn. of Cov} \\\\\n",
    "    &= E\\big(\\big[Y - X\\frac{Cov(X,Y)}{Var(X)} - \\frac{E(X^2) \\cdot EY - EX \\cdot (Cov(X,Y) + EX \\cdot EY)}{Var(X)}\\big]^2\\big) && \\text{substitute } E(XY) = Cov(X,Y) - E(X)E(Y) \\\\\n",
    "    &= E\\big(\\big[Y - X\\frac{Cov(X,Y)}{Var(X)} - \\frac{E(X^2) \\cdot EY - EX \\cdot Cov(X,Y) - E(X)^2 \\cdot EY)}{Var(X)}\\big]^2\\big) \\\\\n",
    "    &= E\\big(\\big[Y - X\\frac{Cov(X,Y)}{Var(X)} - \\frac{[E(X^2) - E(X)^2 ] \\cdot EY - EX \\cdot Cov(X,Y)}{Var(X)}\\big]^2\\big) && \\text{regroup} \\\\ \n",
    "    &= E\\big(\\big[Y - X\\frac{Cov(X,Y)}{Var(X)} - \\frac{Var(X) \\cdot EY - EX \\cdot Cov(X,Y)}{Var(X)}\\big]^2\\big) && \\text{definition of Var(X)} \\\\ \n",
    "    &= E\\big(\\big[Y - EY - X\\frac{Cov(X,Y)}{Var(X)} + \\frac{ EX \\cdot Cov(X,Y)}{Var(X)}\\big]^2\\big) && \\text{simplify} \\\\\n",
    "    &= E\\big(\\big[Y - EY + \\frac{(EX-X)Cov(X,Y)}{Var(X)} \\big]^2\\big) && \\text{simplify} \\\\\n",
    "    &= E\\big(Y^2 - Y \\cdot EY - \\frac{Y(X-EX)(Cov(X,Y))}{Var(X)}- Y \\cdot EY + E(Y)^2 + \\frac{EY(X-EX)Cov(X,Y)}{Var(X)} \\\\ &\\quad - \\frac{Y(X-EX)Cov(X,Y)}{Var(X)} + \\frac{EY(X-EX)Cov(X,Y)}{Var(X)} + \\frac{Y(X-EX)(Cov(X,Y))}{Var(X)} \\big) && \\text{distribute} \\\\\n",
    "    &= E(Y^2) - 2E(Y)^2 - \\frac{2(E(YX) - EY \\cdot EX)Cov(X,Y)}{Var(X)} + E(Y)^2 \\\\ &\\quad + \\frac{[2EY \\cdot EX - 2EY \\cdot EX]Cov(X,Y)}{Var(X)} + \\frac{E((X-EX)^2)Cov(X,Y)^2}{Var(X)} \\\\\n",
    "    &= Var(Y) - \\frac{2Cov(X,Y)^2}{Var(X)} + \\frac{Cov(X,Y)^2}{Var(X)} && \\text{simplify}\\\\\n",
    "    &= Var(Y) - \\frac{Cov(X,Y)^2}{Var(X)} && \\text{simplify}\\\\\n",
    "  0 &= Var(Y) - \\frac{Cov(X,Y)^2}{Var(X)} && \\text{assume expected squared error is 0 since we want to minimize it} \\\\\n",
    "  \\frac{Cov(X,Y)^2}{Var(X)} &= Var(Y) \\\\\n",
    "  \\frac{Cov(X,Y)^2}{Var(X)Var(Y)} &= 1 \\\\\n",
    "  \\frac{Cov(X,Y)}{\\sqrt{Var(X)}\\sqrt{Var(Y)}} &= 1 \\\\\n",
    "  Corr(X,Y) &= 1\n",
    "\\end{aligned}\n",
    "\\end{equation}\n",
    "$$\n",
    "\n",
    "Thus, when the predictions $cX + d$ is perfectly correlated with $Y$, error is minimized to zero.\n"
   ]
  },
  {
   "cell_type": "markdown",
   "metadata": {
    "collapsed": true
   },
   "source": [
    "### 9. Consider a three-card hand drawn from a 52-card deck. Let $X$ and $Y$ denote the number of hearts and diamonds, respectively. Find $\\rho(X, Y )$."
   ]
  },
  {
   "cell_type": "code",
   "execution_count": 43,
   "metadata": {
    "collapsed": false
   },
   "outputs": [
    {
     "data": {
      "text/plain": [
       "array([[ 1.        , -0.32139052],\n",
       "       [-0.32139052,  1.        ]])"
      ]
     },
     "execution_count": 43,
     "metadata": {},
     "output_type": "execute_result"
    }
   ],
   "source": [
    "def corr_three_cards(num_experiments=10000):\n",
    "    \"\"\" Simulate sampling from 52-card deck.\"\"\"\n",
    "    num_cards_drawn = 3\n",
    "    heart_val = 1\n",
    "    diamond_val = 2\n",
    "    spades_val = 3\n",
    "    clubs_val = 4\n",
    "    \n",
    "    deck = np.concatenate([\n",
    "        np.ones(13) * heart_val, \n",
    "        np.ones(13) * diamond_val,\n",
    "        np.ones(13) * spades_val,\n",
    "        np.ones(13) * clubs_val\n",
    "    ])\n",
    "    \n",
    "    def count(deck, type_val):\n",
    "        \"\"\" How many type_vals were in the drawn set of cards. \"\"\"\n",
    "        arr, = np.where(deck == type_val)\n",
    "        return len(arr)\n",
    "    \n",
    "    collection = []\n",
    "    for i in range(num_experiments):\n",
    "        drawn_cards = np.random.choice(deck, replace=False, size=3)\n",
    "        collection.append(\n",
    "            [\n",
    "                count(drawn_cards, heart_val),\n",
    "                count(drawn_cards, diamond_val)\n",
    "            ]\n",
    "        )\n",
    "    \n",
    "    vectors = np.array(collection)\n",
    "    \n",
    "    return np.corrcoef(vectors.T[0], vectors.T[1])\n",
    "\n",
    "res = corr_three_cards(num_experiments=10000)\n",
    "res"
   ]
  },
  {
   "cell_type": "markdown",
   "metadata": {},
   "source": [
    "### 10. Consider the lightbulb example in Section 9.1. Use the “mailing tubes” on $Var()$ and $Cov()$ to find $\\rho(X1, T2)$."
   ]
  },
  {
   "cell_type": "code",
   "execution_count": null,
   "metadata": {
    "collapsed": true
   },
   "outputs": [],
   "source": []
  }
 ],
 "metadata": {
  "kernelspec": {
   "display_name": "Python 3",
   "language": "python",
   "name": "python3"
  },
  "language_info": {
   "codemirror_mode": {
    "name": "ipython",
    "version": 3
   },
   "file_extension": ".py",
   "mimetype": "text/x-python",
   "name": "python",
   "nbconvert_exporter": "python",
   "pygments_lexer": "ipython3",
   "version": "3.6.0"
  },
  "toc": {
   "colors": {
    "hover_highlight": "#DAA520",
    "navigate_num": "#000000",
    "navigate_text": "#333333",
    "running_highlight": "#FF0000",
    "selected_highlight": "#FFD700",
    "sidebar_border": "#EEEEEE",
    "wrapper_background": "#FFFFFF"
   },
   "moveMenuLeft": true,
   "nav_menu": {
    "height": "60px",
    "width": "253px"
   },
   "navigate_menu": true,
   "number_sections": false,
   "sideBar": true,
   "threshold": "5",
   "toc_cell": true,
   "toc_section_display": "block",
   "toc_window_display": true,
   "widenNotebook": false
  }
 },
 "nbformat": 4,
 "nbformat_minor": 2
}
