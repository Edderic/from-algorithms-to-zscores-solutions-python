{
 "cells": [
  {
   "cell_type": "markdown",
   "metadata": {
    "collapsed": true
   },
   "source": [
    "# Chapter 2 Solutions"
   ]
  },
  {
   "cell_type": "code",
   "execution_count": 4,
   "metadata": {
    "collapsed": true
   },
   "outputs": [],
   "source": [
    "import numpy as np"
   ]
  },
  {
   "cell_type": "markdown",
   "metadata": {
    "collapsed": true
   },
   "source": [
    "##1. This problem concerns the ALOHA network model of Section 2.1. Feel free to use (but cite) computations already in the example."
   ]
  },
  {
   "cell_type": "code",
   "execution_count": 25,
   "metadata": {
    "collapsed": false
   },
   "outputs": [],
   "source": [
    "class Constants():\n",
    "    p = 0.4 # probability of sending as an active node\n",
    "    q = 0.8 # probability of becoming active as an inactive node\n",
    "    num_samples = 1000.0\n",
    "    num_experiments = 1000000\n",
    "        \n",
    "class Sample():\n",
    "    def __init__(self, ratio):\n",
    "        self.ratio = ratio\n",
    "        \n",
    "    def generate(self):\n",
    "        num_ones = int(self.ratio * Constants.num_samples)\n",
    "        num_zeros = int((1 - self.ratio) * Constants.num_samples)\n",
    "        return np.append(np.zeros(num_zeros), np.ones(num_ones))\n",
    "\n",
    "    def event_happens(self):\n",
    "        samples = self.generate()\n",
    "        np.random.shuffle(samples)\n",
    "        return samples[0] == 1\n",
    "\n",
    "class InactiveNode():\n",
    "    def maybe_become_active(self):\n",
    "        if Sample(Constants.q).event_happens():\n",
    "            return ActiveNode()\n",
    "        else: \n",
    "            return InactiveNode()\n",
    "        \n",
    "    def is_sendable(self):\n",
    "        return False\n",
    "    \n",
    "    def maybe_send(self, collision):\n",
    "        return InactiveNode()\n",
    "    \n",
    "    def is_active(self):\n",
    "        return False\n",
    "    \n",
    "    def is_inactive(self):\n",
    "        return not self.is_active()\n",
    "\n",
    "\n",
    "\n",
    "class ActiveNode():\n",
    "    def __init__(self):\n",
    "        self.sendable = False\n",
    "\n",
    "    def maybe_become_active(self):\n",
    "        return ActiveNode()\n",
    "    \n",
    "    def is_sendable(self):\n",
    "        self.sendable = Sample(Constants.p).event_happens()\n",
    "        return self.sendable\n",
    "    \n",
    "    def maybe_send(self, collision):\n",
    "        if collision or not self.sendable:\n",
    "            return ActiveNode()\n",
    "        else:    \n",
    "            return InactiveNode()\n",
    "\n",
    "    def is_active(self):\n",
    "        return True\n",
    "    \n",
    "    def is_inactive(self):\n",
    "        return not self.is_active()\n",
    "\n",
    "\n",
    "class Epoch():\n",
    "    def __init__(self, nodes, num):\n",
    "        self.nodes = nodes\n",
    "        self.num = num\n",
    "\n",
    "    def check_collisions(self):\n",
    "        collision = True\n",
    "\n",
    "        for node in self.nodes:\n",
    "            collision = collision & node.is_sendable()\n",
    "        self.collision = collision\n",
    "\n",
    "    def maybe_send(self):\n",
    "        new_nodes = []\n",
    "        for node in self.nodes:\n",
    "            new_nodes.append(node.maybe_send(self.collision))\n",
    "        return new_nodes\n",
    "\n",
    "    def maybe_become_active(self):\n",
    "        new_nodes = []\n",
    "        for node in self.nodes:\n",
    "            new_nodes.append(node.maybe_become_active())\n",
    "        self.nodes = new_nodes\n",
    "\n",
    "    def num_nodes_active(self):\n",
    "        count = 0\n",
    "        for node in self.nodes:\n",
    "            if node.is_active():\n",
    "                count += 1\n",
    "        return count\n",
    "    \n",
    "class Criteria():\n",
    "    def __init__(self, criteria=None, given=lambda x: True):\n",
    "        self._criteria = criteria\n",
    "        self._given = given\n",
    "        \n",
    "    def given(self, active_count):\n",
    "        return self._given(active_count)\n",
    "    \n",
    "    def criteria(self, active_count):\n",
    "        return self._criteria(active_count)\n",
    "            \n",
    "def simulate_aloha(criteria=None, \n",
    "                   given=lambda x: True, \n",
    "                   num_experiments=10000,\n",
    "                   num_nodes=2):\n",
    "    criteria = Criteria(criteria=criteria, given=given)\n",
    "    \n",
    "    def build_epoch(epoch=Epoch([ActiveNode(), ActiveNode()], 0)):\n",
    "        epoch.maybe_become_active()\n",
    "        epoch.check_collisions()\n",
    "        \n",
    "        return Epoch(epoch.maybe_send(), epoch.num + 1)\n",
    "    \n",
    "    def generate_initial_number_of_nodes():\n",
    "        nodes = []\n",
    "        for i in range(num_nodes):\n",
    "            nodes.append(ActiveNode())\n",
    "        return nodes\n",
    "    \n",
    "    def populate_active_count(num_new_epochs):\n",
    "        epoch = Epoch(generate_initial_number_of_nodes(), 0)\n",
    "        active_count = [epoch.num_nodes_active()]\n",
    "        for i in range(num_new_epochs):\n",
    "            epoch = build_epoch(epoch=epoch)\n",
    "            active_count.append(epoch.num_nodes_active())\n",
    "        return active_count\n",
    "    \n",
    "    counts_updater = CountsUpdater(criteria)\n",
    "\n",
    "    for experiment in range(num_experiments):\n",
    "        active_count = populate_active_count(num_nodes)\n",
    "        counts_updater.update(active_count)\n",
    "\n",
    "    # needs to divide by num times that the \"given\" section happens, if \"given\" exists\n",
    "    if counts_updater.denominator == 0:\n",
    "        return 0.0\n",
    "    else:\n",
    "        return counts_updater.numerator / counts_updater.denominator\n",
    "\n",
    "    \n",
    "class CountsUpdater():\n",
    "    def __init__(self, criteria):\n",
    "        self.criteria = criteria\n",
    "        self.numerator = 0.0\n",
    "        self.denominator = 0.0\n",
    "    \n",
    "    def update(self, active_count):\n",
    "        if self.criteria.given(active_count):\n",
    "            self.denominator += 1\n",
    "        if self.criteria.given(active_count) and self.criteria.criteria(active_count):\n",
    "            self.numerator += 1\n",
    "    "
   ]
  },
  {
   "cell_type": "markdown",
   "metadata": {
    "collapsed": true
   },
   "source": [
    "### Sanity Checks"
   ]
  },
  {
   "cell_type": "markdown",
   "metadata": {
    "collapsed": true
   },
   "source": [
    "#### Equation (2.1) in the book says $P(X_1=2) = 0.52 $"
   ]
  },
  {
   "cell_type": "code",
   "execution_count": 26,
   "metadata": {
    "collapsed": false
   },
   "outputs": [
    {
     "data": {
      "text/plain": [
       "0.5238"
      ]
     },
     "execution_count": 26,
     "metadata": {},
     "output_type": "execute_result"
    }
   ],
   "source": [
    "simulate_aloha(criteria=lambda x: x[1]==2)"
   ]
  },
  {
   "cell_type": "markdown",
   "metadata": {
    "collapsed": true
   },
   "source": [
    "#### Equation (2.16) in the book says $P(X_1=1) = 0.48 $"
   ]
  },
  {
   "cell_type": "code",
   "execution_count": 11,
   "metadata": {
    "collapsed": false
   },
   "outputs": [
    {
     "data": {
      "text/plain": [
       "0.4774"
      ]
     },
     "execution_count": 11,
     "metadata": {},
     "output_type": "execute_result"
    }
   ],
   "source": [
    "simulate_aloha(criteria=lambda x: x[1]==1)"
   ]
  },
  {
   "cell_type": "markdown",
   "metadata": {
    "collapsed": true
   },
   "source": [
    "#### Equation (2.17) in the book says $P(X_2=2 \\mid X_1=1) = 0.41 $"
   ]
  },
  {
   "cell_type": "code",
   "execution_count": 27,
   "metadata": {
    "collapsed": false
   },
   "outputs": [
    {
     "data": {
      "text/plain": [
       "0.411081137165387"
      ]
     },
     "execution_count": 27,
     "metadata": {},
     "output_type": "execute_result"
    }
   ],
   "source": [
    "simulate_aloha(criteria=lambda x: x[2]==2, given=lambda x: x[1]==1)"
   ]
  },
  {
   "cell_type": "markdown",
   "metadata": {
    "collapsed": true
   },
   "source": [
    "#### Equation (2.18) in the book says $P(X_1=1 \\mid X_2=2) = 0.43 $"
   ]
  },
  {
   "cell_type": "code",
   "execution_count": 28,
   "metadata": {
    "collapsed": false
   },
   "outputs": [
    {
     "data": {
      "text/plain": [
       "0.4300847457627119"
      ]
     },
     "execution_count": 28,
     "metadata": {},
     "output_type": "execute_result"
    }
   ],
   "source": [
    "simulate_aloha(criteria=lambda x: x[1]==1, given=lambda x: x[2]==2)"
   ]
  },
  {
   "cell_type": "markdown",
   "metadata": {
    "collapsed": true
   },
   "source": [
    "#### Equation (2.19) in the book says $P(X_1=2 \\text{ or } X_2=2) = 0.72 $"
   ]
  },
  {
   "cell_type": "code",
   "execution_count": 29,
   "metadata": {
    "collapsed": false
   },
   "outputs": [
    {
     "data": {
      "text/plain": [
       "0.7159"
      ]
     },
     "execution_count": 29,
     "metadata": {},
     "output_type": "execute_result"
    }
   ],
   "source": [
    "simulate_aloha(criteria=lambda x: x[1] == 2 or x[2] == 2)"
   ]
  },
  {
   "cell_type": "markdown",
   "metadata": {
    "collapsed": false
   },
   "source": [
    "## (a) Calculate $P(X_{1} = 2 \\text{ and } X_{2} = 1)$, for the same values of $p$ and $q$ in the examples.\n",
    "\n",
    "\\begin{equation}\n",
    "  P(X_{1} = 2 \\text{ and } X_{2} = 1) = P(X_{2} = 1 \\mid X_{1} = 2) P(X_{1} = 2)\n",
    "\\end{equation}\n",
    "\n",
    "Formally speaking:\n",
    "\n",
    "\\begin{equation}\n",
    "\\begin{split}\n",
    "  P(X_{1} = 2) &= \\sum_{i=0}^{2}{P(X_{1} = 2 \\mid X_{0} = i) P(X_{0} = i)} \\\\\n",
    "  &= P(X_{1} = 2 \\mid X_{0} = 0) P(X_{0} = 0) \\\\\n",
    "  &+  P(X_{1} = 2 \\mid X_{0} = 1) P(X_{0} = 1) \\\\\n",
    "  &+ P(X_{1} = 2 \\mid X_{0} = 2) P(X_{0} = 2)\n",
    "\\end{split}\n",
    "\\end{equation}\n",
    "\n",
    "\n",
    "However, since it was given that both nodes were active in the beginning (i.e.\n",
    "$P(X_{0} = 2) = 1$), we know that $P(X_{0} = 0) = P(X_{0} = 1) = 0$. Thus, the\n",
    "statement above simplifies to:\n",
    "\n",
    "\\begin{equation}\n",
    "\\begin{aligned}\n",
    "  P(X_{1} = 2) &= P(X_{1} = 2 \\mid X_{0} = 2)\n",
    "\\end{aligned}\n",
    "\\end{equation}\n",
    "\n",
    "$P(X_{1} = 2 \\mid X_{0} = 2)$ could only happen two ways: either both\n",
    "active nodes send information (and hence create a collision), or both active\n",
    "nodes don't send anything at all.\n",
    "\n",
    "\\begin{equation}\n",
    "  \\begin{aligned}\n",
    "    P(X_{1} = 2) &= P(X_{1} = 2 \\mid X_{0} = 2) \\\\\n",
    "    &= P(C_{1} = 1 \\text{ and } C_{2} = 1 \\text{ or } C_{1} = 0 \\text{ and } C_{2} = 0) \\\\\n",
    "                 &= P(C_{1} = 1 \\text{ and } C_{2} = 1) + P(C_{1} = 0 \\text{ and } C_{2} = 0) \\\\\n",
    "    &= p^2 + (1-p)^2 \\\\\n",
    "    &= (0.4)^2 + (1-0.4)^2 \\\\\n",
    "    &= 0.16 + 0.36 \\\\\n",
    "    &= 0.52 \\\\\n",
    "  \\end{aligned}\n",
    "\\end{equation}\n",
    "\n",
    "\\begin{equation}\n",
    "  \\begin{aligned}\n",
    "    P(X_{2} = 1 \\mid X_{1} = 2) &= P(C_{1} = 1 \\text{ and } C_{2} = 0 \\text{ or } C_{1} = 0 \\text{ and } C_{2} = 1) \\\\\n",
    "    &= P(C_{1} = 1 \\text{ and } C_{2} = 0) + P(C_{1} = 0 \\text{ and } C_{2} =  1) \\\\\n",
    "    &= p(1-p) + p(1-p) \\\\\n",
    "    &= 2p(1-p) \\\\\n",
    "    &= 2(0.4)(1-(0.4)) \\\\\n",
    "    &= 0.48\\\\\n",
    "  \\end{aligned}\n",
    "\\end{equation}\n",
    "\n",
    "Therefore:\n",
    "\n",
    "\\begin{equation}\n",
    "  \\begin{aligned}\n",
    "    P(X_{1} = 2 \\text{ and } X_{2} = 1) &= P(X_{2} = 1 \\mid X_{1} = 2) P(X_{1} = 2) \\\\\n",
    "    &= 0.48 \\times 0.52 \\\\\n",
    "    &= 0.2496\n",
    "  \\end{aligned}\n",
    "\\end{equation}\n",
    "\n",
    "\n"
   ]
  },
  {
   "cell_type": "code",
   "execution_count": 20,
   "metadata": {
    "collapsed": false
   },
   "outputs": [
    {
     "data": {
      "text/plain": [
       "0.251"
      ]
     },
     "execution_count": 20,
     "metadata": {},
     "output_type": "execute_result"
    }
   ],
   "source": [
    "simulate_aloha(lambda x: x[1] == 2 and x[2] == 1)"
   ]
  },
  {
   "cell_type": "markdown",
   "metadata": {
    "collapsed": false
   },
   "source": [
    "## (a) Find $P(X_{2} = 0)$\n",
    "\n",
    "\n",
    "\\begin{equation}\n",
    "  \\begin{aligned}\n",
    "    P(X_2 = 0) &= \\sum_{i=0}^{2} P(X_2 = 0 \\text{ and } X_1 = i) \\\\\n",
    "    &= \\sum_{i=0}^{2} P(X_2 = 0 \\mid X_1 = i)P(X_1 = i) \\\\\n",
    "    &= P(X_2 = 0 \\mid X_1 = 0)P(X_1 = 0) \\\\\n",
    "    &\\quad + P(X_2 = 0 \\mid X_1 = 1)P(X_1 = 1) \\\\\n",
    "    &\\quad + P(X_2 = 0 \\mid X_1 = 2)P(X_1 = 2) \\\\\n",
    "  \\end{aligned}\n",
    "\\end{equation}\n",
    "\n",
    "Let's start with $P(X_1 = 0)$. We know that it is equivalent to:\n",
    "\n",
    "\\begin{equation}\n",
    "  \\begin{aligned}\n",
    "    P(X_1 = 0) &= P(X_1 = 0 \\text{ and } X_0 = 2) \\\\\n",
    "    &= P(X_1 = 0 \\mid X_0 = 2)P(X_0 = 2) \\\\\n",
    "    &= P(X_1 = 0 \\mid X_0 = 2) \\\\\n",
    "  \\end{aligned}\n",
    "\\end{equation}\n",
    "\n",
    "It is impossible for two active nodes to both become inactive for the next\n",
    "epoch, so $P(X_1 = 0) = P(X_1 = 0 \\mid X_0 = 2) = 0$.\n",
    "\n",
    "Next we look at $P(X_1 = 1)$:\n",
    "\n",
    "\\begin{equation}\n",
    "  \\begin{aligned}\n",
    "    P(X_1 = 1) &= P(X_1 = 1 \\text{ and } X_0 = 2) \\\\\n",
    "    &= P(X_1 = 1 \\mid X_0 = 2)P(X_0 = 2) \\\\\n",
    "    &= P(X_1 = 1 \\mid X_0 = 2) \\\\\n",
    "  \\end{aligned}\n",
    "\\end{equation}\n",
    "\n",
    "This could only happen two ways: either the first node sends and the second\n",
    "node does not, or the second node sends and the first node does not. For active\n",
    "nodes, let $S_i=k, i \\in \\{0,1\\}$ and $k \\in \\{0,1\\}$ where, for node $i$,\n",
    "$S_i=0$ is the event of not sending and $S_i=1$ is the event of sending:\n",
    "\n",
    "\\begin{equation}\n",
    "  \\begin{aligned}\n",
    "    P(X_1 = 1) &= P(X_1 = 1 \\mid X_0 = 2) \\\\\n",
    "    &= P(S_1 = 1 \\text{ and } S_2 = 0 \\text{ or } S_1 = 0 \\text{ and } S_2 = 1) \\\\\n",
    "    &= P(S_1 = 1 \\text{ and } S_2 = 0) + P(S_1 = 0 \\text{ and } S_2 = 1) \\\\\n",
    "    &= p(1-p) + p(1-p) \\\\\n",
    "    &= 2p(1-p) \\\\\n",
    "    &= 2(0.4)(1-0.4) \\\\\n",
    "    &= 0.48\n",
    "  \\end{aligned}\n",
    "\\end{equation}\n",
    "\n",
    "Now let's look at $P(X_2=0 \\mid X_1=1)$. The only way this could happen is when\n",
    "the active node sends while the other node stays inactive:\n",
    "\n",
    "\\begin{equation}\n",
    "  \\begin{aligned}\n",
    "    P(X_2=0 \\mid X_1=1) &= p(1-q) \\\\\n",
    "    &= (0.4)(1-(0.8)) \\\\\n",
    "    &= 0.08\n",
    "  \\end{aligned}\n",
    "\\end{equation}\n",
    "\n",
    "Now we consider $P(X_2=0 \\mid X_1=2)$. Again it is impossible for two active\n",
    "nodes to become inactive for the next epoch, so $P(X_2=0 \\mid X_1=2) = 0$.\n",
    "\n",
    "Therefore, $P(X_2=0)$ simplifies to the following:\n",
    "\n",
    "\\begin{equation}\n",
    "  \\begin{aligned}\n",
    "    P(X_2=0) &= P(X_2 = 0 \\mid X_1 = 0)P(X_1 = 0) \\\\\n",
    "    &\\quad + P(X_2 = 0 \\mid X_1 = 1)P(X_1 = 1) \\\\\n",
    "    &\\quad + P(X_2 = 0 \\mid X_1 = 2)P(X_1 = 2) \\\\\n",
    "    &= P(X_2 = 0 \\mid X_1 = 0) \\times 0 \\\\\n",
    "    &\\quad + 0.08 \\times 0.48 \\\\\n",
    "    &\\quad + 0 \\times P(X_1 = 2) \\\\\n",
    "    &= 0.0384\n",
    "  \\end{aligned}\n",
    "\\end{equation}\n",
    "\n",
    "\n",
    "\n"
   ]
  },
  {
   "cell_type": "code",
   "execution_count": 21,
   "metadata": {
    "collapsed": false
   },
   "outputs": [
    {
     "data": {
      "text/plain": [
       "0.0377"
      ]
     },
     "execution_count": 21,
     "metadata": {},
     "output_type": "execute_result"
    }
   ],
   "source": [
    "simulate_aloha(lambda x: x[2]==0)"
   ]
  },
  {
   "cell_type": "markdown",
   "metadata": {
    "collapsed": false
   },
   "source": [
    "## (a) Find $P(X_{1} = 1 \\mid X_{2} = 1)$\n",
    "\n",
    "\\begin{equation}\n",
    "  \\begin{aligned}\n",
    "    P(X_{1} = 1 \\mid X_{2} = 1) &= \\frac{P(X_1=1 \\text{ and } X_2=1)}{P(X_2 = 1)} \\\\\n",
    "    &= \\frac{P(X_2=1 \\mid X_1=1)P(X_1=1) }{P(X_2 = 1)} \\\\\n",
    "    &= \\frac{P(X_2=1 \\mid X_1=1)P(X_1=1) }{\\sum_{i=0}^{2}P(X_2 = 1, X_1=i)} \\\\\n",
    "    &= \\frac{P(X_2=1 \\mid X_1=1)P(X_1=1) }{\\sum_{i=0}^{2}P(X_2 = 1 \\mid X_1=i)P(X_1=i)} \\\\\n",
    "  \\end{aligned}\n",
    "\\end{equation}\n",
    "\n",
    "The denominator expands to the following:\n",
    "\n",
    "\\begin{equation}\n",
    "  \\begin{aligned}\n",
    "    \\sum_{i=0}^{2}P(X_2 = 1 \\mid X_1=i)P(X_1=i) &= P(X_2 = 1 \\mid X_1=0)P(X_1=0) \\\\\n",
    "    &\\quad + P(X_2 = 1 \\mid X_1=1)P(X_1=1) \\\\\n",
    "    &\\quad + P(X_2 = 1 \\mid X_1=2)P(X_1=2) \\\\\n",
    "  \\end{aligned}\n",
    "\\end{equation}\n",
    "\n",
    "We've already established that $P(X_1=0) = 0$, $P(X_1=1)=0.48$, $P(X_1=2) =\n",
    "0.52$. Since, $P(X_1=0) = 0$, we know that $P(X_2=1 \\mid X_1=0)$ cannot\n",
    "happen. Thus, what we need to calculate are the following: $P(X_2=1\n",
    "\\mid X_1=1)$ and $P(X_2=1 \\mid X_1=2)$.\n",
    "\n",
    "Let's start with $P(X_2=1 \\mid X_1=1)$. Three possibilities:\n",
    "\n",
    "* Active node successfully sends; inactive node becomes active and does not send\n",
    "* Active node does not attempt to send; inactive node does not become active\n",
    "* Active node does not attempt to send; inactive node becomes active and successfully sends\n",
    "\n",
    "\\begin{equation}\n",
    "  \\begin{aligned}\n",
    "    P(X_2=1 \\mid X_1=1) &= (1-p)qp + (1-p)(1-q) + pq(1-p) \\\\\n",
    "    &= (1-0.4)(0.8)(0.4) + (1-0.4)(1-0.8) + (0.4(0.8(1-0.4))) \\\\\n",
    "    &= 0.192 + 0.12 + 0.192 \\\\\n",
    "    &= 0.504\n",
    "  \\end{aligned}\n",
    "\\end{equation}\n",
    "\n",
    "Next we look at $P(X_2=1 \\mid X_1=2)$. The first active node sends a message\n",
    "and becomes inactive while the second active node refrains from sending, or the\n",
    "second active node sends a message and becomes inactive while the first active\n",
    "node refrains.\n",
    "\n",
    "\\begin{equation}\n",
    "  \\begin{aligned}\n",
    "    P(X_2=1 \\mid X_1=2) &= P(A_1=1 \\text{ and } A_2=0 \\text{ or } A_1=0 \\text{ and } A_2=1) \\\\\n",
    "    &= P(A_1=1 \\text{ and } A_2=0) + P(A_1=0 \\text{ and } A_2=1) \\\\\n",
    "    &= p(1-p) + (1-p)p \\\\\n",
    "    &= 2p(1-p) \\\\\n",
    "    &= 2(0.4)(1-0.4) \\\\\n",
    "    &= 0.48\n",
    "  \\end{aligned}\n",
    "\\end{equation}\n",
    "\n",
    "Therefore, $P(X_1=1 \\mid X_2=1)$ reduces to the following:\n",
    "\n",
    "\\begin{equation}\n",
    "  \\begin{aligned}\n",
    "    P(X_1=1 \\mid X_2=1) &= \\frac{P(X_2=1 \\mid X_1=1)P(X_1=1) }{\\sum_{i=0}^{2}P(X_2 = 1 \\mid X_1=i)P(X_1=i)} \\\\\n",
    "    &= \\frac{0.504 \\times 0.48}{0 \\times 0 + 0.504 \\times 0.48 + 0.48 \\times 0.52}\\\\\n",
    "    &= \\frac{0.24192}{0 + 0.24192 + 0.2496} \\\\\n",
    "    &= 0.4921875 \\\\\n",
    "  \\end{aligned}\n",
    "\\end{equation}\n",
    "\n",
    "\n"
   ]
  },
  {
   "cell_type": "code",
   "execution_count": 22,
   "metadata": {
    "collapsed": false
   },
   "outputs": [
    {
     "data": {
      "text/plain": [
       "0.4962144464906896"
      ]
     },
     "execution_count": 22,
     "metadata": {},
     "output_type": "execute_result"
    }
   ],
   "source": [
    "simulate_aloha(criteria=lambda x: x[1]==1, given=lambda x: x[2]==1)"
   ]
  },
  {
   "cell_type": "code",
   "execution_count": null,
   "metadata": {
    "collapsed": true
   },
   "outputs": [],
   "source": []
  },
  {
   "cell_type": "code",
   "execution_count": null,
   "metadata": {
    "collapsed": true
   },
   "outputs": [],
   "source": []
  }
 ],
 "metadata": {
  "kernelspec": {
   "display_name": "Python 2",
   "language": "python",
   "name": "python2"
  },
  "language_info": {
   "codemirror_mode": {
    "name": "ipython",
    "version": 2
   },
   "file_extension": ".py",
   "mimetype": "text/x-python",
   "name": "python",
   "nbconvert_exporter": "python",
   "pygments_lexer": "ipython2",
   "version": "2.7.11"
  }
 },
 "nbformat": 4,
 "nbformat_minor": 0
}
