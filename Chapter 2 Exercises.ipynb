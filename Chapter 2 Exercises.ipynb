{
 "cells": [
  {
   "cell_type": "markdown",
   "metadata": {
    "collapsed": true
   },
   "source": [
    "# Chapter 2 Solutions"
   ]
  },
  {
   "cell_type": "code",
   "execution_count": 25,
   "metadata": {
    "collapsed": true
   },
   "outputs": [],
   "source": [
    "import numpy as np\n",
    "import pandas as pd\n",
    "import scipy.misc as misc"
   ]
  },
  {
   "cell_type": "markdown",
   "metadata": {
    "collapsed": true
   },
   "source": [
    "##1. This problem concerns the ALOHA network model of Section 2.1. Feel free to use (but cite) computations already in the example."
   ]
  },
  {
   "cell_type": "code",
   "execution_count": 2,
   "metadata": {
    "collapsed": false
   },
   "outputs": [],
   "source": [
    "class Sample():\n",
    "    def __init__(self, ratio, num_samples=1000):\n",
    "        self.ratio = ratio\n",
    "        self.num_samples = num_samples\n",
    "        \n",
    "    def generate(self):\n",
    "        num_ones = int(self.ratio * self.num_samples)\n",
    "        num_zeros = int((1 - self.ratio) * self.num_samples)\n",
    "        return np.append(np.zeros(num_zeros), np.ones(num_ones))\n",
    "\n",
    "    def event_happens(self):\n",
    "        samples = self.generate()\n",
    "        np.random.shuffle(samples)\n",
    "        return samples[0] == 1\n",
    "\n",
    "class InactiveNode():\n",
    "    def __init__(self, p=None, q=None):\n",
    "        self.p = p\n",
    "        self.q = q\n",
    "        \n",
    "    def maybe_become_active(self):\n",
    "        if Sample(self.q).event_happens():\n",
    "            return ActiveNode(p=self.p, q=self.q)\n",
    "        else: \n",
    "            return InactiveNode(p=self.p, q=self.q)\n",
    "        \n",
    "    def is_sendable(self):\n",
    "        return False\n",
    "    \n",
    "    def maybe_send(self, collision):\n",
    "        return InactiveNode(p=self.p, q=self.q)\n",
    "    \n",
    "    def is_active(self):\n",
    "        return False\n",
    "    \n",
    "    def is_inactive(self):\n",
    "        return not self.is_active()\n",
    "\n",
    "\n",
    "\n",
    "class ActiveNode():\n",
    "    def __init__(self, p=None, q=None):\n",
    "        self.sendable = False\n",
    "        self.p = p\n",
    "        self.q = q\n",
    "\n",
    "    def maybe_become_active(self):\n",
    "        return ActiveNode(p=self.p, q=self.q)\n",
    "    \n",
    "    def is_sendable(self):\n",
    "        self.sendable = Sample(self.p).event_happens()\n",
    "        return self.sendable\n",
    "    \n",
    "    def maybe_send(self, collision):\n",
    "        if collision or not self.sendable:\n",
    "            return ActiveNode(p=self.p, q=self.q)\n",
    "        else:    \n",
    "            return InactiveNode(p=self.p, q=self.q)\n",
    "\n",
    "    def is_active(self):\n",
    "        return True\n",
    "    \n",
    "    def is_inactive(self):\n",
    "        return not self.is_active()\n",
    "\n",
    "\n",
    "class Epoch():\n",
    "    def __init__(self, nodes, num):\n",
    "        self.nodes = nodes\n",
    "        self.num = num\n",
    "\n",
    "    def check_collisions(self):\n",
    "        collision = True\n",
    "\n",
    "        for node in self.nodes:\n",
    "            collision = collision & node.is_sendable()\n",
    "        self.collision = collision\n",
    "\n",
    "    def maybe_send(self):\n",
    "        new_nodes = []\n",
    "        for node in self.nodes:\n",
    "            new_nodes.append(node.maybe_send(self.collision))\n",
    "        return new_nodes\n",
    "\n",
    "    def maybe_become_active(self):\n",
    "        new_nodes = []\n",
    "        for node in self.nodes:\n",
    "            new_nodes.append(node.maybe_become_active())\n",
    "        self.nodes = new_nodes\n",
    "\n",
    "    def num_nodes_active(self):\n",
    "        count = 0\n",
    "        for node in self.nodes:\n",
    "            if node.is_active():\n",
    "                count += 1\n",
    "        return count\n",
    "    \n",
    "class Criteria():\n",
    "    def __init__(self, criteria=None, given=lambda x: True):\n",
    "        self._criteria = criteria\n",
    "        self._given = given\n",
    "        \n",
    "    def given(self, active_count):\n",
    "        return self._given(active_count)\n",
    "    \n",
    "    def criteria(self, active_count):\n",
    "        return self._criteria(active_count)\n",
    "            \n",
    "def simulate_aloha(criteria=None, \n",
    "                   given=lambda x: True, \n",
    "                   num_experiments=10000,\n",
    "                   num_nodes=2,\n",
    "                   p=0.4,  # probability of sending as an active node\n",
    "                   q=0.8): # probability of becoming active as an inactive node\n",
    "    criteria = Criteria(criteria=criteria, given=given)\n",
    "    \n",
    "    def build_epoch(epoch=Epoch([ActiveNode(p=p, q=q), ActiveNode(p=p, q=q)], 0)):\n",
    "        epoch.maybe_become_active()\n",
    "        epoch.check_collisions()\n",
    "        \n",
    "        return Epoch(epoch.maybe_send(), epoch.num + 1)\n",
    "    \n",
    "    def generate_initial_number_of_nodes():\n",
    "        nodes = []\n",
    "        for i in range(num_nodes):\n",
    "            nodes.append(ActiveNode(p=p, q=q))\n",
    "        return nodes\n",
    "    \n",
    "    def populate_active_count(num_new_epochs):\n",
    "        epoch = Epoch(generate_initial_number_of_nodes(), 0)\n",
    "        active_count = [epoch.num_nodes_active()]\n",
    "        for i in range(num_new_epochs):\n",
    "            epoch = build_epoch(epoch=epoch)\n",
    "            active_count.append(epoch.num_nodes_active())\n",
    "        return active_count\n",
    "    \n",
    "    counts_updater = CountsUpdater(criteria)\n",
    "\n",
    "    for experiment in range(num_experiments):\n",
    "        active_count = populate_active_count(num_nodes)\n",
    "        counts_updater.update(active_count)\n",
    "\n",
    "    # needs to divide by num times that the \"given\" section happens, if \"given\" exists\n",
    "    if counts_updater.denominator == 0:\n",
    "        return 0.0\n",
    "    else:\n",
    "        return counts_updater.numerator / counts_updater.denominator\n",
    "\n",
    "    \n",
    "class CountsUpdater():\n",
    "    def __init__(self, criteria):\n",
    "        self.criteria = criteria\n",
    "        self.numerator = 0.0\n",
    "        self.denominator = 0.0\n",
    "    \n",
    "    def update(self, active_count):\n",
    "        if self.criteria.given(active_count):\n",
    "            self.denominator += 1\n",
    "        if self.criteria.given(active_count) and self.criteria.criteria(active_count):\n",
    "            self.numerator += 1\n",
    "    "
   ]
  },
  {
   "cell_type": "markdown",
   "metadata": {
    "collapsed": true
   },
   "source": [
    "### Sanity Checks"
   ]
  },
  {
   "cell_type": "markdown",
   "metadata": {
    "collapsed": true
   },
   "source": [
    "#### Equation (2.1) in the book says $P(X_1=2) = 0.52 $"
   ]
  },
  {
   "cell_type": "code",
   "execution_count": 3,
   "metadata": {
    "collapsed": false
   },
   "outputs": [
    {
     "data": {
      "text/plain": [
       "0.5132"
      ]
     },
     "execution_count": 3,
     "metadata": {},
     "output_type": "execute_result"
    }
   ],
   "source": [
    "simulate_aloha(criteria=lambda x: x[1]==2)"
   ]
  },
  {
   "cell_type": "markdown",
   "metadata": {
    "collapsed": true
   },
   "source": [
    "#### Equation (2.16) in the book says $P(X_1=1) = 0.48 $"
   ]
  },
  {
   "cell_type": "code",
   "execution_count": 4,
   "metadata": {
    "collapsed": false
   },
   "outputs": [
    {
     "data": {
      "text/plain": [
       "0.4793"
      ]
     },
     "execution_count": 4,
     "metadata": {},
     "output_type": "execute_result"
    }
   ],
   "source": [
    "simulate_aloha(criteria=lambda x: x[1]==1)"
   ]
  },
  {
   "cell_type": "markdown",
   "metadata": {
    "collapsed": true
   },
   "source": [
    "#### Equation (2.17) in the book says $P(X_2=2 \\mid X_1=1) = 0.41 $"
   ]
  },
  {
   "cell_type": "code",
   "execution_count": 5,
   "metadata": {
    "collapsed": false
   },
   "outputs": [
    {
     "data": {
      "text/plain": [
       "0.429322675641565"
      ]
     },
     "execution_count": 5,
     "metadata": {},
     "output_type": "execute_result"
    }
   ],
   "source": [
    "simulate_aloha(criteria=lambda x: x[2]==2, given=lambda x: x[1]==1)"
   ]
  },
  {
   "cell_type": "markdown",
   "metadata": {
    "collapsed": true
   },
   "source": [
    "#### Equation (2.18) in the book says $P(X_1=1 \\mid X_2=2) = 0.43 $"
   ]
  },
  {
   "cell_type": "code",
   "execution_count": 6,
   "metadata": {
    "collapsed": false
   },
   "outputs": [
    {
     "data": {
      "text/plain": [
       "0.4259723964868256"
      ]
     },
     "execution_count": 6,
     "metadata": {},
     "output_type": "execute_result"
    }
   ],
   "source": [
    "simulate_aloha(criteria=lambda x: x[1]==1, given=lambda x: x[2]==2)"
   ]
  },
  {
   "cell_type": "markdown",
   "metadata": {
    "collapsed": true
   },
   "source": [
    "#### Equation (2.19) in the book says $P(X_1=2 \\text{ or } X_2=2) = 0.72 $"
   ]
  },
  {
   "cell_type": "code",
   "execution_count": 7,
   "metadata": {
    "collapsed": false
   },
   "outputs": [
    {
     "data": {
      "text/plain": [
       "0.726"
      ]
     },
     "execution_count": 7,
     "metadata": {},
     "output_type": "execute_result"
    }
   ],
   "source": [
    "simulate_aloha(criteria=lambda x: x[1] == 2 or x[2] == 2)"
   ]
  },
  {
   "cell_type": "markdown",
   "metadata": {
    "collapsed": false
   },
   "source": [
    "### (a) Calculate $P(X_{1} = 2 \\text{ and } X_{2} = 1)$, for the same values of $p$ and $q$ in the examples.\n",
    "\n",
    "\\begin{equation}\n",
    "  P(X_{1} = 2 \\text{ and } X_{2} = 1) = P(X_{2} = 1 \\mid X_{1} = 2) P(X_{1} = 2)\n",
    "\\end{equation}\n",
    "\n",
    "Formally speaking:\n",
    "\n",
    "\\begin{equation}\n",
    "\\begin{split}\n",
    "  P(X_{1} = 2) &= \\sum_{i=0}^{2}{P(X_{1} = 2 \\mid X_{0} = i) P(X_{0} = i)} \\\\\n",
    "  &= P(X_{1} = 2 \\mid X_{0} = 0) P(X_{0} = 0) \\\\\n",
    "  &+  P(X_{1} = 2 \\mid X_{0} = 1) P(X_{0} = 1) \\\\\n",
    "  &+ P(X_{1} = 2 \\mid X_{0} = 2) P(X_{0} = 2)\n",
    "\\end{split}\n",
    "\\end{equation}\n",
    "\n",
    "\n",
    "However, since it was given that both nodes were active in the beginning (i.e.\n",
    "$P(X_{0} = 2) = 1$), we know that $P(X_{0} = 0) = P(X_{0} = 1) = 0$. Thus, the\n",
    "statement above simplifies to:\n",
    "\n",
    "\\begin{equation}\n",
    "\\begin{aligned}\n",
    "  P(X_{1} = 2) &= P(X_{1} = 2 \\mid X_{0} = 2)\n",
    "\\end{aligned}\n",
    "\\end{equation}\n",
    "\n",
    "$P(X_{1} = 2 \\mid X_{0} = 2)$ could only happen two ways: either both\n",
    "active nodes send information (and hence create a collision), or both active\n",
    "nodes don't send anything at all.\n",
    "\n",
    "\\begin{equation}\n",
    "  \\begin{aligned}\n",
    "    P(X_{1} = 2) &= P(X_{1} = 2 \\mid X_{0} = 2) \\\\\n",
    "    &= P(C_{1} = 1 \\text{ and } C_{2} = 1 \\text{ or } C_{1} = 0 \\text{ and } C_{2} = 0) \\\\\n",
    "                 &= P(C_{1} = 1 \\text{ and } C_{2} = 1) + P(C_{1} = 0 \\text{ and } C_{2} = 0) \\\\\n",
    "    &= p^2 + (1-p)^2 \\\\\n",
    "    &= (0.4)^2 + (1-0.4)^2 \\\\\n",
    "    &= 0.16 + 0.36 \\\\\n",
    "    &= 0.52 \\\\\n",
    "  \\end{aligned}\n",
    "\\end{equation}\n",
    "\n",
    "\\begin{equation}\n",
    "  \\begin{aligned}\n",
    "    P(X_{2} = 1 \\mid X_{1} = 2) &= P(C_{1} = 1 \\text{ and } C_{2} = 0 \\text{ or } C_{1} = 0 \\text{ and } C_{2} = 1) \\\\\n",
    "    &= P(C_{1} = 1 \\text{ and } C_{2} = 0) + P(C_{1} = 0 \\text{ and } C_{2} =  1) \\\\\n",
    "    &= p(1-p) + p(1-p) \\\\\n",
    "    &= 2p(1-p) \\\\\n",
    "    &= 2(0.4)(1-(0.4)) \\\\\n",
    "    &= 0.48\\\\\n",
    "  \\end{aligned}\n",
    "\\end{equation}\n",
    "\n",
    "Therefore:\n",
    "\n",
    "\\begin{equation}\n",
    "  \\begin{aligned}\n",
    "    P(X_{1} = 2 \\text{ and } X_{2} = 1) &= P(X_{2} = 1 \\mid X_{1} = 2) P(X_{1} = 2) \\\\\n",
    "    &= 0.48 \\times 0.52 \\\\\n",
    "    &= 0.2496\n",
    "  \\end{aligned}\n",
    "\\end{equation}\n",
    "\n",
    "\n"
   ]
  },
  {
   "cell_type": "code",
   "execution_count": 8,
   "metadata": {
    "collapsed": false
   },
   "outputs": [
    {
     "data": {
      "text/plain": [
       "0.2473"
      ]
     },
     "execution_count": 8,
     "metadata": {},
     "output_type": "execute_result"
    }
   ],
   "source": [
    "simulate_aloha(lambda x: x[1] == 2 and x[2] == 1)"
   ]
  },
  {
   "cell_type": "markdown",
   "metadata": {
    "collapsed": false
   },
   "source": [
    "### (b) Find $P(X_{2} = 0)$\n",
    "\n",
    "\n",
    "\\begin{equation}\n",
    "  \\begin{aligned}\n",
    "    P(X_2 = 0) &= \\sum_{i=0}^{2} P(X_2 = 0 \\text{ and } X_1 = i) \\\\\n",
    "    &= \\sum_{i=0}^{2} P(X_2 = 0 \\mid X_1 = i)P(X_1 = i) \\\\\n",
    "    &= P(X_2 = 0 \\mid X_1 = 0)P(X_1 = 0) \\\\\n",
    "    &\\quad + P(X_2 = 0 \\mid X_1 = 1)P(X_1 = 1) \\\\\n",
    "    &\\quad + P(X_2 = 0 \\mid X_1 = 2)P(X_1 = 2) \\\\\n",
    "  \\end{aligned}\n",
    "\\end{equation}\n",
    "\n",
    "Let's start with $P(X_1 = 0)$. We know that it is equivalent to:\n",
    "\n",
    "\\begin{equation}\n",
    "  \\begin{aligned}\n",
    "    P(X_1 = 0) &= P(X_1 = 0 \\text{ and } X_0 = 2) \\\\\n",
    "    &= P(X_1 = 0 \\mid X_0 = 2)P(X_0 = 2) \\\\\n",
    "    &= P(X_1 = 0 \\mid X_0 = 2) \\\\\n",
    "  \\end{aligned}\n",
    "\\end{equation}\n",
    "\n",
    "It is impossible for two active nodes to both become inactive for the next\n",
    "epoch, so $P(X_1 = 0) = P(X_1 = 0 \\mid X_0 = 2) = 0$.\n",
    "\n",
    "Next we look at $P(X_1 = 1)$:\n",
    "\n",
    "\\begin{equation}\n",
    "  \\begin{aligned}\n",
    "    P(X_1 = 1) &= P(X_1 = 1 \\text{ and } X_0 = 2) \\\\\n",
    "    &= P(X_1 = 1 \\mid X_0 = 2)P(X_0 = 2) \\\\\n",
    "    &= P(X_1 = 1 \\mid X_0 = 2) \\\\\n",
    "  \\end{aligned}\n",
    "\\end{equation}\n",
    "\n",
    "This could only happen two ways: either the first node sends and the second\n",
    "node does not, or the second node sends and the first node does not. For active\n",
    "nodes, let $S_i=k, i \\in \\{0,1\\}$ and $k \\in \\{0,1\\}$ where, for node $i$,\n",
    "$S_i=0$ is the event of not sending and $S_i=1$ is the event of sending:\n",
    "\n",
    "\\begin{equation}\n",
    "  \\begin{aligned}\n",
    "    P(X_1 = 1) &= P(X_1 = 1 \\mid X_0 = 2) \\\\\n",
    "    &= P(S_1 = 1 \\text{ and } S_2 = 0 \\text{ or } S_1 = 0 \\text{ and } S_2 = 1) \\\\\n",
    "    &= P(S_1 = 1 \\text{ and } S_2 = 0) + P(S_1 = 0 \\text{ and } S_2 = 1) \\\\\n",
    "    &= p(1-p) + p(1-p) \\\\\n",
    "    &= 2p(1-p) \\\\\n",
    "    &= 2(0.4)(1-0.4) \\\\\n",
    "    &= 0.48\n",
    "  \\end{aligned}\n",
    "\\end{equation}\n",
    "\n",
    "Now let's look at $P(X_2=0 \\mid X_1=1)$. The only way this could happen is when\n",
    "the active node sends while the other node stays inactive:\n",
    "\n",
    "\\begin{equation}\n",
    "  \\begin{aligned}\n",
    "    P(X_2=0 \\mid X_1=1) &= p(1-q) \\\\\n",
    "    &= (0.4)(1-(0.8)) \\\\\n",
    "    &= 0.08\n",
    "  \\end{aligned}\n",
    "\\end{equation}\n",
    "\n",
    "Now we consider $P(X_2=0 \\mid X_1=2)$. Again it is impossible for two active\n",
    "nodes to become inactive for the next epoch, so $P(X_2=0 \\mid X_1=2) = 0$.\n",
    "\n",
    "Therefore, $P(X_2=0)$ simplifies to the following:\n",
    "\n",
    "\\begin{equation}\n",
    "  \\begin{aligned}\n",
    "    P(X_2=0) &= P(X_2 = 0 \\mid X_1 = 0)P(X_1 = 0) \\\\\n",
    "    &\\quad + P(X_2 = 0 \\mid X_1 = 1)P(X_1 = 1) \\\\\n",
    "    &\\quad + P(X_2 = 0 \\mid X_1 = 2)P(X_1 = 2) \\\\\n",
    "    &= P(X_2 = 0 \\mid X_1 = 0) \\times 0 \\\\\n",
    "    &\\quad + 0.08 \\times 0.48 \\\\\n",
    "    &\\quad + 0 \\times P(X_1 = 2) \\\\\n",
    "    &= 0.0384\n",
    "  \\end{aligned}\n",
    "\\end{equation}\n",
    "\n",
    "\n",
    "\n"
   ]
  },
  {
   "cell_type": "code",
   "execution_count": 9,
   "metadata": {
    "collapsed": false
   },
   "outputs": [
    {
     "data": {
      "text/plain": [
       "0.0381"
      ]
     },
     "execution_count": 9,
     "metadata": {},
     "output_type": "execute_result"
    }
   ],
   "source": [
    "simulate_aloha(lambda x: x[2]==0)"
   ]
  },
  {
   "cell_type": "markdown",
   "metadata": {
    "collapsed": false
   },
   "source": [
    "### (c) Find $P(X_{1} = 1 \\mid X_{2} = 1)$\n",
    "\n",
    "\\begin{equation}\n",
    "  \\begin{aligned}\n",
    "    P(X_{1} = 1 \\mid X_{2} = 1) &= \\frac{P(X_1=1 \\text{ and } X_2=1)}{P(X_2 = 1)} \\\\\n",
    "    &= \\frac{P(X_2=1 \\mid X_1=1)P(X_1=1) }{P(X_2 = 1)} \\\\\n",
    "    &= \\frac{P(X_2=1 \\mid X_1=1)P(X_1=1) }{\\sum_{i=0}^{2}P(X_2 = 1, X_1=i)} \\\\\n",
    "    &= \\frac{P(X_2=1 \\mid X_1=1)P(X_1=1) }{\\sum_{i=0}^{2}P(X_2 = 1 \\mid X_1=i)P(X_1=i)} \\\\\n",
    "  \\end{aligned}\n",
    "\\end{equation}\n",
    "\n",
    "The denominator expands to the following:\n",
    "\n",
    "\\begin{equation}\n",
    "  \\begin{aligned}\n",
    "    \\sum_{i=0}^{2}P(X_2 = 1 \\mid X_1=i)P(X_1=i) &= P(X_2 = 1 \\mid X_1=0)P(X_1=0) \\\\\n",
    "    &\\quad + P(X_2 = 1 \\mid X_1=1)P(X_1=1) \\\\\n",
    "    &\\quad + P(X_2 = 1 \\mid X_1=2)P(X_1=2) \\\\\n",
    "  \\end{aligned}\n",
    "\\end{equation}\n",
    "\n",
    "We've already established that $P(X_1=0) = 0$, $P(X_1=1)=0.48$, $P(X_1=2) =\n",
    "0.52$. Since, $P(X_1=0) = 0$, we know that $P(X_2=1 \\mid X_1=0)$ cannot\n",
    "happen. Thus, what we need to calculate are the following: $P(X_2=1\n",
    "\\mid X_1=1)$ and $P(X_2=1 \\mid X_1=2)$.\n",
    "\n",
    "Let's start with $P(X_2=1 \\mid X_1=1)$. Three possibilities:\n",
    "\n",
    "* Active node successfully sends; inactive node becomes active and does not send\n",
    "* Active node does not attempt to send; inactive node does not become active\n",
    "* Active node does not attempt to send; inactive node becomes active and successfully sends\n",
    "\n",
    "\\begin{equation}\n",
    "  \\begin{aligned}\n",
    "    P(X_2=1 \\mid X_1=1) &= (1-p)qp + (1-p)(1-q) + pq(1-p) \\\\\n",
    "    &= (1-0.4)(0.8)(0.4) + (1-0.4)(1-0.8) + (0.4(0.8(1-0.4))) \\\\\n",
    "    &= 0.192 + 0.12 + 0.192 \\\\\n",
    "    &= 0.504\n",
    "  \\end{aligned}\n",
    "\\end{equation}\n",
    "\n",
    "Next we look at $P(X_2=1 \\mid X_1=2)$. The first active node sends a message\n",
    "and becomes inactive while the second active node refrains from sending, or the\n",
    "second active node sends a message and becomes inactive while the first active\n",
    "node refrains.\n",
    "\n",
    "\\begin{equation}\n",
    "  \\begin{aligned}\n",
    "    P(X_2=1 \\mid X_1=2) &= P(A_1=1 \\text{ and } A_2=0 \\text{ or } A_1=0 \\text{ and } A_2=1) \\\\\n",
    "    &= P(A_1=1 \\text{ and } A_2=0) + P(A_1=0 \\text{ and } A_2=1) \\\\\n",
    "    &= p(1-p) + (1-p)p \\\\\n",
    "    &= 2p(1-p) \\\\\n",
    "    &= 2(0.4)(1-0.4) \\\\\n",
    "    &= 0.48\n",
    "  \\end{aligned}\n",
    "\\end{equation}\n",
    "\n",
    "Therefore, $P(X_1=1 \\mid X_2=1)$ reduces to the following:\n",
    "\n",
    "\\begin{equation}\n",
    "  \\begin{aligned}\n",
    "    P(X_1=1 \\mid X_2=1) &= \\frac{P(X_2=1 \\mid X_1=1)P(X_1=1) }{\\sum_{i=0}^{2}P(X_2 = 1 \\mid X_1=i)P(X_1=i)} \\\\\n",
    "    &= \\frac{0.504 \\times 0.48}{0 \\times 0 + 0.504 \\times 0.48 + 0.48 \\times 0.52}\\\\\n",
    "    &= \\frac{0.24192}{0 + 0.24192 + 0.2496} \\\\\n",
    "    &= 0.4921875 \\\\\n",
    "  \\end{aligned}\n",
    "\\end{equation}\n",
    "\n",
    "\n"
   ]
  },
  {
   "cell_type": "code",
   "execution_count": 10,
   "metadata": {
    "collapsed": false
   },
   "outputs": [
    {
     "data": {
      "text/plain": [
       "0.4897959183673469"
      ]
     },
     "execution_count": 10,
     "metadata": {},
     "output_type": "execute_result"
    }
   ],
   "source": [
    "simulate_aloha(criteria=lambda x: x[1]==1, given=lambda x: x[2]==1)"
   ]
  },
  {
   "cell_type": "markdown",
   "metadata": {
    "collapsed": false
   },
   "source": [
    "## 2.  Urn I contains three blue marbles and three yellow ones, while Urn II contains five and seven of these colors. We draw a marble at random from Urn I and place it in Urn II. We then draw a marble at random from Urn II.\n"
   ]
  },
  {
   "cell_type": "code",
   "execution_count": 18,
   "metadata": {
    "collapsed": true
   },
   "outputs": [],
   "source": [
    "def simulate_urn_drawing(criteria=None, given=None, num_experiments=10000):\n",
    "    draws = ['placeholder']\n",
    "    experiments = []\n",
    "    first_draws = []\n",
    "    second_draws = []\n",
    "    \n",
    "    def urn_1(): \n",
    "        return ['B','B','B','Y','Y','Y']\n",
    "    def urn_2():\n",
    "        return ['B','B','B','B','B','Y','Y','Y','Y','Y','Y','Y']\n",
    "\n",
    "    for i in range(num_experiments):\n",
    "        first_draw = np.random.permutation(urn_1())[0]\n",
    "        urn_2_copy = urn_2()\n",
    "        urn_2_copy.append(first_draw)\n",
    "        second_draw = np.random.permutation(urn_2_copy)[0]\n",
    "        \n",
    "        first_draws.append(first_draw)\n",
    "        second_draws.append(second_draw)\n",
    "        \n",
    "    df = pd.DataFrame({'first_draw': first_draws, 'second_draw': second_draws})\n",
    "\n",
    "    if given==None:\n",
    "        return df[criteria(df)].shape[0] / float(num_experiments)\n",
    "    else:\n",
    "        meeting_what_is_given = df[given(df)]\n",
    "        return meeting_what_is_given[criteria(meeting_what_is_given)].shape[0] \\\n",
    "                / float(meeting_what_is_given.shape[0])\n",
    "    "
   ]
  },
  {
   "cell_type": "markdown",
   "metadata": {
    "collapsed": false
   },
   "source": [
    "### a. Find $P(\\text{second marble drawn is blue})$\n",
    "\n",
    "Let $M_i=k$ represent the marble drawn for the $i$-th drawing where $k \\in\n",
    "\\{B, Y\\}$. $B$ stands for 'Blue' and $Y$ stands for 'yellow'.\n",
    "\n",
    "\\begin{equation}\n",
    "  \\begin{aligned}\n",
    "    P(M_2=B) &= P(M_2=B, M_1=B) + P(M_2=B, M_1=Y)\\\\\n",
    "    &= P(M_2=B \\mid M_1=B)P(M_1=B) + P(M_2=B \\mid M_1=Y)P(M_1=Y)\\\\\n",
    "    &= \\frac{6}{13}(0.5) + \\frac{5}{13}(0.5)\\\\\n",
    "    &= 0.4230769231\n",
    "  \\end{aligned}\n",
    "\\end{equation}\n"
   ]
  },
  {
   "cell_type": "code",
   "execution_count": 19,
   "metadata": {
    "collapsed": false,
    "scrolled": false
   },
   "outputs": [
    {
     "data": {
      "text/plain": [
       "0.4241"
      ]
     },
     "execution_count": 19,
     "metadata": {},
     "output_type": "execute_result"
    }
   ],
   "source": [
    "simulate_urn_drawing(criteria=lambda df: df['second_draw']=='B')"
   ]
  },
  {
   "cell_type": "markdown",
   "metadata": {
    "collapsed": false
   },
   "source": [
    "### a. Find $P(\\text{first marble drawn is blue} \\mid \\text{second marble drawn is blue})$\n",
    "\n",
    "\\begin{equation}\n",
    "  \\begin{aligned}\n",
    "    P(M_1=B \\mid M_2=B) &= \\frac{P(M_2=B, M_1=B)}{P(M_2=B)}\\\\\n",
    "    &= \\frac{P(M_2=B \\mid M_1=B)P(M_1=B)}{P(M_2=B)}\\\\\n",
    "    &= \\frac{(6/13)(1/2)}{11/26}\\\\\n",
    "    &= 0.\\overline{54}\n",
    "  \\end{aligned}\n",
    "\\end{equation}\n",
    "\n"
   ]
  },
  {
   "cell_type": "code",
   "execution_count": 20,
   "metadata": {
    "collapsed": false,
    "scrolled": true
   },
   "outputs": [
    {
     "data": {
      "text/plain": [
       "0.5454981992797119"
      ]
     },
     "execution_count": 20,
     "metadata": {},
     "output_type": "execute_result"
    }
   ],
   "source": [
    "simulate_urn_drawing(criteria=lambda df: df['first_draw']=='B', given=lambda df: df['second_draw']=='B')"
   ]
  },
  {
   "cell_type": "markdown",
   "metadata": {
    "collapsed": false,
    "scrolled": false
   },
   "source": [
    "## 3. Consider the example of association rules in Section 2.15.4. How many two-antecedent, two- consequent rules are possible from 20 items? Express your answer in terms of combinatorial (“n choose k”) symbols.\n",
    "\n",
    "\\begin{equation}\n",
    "  \\begin{aligned}\n",
    "    {20 \\choose 2} {18 \\choose 2} &= \\frac{20!}{2! \\times 18!} \\times \\frac{18!}{2!16!} \\\\\n",
    "    &= \\frac{20 \\times 19 \\times 18 \\times 17 \\times 16!}{4 \\times 16!} \\\\\n",
    "    &= 5 \\times 19 \\times 18 \\times 17 \\\\\n",
    "    &= 29\\,070\n",
    "  \\end{aligned}\n",
    "\\end{equation}"
   ]
  },
  {
   "cell_type": "code",
   "execution_count": 28,
   "metadata": {
    "collapsed": false,
    "scrolled": true
   },
   "outputs": [
    {
     "data": {
      "text/plain": [
       "29070.0"
      ]
     },
     "execution_count": 28,
     "metadata": {},
     "output_type": "execute_result"
    }
   ],
   "source": [
    "misc.comb(20, 2) * misc.comb(18,2)"
   ]
  },
  {
   "cell_type": "markdown",
   "metadata": {
    "collapsed": false,
    "scrolled": false
   },
   "source": [
    "### Simplification of the problem: How many two-antecedent, two-consequent rules are possible from 5 items?\n",
    "\n",
    "To get better confidence about the solution for 20 items above, I simplified the problem to 5 items. I expect 30 different configurations:\n",
    "\n",
    "\\begin{equation}\n",
    "  \\begin{aligned}\n",
    "    {5 \\choose 2} {3 \\choose 2} &= \\frac{5!}{2! \\times 3!} \\times \\frac{3!}{2!1!} \\\\\n",
    "    &= \\frac{5 \\times 4 \\times 3 \\times 2}{4} \\\\\n",
    "    &= 5 \\times 3 \\times 2 \\\\\n",
    "    &= 30\n",
    "  \\end{aligned}\n",
    "\\end{equation}\n",
    "\n",
    "### Here are all the possible configurations:\n",
    "\n",
    "![How many two-antecedent and two-consequent rules are possible from 5 items?](images/2-precedents-2-antecedents-5-choices.jpeg \"Title\")"
   ]
  },
  {
   "cell_type": "markdown",
   "metadata": {
    "collapsed": false,
    "scrolled": false
   },
   "source": [
    "## 4. Suppose 20% of all C++ programs have at least one major bug. Out of five programs, what is the probability that exactly two of them have a major bug?\n",
    "\n",
    "\\begin{equation}\n",
    "  \\begin{aligned}\n",
    "    P(\\text{bug}) &= 0.2 \\\\\n",
    "    P(\\text{no bug}) &= 0.8 \\\\\n",
    "    P(\\text{bug})^2 \\times P(\\text{no bug})^3 \\times {5 \\choose 2} &= 0.2^2 \\times 0.8^3 \\frac{5!}{2!\\times3!}\\\\\n",
    "    &= 0.04 \\times 0.512 \\times 10.0\\\\\n",
    "    &= 0.2048 \\\\\n",
    "  \\end{aligned}\n",
    "\\end{equation}"
   ]
  },
  {
   "cell_type": "code",
   "execution_count": 46,
   "metadata": {
    "collapsed": false,
    "scrolled": true
   },
   "outputs": [
    {
     "data": {
      "text/plain": [
       "0.2047"
      ]
     },
     "execution_count": 46,
     "metadata": {},
     "output_type": "execute_result"
    }
   ],
   "source": [
    "def bug_percentage(num_programs=5, exactly_have_bug=2, num_experiments=10000, prob_bug=0.2):\n",
    "    ones = np.ones(int(prob_bug * 10))\n",
    "    zeros = np.zeros(int((1.0-prob_bug) * 10))\n",
    "    \n",
    "    vals = np.append(ones, zeros)\n",
    "   \n",
    "    count = 0\n",
    "    for i in range(num_experiments):\n",
    "        \n",
    "        result = []\n",
    "        for x in range(num_programs):\n",
    "            val = np.random.permutation(vals)[0]\n",
    "            result.append(val)\n",
    "            \n",
    "        if np.array(result).sum() == exactly_have_bug:\n",
    "            count += 1\n",
    "    \n",
    "    return count / float(num_experiments)\n",
    "        \n",
    "bug_percentage()"
   ]
  },
  {
   "cell_type": "markdown",
   "metadata": {
    "collapsed": false,
    "scrolled": false
   },
   "source": [
    "## 5. Assume the ALOHA network model as in Section 2.1, i.e. $m = 2$ and $X_0 = 2$, but with general values for $p$ and $q$. Find the probability that a new message is created during epoch 2.\n",
    "\n",
    "The term \"created\" is ambiguous to me. It could mean \"created\" in a sense that the message is actually sent, or it could mean \"created\" in a sense that an inactive node generates a new message to send (which may, or may not, actually be sent at some epoch of interest). I'm going to assume that it means the latter.\n",
    "\n",
    "Let $G_i$ be the number of messages created at the $i$-th epoch. The probability that a message gets created during the second epoch, then, is the probability that one message or two messages get created during the second epoch:\n",
    "\n",
    "\\begin{equation}\n",
    "  \\begin{aligned}\n",
    "    P(G_2=1 \\text{ or } G_2=2) &= P((G_2=1 \\text{ or } G_2=2) \\text{ and } X_1=0) \\\\\n",
    "    &\\quad + P((G_2=1 \\text{ or } G_2=2) \\text{ and } X_1=1) \\\\\n",
    "    &\\quad + P((G_2=1 \\text{ or } G_2=2) \\text{ and } X_1=2) \\\\\n",
    "  \\end{aligned}\n",
    "\\end{equation}\n",
    "\n",
    "We know from previous exercises, however, that $P(X_1=0)$ is impossible. We also know that given $X_1=2$, we cannot generate new messages during the second epoch -- both nodes were already active then, which means that during the second epoch, we cannot create new messages. Thus, the above equation simplifies to:\n",
    "\n",
    "\\begin{equation}\n",
    "  \\begin{aligned}\n",
    "    P(G_2=1 \\text{ or } G_2=2) &= P((G_2=1 \\text{ or } G_2=2) \\text{ and } X_1=1) \\\\\n",
    "  \\end{aligned}\n",
    "\\end{equation}\n",
    "\n",
    "When one node is already active during the first epoch, we know we can only create one more message (not two). Thus, the above equation simplifies to something even simpler:\n",
    "\n",
    "\\begin{equation}\n",
    "  \\begin{aligned}\n",
    "    P(G_2=1 \\text{ or } G_2=2) &= P(G_2=1 \\text{ and } X_1=1) \\\\\n",
    "    &= P(G_2=1 \\mid X_1=1)P(X_1=1) \\\\\n",
    "  \\end{aligned}\n",
    "\\end{equation}\n",
    "\n",
    "We've already established in previous questions that $P(X_1=1) = p^2 + (1-p)^2$. When $X_1=1$, the only way for $G_2=1$ to happen is for the inactive node to become active, which has a probability of $q$.\n",
    "\n",
    "Therefore, the whole thing simplifies to the following:\n",
    "\n",
    "\\begin{equation}\n",
    "  \\begin{aligned}\n",
    "    P(G_2=1 \\text{ or } G_2=2) &= q(p^2 + (1-p)^2)\n",
    "  \\end{aligned}\n",
    "\\end{equation}\n",
    "\n",
    "\n",
    "\n"
   ]
  },
  {
   "cell_type": "markdown",
   "metadata": {
    "collapsed": true
   },
   "source": [
    "# "
   ]
  },
  {
   "cell_type": "code",
   "execution_count": null,
   "metadata": {
    "collapsed": true
   },
   "outputs": [],
   "source": []
  }
 ],
 "metadata": {
  "kernelspec": {
   "display_name": "Python 2",
   "language": "python",
   "name": "python2"
  },
  "language_info": {
   "codemirror_mode": {
    "name": "ipython",
    "version": 2
   },
   "file_extension": ".py",
   "mimetype": "text/x-python",
   "name": "python",
   "nbconvert_exporter": "python",
   "pygments_lexer": "ipython2",
   "version": "2.7.11"
  }
 },
 "nbformat": 4,
 "nbformat_minor": 0
}
