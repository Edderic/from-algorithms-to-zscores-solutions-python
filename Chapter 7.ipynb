{
 "cells": [
  {
   "cell_type": "code",
   "execution_count": 1,
   "metadata": {
    "collapsed": true
   },
   "outputs": [],
   "source": [
    "import numpy as np\n",
    "import pandas as pd\n",
    "from scipy.integrate import quad\n",
    "from scipy.stats import gamma, norm\n",
    "from scipy.misc import factorial\n",
    "%matplotlib inline"
   ]
  },
  {
   "cell_type": "code",
   "execution_count": 2,
   "metadata": {
    "collapsed": false
   },
   "outputs": [
    {
     "data": {
      "text/plain": [
       "<bound method rv_continuous.pdf of <scipy.stats._continuous_distns.gamma_gen object at 0x11252ed68>>"
      ]
     },
     "execution_count": 2,
     "metadata": {},
     "output_type": "execute_result"
    }
   ],
   "source": [
    "gamma.pdf"
   ]
  },
  {
   "cell_type": "code",
   "execution_count": 3,
   "metadata": {
    "collapsed": false
   },
   "outputs": [
    {
     "data": {
      "text/plain": [
       "7.3890560989306504"
      ]
     },
     "execution_count": 3,
     "metadata": {},
     "output_type": "execute_result"
    }
   ],
   "source": [
    "np.exp(2)"
   ]
  },
  {
   "cell_type": "code",
   "execution_count": 4,
   "metadata": {
    "collapsed": false
   },
   "outputs": [
    {
     "data": {
      "text/plain": [
       "-inf"
      ]
     },
     "execution_count": 4,
     "metadata": {},
     "output_type": "execute_result"
    }
   ],
   "source": [
    "-np.inf"
   ]
  },
  {
   "cell_type": "code",
   "execution_count": 5,
   "metadata": {
    "collapsed": false
   },
   "outputs": [
    {
     "data": {
      "text/plain": [
       "array(24.0)"
      ]
     },
     "execution_count": 5,
     "metadata": {},
     "output_type": "execute_result"
    }
   ],
   "source": [
    "factorial(4)"
   ]
  },
  {
   "cell_type": "code",
   "execution_count": 1,
   "metadata": {
    "collapsed": true
   },
   "outputs": [],
   "source": [
    "def my_gamma_pdf(t, r, _lambda):\n",
    "\n",
    "    return 1.0/factorial(r-1) *_lambda**r * t**(r-1.0) * np.exp(-(_lambda)*t)"
   ]
  },
  {
   "cell_type": "markdown",
   "metadata": {},
   "source": [
    "### 7.6.4.2 Example: Network Buffer\n",
    "\n",
    "$P(Y>552) = \\int_{552}^{\\infty}\\frac{1}{4!}0.01^5t^4e^{-0.01t}dt$"
   ]
  },
  {
   "cell_type": "code",
   "execution_count": 7,
   "metadata": {
    "collapsed": false,
    "scrolled": true
   },
   "outputs": [
    {
     "data": {
      "text/plain": [
       "(0.354410137439043, 2.2048120889564508e-10)"
      ]
     },
     "execution_count": 7,
     "metadata": {},
     "output_type": "execute_result"
    }
   ],
   "source": [
    "\n",
    "quad(my_gamma_pdf, 552, np.inf, args=(5.0, 0.01))"
   ]
  },
  {
   "cell_type": "code",
   "execution_count": 8,
   "metadata": {
    "collapsed": false,
    "scrolled": true
   },
   "outputs": [
    {
     "data": {
      "text/plain": [
       "inf"
      ]
     },
     "execution_count": 8,
     "metadata": {},
     "output_type": "execute_result"
    }
   ],
   "source": [
    "np.inf"
   ]
  },
  {
   "cell_type": "markdown",
   "metadata": {},
   "source": [
    "### Inverse Transform\n",
    "$F^{-1}(U)$"
   ]
  },
  {
   "cell_type": "code",
   "execution_count": 9,
   "metadata": {
    "collapsed": true
   },
   "outputs": [],
   "source": [
    "def gen_df(func=lambda x: x**0.5, title='x**0.5'):\n",
    "    df = pd.DataFrame({'random': np.random.uniform(size=100000)})\n",
    "    df[title] = df['random'].apply(func)\n",
    "    return df"
   ]
  },
  {
   "cell_type": "code",
   "execution_count": 10,
   "metadata": {
    "collapsed": false,
    "scrolled": true
   },
   "outputs": [],
   "source": [
    "df = gen_df(func=lambda x: x**0.5, title='x**0.5')"
   ]
  },
  {
   "cell_type": "code",
   "execution_count": 11,
   "metadata": {
    "collapsed": false
   },
   "outputs": [
    {
     "data": {
      "text/plain": [
       "<matplotlib.axes._subplots.AxesSubplot at 0x1130cc978>"
      ]
     },
     "execution_count": 11,
     "metadata": {},
     "output_type": "execute_result"
    },
    {
     "data": {
      "image/png": "[encoded data removed]",
      "text/plain": [
       "<matplotlib.figure.Figure at 0x1130bc940>"
      ]
     },
     "metadata": {},
     "output_type": "display_data"
    }
   ],
   "source": [
    "df['x**0.5'].plot.hist(bins=100)"
   ]
  },
  {
   "cell_type": "code",
   "execution_count": 12,
   "metadata": {
    "collapsed": true
   },
   "outputs": [],
   "source": [
    "df_1 = gen_df(func=lambda x: x**(1.0/3), title='x**(1.0/3)')"
   ]
  },
  {
   "cell_type": "code",
   "execution_count": 13,
   "metadata": {
    "collapsed": false
   },
   "outputs": [
    {
     "data": {
      "text/plain": [
       "<matplotlib.axes._subplots.AxesSubplot at 0x113385eb8>"
      ]
     },
     "execution_count": 13,
     "metadata": {},
     "output_type": "execute_result"
    },
    {
     "data": {
      "image/png": "[encoded data removed]",
      "text/plain": [
       "<matplotlib.figure.Figure at 0x117d10d30>"
      ]
     },
     "metadata": {},
     "output_type": "display_data"
    }
   ],
   "source": [
    "df_1['x**(1.0/3)'].plot.hist(bins=100)"
   ]
  },
  {
   "cell_type": "code",
   "execution_count": 14,
   "metadata": {
    "collapsed": true
   },
   "outputs": [],
   "source": [
    "normal = norm()"
   ]
  },
  {
   "cell_type": "code",
   "execution_count": 15,
   "metadata": {
    "collapsed": false
   },
   "outputs": [],
   "source": [
    "def normal_pdf(sigma=None, mu=None, bins=None):\n",
    "    return 1/(sigma * np.sqrt(2 * np.pi)) \\\n",
    "        * np.exp( - (bins - mu)**2 / (2 * sigma**2))"
   ]
  },
  {
   "cell_type": "code",
   "execution_count": 16,
   "metadata": {
    "collapsed": false,
    "scrolled": true
   },
   "outputs": [
    {
     "data": {
      "text/plain": [
       "0.0"
      ]
     },
     "execution_count": 16,
     "metadata": {},
     "output_type": "execute_result"
    }
   ],
   "source": [
    "normal_pdf(sigma=1, mu=1, bins=1) - normal_pdf(sigma=1, mu=1, bins=1)"
   ]
  },
  {
   "cell_type": "code",
   "execution_count": 17,
   "metadata": {
    "collapsed": true
   },
   "outputs": [],
   "source": [
    "def exponential_pdf(_lambda=None, input_var=None):\n",
    "    return _lambda*np.exp(-_lambda*input_var)"
   ]
  },
  {
   "cell_type": "code",
   "execution_count": 18,
   "metadata": {
    "collapsed": true
   },
   "outputs": [],
   "source": [
    "def inverse_of_exponential_cdf(_lambda=None, input_var=None):\n",
    "    return -np.log(1-input_var) / _lambda"
   ]
  },
  {
   "cell_type": "code",
   "execution_count": 19,
   "metadata": {
    "collapsed": false
   },
   "outputs": [],
   "source": [
    "def plot_exponential(size=1e4):\n",
    "    uniform = np.random.uniform(size=1e4)\n",
    "    X = inverse_of_exponential_cdf(_lambda=0.5, input_var=uniform)\n",
    "    Y = exponential_pdf(_lambda=0.5, input_var=X)\n",
    "    df = pd.DataFrame({'X': X, 'Y': Y})\n",
    "    df.plot.scatter(x='X', y='Y', )\n"
   ]
  },
  {
   "cell_type": "code",
   "execution_count": 240,
   "metadata": {
    "collapsed": false
   },
   "outputs": [
    {
     "data": {
      "image/png": "[encoded data removed]",
      "text/plain": [
       "<matplotlib.figure.Figure at 0x1a6daf588>"
      ]
     },
     "metadata": {},
     "output_type": "display_data"
    }
   ],
   "source": [
    "def plot_histo_exponential_t(size=int(1e6)):\n",
    "    \n",
    "    U = np.random.uniform(size=int(size))\n",
    "    # inverse of the cdf\n",
    "    t = inverse_of_exponential_cdf(_lambda=0.5, input_var=U)\n",
    "    \n",
    "    #Y = 2*t\n",
    "    df = pd.DataFrame({'U': U, 't': t})\n",
    "    df['t'].plot.hist(bins=100,title='Histo')\n",
    "\n",
    "plot_histo_exponential_t()"
   ]
  },
  {
   "cell_type": "code",
   "execution_count": 241,
   "metadata": {
    "collapsed": false,
    "scrolled": true
   },
   "outputs": [
    {
     "name": "stderr",
     "output_type": "stream",
     "text": [
      "/Users/eddericugaddan/anaconda3/lib/python3.6/site-packages/ipykernel/__main__.py:2: VisibleDeprecationWarning: using a non-integer number instead of an integer will result in an error in the future\n",
      "  from ipykernel import kernelapp as app\n"
     ]
    },
    {
     "data": {
      "image/png": "[encoded data removed]",
      "text/plain": [
       "<matplotlib.figure.Figure at 0x1251027f0>"
      ]
     },
     "metadata": {},
     "output_type": "display_data"
    }
   ],
   "source": [
    "plot_exponential(size=1e6)"
   ]
  },
  {
   "cell_type": "markdown",
   "metadata": {},
   "source": [
    "# Exercises"
   ]
  },
  {
   "cell_type": "markdown",
   "metadata": {},
   "source": [
    "## 1. Fill in the blanks, in the following statements about continuous random variables to use our book's notation\n",
    "\n",
    "### (a) $\\frac{d}{dt}P(X\\leq t) = f_X(t)$\n",
    "\n",
    "### (b) $P(a<X<b) = F_X(b) - F_X(a)$"
   ]
  },
  {
   "cell_type": "markdown",
   "metadata": {},
   "source": [
    "## 2. Suppose $X$ has a uniform distribution on $(-1,1)$, and let $Y=X^2$. Find $f_Y.$\n",
    "\n",
    "\\begin{equation}\n",
    "  \\begin{aligned}\n",
    "    f_Y(t) &= \\frac{d}{dt}F_Y(t) && \\text{defn. of density} \\\\\n",
    "    &= \\frac{d}{dt}P(Y\\leq t) && \\text{defn. of cdf} \\\\\n",
    "    &= \\frac{d}{dt}P(X^2\\leq t) && Y=X^2 \\\\\n",
    "    &= \\frac{d}{dt}P(-\\sqrt{t} \\leq X\\leq \\sqrt{t}) \\\\\n",
    "    &= \\frac{d}{dt}(F_X(\\sqrt{t}) - F_X(-\\sqrt{t})) \\\\\n",
    "    &= \\frac{d}{dt}2F_X(\\sqrt{t}) \\\\\n",
    "    &= 2f_X(\\sqrt{t})\\frac{d}{dt}(\\sqrt{t}) \\\\\n",
    "    &= 2\\frac{1}{(1)-(-1)}\\frac{d}{dt}(\\sqrt{t}) && \\text{$f_X(t)$ for $-1<t<1$}\\\\\n",
    "    &= \\frac{1}{2\\sqrt{t}} \\\\\n",
    "  \\end{aligned}\n",
    "\\end{equation}\n",
    "\n"
   ]
  },
  {
   "cell_type": "markdown",
   "metadata": {},
   "source": [
    "## 3. Suppose $X$ has an exponential distribution with parameter $\\lambda$. Show that $EX=1/\\lambda$ and $Var(X) = 1/\\lambda ^2$\n",
    "\n",
    "### $EX$:\n",
    "\n",
    "\\begin{equation}\n",
    "  \\begin{aligned}\n",
    "    f_X(t) &= \\lambda e^{-\\lambda t} \\\\\n",
    "    EX &= \\int_{-\\infty}^{\\infty}tf_X(t)dt \\\\\n",
    "    &= \\int_{-\\infty}^{\\infty}t\\lambda e^{-\\lambda t}dt \\\\\n",
    "    \\int g df &= fg - \\int fdg && \\text{integration by parts}\\\\\n",
    "    f &= e^{-\\lambda t} \\\\\n",
    "    df &= -\\lambda e^{-\\lambda t}dt \\\\\n",
    "    dg &= -1dt \\\\\n",
    "    g &= -t \\\\\n",
    "    EX &= -te^{-\\lambda t}\\Big|_{0}^{\\infty} - \\int e^{-\\lambda t}(-1dt) \\\\\n",
    "    &= (0-0) + \\int e^{-\\lambda t}dt \\\\\n",
    "  &= -\\frac{1}{\\lambda}e^{-\\lambda t}\\Big\\vert_{0}^{\\infty} \\\\\n",
    "    &= -(0-\\frac{1}{\\lambda}e^0) \\\\\n",
    "    &= \\frac{1}{\\lambda}\n",
    "  \\end{aligned}\n",
    "\\end{equation}\n"
   ]
  },
  {
   "cell_type": "markdown",
   "metadata": {},
   "source": [
    "### $Var(X)$:\n",
    "\n",
    "\\begin{equation}\n",
    "  \\begin{aligned}\n",
    "    Var(X) &= E(X^2) - E(X)^2 \\\\\n",
    "    &= \\int_{-\\infty}^{\\infty}t^2\\lambda e^{-\\lambda t} dt - \\left(\\frac{1}{\\lambda}\\right)^2 \\\\\n",
    "    &= \\lambda\\int_{-\\infty}^{\\infty}t^2e^{-\\lambda t} dt - \\left(\\frac{1}{\\lambda}\\right)^2 \\\\\n",
    "    \\int f dg &= fg - \\int g df && \\text{integration by parts}\\\\\n",
    "    f &= t^2 \\\\\n",
    "    df &= 2t dt \\\\\n",
    "  dg &= e^{-\\lambda t}dt \\\\\n",
    "    g &= -\\frac{1}{\\lambda}e^{-\\lambda t} \\\\\n",
    "    Var(X) &= \\lambda\\left(-\\frac{1}{\\lambda}t^2e^{-\\lambda t}\\Big\\vert_{0}^{\\infty} -- \\frac{2}{\\lambda} \\int_0^{\\infty} te^{-\\lambda t}dt\\right) - \\left(\\frac{1}{\\lambda}\\right)^2 \\\\\n",
    "    &= \\lambda\\left(-(0-0) + 2\\frac{1}{\\lambda} \\int_0^{\\infty} te^{-\\lambda t}dt\\right) - \\left(\\frac{1}{\\lambda}\\right)^2 \\\\\n",
    "    &= 2\\int_0^{\\infty} te^{-\\lambda t}dt - \\left(\\frac{1}{\\lambda}\\right)^2 \\\\\n",
    "    \\int u dv &= uv - \\int v du && \\text{integration by parts}\\\\\n",
    "    u &= t \\\\\n",
    "    du &= dt \\\\\n",
    "    dv &= e^{-\\lambda t} \\\\\n",
    "    v &= -\\frac{1}{\\lambda}e^{-\\lambda t} \\\\\n",
    "    Var(X) &= 2 \\left(-\\frac{1}{\\lambda}te^{-\\lambda t}\\Big\\vert_{t=0}^{t=\\infty}- \\frac{1}{-\\lambda}\\int_0^{\\infty}e^{-\\lambda t} dt\\right) - \\left(\\frac{1}{\\lambda}\\right)^2 \\\\\n",
    "    &= 2 \\left(\\frac{1}{\\lambda}\\int_0^{\\infty}e^{-\\lambda t} dt\\right) - \\left(\\frac{1}{\\lambda}\\right)^2 \\\\\n",
    "    &= \\left(\\frac{2}{\\lambda} \\times \\frac{1}{-\\lambda}e^{-\\lambda t}\\right)\\Big\\vert_{t=0}^{t=\\infty} - \\left(\\frac{1}{\\lambda}\\right)^2 \\\\\n",
    "    &= -\\frac{2}{\\lambda^2}\\left(e^{-\\lambda t}\\right)\\Big\\vert_{t=0}^{t=\\infty} - \\left(\\frac{1}{\\lambda}\\right)^2 \\\\\n",
    "    &= -\\frac{2}{\\lambda^2}\\left(0-1\\right) - \\left(\\frac{1}{\\lambda}\\right)^2 \\\\\n",
    "    &= \\frac{2}{\\lambda^2} - \\left(\\frac{1}{\\lambda^2}\\right) \\\\\n",
    "    &= \\frac{1}{\\lambda^2} \\\\\n",
    "  \\end{aligned}\n",
    "\\end{equation}\n",
    "\n",
    "\n"
   ]
  },
  {
   "cell_type": "code",
   "execution_count": null,
   "metadata": {
    "collapsed": true
   },
   "outputs": [],
   "source": []
  },
  {
   "cell_type": "markdown",
   "metadata": {
    "collapsed": true
   },
   "source": [
    "\n",
    "## 4. Suppose $f_X(t) = 3t^2$ for $t$ in $(0,1)$ and is zero elsewhere. Find $F_X(0.5)$ and $E(X).$\n",
    "\n",
    "### $F_X(0.5)$:\n",
    "\n",
    "\\begin{equation}\n",
    "  \\begin{aligned}\n",
    "    F_X(0.5) &= \\int_{-\\infty}^{0.5}f_X(t) dt \\\\\n",
    "    &= \\int_{0}^{0.5}3t^2 dt \\\\\n",
    "    &= t^3\\Big\\vert_{t=0}^{t=0.5} dt \\\\\n",
    "    &= (0.125 - 0) \\\\\n",
    "    &= 0.125 \\\\\n",
    "  \\end{aligned}\n",
    "\\end{equation}\n",
    "\n",
    "### $E(X)$:\n",
    "\n",
    "\n",
    "\\begin{equation}\n",
    "  \\begin{aligned}\n",
    "    EX &= \\int_{-\\infty}^{1}tf_X(t) dt \\\\\n",
    "    &= \\int_{0}^{1}t3t^2 dt \\\\\n",
    "    &= \\int_{0}^{1}3t^3 dt \\\\\n",
    "    &= \\frac{3}{4}t^4\\Big\\vert_{0}^{1}  \\\\\n",
    "    &= \\frac{3}{4}t^4\\Big\\vert_{0}^{1}  \\\\\n",
    "    &= \\frac{3}{4} \\\\\n",
    "  \\end{aligned}\n",
    "\\end{equation}\n"
   ]
  },
  {
   "cell_type": "markdown",
   "metadata": {},
   "source": [
    "## 5. Suppose light bulb lifetimes $X$ are exponentially distributed with mean 100 hours.\n",
    "\n",
    "### (a) Find the probability that a light bulb burns out before 25.8 hours.\n",
    "\n",
    "\\begin{equation}\n",
    "  \\begin{aligned}\n",
    "    \\frac{1}{\\lambda} &= 100 \\\\\n",
    "    \\lambda &= 0.01 \\\\\n",
    "    \\int_{0}^{25.8} 0.01e^{-0.01t} dt  &= -\\left(e^-{0.01t}\\right)\\Big\\vert_{t=0}^{t=25.8} \\\\\n",
    "    &= -(e^{-0.258} - 1) \\\\\n",
    "    &= 1-e^{-0.258} \\\\\n",
    "    &\\approx 22.7\\% \\\\\n",
    "  \\end{aligned}\n",
    "\\end{equation}\n"
   ]
  },
  {
   "cell_type": "code",
   "execution_count": 21,
   "metadata": {
    "collapsed": false
   },
   "outputs": [
    {
     "data": {
      "text/plain": [
       "0.22740476789307196"
      ]
     },
     "execution_count": 21,
     "metadata": {},
     "output_type": "execute_result"
    }
   ],
   "source": [
    "(1-np.exp(-0.258))"
   ]
  },
  {
   "cell_type": "markdown",
   "metadata": {},
   "source": [
    "\n",
    "### (b) Find the probability that the first light bulb lasts less than 25.8 hours and the lifetime of  the second is more than 120 hours.\n",
    "\n",
    "Let $L_1 = \\text{# hours lifespan of the first bulb}$.\n",
    "Let $L_2 = \\text{# hours lifespan of the second bulb}$.\n",
    "\n",
    "\\begin{equation}\n",
    "  \\begin{aligned}\n",
    "    P(L_0 < 25.8)P(L_1 > 120) &\\approx 0.22740 \\times \\int_{120}^{\\infty}0.01e^{-0.01t} dt \\\\\n",
    "    &\\approx 0.22740 \\times (e^{-0.01t})\\Big\\vert_{t=120}^{t=\\infty} \\\\\n",
    "    &\\approx 0.22740 \\times -(0 - e^{-1.2}) \\\\\n",
    "    &\\approx 0.22740 \\times 0.30119 \\\\\n",
    "    &\\approx 6.8\\% \\\\\n",
    "  \\end{aligned}\n",
    "\\end{equation}"
   ]
  },
  {
   "cell_type": "code",
   "execution_count": 22,
   "metadata": {
    "collapsed": false,
    "scrolled": true
   },
   "outputs": [
    {
     "data": {
      "text/plain": [
       "0.068492999850631051"
      ]
     },
     "execution_count": 22,
     "metadata": {},
     "output_type": "execute_result"
    }
   ],
   "source": [
    "(1-np.exp(-0.258)) * np.exp(-1.2)"
   ]
  },
  {
   "cell_type": "markdown",
   "metadata": {},
   "source": [
    "### (c) Find the probability that the second burnout occurs after time $192.5$\n",
    "\n",
    "What this is asking for is to calculate $P(L_1 + L_2 \\geq 192.5)$. To get the density of the sum of two continuous variables $L_1 + L_2$, we could calculate the convolution $f_{L_1}(t) \\ast f_{L_2}(t)$\n",
    "\n",
    "\\begin{equation}\n",
    "  \\begin{aligned}\n",
    "    L_1 + L_2 &= f_{L_1}(t) \\ast f_{L_2}(t) \\\\\n",
    "    f_{L_1 + L_2}(z) &= \\int_{-\\infty}^{+\\infty}f_{L_1}(z-t)f_{L_2}(t) \\\\\n",
    "    &= \\int_{-\\infty}^{+\\infty}(0.01e^{-0.01(z-t)})(0.01e^{-0.01t})dt \\\\\n",
    "    &= \\int_{0}^{z}0.0001e^{-0.01(z-t)-0.01t}dt \\\\\n",
    "    &= \\int_{0}^{z}0.0001e^{-0.01z}dt \\\\\n",
    "    &= -0.0001te^{-0.01z}\\Big\\vert_{t=0}^{t=z} \\\\\n",
    "    &= -0.0001ze^{-0.01z} \\\\\n",
    "    P(L_1 + L_2 \\geq 192.5) &= \\int_{192.5}^{\\infty} f_{L_1 + L_2}(z) dz\\\\\n",
    "    &= \\int_{192.5}^{\\infty} 0.0001te^{-0.01t} dt\\\\\n",
    "    &= 0.0001\\int_{192.5}^{\\infty} te^{-0.01t} dt\\\\\n",
    "    \\int f'g &= fg - \\int fg' && \\text{integration by parts} \\\\\n",
    "    f'&= e^{-0.01t}dt \\\\\n",
    "    f &= -100e^{-0.01t} \\\\\n",
    "    g &= t \\\\\n",
    "    g' &= dt \\\\\n",
    "    P(L_1 + L_2 \\geq 192.5) &= 0.0001\\left(-100te^{-0.01t}\\Big\\vert_{t=192.5}^{\\infty} - \\int_{192.5}^{\\infty}-100e^{-0.01t}dt\\right) \\\\\n",
    "    &= 0.0001\\left(-100te^{-0.01t}\\Big\\vert_{t=192.5}^{\\infty} + \\int_{192.5}^{\\infty}100e^{-0.01t}dt\\right) \\\\\n",
    "    &= 0.0001\\left(-(0-19250e^{-1.925}) - 10000e^{-0.01t}\\Big\\vert_{192.5}^{\\infty}\\right) \\\\\n",
    "    &= 0.0001\\left(19250e^{-1.925} - 10000(0-e^{-1.925})\\right)\\\\\n",
    "    &= 0.0001\\left(19250e^{-1.925} + 10000e^{-1.925}\\right)\\\\\n",
    "    &= 0.0001\\left(29250e^{-1.925}\\right)\\\\\n",
    "    &= \\left(2.925e^{-1.925}\\right)\\\\\n",
    "    &\\approx 42.7\\%\n",
    "  \\end{aligned}\n",
    "\\end{equation}\n",
    "\n",
    "\n"
   ]
  },
  {
   "cell_type": "code",
   "execution_count": 23,
   "metadata": {
    "collapsed": false
   },
   "outputs": [],
   "source": [
    "def prob_greater_than_192_5():\n",
    "    df = pd.DataFrame({'sum': np.random.exponential(scale=100.0, size=int(1e5)) \\\n",
    "                  + np.random.exponential(scale=100.0, size=int(1e5))})\n",
    "    return df[df['sum'] > 192.5].shape[0] / 1e5"
   ]
  },
  {
   "cell_type": "code",
   "execution_count": 24,
   "metadata": {
    "collapsed": false,
    "scrolled": true
   },
   "outputs": [
    {
     "data": {
      "text/plain": [
       "0.4261"
      ]
     },
     "execution_count": 24,
     "metadata": {},
     "output_type": "execute_result"
    }
   ],
   "source": [
    "prob_greater_than_192_5()"
   ]
  },
  {
   "cell_type": "code",
   "execution_count": 25,
   "metadata": {
    "collapsed": false
   },
   "outputs": [
    {
     "data": {
      "text/plain": [
       "100000"
      ]
     },
     "execution_count": 25,
     "metadata": {},
     "output_type": "execute_result"
    }
   ],
   "source": [
    "int(1e5)"
   ]
  },
  {
   "cell_type": "markdown",
   "metadata": {},
   "source": [
    "## 6. Suppose for some continuous random variable $X$, $f_X(t)$ is equal to $2(1-t)$ for $t$ in $(0,1)$ and is $0$ elsewhere\n",
    "\n",
    "### (a) Why is the constant here $2$? Why not, say, $168$?\n",
    "\n",
    "It has to be $2$ because the area under the curve (i.e. cdf) has to total 1. \n",
    "\n",
    "\n",
    "\n",
    "\\begin{equation}\n",
    "  \\begin{aligned}\n",
    "    F_X(t) &= \\int_0^1 f_X(t) \\\\\n",
    "    &= \\int_0^1 2(1-t) dt \\\\\n",
    "    &= \\int_0^1 (2-2t) dt \\\\\n",
    "    &= (2t-t^2) \\big\\vert_0^1 \\\\\n",
    "    &= 1\n",
    "  \\end{aligned}\n",
    "\\end{equation}\n"
   ]
  },
  {
   "cell_type": "markdown",
   "metadata": {},
   "source": [
    "### (b) Find $F_X(0.2)$ and $Var(X)$\n",
    "\n",
    "### $F_X(0.2)$:\n",
    "\n",
    "\\begin{equation}\n",
    "  \\begin{aligned}\n",
    "    F_X(t) &= \\int_0^{0.2} f_X(t) dt\\\\\n",
    "    &= \\int_0^{0.2} 2(1-t) dt \\\\\n",
    "    &= \\int_0^{0.2} (2-2t) dt \\\\\n",
    "    &= (2t-t^2) \\big\\vert_0^{0.2} \\\\\n",
    "    &= (2\\times0.2 - 0.2^2) \\\\\n",
    "    &= 0.4-0.04 \\\\\n",
    "    &= 0.36\n",
    "  \\end{aligned}\n",
    "\\end{equation}\n"
   ]
  },
  {
   "cell_type": "markdown",
   "metadata": {},
   "source": [
    "\n",
    "### $Var(X)$:\n",
    "\n",
    "\\begin{equation}\n",
    "  \\begin{aligned}\n",
    "    Var(X) &= E(X^2) - E(X)^2 \\\\\n",
    "    E(X^2) &= \\int_0^1 t^2 f_X(t) dt \\\\\n",
    "    &= \\int_0^1 t^2(2-2t) dt \\\\\n",
    "    &= \\int_0^1 (2t^2-2t^3) dt \\\\\n",
    "    &= \\left(\\frac{2}{3}t^3-\\frac{1}{2}t^4 \\right)\\Big\\vert_0^1 \\\\\n",
    "    &= \\left(\\frac{2}{3}-\\frac{1}{2}\\right) \\\\\n",
    "    &= \\frac{1}{6} \\\\\n",
    "    E(X)^2 &=  \\left(\\int_0^1 tf_X(t) dt\\right)^2 \\\\\n",
    "    &= \\left(\\int_0^1 t(2-2t) dt\\right)^2 \\\\\n",
    "    &= \\left(\\int_0^1 (2t-2t^2) dt\\right)^2 \\\\\n",
    "    &= \\left((t^2-\\frac{2}{3}t^3) \\Big\\vert_0^{1} \\right)^2 \\\\\n",
    "    &= \\left(1-\\frac{2}{3} \\right)^2 \\\\\n",
    "    &= \\left(\\frac{1}{3} \\right)^2 \\\\\n",
    "    &= \\frac{1}{9}\\\\\n",
    "    Var(X) &= \\frac{1}{6} - \\frac{1}{9} \\\\\n",
    "    &\\approx 0.055  \\\\\n",
    "  \\end{aligned}\n",
    "\\end{equation}\n",
    "\n",
    "### $F^{-1}_X(t)$\n",
    "\n",
    "\\begin{equation}\n",
    "  \\begin{aligned}\n",
    "    f_X(t) &= 2(1-t) \\\\\n",
    "    &= 2-2t\\\\\n",
    "    F_X(t) &= 2t - t^2 \\\\\n",
    "    &= -1(t^2-2t) \\\\\n",
    "    &= -1(t^2-2t + 1) + 1\\\\\n",
    "    F_X(t) - 1 &= -1(t-1)^2 \\\\\n",
    "    1 - F_X(t) &= (t-1)^2 \\\\\n",
    "    \\pm \\sqrt{1-F_X(t)} &= (t-1) \\\\\n",
    "    1 \\pm \\sqrt{1-F_X(t)} &= t \\\\\n",
    "    &= F^{-1}_X(t) \\\\\n",
    "  \\end{aligned}\n",
    "\\end{equation}\n",
    "\n"
   ]
  },
  {
   "cell_type": "markdown",
   "metadata": {},
   "source": [
    "### (c) Using the method in Section 7.11, write an R function, named oneminust(), that generates a random variate sampled from this distribution. Then use this function to verify your answers in (b) above."
   ]
  },
  {
   "cell_type": "code",
   "execution_count": 26,
   "metadata": {
    "collapsed": true
   },
   "outputs": [],
   "source": [
    "def one_minus_t(size=int(1e6)):\n",
    "    y = np.random.uniform(size=size)\n",
    "    # inverse of the cdf\n",
    "    t = (1- (1-y)**0.5)\n",
    "    return 2*(1 - t)"
   ]
  },
  {
   "cell_type": "code",
   "execution_count": 88,
   "metadata": {
    "collapsed": false
   },
   "outputs": [
    {
     "data": {
      "text/plain": [
       "0.2221675247567729"
      ]
     },
     "execution_count": 88,
     "metadata": {},
     "output_type": "execute_result"
    }
   ],
   "source": [
    "one_minus_t().var()"
   ]
  },
  {
   "cell_type": "code",
   "execution_count": 87,
   "metadata": {
    "collapsed": false,
    "scrolled": true
   },
   "outputs": [
    {
     "data": {
      "text/plain": [
       "1.3334356129627434"
      ]
     },
     "execution_count": 87,
     "metadata": {},
     "output_type": "execute_result"
    }
   ],
   "source": [
    "one_minus_t().mean()"
   ]
  },
  {
   "cell_type": "markdown",
   "metadata": {},
   "source": [
    "### $E(X) = \\frac{1}{3}$"
   ]
  },
  {
   "cell_type": "code",
   "execution_count": 154,
   "metadata": {
    "collapsed": true
   },
   "outputs": [],
   "source": [
    "def generate_t(size=int(1e7)):\n",
    "    y = np.random.uniform(size=size)\n",
    "    # inverse of the cdf\n",
    "    t = (1- (1-y)**0.5)\n",
    "    return t"
   ]
  },
  {
   "cell_type": "markdown",
   "metadata": {},
   "source": [
    "## $F_X(0.2):$"
   ]
  },
  {
   "cell_type": "code",
   "execution_count": 171,
   "metadata": {
    "collapsed": false
   },
   "outputs": [
    {
     "data": {
      "text/plain": [
       "0.3600172"
      ]
     },
     "execution_count": 171,
     "metadata": {},
     "output_type": "execute_result"
    }
   ],
   "source": [
    "def cum_sum_t(t_val=0.2):\n",
    "    df = pd.DataFrame({'t':generate_t()})\n",
    "    total_size = df.shape[0]\n",
    "    return df[df['t'] <= t_val].shape[0] / float(total_size)\n",
    "\n",
    "cum_sum_t() # should be close to 0.36"
   ]
  },
  {
   "cell_type": "code",
   "execution_count": 166,
   "metadata": {
    "collapsed": false
   },
   "outputs": [
    {
     "data": {
      "text/plain": [
       "0.33336056389827096"
      ]
     },
     "execution_count": 166,
     "metadata": {},
     "output_type": "execute_result"
    }
   ],
   "source": [
    "def one_minus_t_mean(size=int(1e7)):\n",
    "    t = np.random.uniform(size=size)\n",
    "    \n",
    "    return (t*2*(1 - t)).mean()\n",
    "one_minus_t_mean()"
   ]
  },
  {
   "cell_type": "code",
   "execution_count": 167,
   "metadata": {
    "collapsed": false
   },
   "outputs": [
    {
     "data": {
      "text/plain": [
       "0.16671864665592034"
      ]
     },
     "execution_count": 167,
     "metadata": {},
     "output_type": "execute_result"
    }
   ],
   "source": [
    "def mean_of_x_squared(size=int(1e7)):\n",
    "    t = np.random.uniform(size=size)\n",
    "    \n",
    "    return ((t**2)*2*(1-t)).mean()\n",
    "\n",
    "mean_of_x_squared() # Should be 0.16666... based on the math"
   ]
  },
  {
   "cell_type": "markdown",
   "metadata": {},
   "source": [
    "## $Var(X)$:"
   ]
  },
  {
   "cell_type": "code",
   "execution_count": 169,
   "metadata": {
    "collapsed": false,
    "scrolled": true
   },
   "outputs": [
    {
     "data": {
      "text/plain": [
       "0.055633959592503973"
      ]
     },
     "execution_count": 169,
     "metadata": {},
     "output_type": "execute_result"
    }
   ],
   "source": [
    "def one_minus_t_var(size=int(1e6)):\n",
    "    return mean_of_x_squared() - one_minus_t_mean()**2\n",
    "one_minus_t_var() # should be 0.055..."
   ]
  },
  {
   "cell_type": "markdown",
   "metadata": {},
   "source": [
    "#### another way to calculate $Var(X)$:"
   ]
  },
  {
   "cell_type": "code",
   "execution_count": 150,
   "metadata": {
    "collapsed": false
   },
   "outputs": [
    {
     "data": {
      "text/plain": [
       "0.16666666666650007"
      ]
     },
     "execution_count": 150,
     "metadata": {},
     "output_type": "execute_result"
    }
   ],
   "source": [
    "def arange_mean(size=int(1e6)):\n",
    "    step_size = 1.0/size\n",
    "    t = np.arange(0,1,step_size)\n",
    "    return (t**2*(2-2*t)).mean()\n",
    "\n",
    "arange_mean()"
   ]
  },
  {
   "cell_type": "code",
   "execution_count": 153,
   "metadata": {
    "collapsed": false
   },
   "outputs": [
    {
     "data": {
      "text/plain": [
       "0.055555555555611161"
      ]
     },
     "execution_count": 153,
     "metadata": {},
     "output_type": "execute_result"
    }
   ],
   "source": [
    "# Estimate variance without using inverse of cdf taking in Uniform(0,1)\n",
    "def arange_var(size=int(1e6)):\n",
    "    step_size = 1.0/size\n",
    "    t = np.arange(0,1,step_size)\n",
    "    return (t**2*(2-2*t)).mean() - (((t*(2-2*t))).mean())**2\n",
    "arange_var()"
   ]
  },
  {
   "cell_type": "code",
   "execution_count": 29,
   "metadata": {
    "collapsed": false,
    "scrolled": false
   },
   "outputs": [
    {
     "data": {
      "image/png": "[encoded data removed]",
      "text/plain": [
       "<matplotlib.figure.Figure at 0x117dd4278>"
      ]
     },
     "metadata": {},
     "output_type": "display_data"
    }
   ],
   "source": [
    "def plot_2_one_minus_t(size=int(1e6)):\n",
    "    y = np.random.uniform(size=size)\n",
    "    # inverse of the cdf\n",
    "    t = (1- (1-y)**0.5)\n",
    "    Y = 2*(1 - t)\n",
    "    df = pd.DataFrame({'X': t, 'Y': Y})\n",
    "    df.plot.scatter(x='X', y='Y')\n",
    "\n",
    "plot_2_one_minus_t()"
   ]
  },
  {
   "cell_type": "code",
   "execution_count": null,
   "metadata": {
    "collapsed": false
   },
   "outputs": [],
   "source": [
    "# are you supposed to do something else\n",
    "\n",
    "# How to get the area from 0 to 0.2\n",
    "# Integrate the density function from 0 to 0.2\n",
    "\n",
    "def F_X_t(t):\n",
    "    size = int(1e6)\n",
    "    one_minus_t(size=size)\n",
    "    df = pd.DataFrame({'F_X(t)': 2*t-one_minus_t(size=size)**2})\n",
    "    return df[df['F_X(t)'] < t].shape[0] / size\n",
    "\n",
    "F_X_t(0.2)"
   ]
  },
  {
   "cell_type": "markdown",
   "metadata": {
    "collapsed": true
   },
   "source": [
    "## 8. Consider the following game. A dart will hit the random point $Y$ in $(0,1)$ according to the density $f_Y(t) = 2t$. You must guess the value of $Y$. (Your guess is a constant, not random.) You will lose $\\$2$ per unit error if $Y$ is to the left of your guess, and will lose $\\$1$ per unit error on the right. Find best guess in terms of expected loss."
   ]
  },
  {
   "cell_type": "markdown",
   "metadata": {},
   "source": [
    "Here is the loss function:\n",
    "\n",
    "\\begin{equation}\n",
    "  \\begin{aligned}\n",
    "    L(g)&=\\left\\{\n",
    "        \\begin{array}{ll}\n",
    "          2(g-t), \\text{ if } t \\leq g\\\\\n",
    "          t-g, \\text{ if } g < t\\\\\n",
    "        \\end{array}\n",
    "      \\right.\\\\\n",
    "  \\end{aligned}\n",
    "\\end{equation}\n",
    "\n",
    "With that, we could then calculate expected loss: \n",
    "\n",
    "\\begin{equation}\n",
    "  \\begin{aligned}\n",
    "EL(g) &= \\int_0^g 2t[2(g-t)]dt + \\int_g^1 2t[t-g] dt \\\\\n",
    "      &= \\int_0^g 4t(g-t)dt + \\int_g^1 (2t^2-2tg) dt \\\\\n",
    "      &= \\int_0^g (4tg-4t^2)dt + \\left(\\frac{2t^3}{3}-t^2g\\right)\\Big\\vert_g^1  \\\\\n",
    "      &= \\left(2t^2g-\\frac{4}{3}t^3\\right)\\Big\\vert_0^g + \\left(\\frac{2}{3}-g\\right) - \\left(\\frac{2g^3}{3} - g^3\\right) \\\\\n",
    "      &= 2g^3 - \\frac{4}{3}g^3 + \\frac{2}{3} - g - \\frac{2g^3}{3} + g^3 \\\\\n",
    "      &= \\frac{2}{3} - g + g^3 \\\\\n",
    "  \\end{aligned}\n",
    "\\end{equation}\n",
    "\n",
    "Let's look at the the first derivative and set it to 0 to find out local minimums and maximums. We are interested in finding the local minimum (i.e. best guess).\n",
    "\n",
    "\\begin{equation}\n",
    "  \\begin{aligned}\n",
    "    \\frac{d}{dg}EL(g) &= 3g^2 - 1 \\\\\n",
    "    0 &= 3g^2 -1 && \\text{ Set first derivative to 0 to find out local minimum/maximum } \\\\\n",
    "    \\frac{1}{3} &= g^2 \\\\\n",
    "    \\sqrt{\\frac{1}{3}} &= g \\\\\n",
    "    &\\approx 0.577\n",
    "  \\end{aligned}\n",
    "\\end{equation}\n",
    "\n",
    "To test whether or not that point is actually a local minimum or maximum, we could look at the second derivative and see whether or not it is positive or negative:\n",
    "\n",
    "\\begin{equation}\n",
    "  \\begin{aligned}\n",
    "    \\frac{d^2}{dg^2}EL(g) &= 6g \\\\\n",
    "    &= 6\\sqrt{\\frac{1}{3}} \\\\\n",
    "    &\\approx 3.46 \\\\\n",
    "    0 &< 3.46 && \\text{must be a local minimum (i.e. best guess)!}\n",
    "  \\end{aligned}\n",
    "\\end{equation}\n"
   ]
  },
  {
   "cell_type": "code",
   "execution_count": 207,
   "metadata": {
    "collapsed": false,
    "scrolled": true
   },
   "outputs": [
    {
     "data": {
      "image/png": "[encoded data removed]",
      "text/plain": [
       "<matplotlib.figure.Figure at 0x126cc5b70>"
      ]
     },
     "metadata": {},
     "output_type": "display_data"
    }
   ],
   "source": [
    "def plot_sqrt_u(size=int(1e6)):\n",
    "    \n",
    "    U = np.random.uniform(size=int(size))\n",
    "    # inverse of the cdf\n",
    "    t = U**0.5\n",
    "    \n",
    "    #Y = 2*t\n",
    "    df = pd.DataFrame({'U': U, 't': t})\n",
    "    df.plot.scatter(x='U', y='t')\n",
    "\n",
    "plot_sqrt_u()"
   ]
  },
  {
   "cell_type": "code",
   "execution_count": 243,
   "metadata": {
    "collapsed": false,
    "scrolled": true
   },
   "outputs": [
    {
     "data": {
      "image/png": "[encoded data removed]",
      "text/plain": [
       "<matplotlib.figure.Figure at 0x1b2589518>"
      ]
     },
     "metadata": {},
     "output_type": "display_data"
    }
   ],
   "source": [
    "def plot_histo_sqrt_u(size=int(1e6)):\n",
    "    \n",
    "    U = np.random.uniform(size=int(size))\n",
    "    # inverse of the cdf\n",
    "    t = U**0.5\n",
    "    \n",
    "    #Y = 2*t\n",
    "    df = pd.DataFrame({'U': U, 't': t})\n",
    "    df['t'].plot.hist(bins=100,title='Histo')\n",
    "    # There are more and more t's as t increases (linear)\n",
    "\n",
    "plot_histo_sqrt_u()"
   ]
  },
  {
   "cell_type": "code",
   "execution_count": 270,
   "metadata": {
    "collapsed": false
   },
   "outputs": [
    {
     "data": {
      "text/plain": [
       "Y        0.666816\n",
       "Y-g     -0.333184\n",
       "guess    1.000000\n",
       "loss     0.666369\n",
       "dtype: float64"
      ]
     },
     "execution_count": 270,
     "metadata": {},
     "output_type": "execute_result"
    }
   ],
   "source": [
    "def simulate_dart_throw(size=1e6, guess=0):\n",
    "    U = np.random.uniform(size=int(size))\n",
    "    #print(U.max())\n",
    "    # Use inverse of the cdf to generate values from Y=2t.\n",
    "    Y = U**0.5\n",
    "\n",
    "    df = pd.DataFrame({'Y': Y, 'guess': guess, 'Y-g': Y-guess})\n",
    "\n",
    "    \n",
    "    def loss_function(x):\n",
    "        if x > 0.0:\n",
    "            return x\n",
    "        else:\n",
    "            return 2*np.abs(x)\n",
    "            \n",
    "    df['loss'] = df['Y-g'].apply(loss_function)\n",
    "    \n",
    "    #print(df)\n",
    "    \n",
    "    return df\n",
    "\n",
    "# Loss is minimized when guess is 1. \n",
    "# Intuitively this makes sense. The higher the value of t, \n",
    "# the more likely t is represented. Differences in t and \n",
    "# the guess are tinier, even though we are doubling them \n",
    "# (because the guess will almost always be to the right of t)\n",
    "\n",
    "simulate_dart_throw(guess=1).mean()"
   ]
  },
  {
   "cell_type": "code",
   "execution_count": 271,
   "metadata": {
    "collapsed": false
   },
   "outputs": [
    {
     "data": {
      "text/plain": [
       "Y        0.66652\n",
       "Y-g      0.66652\n",
       "guess    0.00000\n",
       "loss     0.66652\n",
       "dtype: float64"
      ]
     },
     "execution_count": 271,
     "metadata": {},
     "output_type": "execute_result"
    }
   ],
   "source": [
    "simulate_dart_throw(guess=0).mean()"
   ]
  },
  {
   "cell_type": "markdown",
   "metadata": {},
   "source": [
    "## When $g\\approx0.577$, then $EL(g)= 0.577^3 - 0.577 + 2/3 \\approx 0.28176$:"
   ]
  },
  {
   "cell_type": "code",
   "execution_count": 285,
   "metadata": {
    "collapsed": false
   },
   "outputs": [
    {
     "data": {
      "text/plain": [
       "Y        0.666875\n",
       "Y-g      0.089875\n",
       "guess    0.577000\n",
       "loss     0.281561\n",
       "dtype: float64"
      ]
     },
     "execution_count": 285,
     "metadata": {},
     "output_type": "execute_result"
    }
   ],
   "source": [
    "simulate_dart_throw(guess=0.577).mean()"
   ]
  },
  {
   "cell_type": "markdown",
   "metadata": {
    "collapsed": true
   },
   "source": [
    "## 9. Density functions for continuous random variables are analogs of the ______ functions that are used for discrete random variables."
   ]
  },
  {
   "cell_type": "markdown",
   "metadata": {
    "collapsed": true
   },
   "source": [
    "### Ans: mass"
   ]
  },
  {
   "cell_type": "markdown",
   "metadata": {
    "collapsed": true
   },
   "source": [
    "## 10. Suppose for some random variable $W$, $F_W(t) = t^3$ for $0 < t < 1$, with $F_W(t)$ being $0$ and $1$ for $t<0$ and $t>1$, respectively. Find $f_W(t)$ for $0<t<1$."
   ]
  },
  {
   "cell_type": "markdown",
   "metadata": {
    "collapsed": true
   },
   "source": [
    "\n",
    "\\begin{equation}\n",
    "  \\begin{aligned}\n",
    "    F_W(t) &= t^3 \\\\\n",
    "    \\frac{d}{dt} F_W(t) &= \\frac{d}{dt} t^3 \\\\\n",
    "    f_W(t) &= 3t^2 && \\text{for } 0<t<1 \\\\\n",
    "  \\end{aligned}\n",
    "\\end{equation}\n"
   ]
  },
  {
   "cell_type": "markdown",
   "metadata": {
    "collapsed": true
   },
   "source": [
    "11. Consider the density fZ(t) = 2t/15 for 1 < t < 4 and 0 elsewhere. Find the median of Z, as well as Z’s third moment, E(Z3), and its third central moment, E[(Z − EZ)3]."
   ]
  }
 ],
 "metadata": {
  "kernelspec": {
   "display_name": "Python 3",
   "language": "python",
   "name": "python3"
  },
  "language_info": {
   "codemirror_mode": {
    "name": "ipython",
    "version": 3
   },
   "file_extension": ".py",
   "mimetype": "text/x-python",
   "name": "python",
   "nbconvert_exporter": "python",
   "pygments_lexer": "ipython3",
   "version": "3.6.0"
  },
  "toc": {
   "colors": {
    "hover_highlight": "#DAA520",
    "navigate_num": "#000000",
    "navigate_text": "#333333",
    "running_highlight": "#FF0000",
    "selected_highlight": "#FFD700",
    "sidebar_border": "#EEEEEE",
    "wrapper_background": "#FFFFFF"
   },
   "moveMenuLeft": true,
   "nav_menu": {
    "height": "504px",
    "width": "253px"
   },
   "navigate_menu": true,
   "number_sections": true,
   "sideBar": true,
   "threshold": "5",
   "toc_cell": false,
   "toc_section_display": "block",
   "toc_window_display": true,
   "widenNotebook": false
  }
 },
 "nbformat": 4,
 "nbformat_minor": 0
}
